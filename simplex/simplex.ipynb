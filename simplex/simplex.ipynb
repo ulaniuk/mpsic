{
 "cells": [
  {
   "cell_type": "markdown",
   "id": "36ae1e24",
   "metadata": {},
   "source": [
    "# Algorytm sympleks"
   ]
  },
  {
   "cell_type": "markdown",
   "id": "2fb4f3c5",
   "metadata": {},
   "source": [
    "### Programowanie liniowe"
   ]
  },
  {
   "cell_type": "markdown",
   "id": "57e099d6",
   "metadata": {},
   "source": [
    "Jest to metoda służąca osiągnięciu jak najlepszego rozwiązania w procesie podejmowania decyzji. Programowanie liniowe jest najczęściej stosowanym modelem optymalizacji ze względu na sprawny algorytm obliczeń, a także dzięki możliwości efektownego przedstawienia zagadnień w postaci graficznej. Wadą natomiast jest to, iż nie wszystko można wyrazić za pomocą liczb."
   ]
  },
  {
   "cell_type": "markdown",
   "id": "de2159b1",
   "metadata": {},
   "source": [
    "W skład modelu będącego zadaniem programowania liniowego wchodzą:\n",
    "1. <b>funkcja celu</b> - obrazuje cel, który ma zostać osiągnięty,\n",
    "2. <b>zmianne decyzyjne</b> - określa narzędzia i zasoby wykorzystane w celu osiągnięcia celu,\n",
    "3. <b>warunki ograniczające</b> - opisują przeszkody, które mogą pojawić się w trakcie realizacji celu."
   ]
  },
  {
   "cell_type": "markdown",
   "id": "1c507f48",
   "metadata": {},
   "source": [
    "Jeżeli model posiada dwie zmienne, łatwo jest go rozwiązać metodą geometryczną w układzie współrzędnych kartezjańskich. Natomiast w przypadku większej liczby zmiennych decyzyjnych, sposób ten się nie sprawdzi. W takiej sytuacji skorzystać można z innej techniki, jaką jest metoda sympleks."
   ]
  },
  {
   "cell_type": "markdown",
   "id": "6b320a70",
   "metadata": {},
   "source": [
    "### Metoda sympleks"
   ]
  },
  {
   "cell_type": "markdown",
   "id": "8c5858de",
   "metadata": {},
   "source": [
    "Nazwa nawiązuje do <b>sympleksu</b>: k-wymiarowym sympleksem nazywamy k-wymiarowy wielościan, który jest otoczką wypukłą swoich k+1 wierzchołków."
   ]
  },
  {
   "cell_type": "markdown",
   "id": "0bd7017a",
   "metadata": {},
   "source": [
    "![alt text](sympleks.png \"Title\")"
   ]
  },
  {
   "cell_type": "markdown",
   "id": "bef9155e",
   "metadata": {},
   "source": [
    "Zadanie programowania liniowego z dowolną liczbą zmiennych można rozwiązać, wyznaczając wszystkie wierzchołkowe punkty wielościanu, a następnie porównując wartości funkcji celu w punktach wierzchołkowych."
   ]
  },
  {
   "cell_type": "markdown",
   "id": "715c42ff",
   "metadata": {},
   "source": [
    "W metodzie sympleks można wyróżnić dwa kroki:\n",
    "\n",
    "<b>Krok 1.</b>\n",
    "Sprowadzenie warunków ograniczających do układu równań liniowych.\n",
    "\n",
    "Np. poniższe ograniczenie:\n",
    "$$2x_{1} + 7x_{2} \\leq 13$$\n",
    "\n",
    "przekształcamy do postaci: $$2x_{1} + 7x_{2} + x_{3} = 13.$$"
   ]
  },
  {
   "cell_type": "markdown",
   "id": "9f5c5101",
   "metadata": {},
   "source": [
    "<b>Krok 2.</b> \n",
    "Obliczanie zmiennych decyzyjnych, które przedstawiają najlepszą decyzję dostosowaną do ustalonego modelu."
   ]
  },
  {
   "cell_type": "markdown",
   "id": "e7c98e32",
   "metadata": {},
   "source": [
    "W związku z wielością punktów powstaje problem wyznaczenia wartości funkcji celu i znalezienie optymalnego wierzchołka, który spełniłby warunek zadania programowania liniowego. Rozwiązanie tego problemy sprowadza się do tego, że znając dowolny wierzchołkowy punkt i wartość funkcji celu w tym punkcie, odrzuca się wszystkie wierzchołki, w których funkcja ta przyjmuje gorsze wartości"
   ]
  },
  {
   "cell_type": "markdown",
   "id": "ce36b9a5",
   "metadata": {},
   "source": [
    "W kolejnym kroku, z obecnego wierzchołka, należy przejść krawędzią do sąsiadującego z nim wierzchołka, w którym funkcja celu osiąga lepsze wartości.\n",
    "Iteracja kończy się w momencie, gdy kolejny przeglądany wierzchołek jest najlepszy pod względem odpowiednich wartości funkcji celu."
   ]
  },
  {
   "cell_type": "markdown",
   "id": "a2dbac23",
   "metadata": {},
   "source": [
    "![alt text](simplex_alg.png \"Title\")"
   ]
  },
  {
   "cell_type": "markdown",
   "id": "c1be3d0a",
   "metadata": {},
   "source": [
    "### Zastosowania"
   ]
  },
  {
   "cell_type": "markdown",
   "id": "ee6dd0cd",
   "metadata": {},
   "source": [
    "W działalność gospodarczej, czy też zarządzaniu produkcją dąży się do maksymalnego wykorzystania dostępnych środków w procesie realizacji założonego celu. Zasada ta sprowadza się do zagadnień optymalizacji oraz zasady największej efektywności. Jeżeli z określonych środków osiągany jest maksymalny nakład lub określony cel jest zrealizowany przy jak najmniejszych nakładach, możemy mówić o planie optymalnym. "
   ]
  },
  {
   "cell_type": "markdown",
   "id": "77ce2b64",
   "metadata": {},
   "source": [
    "Konkretnym przykładem wykorzystania metody sympleks może być problem transportowy. Polega on na znalezieniu takiej drogi od dostawcy towaru do odbiorcy, aby poniesione koszta były jak najmniejsze."
   ]
  }
 ],
 "metadata": {
  "kernelspec": {
   "display_name": "Python 3 (ipykernel)",
   "language": "python",
   "name": "python3"
  },
  "language_info": {
   "codemirror_mode": {
    "name": "ipython",
    "version": 3
   },
   "file_extension": ".py",
   "mimetype": "text/x-python",
   "name": "python",
   "nbconvert_exporter": "python",
   "pygments_lexer": "ipython3",
   "version": "3.9.7"
  }
 },
 "nbformat": 4,
 "nbformat_minor": 5
}
