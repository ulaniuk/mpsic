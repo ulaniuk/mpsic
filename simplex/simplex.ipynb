{
 "cells": [
  {
   "cell_type": "markdown",
   "id": "36ae1e24",
   "metadata": {},
   "source": [
    "# Algorytm sympleks"
   ]
  },
  {
   "cell_type": "markdown",
   "id": "2fb4f3c5",
   "metadata": {},
   "source": [
    "### Programowanie liniowe"
   ]
  },
  {
   "cell_type": "markdown",
   "id": "57e099d6",
   "metadata": {},
   "source": [
    "Jest to metoda służąca osiągnięciu jak najlepszego rozwiązania w procesie podejmowania decyzji. Programowanie liniowe jest najczęściej stosowanym modelem optymalizacji ze względu na sprawny algorytm obliczeń, a także dzięki możliwości efektownego przedstawienia zagadnień w postaci graficznej. Wadą natomiast jest to, iż nie wszystko można wyrazić za pomocą liczb."
   ]
  },
  {
   "cell_type": "markdown",
   "id": "de2159b1",
   "metadata": {},
   "source": [
    "W skład modelu będącego zadaniem programowania liniowego wchodzą:\n",
    "1. <b>funkcja celu</b> - obrazuje cel, który ma zostać osiągnięty,\n",
    "2. <b>zmianne decyzyjne</b> - określa narzędzia i zasoby wykorzystane w celu osiągnięcia celu,\n",
    "3. <b>warunki ograniczające</b> - opisują przeszkody, które mogą pojawić się w trakcie realizacji celu."
   ]
  },
  {
   "cell_type": "markdown",
   "id": "1c507f48",
   "metadata": {},
   "source": [
    "Jeżeli model posiada dwie zmienne, łatwo jest go rozwiązać metodą geometryczną w układzie współrzędnych kartezjańskich. Natomiast w przypadku większej liczby zmiennych decyzyjnych, sposób ten się nie sprawdzi. W takiej sytuacji skorzystać można z innej techniki, jaką jest metoda sympleks."
   ]
  },
  {
   "cell_type": "markdown",
   "id": "6b320a70",
   "metadata": {},
   "source": [
    "### Metoda sympleks"
   ]
  },
  {
   "cell_type": "markdown",
   "id": "8c5858de",
   "metadata": {},
   "source": [
    "Nazwa nawiązuje do <b>sympleksu</b>: k-wymiarowym sympleksem nazywamy k-wymiarowy wielościan, który jest otoczką wypukłą swoich k+1 wierzchołków."
   ]
  },
  {
   "cell_type": "markdown",
   "id": "0bd7017a",
   "metadata": {},
   "source": [
    "![alt text](sympleks.png \"Title\")"
   ]
  },
  {
   "cell_type": "markdown",
   "id": "bef9155e",
   "metadata": {},
   "source": [
    "Zadanie programowania liniowego z dowolną liczbą zmiennych można rozwiązać, wyznaczając wszystkie wierzchołkowe punkty wielościanu, a następnie porównując wartości funkcji celu w punktach wierzchołkowych."
   ]
  },
  {
   "cell_type": "markdown",
   "id": "715c42ff",
   "metadata": {},
   "source": [
    "W metodzie sympleks można wyróżnić dwa kroki:\n",
    "\n",
    "<b>Krok 1.</b>\n",
    "Sprowadzenie warunków ograniczających do układu równań liniowych.\n",
    "\n",
    "Np. poniższe ograniczenie:\n",
    "$$2x_{1} + 7x_{2} \\leq 13$$\n",
    "\n",
    "przekształcamy do postaci: $$2x_{1} + 7x_{2} + x_{3} = 13.$$"
   ]
  },
  {
   "cell_type": "markdown",
   "id": "9f5c5101",
   "metadata": {},
   "source": [
    "<b>Krok 2.</b> \n",
    "Obliczanie zmiennych decyzyjnych, które przedstawiają najlepszą decyzję dostosowaną do ustalonego modelu."
   ]
  },
  {
   "cell_type": "markdown",
   "id": "e7c98e32",
   "metadata": {},
   "source": [
    "W związku z wielością punktów powstaje problem wyznaczenia wartości funkcji celu i znalezienie optymalnego wierzchołka, który spełniłby warunek zadania programowania liniowego. Rozwiązanie tego problemy sprowadza się do tego, że znając dowolny wierzchołkowy punkt i wartość funkcji celu w tym punkcie, odrzuca się wszystkie wierzchołki, w których funkcja ta przyjmuje gorsze wartości"
   ]
  },
  {
   "cell_type": "markdown",
   "id": "ce36b9a5",
   "metadata": {},
   "source": [
    "W kolejnym kroku, z obecnego wierzchołka, należy przejść krawędzią do sąsiadującego z nim wierzchołka, w którym funkcja celu osiąga lepsze wartości.\n",
    "Iteracja kończy się w momencie, gdy kolejny przeglądany wierzchołek jest najlepszy pod względem odpowiednich wartości funkcji celu."
   ]
  },
  {
   "cell_type": "markdown",
   "id": "a2dbac23",
   "metadata": {},
   "source": [
    "![alt text](simplex_alg.png \"Title\")"
   ]
  },
  {
   "cell_type": "markdown",
   "id": "c1be3d0a",
   "metadata": {},
   "source": [
    "### Zastosowania"
   ]
  },
  {
   "cell_type": "markdown",
   "id": "ee6dd0cd",
   "metadata": {},
   "source": [
    "W działalność gospodarczej, czy też zarządzaniu produkcją dąży się do maksymalnego wykorzystania dostępnych środków w procesie realizacji założonego celu. Zasada ta sprowadza się do zagadnień optymalizacji oraz zasady największej efektywności. Jeżeli z określonych środków osiągany jest maksymalny nakład lub określony cel jest zrealizowany przy jak najmniejszych nakładach, możemy mówić o planie optymalnym. "
   ]
  },
  {
   "cell_type": "markdown",
   "id": "77ce2b64",
   "metadata": {},
   "source": [
    "Konkretnym przykładem wykorzystania metody sympleks może być problem transportowy. Polega on na znalezieniu takiej drogi od dostawcy towaru do odbiorcy, aby poniesione koszta były jak najmniejsze."
   ]
  },
  {
   "cell_type": "markdown",
   "id": "eec72d2f",
   "metadata": {},
   "source": [
    "### Implementacja"
   ]
  },
  {
   "cell_type": "code",
   "execution_count": 2,
   "id": "8830bece",
   "metadata": {},
   "outputs": [],
   "source": [
    "import numpy as np"
   ]
  },
  {
   "cell_type": "code",
   "execution_count": 3,
   "id": "9fdf5af8",
   "metadata": {},
   "outputs": [],
   "source": [
    "#modywikacja danych \n",
    "def gen_matrix(var,cons):    \n",
    "    tab = np.zeros((cons+1, var+cons+2))    \n",
    "    return tab\n",
    "\n",
    "def convert(eq):\n",
    "    eq = eq.split(',')\n",
    "    if 'G' in eq:\n",
    "        g = eq.index('G')\n",
    "        del eq[g]\n",
    "        eq = [float(i)*-1 for i in eq]\n",
    "        return eq\n",
    "    if 'L' in eq:\n",
    "        l = eq.index('L')\n",
    "        del eq[l]\n",
    "        eq = [float(i) for i in eq]\n",
    "        return eq\n",
    "\n",
    "def add_cons(table):\n",
    "    lr = len(table[:,0])\n",
    "    empty = []\n",
    "    for i in range(lr):\n",
    "        total = 0\n",
    "        for j in table[i,:]:                       \n",
    "            total += j**2\n",
    "        if total == 0: \n",
    "            empty.append(total)\n",
    "    if len(empty)>1:\n",
    "        return True\n",
    "    else:\n",
    "        return False\n",
    "\n",
    "def constrain(table,eq):\n",
    "    if add_cons(table) == True:\n",
    "        lc = len(table[0,:])\n",
    "        lr = len(table[:,0])\n",
    "        var = lc - lr -1      \n",
    "        j = 0\n",
    "        while j < lr:            \n",
    "            row_check = table[j,:]\n",
    "            total = 0\n",
    "            for i in row_check:\n",
    "                total += float(i**2)\n",
    "            if total == 0:                \n",
    "                row = row_check\n",
    "                break\n",
    "            j +=1\n",
    "        eq = convert(eq)\n",
    "        i = 0\n",
    "        while i<len(eq)-1:\n",
    "            row[i] = eq[i]\n",
    "            i +=1        \n",
    "        row[-1] = eq[-1]\n",
    "        row[var+j] = 1    \n",
    "    else:\n",
    "        print('Cannot add another constraint.')"
   ]
  },
  {
   "cell_type": "code",
   "execution_count": 4,
   "id": "eabe35bb",
   "metadata": {},
   "outputs": [],
   "source": [
    "def next_round_r(table):    \n",
    "    m = min(table[:-1,-1])    \n",
    "    if m>= 0:        \n",
    "        return False    \n",
    "    else:        \n",
    "        return True\n",
    "        \n",
    "def next_round(table):    \n",
    "    lr = len(table[:,0])   \n",
    "    m = min(table[lr-1,:-1])    \n",
    "    if m>=0:\n",
    "        return False\n",
    "    else:\n",
    "        return True"
   ]
  },
  {
   "cell_type": "code",
   "execution_count": 5,
   "id": "381680eb",
   "metadata": {},
   "outputs": [],
   "source": [
    "def find_neg_r(table):\n",
    "    lc = len(table[0,:])\n",
    "    m = min(table[:-1,lc-1])\n",
    "    if m<=0:        \n",
    "        n = np.where(table[:-1,lc-1] == m)[0][0]\n",
    "    else:\n",
    "        n = None\n",
    "    return n\n",
    "\n",
    "def find_neg(table):\n",
    "    lr = len(table[:,0])\n",
    "    m = min(table[lr-1,:-1])\n",
    "    if m<=0:\n",
    "        n = np.where(table[lr-1,:-1] == m)[0][0]\n",
    "    else:\n",
    "        n = None\n",
    "    return n"
   ]
  },
  {
   "cell_type": "code",
   "execution_count": 6,
   "id": "6b31975d",
   "metadata": {},
   "outputs": [],
   "source": [
    "def loc_piv_r(table):\n",
    "    total = []        \n",
    "    r = find_neg_r(table)\n",
    "    row = table[r,:-1]\n",
    "    m = min(row)\n",
    "    c = np.where(row == m)[0][0]\n",
    "    col = table[:-1,c]\n",
    "    for i, b in zip(col,table[:-1,-1]):\n",
    "        if i**2>0 and b/i>0:\n",
    "            total.append(b/i)\n",
    "        else:                \n",
    "            total.append(10000)\n",
    "    index = total.index(min(total))        \n",
    "    return [index,c]\n",
    "    \n",
    "def loc_piv(table):\n",
    "    if next_round(table):\n",
    "        total = []\n",
    "        n = find_neg(table)\n",
    "        for i,b in zip(table[:-1,n],table[:-1,-1]):\n",
    "            if b/i >0 and i**2>0:\n",
    "                total.append(b/i)\n",
    "            else:\n",
    "                total.append(10000)\n",
    "        index = total.index(min(total))\n",
    "        return [index,n]"
   ]
  },
  {
   "cell_type": "code",
   "execution_count": 7,
   "id": "042ff163",
   "metadata": {},
   "outputs": [],
   "source": [
    "def pivot(row,col,table):\n",
    "    lr = len(table[:,0])\n",
    "    lc = len(table[0,:])\n",
    "    t = np.zeros((lr,lc))\n",
    "    pr = table[row,:]\n",
    "    if table[row,col]**2>0:\n",
    "        e = 1/table[row,col]\n",
    "        r = pr*e\n",
    "        for i in range(len(table[:,col])):\n",
    "            k = table[i,:]\n",
    "            c = table[i,col]\n",
    "            if list(k) == list(pr):\n",
    "                continue\n",
    "            else:\n",
    "                t[i,:] = list(k-r*c)\n",
    "        t[row,:] = list(r)\n",
    "        return t\n",
    "    else:\n",
    "        print('Cannot pivot on this element.')"
   ]
  },
  {
   "cell_type": "code",
   "execution_count": 8,
   "id": "1215ada2",
   "metadata": {},
   "outputs": [],
   "source": [
    "def convert_min(table):\n",
    "    table[-1,:-2] = [-1*i for i in table[-1,:-2]]\n",
    "    table[-1,-1] = -1*table[-1,-1]    \n",
    "    return table"
   ]
  },
  {
   "cell_type": "code",
   "execution_count": 9,
   "id": "3c5a6708",
   "metadata": {},
   "outputs": [],
   "source": [
    "def gen_var(table):\n",
    "    lc = len(table[0,:])\n",
    "    lr = len(table[:,0])\n",
    "    var = lc - lr -1\n",
    "    v = []\n",
    "    for i in range(var):\n",
    "        v.append('x'+str(i+1))\n",
    "    return v"
   ]
  },
  {
   "cell_type": "code",
   "execution_count": 10,
   "id": "81474430",
   "metadata": {},
   "outputs": [],
   "source": [
    "def add_obj(table):\n",
    "    lr = len(table[:,0])\n",
    "    empty = []\n",
    "    for i in range(lr):\n",
    "        total = 0        \n",
    "        for j in table[i,:]:\n",
    "            total += j**2\n",
    "        if total == 0:\n",
    "            empty.append(total)    \n",
    "    if len(empty)==1:\n",
    "        return True\n",
    "    else:\n",
    "        return False"
   ]
  },
  {
   "cell_type": "code",
   "execution_count": 11,
   "id": "fc8d807c",
   "metadata": {},
   "outputs": [],
   "source": [
    "def obj(table,eq):\n",
    "    if add_obj(table)==True:\n",
    "        eq = [float(i) for i in eq.split(',')]\n",
    "        lr = len(table[:,0])\n",
    "        row = table[lr-1,:]\n",
    "        i = 0        \n",
    "        while i<len(eq)-1:\n",
    "            row[i] = eq[i]*-1\n",
    "            i +=1\n",
    "        row[-2] = 1\n",
    "        row[-1] = eq[-1]\n",
    "    else:\n",
    "        print('You must finish adding constraints before the objective function can be added.')"
   ]
  },
  {
   "cell_type": "code",
   "execution_count": 12,
   "id": "54f69f59",
   "metadata": {},
   "outputs": [],
   "source": [
    "def maxz(table):\n",
    "    while next_round_r(table)==True:\n",
    "        table = pivot(loc_piv_r(table)[0],loc_piv_r(table)[1],table)\n",
    "    while next_round(table)==True:\n",
    "        table = pivot(loc_piv(table)[0],loc_piv(table)[1],table)        \n",
    "    lc = len(table[0,:])\n",
    "    lr = len(table[:,0])\n",
    "    var = lc - lr -1\n",
    "    i = 0\n",
    "    val = {}\n",
    "    for i in range(var):\n",
    "        col = table[:,i]\n",
    "        s = sum(col)\n",
    "        m = max(col)\n",
    "        if float(s) == float(m):\n",
    "            loc = np.where(col == m)[0][0]            \n",
    "            val[gen_var(table)[i]] = table[loc,-1]\n",
    "        else:\n",
    "            val[gen_var(table)[i]] = 0\n",
    "    val['max'] = table[-1,-1]\n",
    "    return val"
   ]
  },
  {
   "cell_type": "code",
   "execution_count": 13,
   "id": "2512ea3e",
   "metadata": {},
   "outputs": [],
   "source": [
    "def minz(table):\n",
    "    table = convert_min(table)\n",
    "    while next_round_r(table)==True:\n",
    "        table = pivot(loc_piv_r(table)[0],loc_piv_r(table)[1],table)    \n",
    "    while next_round(table)==True:\n",
    "        table = pivot(loc_piv(table)[0],loc_piv(table)[1],table)       \n",
    "    lc = len(table[0,:])\n",
    "    lr = len(table[:,0])\n",
    "    var = lc - lr -1\n",
    "    i = 0\n",
    "    val = {}\n",
    "    for i in range(var):\n",
    "        col = table[:,i]\n",
    "        s = sum(col)\n",
    "        m = max(col)\n",
    "        if float(s) == float(m):\n",
    "            loc = np.where(col == m)[0][0]             \n",
    "            val[gen_var(table)[i]] = table[loc,-1]\n",
    "        else:\n",
    "            val[gen_var(table)[i]] = 0 \n",
    "            val['min'] = table[-1,-1]*-1\n",
    "    return val"
   ]
  },
  {
   "cell_type": "code",
   "execution_count": 14,
   "id": "6597216a",
   "metadata": {},
   "outputs": [
    {
     "name": "stdout",
     "output_type": "stream",
     "text": [
      "{'x1': 10.0, 'x2': 10.0, 'max': 150.0}\n",
      "{'x1': 5.0, 'x2': 4.0}\n"
     ]
    }
   ],
   "source": [
    "m = gen_matrix(2,2)\n",
    "constrain(m,'2,-1,G,10')\n",
    "constrain(m,'1,1,L,20')\n",
    "obj(m,'5,10,0')\n",
    "print(maxz(m))     \n",
    "m = gen_matrix(2,4)\n",
    "constrain(m,'2,5,G,30')\n",
    "constrain(m,'-3,5,G,5')\n",
    "constrain(m,'8,3,L,85')\n",
    "constrain(m,'-9,7,L,42')\n",
    "obj(m,'2,7,0')\n",
    "print(minz(m))"
   ]
  },
  {
   "cell_type": "markdown",
   "id": "accc3587",
   "metadata": {},
   "source": [
    "# Zadanie programowania liniowego"
   ]
  },
  {
   "cell_type": "markdown",
   "id": "d6610ae6",
   "metadata": {},
   "source": [
    "![alt text](ex.png \"Title\")"
   ]
  },
  {
   "cell_type": "code",
   "execution_count": 15,
   "id": "ff1144af",
   "metadata": {},
   "outputs": [
    {
     "data": {
      "application/vnd.plotly.v1+json": {
       "config": {
        "plotlyServerURL": "https://plot.ly"
       },
       "data": [
        {
         "hoverinfo": "skip",
         "marker": {
          "color": "white",
          "opacity": 1e-7,
          "size": 0
         },
         "mode": "markers",
         "showlegend": false,
         "type": "scatter",
         "x": [
          3.9000000000000004
         ],
         "y": [
          5.2
         ]
        },
        {
         "fill": "toself",
         "fillcolor": "#1469FE",
         "hoverinfo": "none",
         "line": {
          "color": "#00285F",
          "width": 2
         },
         "mode": "lines",
         "opacity": 0.3,
         "showlegend": false,
         "type": "scatter",
         "x": [
          0,
          2,
          3,
          3,
          2,
          0
         ],
         "y": [
          0,
          0,
          1,
          4,
          4,
          0
         ]
        },
        {
         "hoverinfo": "skip",
         "line": {
          "color": "#1469FE",
          "dash": "15,3,5,3",
          "width": 2
         },
         "mode": "lines",
         "name": "(3) 0x<sub>1</sub> + 1x<sub>2</sub> ≤ 4",
         "showlegend": true,
         "type": "scatter",
         "visible": true,
         "x": [
          0,
          3.9000000000000004
         ],
         "y": [
          4,
          4
         ]
        },
        {
         "hoverinfo": "skip",
         "line": {
          "color": "#65ADFF",
          "dash": "15,3,5,3",
          "width": 2
         },
         "mode": "lines",
         "name": "(4) 1x<sub>1</sub> - 1x<sub>2</sub> ≤ 2",
         "showlegend": true,
         "type": "scatter",
         "visible": true,
         "x": [
          0,
          3.9000000000000004
         ],
         "y": [
          -2,
          1.9000000000000004
         ]
        },
        {
         "hoverinfo": "skip",
         "line": {
          "color": "#474849",
          "dash": "15,3,5,3",
          "width": 2
         },
         "mode": "lines",
         "name": "(5) 1x<sub>1</sub> + 0x<sub>2</sub> ≤ 3",
         "showlegend": true,
         "type": "scatter",
         "visible": true,
         "x": [
          3,
          3
         ],
         "y": [
          0,
          5.2
         ]
        },
        {
         "hoverinfo": "skip",
         "line": {
          "color": "#A90C0C",
          "dash": "15,3,5,3",
          "width": 2
         },
         "mode": "lines",
         "name": "(6) -2x<sub>1</sub> + 1x<sub>2</sub> ≤ 0",
         "showlegend": true,
         "type": "scatter",
         "visible": true,
         "x": [
          0,
          3.9000000000000004
         ],
         "y": [
          0,
          7.800000000000001
         ]
        },
        {
         "hoverinfo": "text",
         "hoverlabel": {
          "bgcolor": "#FAFAFA",
          "bordercolor": "#323232",
          "font": {
           "color": "#323232",
           "family": "Arial"
          }
         },
         "marker": {
          "color": "gray",
          "opacity": 1e-7,
          "size": 20
         },
         "mode": "markers",
         "showlegend": false,
         "text": [
          "<b>BFS</b>: (0, 0, 4, 2, 3, 0)<br><b>B</b>: (1, 3, 4, 5, 6)<br><b>Obj</b>: 0",
          "<b>BFS</b>: (2, 0, 4, 0, 1, 4)<br><b>B</b>: (1, 3, 5, 6)<br><b>Obj</b>: 2",
          "<b>BFS</b>: (2, 4, 0, 4, 1, 0)<br><b>B</b>: (1, 2, 4, 5)<br><b>Obj</b>: 10",
          "<b>BFS</b>: (3, 1, 3, 0, 0, 5)<br><b>B</b>: (1, 2, 3, 6)<br><b>Obj</b>: 5",
          "<b>BFS</b>: (3, 4, 0, 3, 0, 2)<br><b>B</b>: (1, 2, 4, 6)<br><b>Obj</b>: 11"
         ],
         "type": "scatter",
         "x": [
          2.220446049250313e-16,
          2,
          2,
          3,
          3
         ],
         "y": [
          0,
          0,
          4,
          1,
          4
         ]
        },
        {
         "hoverinfo": "skip",
         "line": {
          "color": "red",
          "width": 4
         },
         "mode": "lines",
         "showlegend": false,
         "type": "scatter",
         "visible": false,
         "x": [
          0,
          3.9000000000000004
         ],
         "y": [
          0,
          -1.9500000000000002
         ]
        },
        {
         "hoverinfo": "skip",
         "line": {
          "color": "red",
          "width": 4
         },
         "mode": "lines",
         "showlegend": false,
         "type": "scatter",
         "visible": false,
         "x": [
          0,
          3.9000000000000004
         ],
         "y": [
          0.3,
          -1.6500000000000001
         ]
        },
        {
         "hoverinfo": "skip",
         "line": {
          "color": "red",
          "width": 4
         },
         "mode": "lines",
         "showlegend": false,
         "type": "scatter",
         "visible": false,
         "x": [
          0,
          3.9000000000000004
         ],
         "y": [
          0.595,
          -1.3550000000000002
         ]
        },
        {
         "hoverinfo": "skip",
         "line": {
          "color": "red",
          "width": 4
         },
         "mode": "lines",
         "showlegend": false,
         "type": "scatter",
         "visible": false,
         "x": [
          0,
          3.9000000000000004
         ],
         "y": [
          0.895,
          -1.0550000000000002
         ]
        },
        {
         "hoverinfo": "skip",
         "line": {
          "color": "red",
          "width": 4
         },
         "mode": "lines",
         "showlegend": false,
         "type": "scatter",
         "visible": false,
         "x": [
          0,
          3.9000000000000004
         ],
         "y": [
          1.19,
          -0.7600000000000002
         ]
        },
        {
         "hoverinfo": "skip",
         "line": {
          "color": "red",
          "width": 4
         },
         "mode": "lines",
         "showlegend": false,
         "type": "scatter",
         "visible": false,
         "x": [
          0,
          3.9000000000000004
         ],
         "y": [
          1.49,
          -0.4600000000000002
         ]
        },
        {
         "hoverinfo": "skip",
         "line": {
          "color": "red",
          "width": 4
         },
         "mode": "lines",
         "showlegend": false,
         "type": "scatter",
         "visible": false,
         "x": [
          0,
          3.9000000000000004
         ],
         "y": [
          1.79,
          -0.16000000000000014
         ]
        },
        {
         "hoverinfo": "skip",
         "line": {
          "color": "red",
          "width": 4
         },
         "mode": "lines",
         "showlegend": false,
         "type": "scatter",
         "visible": false,
         "x": [
          0,
          3.9000000000000004
         ],
         "y": [
          2.085,
          0.1349999999999998
         ]
        },
        {
         "hoverinfo": "skip",
         "line": {
          "color": "red",
          "width": 4
         },
         "mode": "lines",
         "showlegend": false,
         "type": "scatter",
         "visible": false,
         "x": [
          0,
          3.9000000000000004
         ],
         "y": [
          2.385,
          0.4349999999999996
         ]
        },
        {
         "hoverinfo": "skip",
         "line": {
          "color": "red",
          "width": 4
         },
         "mode": "lines",
         "showlegend": false,
         "type": "scatter",
         "visible": false,
         "x": [
          0,
          3.9000000000000004
         ],
         "y": [
          2.68,
          0.73
         ]
        },
        {
         "hoverinfo": "skip",
         "line": {
          "color": "red",
          "width": 4
         },
         "mode": "lines",
         "showlegend": false,
         "type": "scatter",
         "visible": false,
         "x": [
          0,
          3.9000000000000004
         ],
         "y": [
          2.98,
          1.0299999999999998
         ]
        },
        {
         "hoverinfo": "skip",
         "line": {
          "color": "red",
          "width": 4
         },
         "mode": "lines",
         "showlegend": false,
         "type": "scatter",
         "visible": false,
         "x": [
          0,
          3.9000000000000004
         ],
         "y": [
          3.275,
          1.3249999999999997
         ]
        },
        {
         "hoverinfo": "skip",
         "line": {
          "color": "red",
          "width": 4
         },
         "mode": "lines",
         "showlegend": false,
         "type": "scatter",
         "visible": false,
         "x": [
          0,
          3.9000000000000004
         ],
         "y": [
          3.575,
          1.625
         ]
        },
        {
         "hoverinfo": "skip",
         "line": {
          "color": "red",
          "width": 4
         },
         "mode": "lines",
         "showlegend": false,
         "type": "scatter",
         "visible": false,
         "x": [
          0,
          3.9000000000000004
         ],
         "y": [
          3.875,
          1.9249999999999998
         ]
        },
        {
         "hoverinfo": "skip",
         "line": {
          "color": "red",
          "width": 4
         },
         "mode": "lines",
         "showlegend": false,
         "type": "scatter",
         "visible": false,
         "x": [
          0,
          3.9000000000000004
         ],
         "y": [
          4.17,
          2.2199999999999998
         ]
        },
        {
         "hoverinfo": "skip",
         "line": {
          "color": "red",
          "width": 4
         },
         "mode": "lines",
         "showlegend": false,
         "type": "scatter",
         "visible": false,
         "x": [
          0,
          3.9000000000000004
         ],
         "y": [
          4.47,
          2.5199999999999996
         ]
        },
        {
         "hoverinfo": "skip",
         "line": {
          "color": "red",
          "width": 4
         },
         "mode": "lines",
         "showlegend": false,
         "type": "scatter",
         "visible": false,
         "x": [
          0,
          3.9000000000000004
         ],
         "y": [
          4.765,
          2.8149999999999995
         ]
        },
        {
         "hoverinfo": "skip",
         "line": {
          "color": "red",
          "width": 4
         },
         "mode": "lines",
         "showlegend": false,
         "type": "scatter",
         "visible": false,
         "x": [
          0,
          3.9000000000000004
         ],
         "y": [
          5.065,
          3.115
         ]
        },
        {
         "hoverinfo": "skip",
         "line": {
          "color": "red",
          "width": 4
         },
         "mode": "lines",
         "showlegend": false,
         "type": "scatter",
         "visible": false,
         "x": [
          0,
          3.9000000000000004
         ],
         "y": [
          5.36,
          3.41
         ]
        },
        {
         "hoverinfo": "skip",
         "line": {
          "color": "red",
          "width": 4
         },
         "mode": "lines",
         "showlegend": false,
         "type": "scatter",
         "visible": false,
         "x": [
          0,
          3.9000000000000004
         ],
         "y": [
          5.5,
          3.55
         ]
        },
        {
         "hoverinfo": "skip",
         "line": {
          "color": "red",
          "width": 4
         },
         "mode": "lines",
         "showlegend": false,
         "type": "scatter",
         "visible": false,
         "x": [
          0,
          3.9000000000000004
         ],
         "y": [
          5.66,
          3.71
         ]
        },
        {
         "hoverinfo": "skip",
         "line": {
          "color": "red",
          "width": 4
         },
         "mode": "lines",
         "showlegend": false,
         "type": "scatter",
         "visible": false,
         "x": [
          0,
          3.9000000000000004
         ],
         "y": [
          5.96,
          4.01
         ]
        },
        {
         "hoverinfo": "skip",
         "line": {
          "color": "red",
          "width": 4
         },
         "mode": "lines",
         "showlegend": false,
         "type": "scatter",
         "visible": false,
         "x": [
          0,
          3.9000000000000004
         ],
         "y": [
          6.255,
          4.305
         ]
        },
        {
         "hoverinfo": "skip",
         "line": {
          "color": "red",
          "width": 4
         },
         "mode": "lines",
         "showlegend": false,
         "type": "scatter",
         "visible": false,
         "x": [
          0,
          3.9000000000000004
         ],
         "y": [
          6.555,
          4.6049999999999995
         ]
        },
        {
         "hoverinfo": "skip",
         "line": {
          "color": "red",
          "width": 4
         },
         "mode": "lines",
         "showlegend": false,
         "type": "scatter",
         "visible": false,
         "x": [
          0,
          3.9000000000000004
         ],
         "y": [
          6.85,
          4.8999999999999995
         ]
        },
        {
         "hoverinfo": "skip",
         "line": {
          "color": "red",
          "width": 4
         },
         "mode": "lines",
         "showlegend": false,
         "type": "scatter",
         "visible": false,
         "x": [
          0,
          3.9000000000000004
         ],
         "y": [
          7.15,
          5.2
         ]
        },
        {
         "hoverinfo": "skip",
         "marker": {
          "color": "red",
          "opacity": 1,
          "size": 5
         },
         "mode": "markers",
         "showlegend": false,
         "type": "scatter",
         "x": [
          2
         ],
         "y": [
          4
         ]
        },
        {
         "hoverinfo": "skip",
         "line": {
          "color": "red",
          "width": 6
         },
         "mode": "lines",
         "opacity": 1,
         "showlegend": false,
         "type": "scatter",
         "visible": false,
         "x": [
          2,
          2.5
         ],
         "y": [
          4,
          4
         ]
        },
        {
         "hoverinfo": "skip",
         "line": {
          "color": "red",
          "width": 6
         },
         "mode": "lines",
         "opacity": 1,
         "showlegend": false,
         "type": "scatter",
         "visible": false,
         "x": [
          2,
          3
         ],
         "y": [
          4,
          4
         ]
        },
        {
         "cells": {
          "align": [
           "left",
           "right",
           "left"
          ],
          "fill": {
           "color": "white"
          },
          "font": {
           "color": [
            [
             "black",
             "red",
             "black"
            ],
            [
             "black",
             "black",
             "black"
            ]
           ],
           "size": 14
          },
          "height": 25,
          "line": {
           "color": "white",
           "width": 1
          },
          "values": [
           [
            "max<br>s.t.<br> <br> <br> "
           ],
           [
            " <br>x<sub>1</sub><br>x<sub>2</sub><br>x<sub>4</sub><br>x<sub>5</sub>"
           ],
           [
            "10 - 2.5x<sub>3</sub> + 0.5x<sub>6</sub><br>= 2 - 0.5x<sub>3</sub> + 0.5x<sub>6</sub><br>= 4 - 1x<sub>3</sub> + 0x<sub>6</sub><br>= 4 - 0.5x<sub>3</sub> - 0.5x<sub>6</sub><br>= 1 + 0.5x<sub>3</sub> - 0.5x<sub>6</sub>"
           ]
          ]
         },
         "columnwidth": [
          0.13333333333333333,
          0.06666666666666667,
          0.8
         ],
         "domain": {
          "x": [
           0.6052631578947368,
           1
          ],
          "y": [
           0,
           1
          ]
         },
         "header": {
          "align": [
           "left",
           "right",
           "left"
          ],
          "fill": {
           "color": "white"
          },
          "font": {
           "color": [
            "red",
            "black"
           ],
           "size": 14
          },
          "height": 25,
          "line": {
           "color": "white",
           "width": 1
          },
          "values": [
           "<b>(0)</b>",
           " ",
           " "
          ]
         },
         "type": "table"
        },
        {
         "cells": {
          "align": [
           "left",
           "right",
           "left"
          ],
          "fill": {
           "color": "white"
          },
          "font": {
           "color": [
            [
             "black",
             "red",
             "black"
            ],
            [
             "black",
             "black",
             "black"
            ]
           ],
           "size": 14
          },
          "height": 25,
          "line": {
           "color": "white",
           "width": 1
          },
          "values": [
           [
            "max<br>s.t.<br> <br> <br> ",
            "<b>(0)</b>",
            "max<br>s.t.<br> <br> <br> "
           ],
           [
            " <br>x<sub>1</sub><br>x<sub>2</sub><br>x<sub>4</sub><br>x<sub>6</sub>",
            " ",
            " <br>x<sub>1</sub><br>x<sub>2</sub><br>x<sub>4</sub><br>x<sub>5</sub>"
           ],
           [
            "11 - 2x<sub>3</sub> - 1x<sub>5</sub><br>= 3 + 0x<sub>3</sub> - 1x<sub>5</sub><br>= 4 - 1x<sub>3</sub> + 0x<sub>5</sub><br>= 3 - 1x<sub>3</sub> + 1x<sub>5</sub><br>= 2 + 1x<sub>3</sub> - 2x<sub>5</sub>",
            " ",
            "10 - 2.5x<sub>3</sub> + 0.5x<sub>6</sub><br>= 2 - 0.5x<sub>3</sub> + 0.5x<sub>6</sub><br>= 4 - 1x<sub>3</sub> + 0x<sub>6</sub><br>= 4 - 0.5x<sub>3</sub> - 0.5x<sub>6</sub><br>= 1 + 0.5x<sub>3</sub> - 0.5x<sub>6</sub>"
           ]
          ]
         },
         "columnwidth": [
          0.13333333333333333,
          0.06666666666666667,
          0.8
         ],
         "domain": {
          "x": [
           0.6052631578947368,
           1
          ],
          "y": [
           0,
           1
          ]
         },
         "header": {
          "align": [
           "left",
           "right",
           "left"
          ],
          "fill": {
           "color": "white"
          },
          "font": {
           "color": [
            "red",
            "black"
           ],
           "size": 14
          },
          "height": 25,
          "line": {
           "color": "white",
           "width": 1
          },
          "values": [
           "<b>(1)</b>",
           " ",
           " "
          ]
         },
         "type": "table",
         "visible": false
        },
        {
         "cells": {
          "align": [
           "left",
           "right",
           "left"
          ],
          "fill": {
           "color": "white"
          },
          "font": {
           "color": [
            [
             "black",
             "red",
             "black"
            ],
            [
             "black",
             "black",
             "black"
            ]
           ],
           "size": 14
          },
          "height": 25,
          "line": {
           "color": "white",
           "width": 1
          },
          "values": [
           [
            "max<br>s.t.<br> <br> <br> "
           ],
           [
            " <br>x<sub>1</sub><br>x<sub>2</sub><br>x<sub>4</sub><br>x<sub>6</sub>"
           ],
           [
            "11 - 2x<sub>3</sub> - 1x<sub>5</sub><br>= 3 + 0x<sub>3</sub> - 1x<sub>5</sub><br>= 4 - 1x<sub>3</sub> + 0x<sub>5</sub><br>= 3 - 1x<sub>3</sub> + 1x<sub>5</sub><br>= 2 + 1x<sub>3</sub> - 2x<sub>5</sub>"
           ]
          ]
         },
         "columnwidth": [
          0.13333333333333333,
          0.06666666666666667,
          0.8
         ],
         "domain": {
          "x": [
           0.6052631578947368,
           1
          ],
          "y": [
           0,
           1
          ]
         },
         "header": {
          "align": [
           "left",
           "right",
           "left"
          ],
          "fill": {
           "color": "white"
          },
          "font": {
           "color": [
            "red",
            "black"
           ],
           "size": 14
          },
          "height": 25,
          "line": {
           "color": "white",
           "width": 1
          },
          "values": [
           "<b>(1)</b>",
           " ",
           " "
          ]
         },
         "type": "table",
         "visible": false
        }
       ],
       "layout": {
        "font": {
         "color": "#323232",
         "family": "Arial"
        },
        "height": 500,
        "legend": {
         "font": {
          "size": 13
         },
         "title": {
          "font": {
           "size": 14
          },
          "text": "<b>Constraint(s)</b>"
         },
         "x": 0.39473684210526316,
         "xanchor": "left",
         "y": 1,
         "yanchor": "top"
        },
        "margin": {
         "b": 0,
         "l": 0,
         "r": 0,
         "t": 33
        },
        "paper_bgcolor": "white",
        "plot_bgcolor": "#FAFAFA",
        "scene": {
         "aspectmode": "cube",
         "domain": {
          "x": [
           0,
           0.39473684210526316
          ],
          "y": [
           0,
           1
          ]
         },
         "xaxis": {
          "gridcolor": "#CCCCCC",
          "gridwidth": 1,
          "linecolor": "#4D4D4D",
          "linewidth": 2,
          "range": [
           0,
           3.9000000000000004
          ],
          "rangemode": "tozero",
          "showspikes": false,
          "tickcolor": "#4D4D4D",
          "ticks": "outside",
          "title": {
           "text": "x<sub>1</sub>"
          }
         },
         "yaxis": {
          "gridcolor": "#CCCCCC",
          "gridwidth": 1,
          "linecolor": "#4D4D4D",
          "linewidth": 2,
          "range": [
           0,
           5.2
          ],
          "rangemode": "tozero",
          "showspikes": false,
          "tickcolor": "#4D4D4D",
          "ticks": "outside",
          "title": {
           "text": "x<sub>2</sub>"
          }
         },
         "zaxis": {
          "gridcolor": "#CCCCCC",
          "gridwidth": 1,
          "linecolor": "#4D4D4D",
          "linewidth": 2,
          "rangemode": "tozero",
          "showspikes": false,
          "tickcolor": "#4D4D4D",
          "ticks": "outside",
          "title": {
           "text": "x<sub>3</sub>"
          }
         }
        },
        "sliders": [
         {
          "active": 0,
          "currentvalue": {
           "prefix": "Objective Value: "
          },
          "len": 0.4,
          "lenmode": "fraction",
          "pad": {
           "b": 0,
           "l": 0,
           "r": 0,
           "t": 50
          },
          "steps": [
           {
            "args": [
             {
              "visible": [
               null,
               null,
               true,
               true,
               true,
               true,
               null,
               true,
               false,
               false,
               false,
               false,
               false,
               false,
               false,
               false,
               false,
               false,
               false,
               false,
               false,
               false,
               false,
               false,
               false,
               false,
               false,
               false,
               false,
               false,
               false,
               false,
               false,
               null,
               false,
               false,
               null,
               false,
               false
              ]
             }
            ],
            "label": "0.0",
            "method": "update"
           },
           {
            "args": [
             {
              "visible": [
               null,
               null,
               true,
               true,
               true,
               true,
               null,
               false,
               true,
               false,
               false,
               false,
               false,
               false,
               false,
               false,
               false,
               false,
               false,
               false,
               false,
               false,
               false,
               false,
               false,
               false,
               false,
               false,
               false,
               false,
               false,
               false,
               false,
               null,
               false,
               false,
               null,
               false,
               false
              ]
             }
            ],
            "label": "0.6",
            "method": "update"
           },
           {
            "args": [
             {
              "visible": [
               null,
               null,
               true,
               true,
               true,
               true,
               null,
               false,
               false,
               true,
               false,
               false,
               false,
               false,
               false,
               false,
               false,
               false,
               false,
               false,
               false,
               false,
               false,
               false,
               false,
               false,
               false,
               false,
               false,
               false,
               false,
               false,
               false,
               null,
               false,
               false,
               null,
               false,
               false
              ]
             }
            ],
            "label": "1.19",
            "method": "update"
           },
           {
            "args": [
             {
              "visible": [
               null,
               null,
               true,
               true,
               true,
               true,
               null,
               false,
               false,
               false,
               true,
               false,
               false,
               false,
               false,
               false,
               false,
               false,
               false,
               false,
               false,
               false,
               false,
               false,
               false,
               false,
               false,
               false,
               false,
               false,
               false,
               false,
               false,
               null,
               false,
               false,
               null,
               false,
               false
              ]
             }
            ],
            "label": "1.79",
            "method": "update"
           },
           {
            "args": [
             {
              "visible": [
               null,
               null,
               true,
               true,
               true,
               true,
               null,
               false,
               false,
               false,
               false,
               true,
               false,
               false,
               false,
               false,
               false,
               false,
               false,
               false,
               false,
               false,
               false,
               false,
               false,
               false,
               false,
               false,
               false,
               false,
               false,
               false,
               false,
               null,
               false,
               false,
               null,
               false,
               false
              ]
             }
            ],
            "label": "2.38",
            "method": "update"
           },
           {
            "args": [
             {
              "visible": [
               null,
               null,
               true,
               true,
               true,
               true,
               null,
               false,
               false,
               false,
               false,
               false,
               true,
               false,
               false,
               false,
               false,
               false,
               false,
               false,
               false,
               false,
               false,
               false,
               false,
               false,
               false,
               false,
               false,
               false,
               false,
               false,
               false,
               null,
               false,
               false,
               null,
               false,
               false
              ]
             }
            ],
            "label": "2.98",
            "method": "update"
           },
           {
            "args": [
             {
              "visible": [
               null,
               null,
               true,
               true,
               true,
               true,
               null,
               false,
               false,
               false,
               false,
               false,
               false,
               true,
               false,
               false,
               false,
               false,
               false,
               false,
               false,
               false,
               false,
               false,
               false,
               false,
               false,
               false,
               false,
               false,
               false,
               false,
               false,
               null,
               false,
               false,
               null,
               false,
               false
              ]
             }
            ],
            "label": "3.58",
            "method": "update"
           },
           {
            "args": [
             {
              "visible": [
               null,
               null,
               true,
               true,
               true,
               true,
               null,
               false,
               false,
               false,
               false,
               false,
               false,
               false,
               true,
               false,
               false,
               false,
               false,
               false,
               false,
               false,
               false,
               false,
               false,
               false,
               false,
               false,
               false,
               false,
               false,
               false,
               false,
               null,
               false,
               false,
               null,
               false,
               false
              ]
             }
            ],
            "label": "4.17",
            "method": "update"
           },
           {
            "args": [
             {
              "visible": [
               null,
               null,
               true,
               true,
               true,
               true,
               null,
               false,
               false,
               false,
               false,
               false,
               false,
               false,
               false,
               true,
               false,
               false,
               false,
               false,
               false,
               false,
               false,
               false,
               false,
               false,
               false,
               false,
               false,
               false,
               false,
               false,
               false,
               null,
               false,
               false,
               null,
               false,
               false
              ]
             }
            ],
            "label": "4.77",
            "method": "update"
           },
           {
            "args": [
             {
              "visible": [
               null,
               null,
               true,
               true,
               true,
               true,
               null,
               false,
               false,
               false,
               false,
               false,
               false,
               false,
               false,
               false,
               true,
               false,
               false,
               false,
               false,
               false,
               false,
               false,
               false,
               false,
               false,
               false,
               false,
               false,
               false,
               false,
               false,
               null,
               false,
               false,
               null,
               false,
               false
              ]
             }
            ],
            "label": "5.36",
            "method": "update"
           },
           {
            "args": [
             {
              "visible": [
               null,
               null,
               true,
               true,
               true,
               true,
               null,
               false,
               false,
               false,
               false,
               false,
               false,
               false,
               false,
               false,
               false,
               true,
               false,
               false,
               false,
               false,
               false,
               false,
               false,
               false,
               false,
               false,
               false,
               false,
               false,
               false,
               false,
               null,
               false,
               false,
               null,
               false,
               false
              ]
             }
            ],
            "label": "5.96",
            "method": "update"
           },
           {
            "args": [
             {
              "visible": [
               null,
               null,
               true,
               true,
               true,
               true,
               null,
               false,
               false,
               false,
               false,
               false,
               false,
               false,
               false,
               false,
               false,
               false,
               true,
               false,
               false,
               false,
               false,
               false,
               false,
               false,
               false,
               false,
               false,
               false,
               false,
               false,
               false,
               null,
               false,
               false,
               null,
               false,
               false
              ]
             }
            ],
            "label": "6.55",
            "method": "update"
           },
           {
            "args": [
             {
              "visible": [
               null,
               null,
               true,
               true,
               true,
               true,
               null,
               false,
               false,
               false,
               false,
               false,
               false,
               false,
               false,
               false,
               false,
               false,
               false,
               true,
               false,
               false,
               false,
               false,
               false,
               false,
               false,
               false,
               false,
               false,
               false,
               false,
               false,
               null,
               false,
               false,
               null,
               false,
               false
              ]
             }
            ],
            "label": "7.15",
            "method": "update"
           },
           {
            "args": [
             {
              "visible": [
               null,
               null,
               true,
               true,
               true,
               true,
               null,
               false,
               false,
               false,
               false,
               false,
               false,
               false,
               false,
               false,
               false,
               false,
               false,
               false,
               true,
               false,
               false,
               false,
               false,
               false,
               false,
               false,
               false,
               false,
               false,
               false,
               false,
               null,
               false,
               false,
               null,
               false,
               false
              ]
             }
            ],
            "label": "7.75",
            "method": "update"
           },
           {
            "args": [
             {
              "visible": [
               null,
               null,
               true,
               true,
               true,
               true,
               null,
               false,
               false,
               false,
               false,
               false,
               false,
               false,
               false,
               false,
               false,
               false,
               false,
               false,
               false,
               true,
               false,
               false,
               false,
               false,
               false,
               false,
               false,
               false,
               false,
               false,
               false,
               null,
               false,
               false,
               null,
               false,
               false
              ]
             }
            ],
            "label": "8.34",
            "method": "update"
           },
           {
            "args": [
             {
              "visible": [
               null,
               null,
               true,
               true,
               true,
               true,
               null,
               false,
               false,
               false,
               false,
               false,
               false,
               false,
               false,
               false,
               false,
               false,
               false,
               false,
               false,
               false,
               true,
               false,
               false,
               false,
               false,
               false,
               false,
               false,
               false,
               false,
               false,
               null,
               false,
               false,
               null,
               false,
               false
              ]
             }
            ],
            "label": "8.94",
            "method": "update"
           },
           {
            "args": [
             {
              "visible": [
               null,
               null,
               true,
               true,
               true,
               true,
               null,
               false,
               false,
               false,
               false,
               false,
               false,
               false,
               false,
               false,
               false,
               false,
               false,
               false,
               false,
               false,
               false,
               true,
               false,
               false,
               false,
               false,
               false,
               false,
               false,
               false,
               false,
               null,
               false,
               false,
               null,
               false,
               false
              ]
             }
            ],
            "label": "9.53",
            "method": "update"
           },
           {
            "args": [
             {
              "visible": [
               null,
               null,
               true,
               true,
               true,
               true,
               null,
               false,
               false,
               false,
               false,
               false,
               false,
               false,
               false,
               false,
               false,
               false,
               false,
               false,
               false,
               false,
               false,
               false,
               true,
               false,
               false,
               false,
               false,
               false,
               false,
               false,
               false,
               null,
               false,
               false,
               null,
               false,
               false
              ]
             }
            ],
            "label": "10.13",
            "method": "update"
           },
           {
            "args": [
             {
              "visible": [
               null,
               null,
               true,
               true,
               true,
               true,
               null,
               false,
               false,
               false,
               false,
               false,
               false,
               false,
               false,
               false,
               false,
               false,
               false,
               false,
               false,
               false,
               false,
               false,
               false,
               true,
               false,
               false,
               false,
               false,
               false,
               false,
               false,
               null,
               false,
               false,
               null,
               false,
               false
              ]
             }
            ],
            "label": "10.72",
            "method": "update"
           },
           {
            "args": [
             {
              "visible": [
               null,
               null,
               true,
               true,
               true,
               true,
               null,
               false,
               false,
               false,
               false,
               false,
               false,
               false,
               false,
               false,
               false,
               false,
               false,
               false,
               false,
               false,
               false,
               false,
               false,
               false,
               true,
               false,
               false,
               false,
               false,
               false,
               false,
               null,
               false,
               false,
               null,
               false,
               false
              ]
             }
            ],
            "label": "11.0",
            "method": "update"
           },
           {
            "args": [
             {
              "visible": [
               null,
               null,
               true,
               true,
               true,
               true,
               null,
               false,
               false,
               false,
               false,
               false,
               false,
               false,
               false,
               false,
               false,
               false,
               false,
               false,
               false,
               false,
               false,
               false,
               false,
               false,
               false,
               true,
               false,
               false,
               false,
               false,
               false,
               null,
               false,
               false,
               null,
               false,
               false
              ]
             }
            ],
            "label": "11.32",
            "method": "update"
           },
           {
            "args": [
             {
              "visible": [
               null,
               null,
               true,
               true,
               true,
               true,
               null,
               false,
               false,
               false,
               false,
               false,
               false,
               false,
               false,
               false,
               false,
               false,
               false,
               false,
               false,
               false,
               false,
               false,
               false,
               false,
               false,
               false,
               true,
               false,
               false,
               false,
               false,
               null,
               false,
               false,
               null,
               false,
               false
              ]
             }
            ],
            "label": "11.92",
            "method": "update"
           },
           {
            "args": [
             {
              "visible": [
               null,
               null,
               true,
               true,
               true,
               true,
               null,
               false,
               false,
               false,
               false,
               false,
               false,
               false,
               false,
               false,
               false,
               false,
               false,
               false,
               false,
               false,
               false,
               false,
               false,
               false,
               false,
               false,
               false,
               true,
               false,
               false,
               false,
               null,
               false,
               false,
               null,
               false,
               false
              ]
             }
            ],
            "label": "12.51",
            "method": "update"
           },
           {
            "args": [
             {
              "visible": [
               null,
               null,
               true,
               true,
               true,
               true,
               null,
               false,
               false,
               false,
               false,
               false,
               false,
               false,
               false,
               false,
               false,
               false,
               false,
               false,
               false,
               false,
               false,
               false,
               false,
               false,
               false,
               false,
               false,
               false,
               true,
               false,
               false,
               null,
               false,
               false,
               null,
               false,
               false
              ]
             }
            ],
            "label": "13.11",
            "method": "update"
           },
           {
            "args": [
             {
              "visible": [
               null,
               null,
               true,
               true,
               true,
               true,
               null,
               false,
               false,
               false,
               false,
               false,
               false,
               false,
               false,
               false,
               false,
               false,
               false,
               false,
               false,
               false,
               false,
               false,
               false,
               false,
               false,
               false,
               false,
               false,
               false,
               true,
               false,
               null,
               false,
               false,
               null,
               false,
               false
              ]
             }
            ],
            "label": "13.7",
            "method": "update"
           },
           {
            "args": [
             {
              "visible": [
               null,
               null,
               true,
               true,
               true,
               true,
               null,
               false,
               false,
               false,
               false,
               false,
               false,
               false,
               false,
               false,
               false,
               false,
               false,
               false,
               false,
               false,
               false,
               false,
               false,
               false,
               false,
               false,
               false,
               false,
               false,
               false,
               true,
               null,
               false,
               false,
               null,
               false,
               false
              ]
             }
            ],
            "label": "14.3",
            "method": "update"
           }
          ],
          "tickcolor": "white",
          "ticklen": 0,
          "x": 0.6052631578947368,
          "xanchor": "left",
          "y": 0.01,
          "yanchor": "bottom"
         },
         {
          "active": 0,
          "currentvalue": {
           "prefix": "Iteration: "
          },
          "len": 0.4,
          "lenmode": "fraction",
          "pad": {
           "b": 0,
           "l": 0,
           "r": 0,
           "t": 0
          },
          "steps": [
           {
            "args": [
             {
              "visible": [
               null,
               null,
               true,
               true,
               true,
               true,
               null,
               false,
               false,
               false,
               false,
               false,
               false,
               false,
               false,
               false,
               false,
               false,
               false,
               false,
               false,
               false,
               false,
               false,
               false,
               false,
               false,
               false,
               false,
               false,
               false,
               false,
               false,
               null,
               false,
               false,
               true,
               false,
               false
              ]
             }
            ],
            "label": "0",
            "method": "update"
           },
           {
            "args": [
             {
              "visible": [
               null,
               null,
               true,
               true,
               true,
               true,
               null,
               false,
               false,
               false,
               false,
               false,
               false,
               false,
               false,
               false,
               false,
               false,
               false,
               false,
               false,
               false,
               false,
               false,
               false,
               false,
               false,
               false,
               false,
               false,
               false,
               false,
               false,
               null,
               true,
               false,
               false,
               true,
               false
              ]
             }
            ],
            "label": "",
            "method": "update"
           },
           {
            "args": [
             {
              "visible": [
               null,
               null,
               true,
               true,
               true,
               true,
               null,
               false,
               false,
               false,
               false,
               false,
               false,
               false,
               false,
               false,
               false,
               false,
               false,
               false,
               false,
               false,
               false,
               false,
               false,
               false,
               false,
               false,
               false,
               false,
               false,
               false,
               false,
               null,
               true,
               true,
               false,
               false,
               true
              ]
             }
            ],
            "label": "1",
            "method": "update"
           }
          ],
          "tickcolor": "white",
          "ticklen": 0,
          "x": 0.6052631578947368,
          "xanchor": "left",
          "y": 0.17,
          "yanchor": "bottom"
         }
        ],
        "template": {
         "data": {
          "bar": [
           {
            "error_x": {
             "color": "#2a3f5f"
            },
            "error_y": {
             "color": "#2a3f5f"
            },
            "marker": {
             "line": {
              "color": "#E5ECF6",
              "width": 0.5
             },
             "pattern": {
              "fillmode": "overlay",
              "size": 10,
              "solidity": 0.2
             }
            },
            "type": "bar"
           }
          ],
          "barpolar": [
           {
            "marker": {
             "line": {
              "color": "#E5ECF6",
              "width": 0.5
             },
             "pattern": {
              "fillmode": "overlay",
              "size": 10,
              "solidity": 0.2
             }
            },
            "type": "barpolar"
           }
          ],
          "carpet": [
           {
            "aaxis": {
             "endlinecolor": "#2a3f5f",
             "gridcolor": "white",
             "linecolor": "white",
             "minorgridcolor": "white",
             "startlinecolor": "#2a3f5f"
            },
            "baxis": {
             "endlinecolor": "#2a3f5f",
             "gridcolor": "white",
             "linecolor": "white",
             "minorgridcolor": "white",
             "startlinecolor": "#2a3f5f"
            },
            "type": "carpet"
           }
          ],
          "choropleth": [
           {
            "colorbar": {
             "outlinewidth": 0,
             "ticks": ""
            },
            "type": "choropleth"
           }
          ],
          "contour": [
           {
            "colorbar": {
             "outlinewidth": 0,
             "ticks": ""
            },
            "colorscale": [
             [
              0,
              "#0d0887"
             ],
             [
              0.1111111111111111,
              "#46039f"
             ],
             [
              0.2222222222222222,
              "#7201a8"
             ],
             [
              0.3333333333333333,
              "#9c179e"
             ],
             [
              0.4444444444444444,
              "#bd3786"
             ],
             [
              0.5555555555555556,
              "#d8576b"
             ],
             [
              0.6666666666666666,
              "#ed7953"
             ],
             [
              0.7777777777777778,
              "#fb9f3a"
             ],
             [
              0.8888888888888888,
              "#fdca26"
             ],
             [
              1,
              "#f0f921"
             ]
            ],
            "type": "contour"
           }
          ],
          "contourcarpet": [
           {
            "colorbar": {
             "outlinewidth": 0,
             "ticks": ""
            },
            "type": "contourcarpet"
           }
          ],
          "heatmap": [
           {
            "colorbar": {
             "outlinewidth": 0,
             "ticks": ""
            },
            "colorscale": [
             [
              0,
              "#0d0887"
             ],
             [
              0.1111111111111111,
              "#46039f"
             ],
             [
              0.2222222222222222,
              "#7201a8"
             ],
             [
              0.3333333333333333,
              "#9c179e"
             ],
             [
              0.4444444444444444,
              "#bd3786"
             ],
             [
              0.5555555555555556,
              "#d8576b"
             ],
             [
              0.6666666666666666,
              "#ed7953"
             ],
             [
              0.7777777777777778,
              "#fb9f3a"
             ],
             [
              0.8888888888888888,
              "#fdca26"
             ],
             [
              1,
              "#f0f921"
             ]
            ],
            "type": "heatmap"
           }
          ],
          "heatmapgl": [
           {
            "colorbar": {
             "outlinewidth": 0,
             "ticks": ""
            },
            "colorscale": [
             [
              0,
              "#0d0887"
             ],
             [
              0.1111111111111111,
              "#46039f"
             ],
             [
              0.2222222222222222,
              "#7201a8"
             ],
             [
              0.3333333333333333,
              "#9c179e"
             ],
             [
              0.4444444444444444,
              "#bd3786"
             ],
             [
              0.5555555555555556,
              "#d8576b"
             ],
             [
              0.6666666666666666,
              "#ed7953"
             ],
             [
              0.7777777777777778,
              "#fb9f3a"
             ],
             [
              0.8888888888888888,
              "#fdca26"
             ],
             [
              1,
              "#f0f921"
             ]
            ],
            "type": "heatmapgl"
           }
          ],
          "histogram": [
           {
            "marker": {
             "pattern": {
              "fillmode": "overlay",
              "size": 10,
              "solidity": 0.2
             }
            },
            "type": "histogram"
           }
          ],
          "histogram2d": [
           {
            "colorbar": {
             "outlinewidth": 0,
             "ticks": ""
            },
            "colorscale": [
             [
              0,
              "#0d0887"
             ],
             [
              0.1111111111111111,
              "#46039f"
             ],
             [
              0.2222222222222222,
              "#7201a8"
             ],
             [
              0.3333333333333333,
              "#9c179e"
             ],
             [
              0.4444444444444444,
              "#bd3786"
             ],
             [
              0.5555555555555556,
              "#d8576b"
             ],
             [
              0.6666666666666666,
              "#ed7953"
             ],
             [
              0.7777777777777778,
              "#fb9f3a"
             ],
             [
              0.8888888888888888,
              "#fdca26"
             ],
             [
              1,
              "#f0f921"
             ]
            ],
            "type": "histogram2d"
           }
          ],
          "histogram2dcontour": [
           {
            "colorbar": {
             "outlinewidth": 0,
             "ticks": ""
            },
            "colorscale": [
             [
              0,
              "#0d0887"
             ],
             [
              0.1111111111111111,
              "#46039f"
             ],
             [
              0.2222222222222222,
              "#7201a8"
             ],
             [
              0.3333333333333333,
              "#9c179e"
             ],
             [
              0.4444444444444444,
              "#bd3786"
             ],
             [
              0.5555555555555556,
              "#d8576b"
             ],
             [
              0.6666666666666666,
              "#ed7953"
             ],
             [
              0.7777777777777778,
              "#fb9f3a"
             ],
             [
              0.8888888888888888,
              "#fdca26"
             ],
             [
              1,
              "#f0f921"
             ]
            ],
            "type": "histogram2dcontour"
           }
          ],
          "mesh3d": [
           {
            "colorbar": {
             "outlinewidth": 0,
             "ticks": ""
            },
            "type": "mesh3d"
           }
          ],
          "parcoords": [
           {
            "line": {
             "colorbar": {
              "outlinewidth": 0,
              "ticks": ""
             }
            },
            "type": "parcoords"
           }
          ],
          "pie": [
           {
            "automargin": true,
            "type": "pie"
           }
          ],
          "scatter": [
           {
            "fillpattern": {
             "fillmode": "overlay",
             "size": 10,
             "solidity": 0.2
            },
            "type": "scatter"
           }
          ],
          "scatter3d": [
           {
            "line": {
             "colorbar": {
              "outlinewidth": 0,
              "ticks": ""
             }
            },
            "marker": {
             "colorbar": {
              "outlinewidth": 0,
              "ticks": ""
             }
            },
            "type": "scatter3d"
           }
          ],
          "scattercarpet": [
           {
            "marker": {
             "colorbar": {
              "outlinewidth": 0,
              "ticks": ""
             }
            },
            "type": "scattercarpet"
           }
          ],
          "scattergeo": [
           {
            "marker": {
             "colorbar": {
              "outlinewidth": 0,
              "ticks": ""
             }
            },
            "type": "scattergeo"
           }
          ],
          "scattergl": [
           {
            "marker": {
             "colorbar": {
              "outlinewidth": 0,
              "ticks": ""
             }
            },
            "type": "scattergl"
           }
          ],
          "scattermapbox": [
           {
            "marker": {
             "colorbar": {
              "outlinewidth": 0,
              "ticks": ""
             }
            },
            "type": "scattermapbox"
           }
          ],
          "scatterpolar": [
           {
            "marker": {
             "colorbar": {
              "outlinewidth": 0,
              "ticks": ""
             }
            },
            "type": "scatterpolar"
           }
          ],
          "scatterpolargl": [
           {
            "marker": {
             "colorbar": {
              "outlinewidth": 0,
              "ticks": ""
             }
            },
            "type": "scatterpolargl"
           }
          ],
          "scatterternary": [
           {
            "marker": {
             "colorbar": {
              "outlinewidth": 0,
              "ticks": ""
             }
            },
            "type": "scatterternary"
           }
          ],
          "surface": [
           {
            "colorbar": {
             "outlinewidth": 0,
             "ticks": ""
            },
            "colorscale": [
             [
              0,
              "#0d0887"
             ],
             [
              0.1111111111111111,
              "#46039f"
             ],
             [
              0.2222222222222222,
              "#7201a8"
             ],
             [
              0.3333333333333333,
              "#9c179e"
             ],
             [
              0.4444444444444444,
              "#bd3786"
             ],
             [
              0.5555555555555556,
              "#d8576b"
             ],
             [
              0.6666666666666666,
              "#ed7953"
             ],
             [
              0.7777777777777778,
              "#fb9f3a"
             ],
             [
              0.8888888888888888,
              "#fdca26"
             ],
             [
              1,
              "#f0f921"
             ]
            ],
            "type": "surface"
           }
          ],
          "table": [
           {
            "cells": {
             "fill": {
              "color": "#EBF0F8"
             },
             "line": {
              "color": "white"
             }
            },
            "header": {
             "fill": {
              "color": "#C8D4E3"
             },
             "line": {
              "color": "white"
             }
            },
            "type": "table"
           }
          ]
         },
         "layout": {
          "annotationdefaults": {
           "arrowcolor": "#2a3f5f",
           "arrowhead": 0,
           "arrowwidth": 1
          },
          "autotypenumbers": "strict",
          "coloraxis": {
           "colorbar": {
            "outlinewidth": 0,
            "ticks": ""
           }
          },
          "colorscale": {
           "diverging": [
            [
             0,
             "#8e0152"
            ],
            [
             0.1,
             "#c51b7d"
            ],
            [
             0.2,
             "#de77ae"
            ],
            [
             0.3,
             "#f1b6da"
            ],
            [
             0.4,
             "#fde0ef"
            ],
            [
             0.5,
             "#f7f7f7"
            ],
            [
             0.6,
             "#e6f5d0"
            ],
            [
             0.7,
             "#b8e186"
            ],
            [
             0.8,
             "#7fbc41"
            ],
            [
             0.9,
             "#4d9221"
            ],
            [
             1,
             "#276419"
            ]
           ],
           "sequential": [
            [
             0,
             "#0d0887"
            ],
            [
             0.1111111111111111,
             "#46039f"
            ],
            [
             0.2222222222222222,
             "#7201a8"
            ],
            [
             0.3333333333333333,
             "#9c179e"
            ],
            [
             0.4444444444444444,
             "#bd3786"
            ],
            [
             0.5555555555555556,
             "#d8576b"
            ],
            [
             0.6666666666666666,
             "#ed7953"
            ],
            [
             0.7777777777777778,
             "#fb9f3a"
            ],
            [
             0.8888888888888888,
             "#fdca26"
            ],
            [
             1,
             "#f0f921"
            ]
           ],
           "sequentialminus": [
            [
             0,
             "#0d0887"
            ],
            [
             0.1111111111111111,
             "#46039f"
            ],
            [
             0.2222222222222222,
             "#7201a8"
            ],
            [
             0.3333333333333333,
             "#9c179e"
            ],
            [
             0.4444444444444444,
             "#bd3786"
            ],
            [
             0.5555555555555556,
             "#d8576b"
            ],
            [
             0.6666666666666666,
             "#ed7953"
            ],
            [
             0.7777777777777778,
             "#fb9f3a"
            ],
            [
             0.8888888888888888,
             "#fdca26"
            ],
            [
             1,
             "#f0f921"
            ]
           ]
          },
          "colorway": [
           "#636efa",
           "#EF553B",
           "#00cc96",
           "#ab63fa",
           "#FFA15A",
           "#19d3f3",
           "#FF6692",
           "#B6E880",
           "#FF97FF",
           "#FECB52"
          ],
          "font": {
           "color": "#2a3f5f"
          },
          "geo": {
           "bgcolor": "white",
           "lakecolor": "white",
           "landcolor": "#E5ECF6",
           "showlakes": true,
           "showland": true,
           "subunitcolor": "white"
          },
          "hoverlabel": {
           "align": "left"
          },
          "hovermode": "closest",
          "mapbox": {
           "style": "light"
          },
          "paper_bgcolor": "white",
          "plot_bgcolor": "#E5ECF6",
          "polar": {
           "angularaxis": {
            "gridcolor": "white",
            "linecolor": "white",
            "ticks": ""
           },
           "bgcolor": "#E5ECF6",
           "radialaxis": {
            "gridcolor": "white",
            "linecolor": "white",
            "ticks": ""
           }
          },
          "scene": {
           "xaxis": {
            "backgroundcolor": "#E5ECF6",
            "gridcolor": "white",
            "gridwidth": 2,
            "linecolor": "white",
            "showbackground": true,
            "ticks": "",
            "zerolinecolor": "white"
           },
           "yaxis": {
            "backgroundcolor": "#E5ECF6",
            "gridcolor": "white",
            "gridwidth": 2,
            "linecolor": "white",
            "showbackground": true,
            "ticks": "",
            "zerolinecolor": "white"
           },
           "zaxis": {
            "backgroundcolor": "#E5ECF6",
            "gridcolor": "white",
            "gridwidth": 2,
            "linecolor": "white",
            "showbackground": true,
            "ticks": "",
            "zerolinecolor": "white"
           }
          },
          "shapedefaults": {
           "line": {
            "color": "#2a3f5f"
           }
          },
          "ternary": {
           "aaxis": {
            "gridcolor": "white",
            "linecolor": "white",
            "ticks": ""
           },
           "baxis": {
            "gridcolor": "white",
            "linecolor": "white",
            "ticks": ""
           },
           "bgcolor": "#E5ECF6",
           "caxis": {
            "gridcolor": "white",
            "linecolor": "white",
            "ticks": ""
           }
          },
          "title": {
           "x": 0.05
          },
          "xaxis": {
           "automargin": true,
           "gridcolor": "white",
           "linecolor": "white",
           "ticks": "",
           "title": {
            "standoff": 15
           },
           "zerolinecolor": "white",
           "zerolinewidth": 2
          },
          "yaxis": {
           "automargin": true,
           "gridcolor": "white",
           "linecolor": "white",
           "ticks": "",
           "title": {
            "standoff": 15
           },
           "zerolinecolor": "white",
           "zerolinewidth": 2
          }
         }
        },
        "title": {
         "font": {
          "color": "#00285F",
          "size": 18
         },
         "text": "<b>Geometric Interpretation of LPs</b>",
         "x": 0,
         "xanchor": "left",
         "y": 0.99,
         "yanchor": "top"
        },
        "width": 950,
        "xaxis": {
         "domain": [
          0,
          0.39473684210526316
         ],
         "gridcolor": "#CCCCCC",
         "gridwidth": 1,
         "linecolor": "#4D4D4D",
         "linewidth": 2,
         "range": [
          0,
          3.9000000000000004
         ],
         "rangemode": "tozero",
         "showspikes": false,
         "tickcolor": "#4D4D4D",
         "ticks": "outside",
         "title": {
          "text": "x<sub>1</sub>"
         }
        },
        "yaxis": {
         "domain": [
          0,
          1
         ],
         "gridcolor": "#CCCCCC",
         "gridwidth": 1,
         "linecolor": "#4D4D4D",
         "linewidth": 2,
         "range": [
          0,
          5.2
         ],
         "rangemode": "tozero",
         "showspikes": false,
         "tickcolor": "#4D4D4D",
         "ticks": "outside",
         "title": {
          "text": "x<sub>2</sub>"
         }
        }
       }
      }
     },
     "metadata": {},
     "output_type": "display_data"
    }
   ],
   "source": [
    "from gilp.simplex import LP\n",
    "from gilp.visualize import simplex_visual\n",
    "\n",
    "A = np.array([[0, 1],\n",
    "              [1, -1],\n",
    "              [1, 0],\n",
    "              [-2, 1]])\n",
    "b = np.array([[4],\n",
    "              [2],\n",
    "              [3],\n",
    "              [0]])\n",
    "c = np.array([[1],\n",
    "              [2]])\n",
    "\n",
    "lp = LP(A,b,c)\n",
    "\n",
    "simplex_visual(lp).show()"
   ]
  },
  {
   "cell_type": "markdown",
   "id": "5052228d",
   "metadata": {},
   "source": [
    "Typy przechodzenia między wierzchołkami:<br>\n",
    "Największy Wzrost - wymieniona wyżej, wybiera wierzchołek z najwyższym zyskiem<br>\n",
    "Zasada Blanda - po najmniejszym indeksie. Wyklucza cykle. W teorii przydatna, w praktyce zbyt wolna <br>\n",
    "Zasada Dantziga - po najbardziej zredukowanym koszcie zmiennej nie bazowej. Nazwana po twórcy metody sympleks.<br>"
   ]
  },
  {
   "cell_type": "code",
   "execution_count": 16,
   "id": "947f14ad",
   "metadata": {},
   "outputs": [
    {
     "data": {
      "application/vnd.plotly.v1+json": {
       "config": {
        "plotlyServerURL": "https://plot.ly"
       },
       "data": [
        {
         "hoverinfo": "skip",
         "marker": {
          "color": "white",
          "opacity": 1e-7,
          "size": 0
         },
         "mode": "markers",
         "showlegend": false,
         "type": "scatter3d",
         "x": [
          6.5
         ],
         "y": [
          32.5
         ],
         "z": [
          162.5
         ]
        },
        {
         "hoverinfo": "none",
         "line": {
          "color": "#173D90",
          "width": 5
         },
         "mode": "lines",
         "opacity": 0.2,
         "showlegend": false,
         "surfaceaxis": 0,
         "surfacecolor": "#1469FE",
         "type": "scatter3d",
         "visible": true,
         "x": [
          5,
          5,
          5,
          5,
          5
         ],
         "y": [
          5,
          5,
          0,
          0,
          5
         ],
         "z": [
          65,
          0,
          0,
          85,
          65
         ]
        },
        {
         "hoverinfo": "none",
         "line": {
          "color": "#173D90",
          "width": 5
         },
         "mode": "lines",
         "opacity": 0.2,
         "showlegend": false,
         "surfaceaxis": 1,
         "surfacecolor": "#1469FE",
         "type": "scatter3d",
         "visible": true,
         "x": [
          5,
          5,
          0,
          0,
          5
         ],
         "y": [
          5,
          5,
          25,
          25,
          5
         ],
         "z": [
          65,
          0,
          0,
          25,
          65
         ]
        },
        {
         "hoverinfo": "none",
         "line": {
          "color": "#173D90",
          "width": 5
         },
         "mode": "lines",
         "opacity": 0.2,
         "showlegend": false,
         "surfaceaxis": 2,
         "surfacecolor": "#1469FE",
         "type": "scatter3d",
         "visible": true,
         "x": [
          5,
          5,
          0,
          0,
          5
         ],
         "y": [
          5,
          0,
          0,
          25,
          5
         ],
         "z": [
          65,
          85,
          125,
          25,
          65
         ]
        },
        {
         "hoverinfo": "none",
         "line": {
          "color": "#173D90",
          "width": 5
         },
         "mode": "lines",
         "opacity": 0.2,
         "showlegend": false,
         "surfaceaxis": 0,
         "surfacecolor": "#1469FE",
         "type": "scatter3d",
         "visible": true,
         "x": [
          0,
          0,
          0,
          0,
          0
         ],
         "y": [
          25,
          25,
          0,
          0,
          25
         ],
         "z": [
          25,
          0,
          0,
          125,
          25
         ]
        },
        {
         "hoverinfo": "none",
         "line": {
          "color": "#173D90",
          "width": 5
         },
         "mode": "lines",
         "opacity": 0.2,
         "showlegend": false,
         "surfaceaxis": 1,
         "surfacecolor": "#1469FE",
         "type": "scatter3d",
         "visible": true,
         "x": [
          0,
          0,
          5,
          5,
          0
         ],
         "y": [
          0,
          0,
          0,
          0,
          0
         ],
         "z": [
          125,
          0,
          0,
          85,
          125
         ]
        },
        {
         "hoverinfo": "none",
         "line": {
          "color": "#173D90",
          "width": 5
         },
         "mode": "lines",
         "opacity": 0.2,
         "showlegend": false,
         "surfaceaxis": 2,
         "surfacecolor": "#1469FE",
         "type": "scatter3d",
         "visible": true,
         "x": [
          5,
          5,
          0,
          0,
          5
         ],
         "y": [
          5,
          0,
          0,
          25,
          5
         ],
         "z": [
          0,
          0,
          0,
          0,
          0
         ]
        },
        {
         "hoverinfo": "none",
         "mode": "none",
         "name": "(4) 1x<sub>1</sub> + 0x<sub>2</sub> + 0x<sub>3</sub> ≤ 5",
         "opacity": 0.5,
         "showlegend": true,
         "surfaceaxis": 0,
         "surfacecolor": "gray",
         "type": "scatter3d",
         "visible": "legendonly",
         "x": [
          5,
          5,
          5,
          5,
          5
         ],
         "y": [
          0,
          32.5,
          32.5,
          0,
          0
         ],
         "z": [
          162.5,
          162.5,
          0,
          0,
          162.5
         ]
        },
        {
         "hoverinfo": "none",
         "mode": "none",
         "name": "(5) 4x<sub>1</sub> + 1x<sub>2</sub> + 0x<sub>3</sub> ≤ 25",
         "opacity": 0.5,
         "showlegend": true,
         "surfaceaxis": 1,
         "surfacecolor": "gray",
         "type": "scatter3d",
         "visible": "legendonly",
         "x": [
          6.5,
          0,
          0,
          6.5,
          6.5
         ],
         "y": [
          -1,
          25,
          25,
          -1,
          -1
         ],
         "z": [
          162.5,
          162.5,
          0,
          0,
          162.5
         ]
        },
        {
         "hoverinfo": "none",
         "mode": "none",
         "name": "(6) 8x<sub>1</sub> + 4x<sub>2</sub> + 1x<sub>3</sub> ≤ 125",
         "opacity": 0.5,
         "showlegend": true,
         "surfaceaxis": 2,
         "surfacecolor": "gray",
         "type": "scatter3d",
         "visible": "legendonly",
         "x": [
          6.5,
          6.5,
          0,
          0,
          6.5
         ],
         "y": [
          32.5,
          0,
          0,
          32.5,
          32.5
         ],
         "z": [
          -57,
          73,
          125,
          -5,
          -57
         ]
        },
        {
         "hoverinfo": "text",
         "hoverlabel": {
          "bgcolor": "#FAFAFA",
          "bordercolor": "#323232",
          "font": {
           "color": "#323232",
           "family": "Arial"
          }
         },
         "marker": {
          "color": "gray",
          "opacity": 1e-7,
          "size": 20
         },
         "mode": "markers",
         "showlegend": false,
         "text": [
          "<b>BFS</b>: (0, 0, 125, 5, 25, 0)<br><b>B</b>: (1, 2, 3, 4, 5)<br><b>Obj</b>: 125",
          "<b>BFS</b>: (0, 0, 0, 5, 25, 125)<br><b>B</b>: (4, 5, 6)<br><b>Obj</b>: 0",
          "<b>BFS</b>: (0, 25, 25, 5, 0, 0)<br><b>B</b>: (1, 2, 3, 4)<br><b>Obj</b>: 75",
          "<b>BFS</b>: (0, 25, 0, 5, 0, 25)<br><b>B</b>: (1, 2, 3, 4, 5, 6)<br><b>Obj</b>: 50",
          "<b>BFS</b>: (5, 0, 0, 0, 5, 85)<br><b>B</b>: (1, 5, 6)<br><b>Obj</b>: 20",
          "<b>BFS</b>: (5, 0, 85, 0, 5, 0)<br><b>B</b>: (1, 3, 5)<br><b>Obj</b>: 105",
          "<b>BFS</b>: (5, 5, 0, 0, 0, 65)<br><b>B</b>: (1, 2, 6)<br><b>Obj</b>: 30",
          "<b>BFS</b>: (5, 5, 65, 0, 0, 0)<br><b>B</b>: (1, 2, 3)<br><b>Obj</b>: 95"
         ],
         "type": "scatter3d",
         "x": [
          4.440892098500626e-16,
          0,
          4.440892098500626e-16,
          1.332267629550188e-15,
          5,
          5,
          5,
          5
         ],
         "y": [
          4.440892098500626e-16,
          0,
          25,
          24.99999999999999,
          0,
          0,
          5,
          5
         ],
         "z": [
          125,
          0,
          25,
          7.105427357601002e-15,
          0,
          85,
          0,
          65
         ]
        },
        {
         "hoverinfo": "none",
         "mode": "none",
         "opacity": 0.3,
         "showlegend": false,
         "surfaceaxis": 2,
         "surfacecolor": "gray",
         "type": "scatter3d",
         "visible": false,
         "x": [
          0,
          6.5,
          6.5,
          0,
          0
         ],
         "y": [
          0,
          0,
          32.5,
          32.5,
          0
         ],
         "z": [
          0,
          -26,
          -91,
          -65,
          0
         ]
        },
        {
         "hoverinfo": "none",
         "line": {
          "color": "red",
          "width": 5
         },
         "marker": {
          "color": "red",
          "opacity": 1,
          "size": 5
         },
         "mode": "lines+markers",
         "opacity": 1,
         "showlegend": false,
         "surfaceaxis": 2,
         "surfacecolor": "red",
         "type": "scatter3d",
         "visible": false,
         "x": [
          0,
          0,
          0,
          0
         ],
         "y": [
          0,
          0,
          0,
          0
         ],
         "z": [
          0,
          0,
          0,
          0
         ]
        },
        {
         "hoverinfo": "none",
         "mode": "none",
         "opacity": 0.3,
         "showlegend": false,
         "surfaceaxis": 2,
         "surfacecolor": "gray",
         "type": "scatter3d",
         "visible": false,
         "x": [
          6.5,
          0,
          0,
          6.5,
          6.5
         ],
         "y": [
          32.5,
          32.5,
          0,
          0,
          32.5
         ],
         "z": [
          -80.44,
          -54.44,
          10.56,
          -15.44,
          -80.44
         ]
        },
        {
         "hoverinfo": "none",
         "line": {
          "color": "red",
          "width": 5
         },
         "marker": {
          "color": "red",
          "opacity": 1,
          "size": 5
         },
         "mode": "lines+markers",
         "opacity": 1,
         "showlegend": false,
         "surfaceaxis": 2,
         "surfacecolor": "red",
         "type": "scatter3d",
         "visible": false,
         "x": [
          2.640000000000001,
          1.110223024625157e-16,
          0,
          2.640000000000001
         ],
         "y": [
          -1.110223024625157e-16,
          1.110223024625157e-16,
          5.28,
          -1.110223024625157e-16
         ],
         "z": [
          -1.110223024625157e-16,
          10.56,
          0,
          -1.110223024625157e-16
         ]
        },
        {
         "hoverinfo": "none",
         "mode": "none",
         "opacity": 0.3,
         "showlegend": false,
         "surfaceaxis": 2,
         "surfacecolor": "gray",
         "type": "scatter3d",
         "visible": false,
         "x": [
          0,
          6.5,
          6.5,
          0,
          0
         ],
         "y": [
          32.5,
          32.5,
          0,
          0,
          32.5
         ],
         "z": [
          -43.879999999999995,
          -69.88,
          -4.879999999999999,
          21.12,
          -43.879999999999995
         ]
        },
        {
         "hoverinfo": "none",
         "line": {
          "color": "red",
          "width": 5
         },
         "marker": {
          "color": "red",
          "opacity": 1,
          "size": 5
         },
         "mode": "lines+markers",
         "opacity": 1,
         "showlegend": false,
         "surfaceaxis": 2,
         "surfacecolor": "red",
         "type": "scatter3d",
         "visible": false,
         "x": [
          5,
          1.110223024625157e-16,
          2.220446049250313e-16,
          5,
          5
         ],
         "y": [
          0.5600000000000007,
          10.56,
          1.110223024625157e-16,
          2.220446049250313e-16,
          0.5600000000000007
         ],
         "z": [
          0,
          0,
          21.12,
          1.120000000000001,
          0
         ]
        },
        {
         "hoverinfo": "none",
         "mode": "none",
         "opacity": 0.3,
         "showlegend": false,
         "surfaceaxis": 2,
         "surfacecolor": "gray",
         "type": "scatter3d",
         "visible": false,
         "x": [
          6.5,
          6.5,
          0,
          0,
          6.5
         ],
         "y": [
          32.5,
          0,
          0,
          32.5,
          32.5
         ],
         "z": [
          -59.31,
          5.690000000000001,
          31.69,
          -33.31,
          -59.31
         ]
        },
        {
         "hoverinfo": "none",
         "line": {
          "color": "red",
          "width": 5
         },
         "marker": {
          "color": "red",
          "opacity": 1,
          "size": 5
         },
         "mode": "lines+markers",
         "opacity": 1,
         "showlegend": false,
         "surfaceaxis": 2,
         "surfacecolor": "red",
         "type": "scatter3d",
         "visible": false,
         "x": [
          4.577500000000001,
          4.999999999999999,
          5,
          -3.33066907387547e-16,
          0,
          4.577500000000001
         ],
         "y": [
          6.690000000000001,
          5,
          1.110223024625157e-16,
          -2.220446049250313e-16,
          15.845,
          6.690000000000001
         ],
         "z": [
          -3.33066907387547e-16,
          1.69,
          11.69,
          31.69,
          -1.110223024625157e-16,
          -3.33066907387547e-16
         ]
        },
        {
         "hoverinfo": "none",
         "mode": "none",
         "opacity": 0.3,
         "showlegend": false,
         "surfaceaxis": 2,
         "surfacecolor": "gray",
         "type": "scatter3d",
         "visible": false,
         "x": [
          6.5,
          0,
          0,
          6.5,
          6.5
         ],
         "y": [
          32.5,
          32.5,
          0,
          0,
          32.5
         ],
         "z": [
          -48.75,
          -22.75,
          42.25,
          16.25,
          -48.75
         ]
        },
        {
         "hoverinfo": "none",
         "line": {
          "color": "red",
          "width": 5
         },
         "marker": {
          "color": "red",
          "opacity": 1,
          "size": 5
         },
         "mode": "lines+markers",
         "opacity": 1,
         "showlegend": false,
         "surfaceaxis": 2,
         "surfacecolor": "red",
         "type": "scatter3d",
         "visible": false,
         "x": [
          1.9375,
          4.999999999999999,
          5.000000000000001,
          -1.110223024625157e-16,
          1.110223024625157e-16,
          1.9375
         ],
         "y": [
          17.25,
          5.000000000000002,
          1.110223024625157e-16,
          0,
          21.125,
          17.25
         ],
         "z": [
          0,
          12.25,
          22.25,
          42.25000000000001,
          0,
          0
         ]
        },
        {
         "hoverinfo": "none",
         "mode": "none",
         "opacity": 0.3,
         "showlegend": false,
         "surfaceaxis": 2,
         "surfacecolor": "gray",
         "type": "scatter3d",
         "visible": false,
         "x": [
          0,
          6.5,
          6.5,
          0,
          0
         ],
         "y": [
          32.5,
          32.5,
          0,
          0,
          32.5
         ],
         "z": [
          -12.189999999999998,
          -38.19,
          26.810000000000002,
          52.81,
          -12.189999999999998
         ]
        },
        {
         "hoverinfo": "none",
         "line": {
          "color": "red",
          "width": 5
         },
         "marker": {
          "color": "red",
          "opacity": 1,
          "size": 5
         },
         "mode": "lines+markers",
         "opacity": 1,
         "showlegend": false,
         "surfaceaxis": 2,
         "surfacecolor": "red",
         "type": "scatter3d",
         "visible": false,
         "x": [
          5,
          5,
          1.110223024625157e-16,
          -1.110223024625157e-16,
          5
         ],
         "y": [
          5.000000000000002,
          1.110223024625157e-16,
          2.220446049250313e-16,
          25,
          5.000000000000002
         ],
         "z": [
          22.81000000000001,
          32.81,
          52.81,
          2.810000000000003,
          22.81000000000001
         ]
        },
        {
         "hoverinfo": "none",
         "mode": "none",
         "opacity": 0.3,
         "showlegend": false,
         "surfaceaxis": 2,
         "surfacecolor": "gray",
         "type": "scatter3d",
         "visible": false,
         "x": [
          0,
          6.5,
          6.5,
          0,
          0
         ],
         "y": [
          0,
          0,
          32.5,
          32.5,
          0
         ],
         "z": [
          63.38,
          37.38,
          -27.619999999999997,
          -1.6199999999999974,
          63.38
         ]
        },
        {
         "hoverinfo": "none",
         "line": {
          "color": "red",
          "width": 5
         },
         "marker": {
          "color": "red",
          "opacity": 1,
          "size": 5
         },
         "mode": "lines+markers",
         "opacity": 1,
         "showlegend": false,
         "surfaceaxis": 2,
         "surfacecolor": "red",
         "type": "scatter3d",
         "visible": false,
         "x": [
          5,
          5,
          0,
          -1.110223024625157e-16,
          5
         ],
         "y": [
          4.999999999999999,
          2.220446049250313e-16,
          0,
          25,
          4.999999999999999
         ],
         "z": [
          33.38,
          43.38,
          63.38,
          13.38,
          33.38
         ]
        },
        {
         "hoverinfo": "none",
         "mode": "none",
         "opacity": 0.3,
         "showlegend": false,
         "surfaceaxis": 2,
         "surfacecolor": "gray",
         "type": "scatter3d",
         "visible": false,
         "x": [
          6.5,
          6.5,
          0,
          0,
          6.5
         ],
         "y": [
          32.5,
          0,
          0,
          32.5,
          32.5
         ],
         "z": [
          -17.060000000000002,
          47.94,
          73.94,
          8.939999999999998,
          -17.060000000000002
         ]
        },
        {
         "hoverinfo": "none",
         "line": {
          "color": "red",
          "width": 5
         },
         "marker": {
          "color": "red",
          "opacity": 1,
          "size": 5
         },
         "mode": "lines+markers",
         "opacity": 1,
         "showlegend": false,
         "surfaceaxis": 2,
         "surfacecolor": "red",
         "type": "scatter3d",
         "visible": false,
         "x": [
          5,
          5.000000000000001,
          0,
          2.220446049250313e-16,
          5
         ],
         "y": [
          5,
          0,
          -1.110223024625157e-16,
          25,
          5
         ],
         "z": [
          43.94,
          53.93999999999999,
          73.94,
          23.93999999999999,
          43.94
         ]
        },
        {
         "hoverinfo": "none",
         "mode": "none",
         "opacity": 0.3,
         "showlegend": false,
         "surfaceaxis": 2,
         "surfacecolor": "gray",
         "type": "scatter3d",
         "visible": false,
         "x": [
          6.5,
          6.5,
          0,
          0,
          6.5
         ],
         "y": [
          0,
          32.5,
          32.5,
          0,
          0
         ],
         "z": [
          58.5,
          -6.5,
          19.5,
          84.5,
          58.5
         ]
        },
        {
         "hoverinfo": "none",
         "line": {
          "color": "red",
          "width": 5
         },
         "marker": {
          "color": "red",
          "opacity": 1,
          "size": 5
         },
         "mode": "lines+markers",
         "opacity": 1,
         "showlegend": false,
         "surfaceaxis": 2,
         "surfacecolor": "red",
         "type": "scatter3d",
         "visible": false,
         "x": [
          2.374999999999996,
          5.000000000000001,
          4.999999999999999,
          1.110223024625157e-16,
          -1.110223024625157e-16,
          2.374999999999996
         ],
         "y": [
          15.50000000000002,
          4.999999999999999,
          2.220446049250313e-16,
          0,
          20.25000000000001,
          15.50000000000002
         ],
         "z": [
          43.99999999999996,
          54.49999999999999,
          64.49999999999999,
          84.49999999999999,
          43.99999999999997,
          43.99999999999996
         ]
        },
        {
         "hoverinfo": "none",
         "mode": "none",
         "opacity": 0.3,
         "showlegend": false,
         "surfaceaxis": 2,
         "surfacecolor": "gray",
         "type": "scatter3d",
         "visible": false,
         "x": [
          6.5,
          0,
          0,
          6.5,
          6.5
         ],
         "y": [
          32.5,
          32.5,
          0,
          0,
          32.5
         ],
         "z": [
          4.060000000000002,
          30.060000000000002,
          95.06,
          69.06,
          4.060000000000002
         ]
        },
        {
         "hoverinfo": "none",
         "line": {
          "color": "red",
          "width": 5
         },
         "marker": {
          "color": "red",
          "opacity": 1,
          "size": 5
         },
         "mode": "lines+markers",
         "opacity": 1,
         "showlegend": false,
         "surfaceaxis": 2,
         "surfacecolor": "red",
         "type": "scatter3d",
         "visible": false,
         "x": [
          1.110223024625157e-16,
          1.110223024625157e-16,
          5,
          5,
          1.110223024625157e-16
         ],
         "y": [
          14.97,
          2.220446049250313e-16,
          2.220446049250313e-16,
          4.970000000000003,
          14.97
         ],
         "z": [
          65.11999999999999,
          95.05999999999999,
          75.05999999999999,
          65.11999999999998,
          65.11999999999999
         ]
        },
        {
         "hoverinfo": "none",
         "mode": "none",
         "opacity": 0.3,
         "showlegend": false,
         "surfaceaxis": 2,
         "surfacecolor": "gray",
         "type": "scatter3d",
         "visible": false,
         "x": [
          6.5,
          6.5,
          0,
          0,
          6.5
         ],
         "y": [
          0,
          32.5,
          32.5,
          0,
          0
         ],
         "z": [
          79.62,
          14.620000000000005,
          40.620000000000005,
          105.62,
          79.62
         ]
        },
        {
         "hoverinfo": "none",
         "line": {
          "color": "red",
          "width": 5
         },
         "marker": {
          "color": "red",
          "opacity": 1,
          "size": 5
         },
         "mode": "lines+markers",
         "opacity": 1,
         "showlegend": false,
         "surfaceaxis": 2,
         "surfacecolor": "red",
         "type": "scatter3d",
         "visible": false,
         "x": [
          1.110223024625157e-16,
          1.110223024625157e-16,
          4.845000000000001,
          1.110223024625157e-16
         ],
         "y": [
          9.690000000000005,
          1.110223024625157e-16,
          3.33066907387547e-16,
          9.690000000000005
         ],
         "z": [
          86.23999999999998,
          105.62,
          86.24,
          86.23999999999998
         ]
        },
        {
         "hoverinfo": "none",
         "mode": "none",
         "opacity": 0.3,
         "showlegend": false,
         "surfaceaxis": 2,
         "surfacecolor": "gray",
         "type": "scatter3d",
         "visible": false,
         "x": [
          6.5,
          0,
          0,
          6.5,
          6.5
         ],
         "y": [
          0,
          0,
          32.5,
          32.5,
          0
         ],
         "z": [
          90.19,
          116.19,
          51.19,
          25.189999999999998,
          90.19
         ]
        },
        {
         "hoverinfo": "none",
         "line": {
          "color": "red",
          "width": 5
         },
         "marker": {
          "color": "red",
          "opacity": 1,
          "size": 5
         },
         "mode": "lines+markers",
         "opacity": 1,
         "showlegend": false,
         "surfaceaxis": 2,
         "surfacecolor": "red",
         "type": "scatter3d",
         "visible": false,
         "x": [
          0,
          -1.110223024625157e-16,
          2.202500000000005,
          0
         ],
         "y": [
          4.405000000000011,
          0,
          2.220446049250313e-16,
          4.405000000000011
         ],
         "z": [
          107.38,
          116.19,
          107.38,
          107.38
         ]
        },
        {
         "hoverinfo": "none",
         "mode": "none",
         "opacity": 0.3,
         "showlegend": false,
         "surfaceaxis": 2,
         "surfacecolor": "gray",
         "type": "scatter3d",
         "visible": false,
         "x": [
          6.5,
          0,
          0,
          6.5,
          6.5
         ],
         "y": [
          0,
          0,
          32.5,
          32.5,
          0
         ],
         "z": [
          99,
          125,
          60,
          34,
          99
         ]
        },
        {
         "hoverinfo": "none",
         "line": {
          "color": "red",
          "width": 5
         },
         "marker": {
          "color": "red",
          "opacity": 1,
          "size": 5
         },
         "mode": "lines+markers",
         "opacity": 1,
         "showlegend": false,
         "surfaceaxis": 2,
         "surfacecolor": "red",
         "type": "scatter3d",
         "visible": false,
         "x": [
          0,
          0,
          0,
          0
         ],
         "y": [
          0,
          0,
          0,
          0
         ],
         "z": [
          124.99999999999997,
          124.99999999999999,
          125.00000000000004,
          124.99999999999997
         ]
        },
        {
         "hoverinfo": "none",
         "mode": "none",
         "opacity": 0.3,
         "showlegend": false,
         "surfaceaxis": 2,
         "surfacecolor": "gray",
         "type": "scatter3d",
         "visible": false,
         "x": [
          0,
          6.5,
          6.5,
          0,
          0
         ],
         "y": [
          0,
          0,
          32.5,
          32.5,
          0
         ],
         "z": [
          126.75,
          100.75,
          35.75,
          61.75,
          126.75
         ]
        },
        {
         "hoverinfo": "skip",
         "marker": {
          "color": "white",
          "opacity": 1e-7,
          "size": 0
         },
         "mode": "markers",
         "showlegend": false,
         "type": "scatter3d",
         "x": [
          0
         ],
         "y": [
          0
         ],
         "z": [
          0
         ]
        },
        {
         "hoverinfo": "none",
         "mode": "none",
         "opacity": 0.3,
         "showlegend": false,
         "surfaceaxis": 2,
         "surfacecolor": "gray",
         "type": "scatter3d",
         "visible": false,
         "x": [
          6.5,
          6.5,
          0,
          0,
          6.5
         ],
         "y": [
          0,
          32.5,
          32.5,
          0,
          0
         ],
         "z": [
          111.31,
          46.31,
          72.31,
          137.31,
          111.31
         ]
        },
        {
         "hoverinfo": "skip",
         "marker": {
          "color": "white",
          "opacity": 1e-7,
          "size": 0
         },
         "mode": "markers",
         "showlegend": false,
         "type": "scatter3d",
         "x": [
          0
         ],
         "y": [
          0
         ],
         "z": [
          0
         ]
        },
        {
         "hoverinfo": "none",
         "mode": "none",
         "opacity": 0.3,
         "showlegend": false,
         "surfaceaxis": 2,
         "surfacecolor": "gray",
         "type": "scatter3d",
         "visible": false,
         "x": [
          6.5,
          6.5,
          0,
          0,
          6.5
         ],
         "y": [
          0,
          32.5,
          32.5,
          0,
          0
         ],
         "z": [
          121.88,
          56.879999999999995,
          82.88,
          147.88,
          121.88
         ]
        },
        {
         "hoverinfo": "skip",
         "marker": {
          "color": "white",
          "opacity": 1e-7,
          "size": 0
         },
         "mode": "markers",
         "showlegend": false,
         "type": "scatter3d",
         "x": [
          0
         ],
         "y": [
          0
         ],
         "z": [
          0
         ]
        },
        {
         "hoverinfo": "none",
         "mode": "none",
         "opacity": 0.3,
         "showlegend": false,
         "surfaceaxis": 2,
         "surfacecolor": "gray",
         "type": "scatter3d",
         "visible": false,
         "x": [
          6.5,
          6.5,
          0,
          0,
          6.5
         ],
         "y": [
          32.5,
          0,
          0,
          32.5,
          32.5
         ],
         "z": [
          67.44,
          132.44,
          158.44,
          93.44,
          67.44
         ]
        },
        {
         "hoverinfo": "skip",
         "marker": {
          "color": "white",
          "opacity": 1e-7,
          "size": 0
         },
         "mode": "markers",
         "showlegend": false,
         "type": "scatter3d",
         "x": [
          0
         ],
         "y": [
          0
         ],
         "z": [
          0
         ]
        },
        {
         "hoverinfo": "none",
         "mode": "none",
         "opacity": 0.3,
         "showlegend": false,
         "surfaceaxis": 2,
         "surfacecolor": "gray",
         "type": "scatter3d",
         "visible": false,
         "x": [
          6.5,
          6.5,
          0,
          0,
          6.5
         ],
         "y": [
          0,
          32.5,
          32.5,
          0,
          0
         ],
         "z": [
          143,
          78,
          104,
          169,
          143
         ]
        },
        {
         "hoverinfo": "skip",
         "marker": {
          "color": "white",
          "opacity": 1e-7,
          "size": 0
         },
         "mode": "markers",
         "showlegend": false,
         "type": "scatter3d",
         "x": [
          0
         ],
         "y": [
          0
         ],
         "z": [
          0
         ]
        },
        {
         "hoverinfo": "none",
         "mode": "none",
         "opacity": 0.3,
         "showlegend": false,
         "surfaceaxis": 2,
         "surfacecolor": "gray",
         "type": "scatter3d",
         "visible": false,
         "x": [
          6.5,
          6.5,
          0,
          0,
          6.5
         ],
         "y": [
          32.5,
          0,
          0,
          32.5,
          32.5
         ],
         "z": [
          88.56,
          153.56,
          179.56,
          114.56,
          88.56
         ]
        },
        {
         "hoverinfo": "skip",
         "marker": {
          "color": "white",
          "opacity": 1e-7,
          "size": 0
         },
         "mode": "markers",
         "showlegend": false,
         "type": "scatter3d",
         "x": [
          0
         ],
         "y": [
          0
         ],
         "z": [
          0
         ]
        },
        {
         "hoverinfo": "none",
         "mode": "none",
         "opacity": 0.3,
         "showlegend": false,
         "surfaceaxis": 2,
         "surfacecolor": "gray",
         "type": "scatter3d",
         "visible": false,
         "x": [
          6.5,
          6.5,
          0,
          0,
          6.5
         ],
         "y": [
          0,
          32.5,
          32.5,
          0,
          0
         ],
         "z": [
          164.12,
          99.12,
          125.12,
          190.12,
          164.12
         ]
        },
        {
         "hoverinfo": "skip",
         "marker": {
          "color": "white",
          "opacity": 1e-7,
          "size": 0
         },
         "mode": "markers",
         "showlegend": false,
         "type": "scatter3d",
         "x": [
          0
         ],
         "y": [
          0
         ],
         "z": [
          0
         ]
        },
        {
         "hoverinfo": "none",
         "mode": "none",
         "opacity": 0.3,
         "showlegend": false,
         "surfaceaxis": 2,
         "surfacecolor": "gray",
         "type": "scatter3d",
         "visible": false,
         "x": [
          6.5,
          6.5,
          0,
          0,
          6.5
         ],
         "y": [
          0,
          32.5,
          32.5,
          0,
          0
         ],
         "z": [
          174.69,
          109.69,
          135.69,
          200.69,
          174.69
         ]
        },
        {
         "hoverinfo": "skip",
         "marker": {
          "color": "white",
          "opacity": 1e-7,
          "size": 0
         },
         "mode": "markers",
         "showlegend": false,
         "type": "scatter3d",
         "x": [
          0
         ],
         "y": [
          0
         ],
         "z": [
          0
         ]
        },
        {
         "hoverinfo": "none",
         "mode": "none",
         "opacity": 0.3,
         "showlegend": false,
         "surfaceaxis": 2,
         "surfacecolor": "gray",
         "type": "scatter3d",
         "visible": false,
         "x": [
          0,
          6.5,
          6.5,
          0,
          0
         ],
         "y": [
          0,
          0,
          32.5,
          32.5,
          0
         ],
         "z": [
          211.25,
          185.25,
          120.25,
          146.25,
          211.25
         ]
        },
        {
         "hoverinfo": "skip",
         "marker": {
          "color": "white",
          "opacity": 1e-7,
          "size": 0
         },
         "mode": "markers",
         "showlegend": false,
         "type": "scatter3d",
         "x": [
          0
         ],
         "y": [
          0
         ],
         "z": [
          0
         ]
        },
        {
         "hoverinfo": "none",
         "mode": "none",
         "opacity": 0.3,
         "showlegend": false,
         "surfaceaxis": 2,
         "surfacecolor": "gray",
         "type": "scatter3d",
         "visible": false,
         "x": [
          6.5,
          0,
          0,
          6.5,
          6.5
         ],
         "y": [
          0,
          0,
          32.5,
          32.5,
          0
         ],
         "z": [
          195.81,
          221.81,
          156.81,
          130.81,
          195.81
         ]
        },
        {
         "hoverinfo": "skip",
         "marker": {
          "color": "white",
          "opacity": 1e-7,
          "size": 0
         },
         "mode": "markers",
         "showlegend": false,
         "type": "scatter3d",
         "x": [
          0
         ],
         "y": [
          0
         ],
         "z": [
          0
         ]
        },
        {
         "hoverinfo": "none",
         "mode": "none",
         "opacity": 0.3,
         "showlegend": false,
         "surfaceaxis": 2,
         "surfacecolor": "gray",
         "type": "scatter3d",
         "visible": false,
         "x": [
          6.5,
          6.5,
          0,
          0,
          6.5
         ],
         "y": [
          0,
          32.5,
          32.5,
          0,
          0
         ],
         "z": [
          206.38,
          141.38,
          167.38,
          232.38,
          206.38
         ]
        },
        {
         "hoverinfo": "skip",
         "marker": {
          "color": "white",
          "opacity": 1e-7,
          "size": 0
         },
         "mode": "markers",
         "showlegend": false,
         "type": "scatter3d",
         "x": [
          0
         ],
         "y": [
          0
         ],
         "z": [
          0
         ]
        },
        {
         "hoverinfo": "none",
         "mode": "none",
         "opacity": 0.3,
         "showlegend": false,
         "surfaceaxis": 2,
         "surfacecolor": "gray",
         "type": "scatter3d",
         "visible": false,
         "x": [
          6.5,
          6.5,
          0,
          0,
          6.5
         ],
         "y": [
          32.5,
          0,
          0,
          32.5,
          32.5
         ],
         "z": [
          151.94,
          216.94,
          242.94,
          177.94,
          151.94
         ]
        },
        {
         "hoverinfo": "skip",
         "marker": {
          "color": "white",
          "opacity": 1e-7,
          "size": 0
         },
         "mode": "markers",
         "showlegend": false,
         "type": "scatter3d",
         "x": [
          0
         ],
         "y": [
          0
         ],
         "z": [
          0
         ]
        },
        {
         "hoverinfo": "none",
         "mode": "none",
         "opacity": 0.3,
         "showlegend": false,
         "surfaceaxis": 2,
         "surfacecolor": "gray",
         "type": "scatter3d",
         "visible": false,
         "x": [
          6.5,
          6.5,
          0,
          0,
          6.5
         ],
         "y": [
          0,
          32.5,
          32.5,
          0,
          0
         ],
         "z": [
          227.5,
          162.5,
          188.5,
          253.5,
          227.5
         ]
        },
        {
         "hoverinfo": "skip",
         "marker": {
          "color": "white",
          "opacity": 1e-7,
          "size": 0
         },
         "mode": "markers",
         "showlegend": false,
         "type": "scatter3d",
         "x": [
          0
         ],
         "y": [
          0
         ],
         "z": [
          0
         ]
        },
        {
         "hoverinfo": "skip",
         "marker": {
          "color": "red",
          "opacity": 1,
          "size": 5
         },
         "mode": "markers",
         "showlegend": false,
         "type": "scatter3d",
         "x": [
          0
         ],
         "y": [
          0
         ],
         "z": [
          0
         ]
        },
        {
         "hoverinfo": "skip",
         "line": {
          "color": "red",
          "width": 6
         },
         "mode": "lines",
         "opacity": 1,
         "showlegend": false,
         "type": "scatter3d",
         "visible": false,
         "x": [
          0,
          0
         ],
         "y": [
          0,
          0
         ],
         "z": [
          0,
          62.5
         ]
        },
        {
         "hoverinfo": "skip",
         "line": {
          "color": "red",
          "width": 6
         },
         "mode": "lines",
         "opacity": 1,
         "showlegend": false,
         "type": "scatter3d",
         "visible": false,
         "x": [
          0,
          0
         ],
         "y": [
          0,
          0
         ],
         "z": [
          0,
          125
         ]
        },
        {
         "cells": {
          "align": [
           "left",
           "right",
           "left"
          ],
          "fill": {
           "color": "white"
          },
          "font": {
           "color": [
            [
             "black",
             "red",
             "black"
            ],
            [
             "black",
             "black",
             "black"
            ]
           ],
           "size": 14
          },
          "height": 25,
          "line": {
           "color": "white",
           "width": 1
          },
          "values": [
           [
            "max<br>s.t.<br> <br> "
           ],
           [
            " <br>x<sub>4</sub><br>x<sub>5</sub><br>x<sub>6</sub>"
           ],
           [
            "0 + 4x<sub>1</sub> + 2x<sub>2</sub> + 1x<sub>3</sub><br>= 5 - 1x<sub>1</sub> + 0x<sub>2</sub> + 0x<sub>3</sub><br>= 25 - 4x<sub>1</sub> - 1x<sub>2</sub> + 0x<sub>3</sub><br>= 125 - 8x<sub>1</sub> - 4x<sub>2</sub> - 1x<sub>3</sub>"
           ]
          ]
         },
         "columnwidth": [
          0.13333333333333333,
          0.06666666666666667,
          0.8
         ],
         "domain": {
          "x": [
           0.6052631578947368,
           1
          ],
          "y": [
           0,
           1
          ]
         },
         "header": {
          "align": [
           "left",
           "right",
           "left"
          ],
          "fill": {
           "color": "white"
          },
          "font": {
           "color": [
            "red",
            "black"
           ],
           "size": 14
          },
          "height": 25,
          "line": {
           "color": "white",
           "width": 1
          },
          "values": [
           "<b>(0)</b>",
           " ",
           " "
          ]
         },
         "type": "table"
        },
        {
         "cells": {
          "align": [
           "left",
           "right",
           "left"
          ],
          "fill": {
           "color": "white"
          },
          "font": {
           "color": [
            [
             "black",
             "red",
             "black"
            ],
            [
             "black",
             "black",
             "black"
            ]
           ],
           "size": 14
          },
          "height": 25,
          "line": {
           "color": "white",
           "width": 1
          },
          "values": [
           [
            "max<br>s.t.<br> <br> ",
            "<b>(0)</b>",
            "max<br>s.t.<br> <br> "
           ],
           [
            " <br>x<sub>3</sub><br>x<sub>4</sub><br>x<sub>5</sub>",
            " ",
            " <br>x<sub>4</sub><br>x<sub>5</sub><br>x<sub>6</sub>"
           ],
           [
            "125 - 4x<sub>1</sub> - 2x<sub>2</sub> - 1x<sub>6</sub><br>= 125 - 8x<sub>1</sub> - 4x<sub>2</sub> - 1x<sub>6</sub><br>= 5 - 1x<sub>1</sub> + 0x<sub>2</sub> + 0x<sub>6</sub><br>= 25 - 4x<sub>1</sub> - 1x<sub>2</sub> + 0x<sub>6</sub>",
            " ",
            "0 + 4x<sub>1</sub> + 2x<sub>2</sub> + 1x<sub>3</sub><br>= 5 - 1x<sub>1</sub> + 0x<sub>2</sub> + 0x<sub>3</sub><br>= 25 - 4x<sub>1</sub> - 1x<sub>2</sub> + 0x<sub>3</sub><br>= 125 - 8x<sub>1</sub> - 4x<sub>2</sub> - 1x<sub>3</sub>"
           ]
          ]
         },
         "columnwidth": [
          0.13333333333333333,
          0.06666666666666667,
          0.8
         ],
         "domain": {
          "x": [
           0.6052631578947368,
           1
          ],
          "y": [
           0,
           1
          ]
         },
         "header": {
          "align": [
           "left",
           "right",
           "left"
          ],
          "fill": {
           "color": "white"
          },
          "font": {
           "color": [
            "red",
            "black"
           ],
           "size": 14
          },
          "height": 25,
          "line": {
           "color": "white",
           "width": 1
          },
          "values": [
           "<b>(1)</b>",
           " ",
           " "
          ]
         },
         "type": "table",
         "visible": false
        },
        {
         "cells": {
          "align": [
           "left",
           "right",
           "left"
          ],
          "fill": {
           "color": "white"
          },
          "font": {
           "color": [
            [
             "black",
             "red",
             "black"
            ],
            [
             "black",
             "black",
             "black"
            ]
           ],
           "size": 14
          },
          "height": 25,
          "line": {
           "color": "white",
           "width": 1
          },
          "values": [
           [
            "max<br>s.t.<br> <br> "
           ],
           [
            " <br>x<sub>3</sub><br>x<sub>4</sub><br>x<sub>5</sub>"
           ],
           [
            "125 - 4x<sub>1</sub> - 2x<sub>2</sub> - 1x<sub>6</sub><br>= 125 - 8x<sub>1</sub> - 4x<sub>2</sub> - 1x<sub>6</sub><br>= 5 - 1x<sub>1</sub> + 0x<sub>2</sub> + 0x<sub>6</sub><br>= 25 - 4x<sub>1</sub> - 1x<sub>2</sub> + 0x<sub>6</sub>"
           ]
          ]
         },
         "columnwidth": [
          0.13333333333333333,
          0.06666666666666667,
          0.8
         ],
         "domain": {
          "x": [
           0.6052631578947368,
           1
          ],
          "y": [
           0,
           1
          ]
         },
         "header": {
          "align": [
           "left",
           "right",
           "left"
          ],
          "fill": {
           "color": "white"
          },
          "font": {
           "color": [
            "red",
            "black"
           ],
           "size": 14
          },
          "height": 25,
          "line": {
           "color": "white",
           "width": 1
          },
          "values": [
           "<b>(1)</b>",
           " ",
           " "
          ]
         },
         "type": "table",
         "visible": false
        }
       ],
       "layout": {
        "font": {
         "color": "#323232",
         "family": "Arial"
        },
        "height": 500,
        "legend": {
         "font": {
          "size": 13
         },
         "title": {
          "font": {
           "size": 14
          },
          "text": "<b>Constraint(s)</b>"
         },
         "x": 0.39473684210526316,
         "xanchor": "left",
         "y": 1,
         "yanchor": "top"
        },
        "margin": {
         "b": 0,
         "l": 0,
         "r": 0,
         "t": 33
        },
        "paper_bgcolor": "white",
        "plot_bgcolor": "#FAFAFA",
        "scene": {
         "aspectmode": "cube",
         "domain": {
          "x": [
           0,
           0.39473684210526316
          ],
          "y": [
           0,
           1
          ]
         },
         "xaxis": {
          "gridcolor": "#CCCCCC",
          "gridwidth": 1,
          "linecolor": "#4D4D4D",
          "linewidth": 2,
          "range": [
           0,
           6.5
          ],
          "rangemode": "tozero",
          "showspikes": false,
          "tickcolor": "#4D4D4D",
          "ticks": "outside",
          "title": {
           "text": "x<sub>1</sub>"
          }
         },
         "yaxis": {
          "gridcolor": "#CCCCCC",
          "gridwidth": 1,
          "linecolor": "#4D4D4D",
          "linewidth": 2,
          "range": [
           0,
           32.5
          ],
          "rangemode": "tozero",
          "showspikes": false,
          "tickcolor": "#4D4D4D",
          "ticks": "outside",
          "title": {
           "text": "x<sub>2</sub>"
          }
         },
         "zaxis": {
          "gridcolor": "#CCCCCC",
          "gridwidth": 1,
          "linecolor": "#4D4D4D",
          "linewidth": 2,
          "range": [
           0,
           162.5
          ],
          "rangemode": "tozero",
          "showspikes": false,
          "tickcolor": "#4D4D4D",
          "ticks": "outside",
          "title": {
           "text": "x<sub>3</sub>"
          }
         }
        },
        "sliders": [
         {
          "active": 0,
          "currentvalue": {
           "prefix": "Objective Value: "
          },
          "len": 0.4,
          "lenmode": "fraction",
          "pad": {
           "b": 0,
           "l": 0,
           "r": 0,
           "t": 50
          },
          "steps": [
           {
            "args": [
             {
              "visible": [
               null,
               true,
               true,
               true,
               true,
               true,
               true,
               "legendonly",
               "legendonly",
               "legendonly",
               null,
               true,
               true,
               false,
               false,
               false,
               false,
               false,
               false,
               false,
               false,
               false,
               false,
               false,
               false,
               false,
               false,
               false,
               false,
               false,
               false,
               false,
               false,
               false,
               false,
               false,
               false,
               false,
               false,
               false,
               false,
               false,
               false,
               false,
               false,
               false,
               false,
               false,
               false,
               false,
               false,
               false,
               false,
               false,
               false,
               false,
               false,
               false,
               false,
               false,
               false,
               false,
               false,
               null,
               false,
               false,
               null,
               false,
               false
              ]
             }
            ],
            "label": "0.0",
            "method": "update"
           },
           {
            "args": [
             {
              "visible": [
               null,
               true,
               true,
               true,
               true,
               true,
               true,
               "legendonly",
               "legendonly",
               "legendonly",
               null,
               false,
               false,
               true,
               true,
               false,
               false,
               false,
               false,
               false,
               false,
               false,
               false,
               false,
               false,
               false,
               false,
               false,
               false,
               false,
               false,
               false,
               false,
               false,
               false,
               false,
               false,
               false,
               false,
               false,
               false,
               false,
               false,
               false,
               false,
               false,
               false,
               false,
               false,
               false,
               false,
               false,
               false,
               false,
               false,
               false,
               false,
               false,
               false,
               false,
               false,
               false,
               false,
               null,
               false,
               false,
               null,
               false,
               false
              ]
             }
            ],
            "label": "10.56",
            "method": "update"
           },
           {
            "args": [
             {
              "visible": [
               null,
               true,
               true,
               true,
               true,
               true,
               true,
               "legendonly",
               "legendonly",
               "legendonly",
               null,
               false,
               false,
               false,
               false,
               true,
               true,
               false,
               false,
               false,
               false,
               false,
               false,
               false,
               false,
               false,
               false,
               false,
               false,
               false,
               false,
               false,
               false,
               false,
               false,
               false,
               false,
               false,
               false,
               false,
               false,
               false,
               false,
               false,
               false,
               false,
               false,
               false,
               false,
               false,
               false,
               false,
               false,
               false,
               false,
               false,
               false,
               false,
               false,
               false,
               false,
               false,
               false,
               null,
               false,
               false,
               null,
               false,
               false
              ]
             }
            ],
            "label": "21.12",
            "method": "update"
           },
           {
            "args": [
             {
              "visible": [
               null,
               true,
               true,
               true,
               true,
               true,
               true,
               "legendonly",
               "legendonly",
               "legendonly",
               null,
               false,
               false,
               false,
               false,
               false,
               false,
               true,
               true,
               false,
               false,
               false,
               false,
               false,
               false,
               false,
               false,
               false,
               false,
               false,
               false,
               false,
               false,
               false,
               false,
               false,
               false,
               false,
               false,
               false,
               false,
               false,
               false,
               false,
               false,
               false,
               false,
               false,
               false,
               false,
               false,
               false,
               false,
               false,
               false,
               false,
               false,
               false,
               false,
               false,
               false,
               false,
               false,
               null,
               false,
               false,
               null,
               false,
               false
              ]
             }
            ],
            "label": "31.69",
            "method": "update"
           },
           {
            "args": [
             {
              "visible": [
               null,
               true,
               true,
               true,
               true,
               true,
               true,
               "legendonly",
               "legendonly",
               "legendonly",
               null,
               false,
               false,
               false,
               false,
               false,
               false,
               false,
               false,
               true,
               true,
               false,
               false,
               false,
               false,
               false,
               false,
               false,
               false,
               false,
               false,
               false,
               false,
               false,
               false,
               false,
               false,
               false,
               false,
               false,
               false,
               false,
               false,
               false,
               false,
               false,
               false,
               false,
               false,
               false,
               false,
               false,
               false,
               false,
               false,
               false,
               false,
               false,
               false,
               false,
               false,
               false,
               false,
               null,
               false,
               false,
               null,
               false,
               false
              ]
             }
            ],
            "label": "42.25",
            "method": "update"
           },
           {
            "args": [
             {
              "visible": [
               null,
               true,
               true,
               true,
               true,
               true,
               true,
               "legendonly",
               "legendonly",
               "legendonly",
               null,
               false,
               false,
               false,
               false,
               false,
               false,
               false,
               false,
               false,
               false,
               true,
               true,
               false,
               false,
               false,
               false,
               false,
               false,
               false,
               false,
               false,
               false,
               false,
               false,
               false,
               false,
               false,
               false,
               false,
               false,
               false,
               false,
               false,
               false,
               false,
               false,
               false,
               false,
               false,
               false,
               false,
               false,
               false,
               false,
               false,
               false,
               false,
               false,
               false,
               false,
               false,
               false,
               null,
               false,
               false,
               null,
               false,
               false
              ]
             }
            ],
            "label": "52.81",
            "method": "update"
           },
           {
            "args": [
             {
              "visible": [
               null,
               true,
               true,
               true,
               true,
               true,
               true,
               "legendonly",
               "legendonly",
               "legendonly",
               null,
               false,
               false,
               false,
               false,
               false,
               false,
               false,
               false,
               false,
               false,
               false,
               false,
               true,
               true,
               false,
               false,
               false,
               false,
               false,
               false,
               false,
               false,
               false,
               false,
               false,
               false,
               false,
               false,
               false,
               false,
               false,
               false,
               false,
               false,
               false,
               false,
               false,
               false,
               false,
               false,
               false,
               false,
               false,
               false,
               false,
               false,
               false,
               false,
               false,
               false,
               false,
               false,
               null,
               false,
               false,
               null,
               false,
               false
              ]
             }
            ],
            "label": "63.38",
            "method": "update"
           },
           {
            "args": [
             {
              "visible": [
               null,
               true,
               true,
               true,
               true,
               true,
               true,
               "legendonly",
               "legendonly",
               "legendonly",
               null,
               false,
               false,
               false,
               false,
               false,
               false,
               false,
               false,
               false,
               false,
               false,
               false,
               false,
               false,
               true,
               true,
               false,
               false,
               false,
               false,
               false,
               false,
               false,
               false,
               false,
               false,
               false,
               false,
               false,
               false,
               false,
               false,
               false,
               false,
               false,
               false,
               false,
               false,
               false,
               false,
               false,
               false,
               false,
               false,
               false,
               false,
               false,
               false,
               false,
               false,
               false,
               false,
               null,
               false,
               false,
               null,
               false,
               false
              ]
             }
            ],
            "label": "73.94",
            "method": "update"
           },
           {
            "args": [
             {
              "visible": [
               null,
               true,
               true,
               true,
               true,
               true,
               true,
               "legendonly",
               "legendonly",
               "legendonly",
               null,
               false,
               false,
               false,
               false,
               false,
               false,
               false,
               false,
               false,
               false,
               false,
               false,
               false,
               false,
               false,
               false,
               true,
               true,
               false,
               false,
               false,
               false,
               false,
               false,
               false,
               false,
               false,
               false,
               false,
               false,
               false,
               false,
               false,
               false,
               false,
               false,
               false,
               false,
               false,
               false,
               false,
               false,
               false,
               false,
               false,
               false,
               false,
               false,
               false,
               false,
               false,
               false,
               null,
               false,
               false,
               null,
               false,
               false
              ]
             }
            ],
            "label": "84.5",
            "method": "update"
           },
           {
            "args": [
             {
              "visible": [
               null,
               true,
               true,
               true,
               true,
               true,
               true,
               "legendonly",
               "legendonly",
               "legendonly",
               null,
               false,
               false,
               false,
               false,
               false,
               false,
               false,
               false,
               false,
               false,
               false,
               false,
               false,
               false,
               false,
               false,
               false,
               false,
               true,
               true,
               false,
               false,
               false,
               false,
               false,
               false,
               false,
               false,
               false,
               false,
               false,
               false,
               false,
               false,
               false,
               false,
               false,
               false,
               false,
               false,
               false,
               false,
               false,
               false,
               false,
               false,
               false,
               false,
               false,
               false,
               false,
               false,
               null,
               false,
               false,
               null,
               false,
               false
              ]
             }
            ],
            "label": "95.06",
            "method": "update"
           },
           {
            "args": [
             {
              "visible": [
               null,
               true,
               true,
               true,
               true,
               true,
               true,
               "legendonly",
               "legendonly",
               "legendonly",
               null,
               false,
               false,
               false,
               false,
               false,
               false,
               false,
               false,
               false,
               false,
               false,
               false,
               false,
               false,
               false,
               false,
               false,
               false,
               false,
               false,
               true,
               true,
               false,
               false,
               false,
               false,
               false,
               false,
               false,
               false,
               false,
               false,
               false,
               false,
               false,
               false,
               false,
               false,
               false,
               false,
               false,
               false,
               false,
               false,
               false,
               false,
               false,
               false,
               false,
               false,
               false,
               false,
               null,
               false,
               false,
               null,
               false,
               false
              ]
             }
            ],
            "label": "105.62",
            "method": "update"
           },
           {
            "args": [
             {
              "visible": [
               null,
               true,
               true,
               true,
               true,
               true,
               true,
               "legendonly",
               "legendonly",
               "legendonly",
               null,
               false,
               false,
               false,
               false,
               false,
               false,
               false,
               false,
               false,
               false,
               false,
               false,
               false,
               false,
               false,
               false,
               false,
               false,
               false,
               false,
               false,
               false,
               true,
               true,
               false,
               false,
               false,
               false,
               false,
               false,
               false,
               false,
               false,
               false,
               false,
               false,
               false,
               false,
               false,
               false,
               false,
               false,
               false,
               false,
               false,
               false,
               false,
               false,
               false,
               false,
               false,
               false,
               null,
               false,
               false,
               null,
               false,
               false
              ]
             }
            ],
            "label": "116.19",
            "method": "update"
           },
           {
            "args": [
             {
              "visible": [
               null,
               true,
               true,
               true,
               true,
               true,
               true,
               "legendonly",
               "legendonly",
               "legendonly",
               null,
               false,
               false,
               false,
               false,
               false,
               false,
               false,
               false,
               false,
               false,
               false,
               false,
               false,
               false,
               false,
               false,
               false,
               false,
               false,
               false,
               false,
               false,
               false,
               false,
               true,
               true,
               false,
               false,
               false,
               false,
               false,
               false,
               false,
               false,
               false,
               false,
               false,
               false,
               false,
               false,
               false,
               false,
               false,
               false,
               false,
               false,
               false,
               false,
               false,
               false,
               false,
               false,
               null,
               false,
               false,
               null,
               false,
               false
              ]
             }
            ],
            "label": "125.0",
            "method": "update"
           },
           {
            "args": [
             {
              "visible": [
               null,
               true,
               true,
               true,
               true,
               true,
               true,
               "legendonly",
               "legendonly",
               "legendonly",
               null,
               false,
               false,
               false,
               false,
               false,
               false,
               false,
               false,
               false,
               false,
               false,
               false,
               false,
               false,
               false,
               false,
               false,
               false,
               false,
               false,
               false,
               false,
               false,
               false,
               false,
               false,
               true,
               true,
               false,
               false,
               false,
               false,
               false,
               false,
               false,
               false,
               false,
               false,
               false,
               false,
               false,
               false,
               false,
               false,
               false,
               false,
               false,
               false,
               false,
               false,
               false,
               false,
               null,
               false,
               false,
               null,
               false,
               false
              ]
             }
            ],
            "label": "126.75",
            "method": "update"
           },
           {
            "args": [
             {
              "visible": [
               null,
               true,
               true,
               true,
               true,
               true,
               true,
               "legendonly",
               "legendonly",
               "legendonly",
               null,
               false,
               false,
               false,
               false,
               false,
               false,
               false,
               false,
               false,
               false,
               false,
               false,
               false,
               false,
               false,
               false,
               false,
               false,
               false,
               false,
               false,
               false,
               false,
               false,
               false,
               false,
               false,
               false,
               true,
               true,
               false,
               false,
               false,
               false,
               false,
               false,
               false,
               false,
               false,
               false,
               false,
               false,
               false,
               false,
               false,
               false,
               false,
               false,
               false,
               false,
               false,
               false,
               null,
               false,
               false,
               null,
               false,
               false
              ]
             }
            ],
            "label": "137.31",
            "method": "update"
           },
           {
            "args": [
             {
              "visible": [
               null,
               true,
               true,
               true,
               true,
               true,
               true,
               "legendonly",
               "legendonly",
               "legendonly",
               null,
               false,
               false,
               false,
               false,
               false,
               false,
               false,
               false,
               false,
               false,
               false,
               false,
               false,
               false,
               false,
               false,
               false,
               false,
               false,
               false,
               false,
               false,
               false,
               false,
               false,
               false,
               false,
               false,
               false,
               false,
               true,
               true,
               false,
               false,
               false,
               false,
               false,
               false,
               false,
               false,
               false,
               false,
               false,
               false,
               false,
               false,
               false,
               false,
               false,
               false,
               false,
               false,
               null,
               false,
               false,
               null,
               false,
               false
              ]
             }
            ],
            "label": "147.88",
            "method": "update"
           },
           {
            "args": [
             {
              "visible": [
               null,
               true,
               true,
               true,
               true,
               true,
               true,
               "legendonly",
               "legendonly",
               "legendonly",
               null,
               false,
               false,
               false,
               false,
               false,
               false,
               false,
               false,
               false,
               false,
               false,
               false,
               false,
               false,
               false,
               false,
               false,
               false,
               false,
               false,
               false,
               false,
               false,
               false,
               false,
               false,
               false,
               false,
               false,
               false,
               false,
               false,
               true,
               true,
               false,
               false,
               false,
               false,
               false,
               false,
               false,
               false,
               false,
               false,
               false,
               false,
               false,
               false,
               false,
               false,
               false,
               false,
               null,
               false,
               false,
               null,
               false,
               false
              ]
             }
            ],
            "label": "158.44",
            "method": "update"
           },
           {
            "args": [
             {
              "visible": [
               null,
               true,
               true,
               true,
               true,
               true,
               true,
               "legendonly",
               "legendonly",
               "legendonly",
               null,
               false,
               false,
               false,
               false,
               false,
               false,
               false,
               false,
               false,
               false,
               false,
               false,
               false,
               false,
               false,
               false,
               false,
               false,
               false,
               false,
               false,
               false,
               false,
               false,
               false,
               false,
               false,
               false,
               false,
               false,
               false,
               false,
               false,
               false,
               true,
               true,
               false,
               false,
               false,
               false,
               false,
               false,
               false,
               false,
               false,
               false,
               false,
               false,
               false,
               false,
               false,
               false,
               null,
               false,
               false,
               null,
               false,
               false
              ]
             }
            ],
            "label": "169.0",
            "method": "update"
           },
           {
            "args": [
             {
              "visible": [
               null,
               true,
               true,
               true,
               true,
               true,
               true,
               "legendonly",
               "legendonly",
               "legendonly",
               null,
               false,
               false,
               false,
               false,
               false,
               false,
               false,
               false,
               false,
               false,
               false,
               false,
               false,
               false,
               false,
               false,
               false,
               false,
               false,
               false,
               false,
               false,
               false,
               false,
               false,
               false,
               false,
               false,
               false,
               false,
               false,
               false,
               false,
               false,
               false,
               false,
               true,
               true,
               false,
               false,
               false,
               false,
               false,
               false,
               false,
               false,
               false,
               false,
               false,
               false,
               false,
               false,
               null,
               false,
               false,
               null,
               false,
               false
              ]
             }
            ],
            "label": "179.56",
            "method": "update"
           },
           {
            "args": [
             {
              "visible": [
               null,
               true,
               true,
               true,
               true,
               true,
               true,
               "legendonly",
               "legendonly",
               "legendonly",
               null,
               false,
               false,
               false,
               false,
               false,
               false,
               false,
               false,
               false,
               false,
               false,
               false,
               false,
               false,
               false,
               false,
               false,
               false,
               false,
               false,
               false,
               false,
               false,
               false,
               false,
               false,
               false,
               false,
               false,
               false,
               false,
               false,
               false,
               false,
               false,
               false,
               false,
               false,
               true,
               true,
               false,
               false,
               false,
               false,
               false,
               false,
               false,
               false,
               false,
               false,
               false,
               false,
               null,
               false,
               false,
               null,
               false,
               false
              ]
             }
            ],
            "label": "190.12",
            "method": "update"
           },
           {
            "args": [
             {
              "visible": [
               null,
               true,
               true,
               true,
               true,
               true,
               true,
               "legendonly",
               "legendonly",
               "legendonly",
               null,
               false,
               false,
               false,
               false,
               false,
               false,
               false,
               false,
               false,
               false,
               false,
               false,
               false,
               false,
               false,
               false,
               false,
               false,
               false,
               false,
               false,
               false,
               false,
               false,
               false,
               false,
               false,
               false,
               false,
               false,
               false,
               false,
               false,
               false,
               false,
               false,
               false,
               false,
               false,
               false,
               true,
               true,
               false,
               false,
               false,
               false,
               false,
               false,
               false,
               false,
               false,
               false,
               null,
               false,
               false,
               null,
               false,
               false
              ]
             }
            ],
            "label": "200.69",
            "method": "update"
           },
           {
            "args": [
             {
              "visible": [
               null,
               true,
               true,
               true,
               true,
               true,
               true,
               "legendonly",
               "legendonly",
               "legendonly",
               null,
               false,
               false,
               false,
               false,
               false,
               false,
               false,
               false,
               false,
               false,
               false,
               false,
               false,
               false,
               false,
               false,
               false,
               false,
               false,
               false,
               false,
               false,
               false,
               false,
               false,
               false,
               false,
               false,
               false,
               false,
               false,
               false,
               false,
               false,
               false,
               false,
               false,
               false,
               false,
               false,
               false,
               false,
               true,
               true,
               false,
               false,
               false,
               false,
               false,
               false,
               false,
               false,
               null,
               false,
               false,
               null,
               false,
               false
              ]
             }
            ],
            "label": "211.25",
            "method": "update"
           },
           {
            "args": [
             {
              "visible": [
               null,
               true,
               true,
               true,
               true,
               true,
               true,
               "legendonly",
               "legendonly",
               "legendonly",
               null,
               false,
               false,
               false,
               false,
               false,
               false,
               false,
               false,
               false,
               false,
               false,
               false,
               false,
               false,
               false,
               false,
               false,
               false,
               false,
               false,
               false,
               false,
               false,
               false,
               false,
               false,
               false,
               false,
               false,
               false,
               false,
               false,
               false,
               false,
               false,
               false,
               false,
               false,
               false,
               false,
               false,
               false,
               false,
               false,
               true,
               true,
               false,
               false,
               false,
               false,
               false,
               false,
               null,
               false,
               false,
               null,
               false,
               false
              ]
             }
            ],
            "label": "221.81",
            "method": "update"
           },
           {
            "args": [
             {
              "visible": [
               null,
               true,
               true,
               true,
               true,
               true,
               true,
               "legendonly",
               "legendonly",
               "legendonly",
               null,
               false,
               false,
               false,
               false,
               false,
               false,
               false,
               false,
               false,
               false,
               false,
               false,
               false,
               false,
               false,
               false,
               false,
               false,
               false,
               false,
               false,
               false,
               false,
               false,
               false,
               false,
               false,
               false,
               false,
               false,
               false,
               false,
               false,
               false,
               false,
               false,
               false,
               false,
               false,
               false,
               false,
               false,
               false,
               false,
               false,
               false,
               true,
               true,
               false,
               false,
               false,
               false,
               null,
               false,
               false,
               null,
               false,
               false
              ]
             }
            ],
            "label": "232.38",
            "method": "update"
           },
           {
            "args": [
             {
              "visible": [
               null,
               true,
               true,
               true,
               true,
               true,
               true,
               "legendonly",
               "legendonly",
               "legendonly",
               null,
               false,
               false,
               false,
               false,
               false,
               false,
               false,
               false,
               false,
               false,
               false,
               false,
               false,
               false,
               false,
               false,
               false,
               false,
               false,
               false,
               false,
               false,
               false,
               false,
               false,
               false,
               false,
               false,
               false,
               false,
               false,
               false,
               false,
               false,
               false,
               false,
               false,
               false,
               false,
               false,
               false,
               false,
               false,
               false,
               false,
               false,
               false,
               false,
               true,
               true,
               false,
               false,
               null,
               false,
               false,
               null,
               false,
               false
              ]
             }
            ],
            "label": "242.94",
            "method": "update"
           },
           {
            "args": [
             {
              "visible": [
               null,
               true,
               true,
               true,
               true,
               true,
               true,
               "legendonly",
               "legendonly",
               "legendonly",
               null,
               false,
               false,
               false,
               false,
               false,
               false,
               false,
               false,
               false,
               false,
               false,
               false,
               false,
               false,
               false,
               false,
               false,
               false,
               false,
               false,
               false,
               false,
               false,
               false,
               false,
               false,
               false,
               false,
               false,
               false,
               false,
               false,
               false,
               false,
               false,
               false,
               false,
               false,
               false,
               false,
               false,
               false,
               false,
               false,
               false,
               false,
               false,
               false,
               false,
               false,
               true,
               true,
               null,
               false,
               false,
               null,
               false,
               false
              ]
             }
            ],
            "label": "253.5",
            "method": "update"
           }
          ],
          "tickcolor": "white",
          "ticklen": 0,
          "x": 0.6052631578947368,
          "xanchor": "left",
          "y": 0.01,
          "yanchor": "bottom"
         },
         {
          "active": 0,
          "currentvalue": {
           "prefix": "Iteration: "
          },
          "len": 0.4,
          "lenmode": "fraction",
          "pad": {
           "b": 0,
           "l": 0,
           "r": 0,
           "t": 0
          },
          "steps": [
           {
            "args": [
             {
              "visible": [
               null,
               true,
               true,
               true,
               true,
               true,
               true,
               "legendonly",
               "legendonly",
               "legendonly",
               null,
               false,
               false,
               false,
               false,
               false,
               false,
               false,
               false,
               false,
               false,
               false,
               false,
               false,
               false,
               false,
               false,
               false,
               false,
               false,
               false,
               false,
               false,
               false,
               false,
               false,
               false,
               false,
               null,
               false,
               null,
               false,
               null,
               false,
               null,
               false,
               null,
               false,
               null,
               false,
               null,
               false,
               null,
               false,
               null,
               false,
               null,
               false,
               null,
               false,
               null,
               false,
               null,
               null,
               false,
               false,
               true,
               false,
               false
              ]
             }
            ],
            "label": "0",
            "method": "update"
           },
           {
            "args": [
             {
              "visible": [
               null,
               true,
               true,
               true,
               true,
               true,
               true,
               "legendonly",
               "legendonly",
               "legendonly",
               null,
               false,
               false,
               false,
               false,
               false,
               false,
               false,
               false,
               false,
               false,
               false,
               false,
               false,
               false,
               false,
               false,
               false,
               false,
               false,
               false,
               false,
               false,
               false,
               false,
               false,
               false,
               false,
               null,
               false,
               null,
               false,
               null,
               false,
               null,
               false,
               null,
               false,
               null,
               false,
               null,
               false,
               null,
               false,
               null,
               false,
               null,
               false,
               null,
               false,
               null,
               false,
               null,
               null,
               true,
               false,
               false,
               true,
               false
              ]
             }
            ],
            "label": "",
            "method": "update"
           },
           {
            "args": [
             {
              "visible": [
               null,
               true,
               true,
               true,
               true,
               true,
               true,
               "legendonly",
               "legendonly",
               "legendonly",
               null,
               false,
               false,
               false,
               false,
               false,
               false,
               false,
               false,
               false,
               false,
               false,
               false,
               false,
               false,
               false,
               false,
               false,
               false,
               false,
               false,
               false,
               false,
               false,
               false,
               false,
               false,
               false,
               null,
               false,
               null,
               false,
               null,
               false,
               null,
               false,
               null,
               false,
               null,
               false,
               null,
               false,
               null,
               false,
               null,
               false,
               null,
               false,
               null,
               false,
               null,
               false,
               null,
               null,
               true,
               true,
               false,
               false,
               true
              ]
             }
            ],
            "label": "1",
            "method": "update"
           }
          ],
          "tickcolor": "white",
          "ticklen": 0,
          "x": 0.6052631578947368,
          "xanchor": "left",
          "y": 0.17,
          "yanchor": "bottom"
         }
        ],
        "template": {
         "data": {
          "bar": [
           {
            "error_x": {
             "color": "#2a3f5f"
            },
            "error_y": {
             "color": "#2a3f5f"
            },
            "marker": {
             "line": {
              "color": "#E5ECF6",
              "width": 0.5
             },
             "pattern": {
              "fillmode": "overlay",
              "size": 10,
              "solidity": 0.2
             }
            },
            "type": "bar"
           }
          ],
          "barpolar": [
           {
            "marker": {
             "line": {
              "color": "#E5ECF6",
              "width": 0.5
             },
             "pattern": {
              "fillmode": "overlay",
              "size": 10,
              "solidity": 0.2
             }
            },
            "type": "barpolar"
           }
          ],
          "carpet": [
           {
            "aaxis": {
             "endlinecolor": "#2a3f5f",
             "gridcolor": "white",
             "linecolor": "white",
             "minorgridcolor": "white",
             "startlinecolor": "#2a3f5f"
            },
            "baxis": {
             "endlinecolor": "#2a3f5f",
             "gridcolor": "white",
             "linecolor": "white",
             "minorgridcolor": "white",
             "startlinecolor": "#2a3f5f"
            },
            "type": "carpet"
           }
          ],
          "choropleth": [
           {
            "colorbar": {
             "outlinewidth": 0,
             "ticks": ""
            },
            "type": "choropleth"
           }
          ],
          "contour": [
           {
            "colorbar": {
             "outlinewidth": 0,
             "ticks": ""
            },
            "colorscale": [
             [
              0,
              "#0d0887"
             ],
             [
              0.1111111111111111,
              "#46039f"
             ],
             [
              0.2222222222222222,
              "#7201a8"
             ],
             [
              0.3333333333333333,
              "#9c179e"
             ],
             [
              0.4444444444444444,
              "#bd3786"
             ],
             [
              0.5555555555555556,
              "#d8576b"
             ],
             [
              0.6666666666666666,
              "#ed7953"
             ],
             [
              0.7777777777777778,
              "#fb9f3a"
             ],
             [
              0.8888888888888888,
              "#fdca26"
             ],
             [
              1,
              "#f0f921"
             ]
            ],
            "type": "contour"
           }
          ],
          "contourcarpet": [
           {
            "colorbar": {
             "outlinewidth": 0,
             "ticks": ""
            },
            "type": "contourcarpet"
           }
          ],
          "heatmap": [
           {
            "colorbar": {
             "outlinewidth": 0,
             "ticks": ""
            },
            "colorscale": [
             [
              0,
              "#0d0887"
             ],
             [
              0.1111111111111111,
              "#46039f"
             ],
             [
              0.2222222222222222,
              "#7201a8"
             ],
             [
              0.3333333333333333,
              "#9c179e"
             ],
             [
              0.4444444444444444,
              "#bd3786"
             ],
             [
              0.5555555555555556,
              "#d8576b"
             ],
             [
              0.6666666666666666,
              "#ed7953"
             ],
             [
              0.7777777777777778,
              "#fb9f3a"
             ],
             [
              0.8888888888888888,
              "#fdca26"
             ],
             [
              1,
              "#f0f921"
             ]
            ],
            "type": "heatmap"
           }
          ],
          "heatmapgl": [
           {
            "colorbar": {
             "outlinewidth": 0,
             "ticks": ""
            },
            "colorscale": [
             [
              0,
              "#0d0887"
             ],
             [
              0.1111111111111111,
              "#46039f"
             ],
             [
              0.2222222222222222,
              "#7201a8"
             ],
             [
              0.3333333333333333,
              "#9c179e"
             ],
             [
              0.4444444444444444,
              "#bd3786"
             ],
             [
              0.5555555555555556,
              "#d8576b"
             ],
             [
              0.6666666666666666,
              "#ed7953"
             ],
             [
              0.7777777777777778,
              "#fb9f3a"
             ],
             [
              0.8888888888888888,
              "#fdca26"
             ],
             [
              1,
              "#f0f921"
             ]
            ],
            "type": "heatmapgl"
           }
          ],
          "histogram": [
           {
            "marker": {
             "pattern": {
              "fillmode": "overlay",
              "size": 10,
              "solidity": 0.2
             }
            },
            "type": "histogram"
           }
          ],
          "histogram2d": [
           {
            "colorbar": {
             "outlinewidth": 0,
             "ticks": ""
            },
            "colorscale": [
             [
              0,
              "#0d0887"
             ],
             [
              0.1111111111111111,
              "#46039f"
             ],
             [
              0.2222222222222222,
              "#7201a8"
             ],
             [
              0.3333333333333333,
              "#9c179e"
             ],
             [
              0.4444444444444444,
              "#bd3786"
             ],
             [
              0.5555555555555556,
              "#d8576b"
             ],
             [
              0.6666666666666666,
              "#ed7953"
             ],
             [
              0.7777777777777778,
              "#fb9f3a"
             ],
             [
              0.8888888888888888,
              "#fdca26"
             ],
             [
              1,
              "#f0f921"
             ]
            ],
            "type": "histogram2d"
           }
          ],
          "histogram2dcontour": [
           {
            "colorbar": {
             "outlinewidth": 0,
             "ticks": ""
            },
            "colorscale": [
             [
              0,
              "#0d0887"
             ],
             [
              0.1111111111111111,
              "#46039f"
             ],
             [
              0.2222222222222222,
              "#7201a8"
             ],
             [
              0.3333333333333333,
              "#9c179e"
             ],
             [
              0.4444444444444444,
              "#bd3786"
             ],
             [
              0.5555555555555556,
              "#d8576b"
             ],
             [
              0.6666666666666666,
              "#ed7953"
             ],
             [
              0.7777777777777778,
              "#fb9f3a"
             ],
             [
              0.8888888888888888,
              "#fdca26"
             ],
             [
              1,
              "#f0f921"
             ]
            ],
            "type": "histogram2dcontour"
           }
          ],
          "mesh3d": [
           {
            "colorbar": {
             "outlinewidth": 0,
             "ticks": ""
            },
            "type": "mesh3d"
           }
          ],
          "parcoords": [
           {
            "line": {
             "colorbar": {
              "outlinewidth": 0,
              "ticks": ""
             }
            },
            "type": "parcoords"
           }
          ],
          "pie": [
           {
            "automargin": true,
            "type": "pie"
           }
          ],
          "scatter": [
           {
            "fillpattern": {
             "fillmode": "overlay",
             "size": 10,
             "solidity": 0.2
            },
            "type": "scatter"
           }
          ],
          "scatter3d": [
           {
            "line": {
             "colorbar": {
              "outlinewidth": 0,
              "ticks": ""
             }
            },
            "marker": {
             "colorbar": {
              "outlinewidth": 0,
              "ticks": ""
             }
            },
            "type": "scatter3d"
           }
          ],
          "scattercarpet": [
           {
            "marker": {
             "colorbar": {
              "outlinewidth": 0,
              "ticks": ""
             }
            },
            "type": "scattercarpet"
           }
          ],
          "scattergeo": [
           {
            "marker": {
             "colorbar": {
              "outlinewidth": 0,
              "ticks": ""
             }
            },
            "type": "scattergeo"
           }
          ],
          "scattergl": [
           {
            "marker": {
             "colorbar": {
              "outlinewidth": 0,
              "ticks": ""
             }
            },
            "type": "scattergl"
           }
          ],
          "scattermapbox": [
           {
            "marker": {
             "colorbar": {
              "outlinewidth": 0,
              "ticks": ""
             }
            },
            "type": "scattermapbox"
           }
          ],
          "scatterpolar": [
           {
            "marker": {
             "colorbar": {
              "outlinewidth": 0,
              "ticks": ""
             }
            },
            "type": "scatterpolar"
           }
          ],
          "scatterpolargl": [
           {
            "marker": {
             "colorbar": {
              "outlinewidth": 0,
              "ticks": ""
             }
            },
            "type": "scatterpolargl"
           }
          ],
          "scatterternary": [
           {
            "marker": {
             "colorbar": {
              "outlinewidth": 0,
              "ticks": ""
             }
            },
            "type": "scatterternary"
           }
          ],
          "surface": [
           {
            "colorbar": {
             "outlinewidth": 0,
             "ticks": ""
            },
            "colorscale": [
             [
              0,
              "#0d0887"
             ],
             [
              0.1111111111111111,
              "#46039f"
             ],
             [
              0.2222222222222222,
              "#7201a8"
             ],
             [
              0.3333333333333333,
              "#9c179e"
             ],
             [
              0.4444444444444444,
              "#bd3786"
             ],
             [
              0.5555555555555556,
              "#d8576b"
             ],
             [
              0.6666666666666666,
              "#ed7953"
             ],
             [
              0.7777777777777778,
              "#fb9f3a"
             ],
             [
              0.8888888888888888,
              "#fdca26"
             ],
             [
              1,
              "#f0f921"
             ]
            ],
            "type": "surface"
           }
          ],
          "table": [
           {
            "cells": {
             "fill": {
              "color": "#EBF0F8"
             },
             "line": {
              "color": "white"
             }
            },
            "header": {
             "fill": {
              "color": "#C8D4E3"
             },
             "line": {
              "color": "white"
             }
            },
            "type": "table"
           }
          ]
         },
         "layout": {
          "annotationdefaults": {
           "arrowcolor": "#2a3f5f",
           "arrowhead": 0,
           "arrowwidth": 1
          },
          "autotypenumbers": "strict",
          "coloraxis": {
           "colorbar": {
            "outlinewidth": 0,
            "ticks": ""
           }
          },
          "colorscale": {
           "diverging": [
            [
             0,
             "#8e0152"
            ],
            [
             0.1,
             "#c51b7d"
            ],
            [
             0.2,
             "#de77ae"
            ],
            [
             0.3,
             "#f1b6da"
            ],
            [
             0.4,
             "#fde0ef"
            ],
            [
             0.5,
             "#f7f7f7"
            ],
            [
             0.6,
             "#e6f5d0"
            ],
            [
             0.7,
             "#b8e186"
            ],
            [
             0.8,
             "#7fbc41"
            ],
            [
             0.9,
             "#4d9221"
            ],
            [
             1,
             "#276419"
            ]
           ],
           "sequential": [
            [
             0,
             "#0d0887"
            ],
            [
             0.1111111111111111,
             "#46039f"
            ],
            [
             0.2222222222222222,
             "#7201a8"
            ],
            [
             0.3333333333333333,
             "#9c179e"
            ],
            [
             0.4444444444444444,
             "#bd3786"
            ],
            [
             0.5555555555555556,
             "#d8576b"
            ],
            [
             0.6666666666666666,
             "#ed7953"
            ],
            [
             0.7777777777777778,
             "#fb9f3a"
            ],
            [
             0.8888888888888888,
             "#fdca26"
            ],
            [
             1,
             "#f0f921"
            ]
           ],
           "sequentialminus": [
            [
             0,
             "#0d0887"
            ],
            [
             0.1111111111111111,
             "#46039f"
            ],
            [
             0.2222222222222222,
             "#7201a8"
            ],
            [
             0.3333333333333333,
             "#9c179e"
            ],
            [
             0.4444444444444444,
             "#bd3786"
            ],
            [
             0.5555555555555556,
             "#d8576b"
            ],
            [
             0.6666666666666666,
             "#ed7953"
            ],
            [
             0.7777777777777778,
             "#fb9f3a"
            ],
            [
             0.8888888888888888,
             "#fdca26"
            ],
            [
             1,
             "#f0f921"
            ]
           ]
          },
          "colorway": [
           "#636efa",
           "#EF553B",
           "#00cc96",
           "#ab63fa",
           "#FFA15A",
           "#19d3f3",
           "#FF6692",
           "#B6E880",
           "#FF97FF",
           "#FECB52"
          ],
          "font": {
           "color": "#2a3f5f"
          },
          "geo": {
           "bgcolor": "white",
           "lakecolor": "white",
           "landcolor": "#E5ECF6",
           "showlakes": true,
           "showland": true,
           "subunitcolor": "white"
          },
          "hoverlabel": {
           "align": "left"
          },
          "hovermode": "closest",
          "mapbox": {
           "style": "light"
          },
          "paper_bgcolor": "white",
          "plot_bgcolor": "#E5ECF6",
          "polar": {
           "angularaxis": {
            "gridcolor": "white",
            "linecolor": "white",
            "ticks": ""
           },
           "bgcolor": "#E5ECF6",
           "radialaxis": {
            "gridcolor": "white",
            "linecolor": "white",
            "ticks": ""
           }
          },
          "scene": {
           "xaxis": {
            "backgroundcolor": "#E5ECF6",
            "gridcolor": "white",
            "gridwidth": 2,
            "linecolor": "white",
            "showbackground": true,
            "ticks": "",
            "zerolinecolor": "white"
           },
           "yaxis": {
            "backgroundcolor": "#E5ECF6",
            "gridcolor": "white",
            "gridwidth": 2,
            "linecolor": "white",
            "showbackground": true,
            "ticks": "",
            "zerolinecolor": "white"
           },
           "zaxis": {
            "backgroundcolor": "#E5ECF6",
            "gridcolor": "white",
            "gridwidth": 2,
            "linecolor": "white",
            "showbackground": true,
            "ticks": "",
            "zerolinecolor": "white"
           }
          },
          "shapedefaults": {
           "line": {
            "color": "#2a3f5f"
           }
          },
          "ternary": {
           "aaxis": {
            "gridcolor": "white",
            "linecolor": "white",
            "ticks": ""
           },
           "baxis": {
            "gridcolor": "white",
            "linecolor": "white",
            "ticks": ""
           },
           "bgcolor": "#E5ECF6",
           "caxis": {
            "gridcolor": "white",
            "linecolor": "white",
            "ticks": ""
           }
          },
          "title": {
           "x": 0.05
          },
          "xaxis": {
           "automargin": true,
           "gridcolor": "white",
           "linecolor": "white",
           "ticks": "",
           "title": {
            "standoff": 15
           },
           "zerolinecolor": "white",
           "zerolinewidth": 2
          },
          "yaxis": {
           "automargin": true,
           "gridcolor": "white",
           "linecolor": "white",
           "ticks": "",
           "title": {
            "standoff": 15
           },
           "zerolinecolor": "white",
           "zerolinewidth": 2
          }
         }
        },
        "title": {
         "font": {
          "color": "#00285F",
          "size": 18
         },
         "text": "<b>Geometric Interpretation of LPs</b>",
         "x": 0,
         "xanchor": "left",
         "y": 0.99,
         "yanchor": "top"
        },
        "width": 950,
        "xaxis": {
         "domain": [
          0,
          0.39473684210526316
         ],
         "gridcolor": "#CCCCCC",
         "gridwidth": 1,
         "linecolor": "#4D4D4D",
         "linewidth": 2,
         "rangemode": "tozero",
         "showspikes": false,
         "tickcolor": "#4D4D4D",
         "ticks": "outside",
         "title": {
          "text": "x<sub>1</sub>"
         }
        },
        "yaxis": {
         "domain": [
          0,
          1
         ],
         "gridcolor": "#CCCCCC",
         "gridwidth": 1,
         "linecolor": "#4D4D4D",
         "linewidth": 2,
         "rangemode": "tozero",
         "showspikes": false,
         "tickcolor": "#4D4D4D",
         "ticks": "outside",
         "title": {
          "text": "x<sub>2</sub>"
         }
        }
       }
      }
     },
     "metadata": {},
     "output_type": "display_data"
    }
   ],
   "source": [
    "from gilp import examples as ex\n",
    "\n",
    "x = np.array([[0],[0],[0],[5],[25],[125]])\n",
    "simplex_visual(ex.KLEE_MINTY_3D_LP, initial_solution=x, rule='greatest_ascent').show()"
   ]
  },
  {
   "cell_type": "code",
   "execution_count": 17,
   "id": "eef6e7e8",
   "metadata": {},
   "outputs": [
    {
     "data": {
      "application/vnd.plotly.v1+json": {
       "config": {
        "plotlyServerURL": "https://plot.ly"
       },
       "data": [
        {
         "hoverinfo": "skip",
         "marker": {
          "color": "white",
          "opacity": 1e-7,
          "size": 0
         },
         "mode": "markers",
         "showlegend": false,
         "type": "scatter3d",
         "x": [
          6.5
         ],
         "y": [
          32.5
         ],
         "z": [
          162.5
         ]
        },
        {
         "hoverinfo": "none",
         "line": {
          "color": "#173D90",
          "width": 5
         },
         "mode": "lines",
         "opacity": 0.2,
         "showlegend": false,
         "surfaceaxis": 0,
         "surfacecolor": "#1469FE",
         "type": "scatter3d",
         "visible": true,
         "x": [
          5,
          5,
          5,
          5,
          5
         ],
         "y": [
          5,
          5,
          0,
          0,
          5
         ],
         "z": [
          65,
          0,
          0,
          85,
          65
         ]
        },
        {
         "hoverinfo": "none",
         "line": {
          "color": "#173D90",
          "width": 5
         },
         "mode": "lines",
         "opacity": 0.2,
         "showlegend": false,
         "surfaceaxis": 1,
         "surfacecolor": "#1469FE",
         "type": "scatter3d",
         "visible": true,
         "x": [
          5,
          5,
          0,
          0,
          5
         ],
         "y": [
          5,
          5,
          25,
          25,
          5
         ],
         "z": [
          65,
          0,
          0,
          25,
          65
         ]
        },
        {
         "hoverinfo": "none",
         "line": {
          "color": "#173D90",
          "width": 5
         },
         "mode": "lines",
         "opacity": 0.2,
         "showlegend": false,
         "surfaceaxis": 2,
         "surfacecolor": "#1469FE",
         "type": "scatter3d",
         "visible": true,
         "x": [
          5,
          5,
          0,
          0,
          5
         ],
         "y": [
          5,
          0,
          0,
          25,
          5
         ],
         "z": [
          65,
          85,
          125,
          25,
          65
         ]
        },
        {
         "hoverinfo": "none",
         "line": {
          "color": "#173D90",
          "width": 5
         },
         "mode": "lines",
         "opacity": 0.2,
         "showlegend": false,
         "surfaceaxis": 0,
         "surfacecolor": "#1469FE",
         "type": "scatter3d",
         "visible": true,
         "x": [
          0,
          0,
          0,
          0,
          0
         ],
         "y": [
          25,
          25,
          0,
          0,
          25
         ],
         "z": [
          25,
          0,
          0,
          125,
          25
         ]
        },
        {
         "hoverinfo": "none",
         "line": {
          "color": "#173D90",
          "width": 5
         },
         "mode": "lines",
         "opacity": 0.2,
         "showlegend": false,
         "surfaceaxis": 1,
         "surfacecolor": "#1469FE",
         "type": "scatter3d",
         "visible": true,
         "x": [
          0,
          0,
          5,
          5,
          0
         ],
         "y": [
          0,
          0,
          0,
          0,
          0
         ],
         "z": [
          125,
          0,
          0,
          85,
          125
         ]
        },
        {
         "hoverinfo": "none",
         "line": {
          "color": "#173D90",
          "width": 5
         },
         "mode": "lines",
         "opacity": 0.2,
         "showlegend": false,
         "surfaceaxis": 2,
         "surfacecolor": "#1469FE",
         "type": "scatter3d",
         "visible": true,
         "x": [
          5,
          5,
          0,
          0,
          5
         ],
         "y": [
          5,
          0,
          0,
          25,
          5
         ],
         "z": [
          0,
          0,
          0,
          0,
          0
         ]
        },
        {
         "hoverinfo": "none",
         "mode": "none",
         "name": "(4) 1x<sub>1</sub> + 0x<sub>2</sub> + 0x<sub>3</sub> ≤ 5",
         "opacity": 0.5,
         "showlegend": true,
         "surfaceaxis": 0,
         "surfacecolor": "gray",
         "type": "scatter3d",
         "visible": "legendonly",
         "x": [
          5,
          5,
          5,
          5,
          5
         ],
         "y": [
          0,
          32.5,
          32.5,
          0,
          0
         ],
         "z": [
          162.5,
          162.5,
          0,
          0,
          162.5
         ]
        },
        {
         "hoverinfo": "none",
         "mode": "none",
         "name": "(5) 4x<sub>1</sub> + 1x<sub>2</sub> + 0x<sub>3</sub> ≤ 25",
         "opacity": 0.5,
         "showlegend": true,
         "surfaceaxis": 1,
         "surfacecolor": "gray",
         "type": "scatter3d",
         "visible": "legendonly",
         "x": [
          6.5,
          0,
          0,
          6.5,
          6.5
         ],
         "y": [
          -1,
          25,
          25,
          -1,
          -1
         ],
         "z": [
          162.5,
          162.5,
          0,
          0,
          162.5
         ]
        },
        {
         "hoverinfo": "none",
         "mode": "none",
         "name": "(6) 8x<sub>1</sub> + 4x<sub>2</sub> + 1x<sub>3</sub> ≤ 125",
         "opacity": 0.5,
         "showlegend": true,
         "surfaceaxis": 2,
         "surfacecolor": "gray",
         "type": "scatter3d",
         "visible": "legendonly",
         "x": [
          6.5,
          6.5,
          0,
          0,
          6.5
         ],
         "y": [
          32.5,
          0,
          0,
          32.5,
          32.5
         ],
         "z": [
          -57,
          73,
          125,
          -5,
          -57
         ]
        },
        {
         "hoverinfo": "text",
         "hoverlabel": {
          "bgcolor": "#FAFAFA",
          "bordercolor": "#323232",
          "font": {
           "color": "#323232",
           "family": "Arial"
          }
         },
         "marker": {
          "color": "gray",
          "opacity": 1e-7,
          "size": 20
         },
         "mode": "markers",
         "showlegend": false,
         "text": [
          "<b>BFS</b>: (0, 0, 125, 5, 25, 0)<br><b>B</b>: (1, 2, 3, 4, 5)<br><b>Obj</b>: 125",
          "<b>BFS</b>: (0, 0, 0, 5, 25, 125)<br><b>B</b>: (4, 5, 6)<br><b>Obj</b>: 0",
          "<b>BFS</b>: (0, 25, 25, 5, 0, 0)<br><b>B</b>: (1, 2, 3, 4)<br><b>Obj</b>: 75",
          "<b>BFS</b>: (0, 25, 0, 5, 0, 25)<br><b>B</b>: (1, 2, 3, 4, 5, 6)<br><b>Obj</b>: 50",
          "<b>BFS</b>: (5, 0, 0, 0, 5, 85)<br><b>B</b>: (1, 5, 6)<br><b>Obj</b>: 20",
          "<b>BFS</b>: (5, 0, 85, 0, 5, 0)<br><b>B</b>: (1, 3, 5)<br><b>Obj</b>: 105",
          "<b>BFS</b>: (5, 5, 0, 0, 0, 65)<br><b>B</b>: (1, 2, 6)<br><b>Obj</b>: 30",
          "<b>BFS</b>: (5, 5, 65, 0, 0, 0)<br><b>B</b>: (1, 2, 3)<br><b>Obj</b>: 95"
         ],
         "type": "scatter3d",
         "x": [
          4.440892098500626e-16,
          0,
          4.440892098500626e-16,
          1.332267629550188e-15,
          5,
          5,
          5,
          5
         ],
         "y": [
          4.440892098500626e-16,
          0,
          25,
          24.99999999999999,
          0,
          0,
          5,
          5
         ],
         "z": [
          125,
          0,
          25,
          7.105427357601002e-15,
          0,
          85,
          0,
          65
         ]
        },
        {
         "hoverinfo": "none",
         "mode": "none",
         "opacity": 0.3,
         "showlegend": false,
         "surfaceaxis": 2,
         "surfacecolor": "gray",
         "type": "scatter3d",
         "visible": false,
         "x": [
          0,
          6.5,
          6.5,
          0,
          0
         ],
         "y": [
          0,
          0,
          32.5,
          32.5,
          0
         ],
         "z": [
          0,
          -26,
          -91,
          -65,
          0
         ]
        },
        {
         "hoverinfo": "none",
         "line": {
          "color": "red",
          "width": 5
         },
         "marker": {
          "color": "red",
          "opacity": 1,
          "size": 5
         },
         "mode": "lines+markers",
         "opacity": 1,
         "showlegend": false,
         "surfaceaxis": 2,
         "surfacecolor": "red",
         "type": "scatter3d",
         "visible": false,
         "x": [
          0,
          0,
          0,
          0
         ],
         "y": [
          0,
          0,
          0,
          0
         ],
         "z": [
          0,
          0,
          0,
          0
         ]
        },
        {
         "hoverinfo": "none",
         "mode": "none",
         "opacity": 0.3,
         "showlegend": false,
         "surfaceaxis": 2,
         "surfacecolor": "gray",
         "type": "scatter3d",
         "visible": false,
         "x": [
          6.5,
          0,
          0,
          6.5,
          6.5
         ],
         "y": [
          32.5,
          32.5,
          0,
          0,
          32.5
         ],
         "z": [
          -80.44,
          -54.44,
          10.56,
          -15.44,
          -80.44
         ]
        },
        {
         "hoverinfo": "none",
         "line": {
          "color": "red",
          "width": 5
         },
         "marker": {
          "color": "red",
          "opacity": 1,
          "size": 5
         },
         "mode": "lines+markers",
         "opacity": 1,
         "showlegend": false,
         "surfaceaxis": 2,
         "surfacecolor": "red",
         "type": "scatter3d",
         "visible": false,
         "x": [
          2.640000000000001,
          1.110223024625157e-16,
          0,
          2.640000000000001
         ],
         "y": [
          -1.110223024625157e-16,
          1.110223024625157e-16,
          5.28,
          -1.110223024625157e-16
         ],
         "z": [
          -1.110223024625157e-16,
          10.56,
          0,
          -1.110223024625157e-16
         ]
        },
        {
         "hoverinfo": "none",
         "mode": "none",
         "opacity": 0.3,
         "showlegend": false,
         "surfaceaxis": 2,
         "surfacecolor": "gray",
         "type": "scatter3d",
         "visible": false,
         "x": [
          0,
          6.5,
          6.5,
          0,
          0
         ],
         "y": [
          32.5,
          32.5,
          0,
          0,
          32.5
         ],
         "z": [
          -43.879999999999995,
          -69.88,
          -4.879999999999999,
          21.12,
          -43.879999999999995
         ]
        },
        {
         "hoverinfo": "none",
         "line": {
          "color": "red",
          "width": 5
         },
         "marker": {
          "color": "red",
          "opacity": 1,
          "size": 5
         },
         "mode": "lines+markers",
         "opacity": 1,
         "showlegend": false,
         "surfaceaxis": 2,
         "surfacecolor": "red",
         "type": "scatter3d",
         "visible": false,
         "x": [
          5,
          1.110223024625157e-16,
          2.220446049250313e-16,
          5,
          5
         ],
         "y": [
          0.5600000000000007,
          10.56,
          1.110223024625157e-16,
          2.220446049250313e-16,
          0.5600000000000007
         ],
         "z": [
          0,
          0,
          21.12,
          1.120000000000001,
          0
         ]
        },
        {
         "hoverinfo": "none",
         "mode": "none",
         "opacity": 0.3,
         "showlegend": false,
         "surfaceaxis": 2,
         "surfacecolor": "gray",
         "type": "scatter3d",
         "visible": false,
         "x": [
          6.5,
          6.5,
          0,
          0,
          6.5
         ],
         "y": [
          32.5,
          0,
          0,
          32.5,
          32.5
         ],
         "z": [
          -59.31,
          5.690000000000001,
          31.69,
          -33.31,
          -59.31
         ]
        },
        {
         "hoverinfo": "none",
         "line": {
          "color": "red",
          "width": 5
         },
         "marker": {
          "color": "red",
          "opacity": 1,
          "size": 5
         },
         "mode": "lines+markers",
         "opacity": 1,
         "showlegend": false,
         "surfaceaxis": 2,
         "surfacecolor": "red",
         "type": "scatter3d",
         "visible": false,
         "x": [
          4.577500000000001,
          4.999999999999999,
          5,
          -3.33066907387547e-16,
          0,
          4.577500000000001
         ],
         "y": [
          6.690000000000001,
          5,
          1.110223024625157e-16,
          -2.220446049250313e-16,
          15.845,
          6.690000000000001
         ],
         "z": [
          -3.33066907387547e-16,
          1.69,
          11.69,
          31.69,
          -1.110223024625157e-16,
          -3.33066907387547e-16
         ]
        },
        {
         "hoverinfo": "none",
         "mode": "none",
         "opacity": 0.3,
         "showlegend": false,
         "surfaceaxis": 2,
         "surfacecolor": "gray",
         "type": "scatter3d",
         "visible": false,
         "x": [
          6.5,
          0,
          0,
          6.5,
          6.5
         ],
         "y": [
          32.5,
          32.5,
          0,
          0,
          32.5
         ],
         "z": [
          -48.75,
          -22.75,
          42.25,
          16.25,
          -48.75
         ]
        },
        {
         "hoverinfo": "none",
         "line": {
          "color": "red",
          "width": 5
         },
         "marker": {
          "color": "red",
          "opacity": 1,
          "size": 5
         },
         "mode": "lines+markers",
         "opacity": 1,
         "showlegend": false,
         "surfaceaxis": 2,
         "surfacecolor": "red",
         "type": "scatter3d",
         "visible": false,
         "x": [
          1.9375,
          4.999999999999999,
          5.000000000000001,
          -1.110223024625157e-16,
          1.110223024625157e-16,
          1.9375
         ],
         "y": [
          17.25,
          5.000000000000002,
          1.110223024625157e-16,
          0,
          21.125,
          17.25
         ],
         "z": [
          0,
          12.25,
          22.25,
          42.25000000000001,
          0,
          0
         ]
        },
        {
         "hoverinfo": "none",
         "mode": "none",
         "opacity": 0.3,
         "showlegend": false,
         "surfaceaxis": 2,
         "surfacecolor": "gray",
         "type": "scatter3d",
         "visible": false,
         "x": [
          0,
          6.5,
          6.5,
          0,
          0
         ],
         "y": [
          32.5,
          32.5,
          0,
          0,
          32.5
         ],
         "z": [
          -12.189999999999998,
          -38.19,
          26.810000000000002,
          52.81,
          -12.189999999999998
         ]
        },
        {
         "hoverinfo": "none",
         "line": {
          "color": "red",
          "width": 5
         },
         "marker": {
          "color": "red",
          "opacity": 1,
          "size": 5
         },
         "mode": "lines+markers",
         "opacity": 1,
         "showlegend": false,
         "surfaceaxis": 2,
         "surfacecolor": "red",
         "type": "scatter3d",
         "visible": false,
         "x": [
          5,
          5,
          1.110223024625157e-16,
          -1.110223024625157e-16,
          5
         ],
         "y": [
          5.000000000000002,
          1.110223024625157e-16,
          2.220446049250313e-16,
          25,
          5.000000000000002
         ],
         "z": [
          22.81000000000001,
          32.81,
          52.81,
          2.810000000000003,
          22.81000000000001
         ]
        },
        {
         "hoverinfo": "none",
         "mode": "none",
         "opacity": 0.3,
         "showlegend": false,
         "surfaceaxis": 2,
         "surfacecolor": "gray",
         "type": "scatter3d",
         "visible": false,
         "x": [
          0,
          6.5,
          6.5,
          0,
          0
         ],
         "y": [
          0,
          0,
          32.5,
          32.5,
          0
         ],
         "z": [
          63.38,
          37.38,
          -27.619999999999997,
          -1.6199999999999974,
          63.38
         ]
        },
        {
         "hoverinfo": "none",
         "line": {
          "color": "red",
          "width": 5
         },
         "marker": {
          "color": "red",
          "opacity": 1,
          "size": 5
         },
         "mode": "lines+markers",
         "opacity": 1,
         "showlegend": false,
         "surfaceaxis": 2,
         "surfacecolor": "red",
         "type": "scatter3d",
         "visible": false,
         "x": [
          5,
          5,
          0,
          -1.110223024625157e-16,
          5
         ],
         "y": [
          4.999999999999999,
          2.220446049250313e-16,
          0,
          25,
          4.999999999999999
         ],
         "z": [
          33.38,
          43.38,
          63.38,
          13.38,
          33.38
         ]
        },
        {
         "hoverinfo": "none",
         "mode": "none",
         "opacity": 0.3,
         "showlegend": false,
         "surfaceaxis": 2,
         "surfacecolor": "gray",
         "type": "scatter3d",
         "visible": false,
         "x": [
          6.5,
          6.5,
          0,
          0,
          6.5
         ],
         "y": [
          32.5,
          0,
          0,
          32.5,
          32.5
         ],
         "z": [
          -17.060000000000002,
          47.94,
          73.94,
          8.939999999999998,
          -17.060000000000002
         ]
        },
        {
         "hoverinfo": "none",
         "line": {
          "color": "red",
          "width": 5
         },
         "marker": {
          "color": "red",
          "opacity": 1,
          "size": 5
         },
         "mode": "lines+markers",
         "opacity": 1,
         "showlegend": false,
         "surfaceaxis": 2,
         "surfacecolor": "red",
         "type": "scatter3d",
         "visible": false,
         "x": [
          5,
          5.000000000000001,
          0,
          2.220446049250313e-16,
          5
         ],
         "y": [
          5,
          0,
          -1.110223024625157e-16,
          25,
          5
         ],
         "z": [
          43.94,
          53.93999999999999,
          73.94,
          23.93999999999999,
          43.94
         ]
        },
        {
         "hoverinfo": "none",
         "mode": "none",
         "opacity": 0.3,
         "showlegend": false,
         "surfaceaxis": 2,
         "surfacecolor": "gray",
         "type": "scatter3d",
         "visible": false,
         "x": [
          6.5,
          6.5,
          0,
          0,
          6.5
         ],
         "y": [
          0,
          32.5,
          32.5,
          0,
          0
         ],
         "z": [
          58.5,
          -6.5,
          19.5,
          84.5,
          58.5
         ]
        },
        {
         "hoverinfo": "none",
         "line": {
          "color": "red",
          "width": 5
         },
         "marker": {
          "color": "red",
          "opacity": 1,
          "size": 5
         },
         "mode": "lines+markers",
         "opacity": 1,
         "showlegend": false,
         "surfaceaxis": 2,
         "surfacecolor": "red",
         "type": "scatter3d",
         "visible": false,
         "x": [
          2.374999999999996,
          5.000000000000001,
          4.999999999999999,
          1.110223024625157e-16,
          -1.110223024625157e-16,
          2.374999999999996
         ],
         "y": [
          15.50000000000002,
          4.999999999999999,
          2.220446049250313e-16,
          0,
          20.25000000000001,
          15.50000000000002
         ],
         "z": [
          43.99999999999996,
          54.49999999999999,
          64.49999999999999,
          84.49999999999999,
          43.99999999999997,
          43.99999999999996
         ]
        },
        {
         "hoverinfo": "none",
         "mode": "none",
         "opacity": 0.3,
         "showlegend": false,
         "surfaceaxis": 2,
         "surfacecolor": "gray",
         "type": "scatter3d",
         "visible": false,
         "x": [
          6.5,
          0,
          0,
          6.5,
          6.5
         ],
         "y": [
          32.5,
          32.5,
          0,
          0,
          32.5
         ],
         "z": [
          4.060000000000002,
          30.060000000000002,
          95.06,
          69.06,
          4.060000000000002
         ]
        },
        {
         "hoverinfo": "none",
         "line": {
          "color": "red",
          "width": 5
         },
         "marker": {
          "color": "red",
          "opacity": 1,
          "size": 5
         },
         "mode": "lines+markers",
         "opacity": 1,
         "showlegend": false,
         "surfaceaxis": 2,
         "surfacecolor": "red",
         "type": "scatter3d",
         "visible": false,
         "x": [
          1.110223024625157e-16,
          1.110223024625157e-16,
          5,
          5,
          1.110223024625157e-16
         ],
         "y": [
          14.97,
          2.220446049250313e-16,
          2.220446049250313e-16,
          4.970000000000003,
          14.97
         ],
         "z": [
          65.11999999999999,
          95.05999999999999,
          75.05999999999999,
          65.11999999999998,
          65.11999999999999
         ]
        },
        {
         "hoverinfo": "none",
         "mode": "none",
         "opacity": 0.3,
         "showlegend": false,
         "surfaceaxis": 2,
         "surfacecolor": "gray",
         "type": "scatter3d",
         "visible": false,
         "x": [
          6.5,
          6.5,
          0,
          0,
          6.5
         ],
         "y": [
          0,
          32.5,
          32.5,
          0,
          0
         ],
         "z": [
          79.62,
          14.620000000000005,
          40.620000000000005,
          105.62,
          79.62
         ]
        },
        {
         "hoverinfo": "none",
         "line": {
          "color": "red",
          "width": 5
         },
         "marker": {
          "color": "red",
          "opacity": 1,
          "size": 5
         },
         "mode": "lines+markers",
         "opacity": 1,
         "showlegend": false,
         "surfaceaxis": 2,
         "surfacecolor": "red",
         "type": "scatter3d",
         "visible": false,
         "x": [
          1.110223024625157e-16,
          1.110223024625157e-16,
          4.845000000000001,
          1.110223024625157e-16
         ],
         "y": [
          9.690000000000005,
          1.110223024625157e-16,
          3.33066907387547e-16,
          9.690000000000005
         ],
         "z": [
          86.23999999999998,
          105.62,
          86.24,
          86.23999999999998
         ]
        },
        {
         "hoverinfo": "none",
         "mode": "none",
         "opacity": 0.3,
         "showlegend": false,
         "surfaceaxis": 2,
         "surfacecolor": "gray",
         "type": "scatter3d",
         "visible": false,
         "x": [
          6.5,
          0,
          0,
          6.5,
          6.5
         ],
         "y": [
          0,
          0,
          32.5,
          32.5,
          0
         ],
         "z": [
          90.19,
          116.19,
          51.19,
          25.189999999999998,
          90.19
         ]
        },
        {
         "hoverinfo": "none",
         "line": {
          "color": "red",
          "width": 5
         },
         "marker": {
          "color": "red",
          "opacity": 1,
          "size": 5
         },
         "mode": "lines+markers",
         "opacity": 1,
         "showlegend": false,
         "surfaceaxis": 2,
         "surfacecolor": "red",
         "type": "scatter3d",
         "visible": false,
         "x": [
          0,
          -1.110223024625157e-16,
          2.202500000000005,
          0
         ],
         "y": [
          4.405000000000011,
          0,
          2.220446049250313e-16,
          4.405000000000011
         ],
         "z": [
          107.38,
          116.19,
          107.38,
          107.38
         ]
        },
        {
         "hoverinfo": "none",
         "mode": "none",
         "opacity": 0.3,
         "showlegend": false,
         "surfaceaxis": 2,
         "surfacecolor": "gray",
         "type": "scatter3d",
         "visible": false,
         "x": [
          6.5,
          0,
          0,
          6.5,
          6.5
         ],
         "y": [
          0,
          0,
          32.5,
          32.5,
          0
         ],
         "z": [
          99,
          125,
          60,
          34,
          99
         ]
        },
        {
         "hoverinfo": "none",
         "line": {
          "color": "red",
          "width": 5
         },
         "marker": {
          "color": "red",
          "opacity": 1,
          "size": 5
         },
         "mode": "lines+markers",
         "opacity": 1,
         "showlegend": false,
         "surfaceaxis": 2,
         "surfacecolor": "red",
         "type": "scatter3d",
         "visible": false,
         "x": [
          0,
          0,
          0,
          0
         ],
         "y": [
          0,
          0,
          0,
          0
         ],
         "z": [
          124.99999999999997,
          124.99999999999999,
          125.00000000000004,
          124.99999999999997
         ]
        },
        {
         "hoverinfo": "none",
         "mode": "none",
         "opacity": 0.3,
         "showlegend": false,
         "surfaceaxis": 2,
         "surfacecolor": "gray",
         "type": "scatter3d",
         "visible": false,
         "x": [
          0,
          6.5,
          6.5,
          0,
          0
         ],
         "y": [
          0,
          0,
          32.5,
          32.5,
          0
         ],
         "z": [
          126.75,
          100.75,
          35.75,
          61.75,
          126.75
         ]
        },
        {
         "hoverinfo": "skip",
         "marker": {
          "color": "white",
          "opacity": 1e-7,
          "size": 0
         },
         "mode": "markers",
         "showlegend": false,
         "type": "scatter3d",
         "x": [
          0
         ],
         "y": [
          0
         ],
         "z": [
          0
         ]
        },
        {
         "hoverinfo": "none",
         "mode": "none",
         "opacity": 0.3,
         "showlegend": false,
         "surfaceaxis": 2,
         "surfacecolor": "gray",
         "type": "scatter3d",
         "visible": false,
         "x": [
          6.5,
          6.5,
          0,
          0,
          6.5
         ],
         "y": [
          0,
          32.5,
          32.5,
          0,
          0
         ],
         "z": [
          111.31,
          46.31,
          72.31,
          137.31,
          111.31
         ]
        },
        {
         "hoverinfo": "skip",
         "marker": {
          "color": "white",
          "opacity": 1e-7,
          "size": 0
         },
         "mode": "markers",
         "showlegend": false,
         "type": "scatter3d",
         "x": [
          0
         ],
         "y": [
          0
         ],
         "z": [
          0
         ]
        },
        {
         "hoverinfo": "none",
         "mode": "none",
         "opacity": 0.3,
         "showlegend": false,
         "surfaceaxis": 2,
         "surfacecolor": "gray",
         "type": "scatter3d",
         "visible": false,
         "x": [
          6.5,
          6.5,
          0,
          0,
          6.5
         ],
         "y": [
          0,
          32.5,
          32.5,
          0,
          0
         ],
         "z": [
          121.88,
          56.879999999999995,
          82.88,
          147.88,
          121.88
         ]
        },
        {
         "hoverinfo": "skip",
         "marker": {
          "color": "white",
          "opacity": 1e-7,
          "size": 0
         },
         "mode": "markers",
         "showlegend": false,
         "type": "scatter3d",
         "x": [
          0
         ],
         "y": [
          0
         ],
         "z": [
          0
         ]
        },
        {
         "hoverinfo": "none",
         "mode": "none",
         "opacity": 0.3,
         "showlegend": false,
         "surfaceaxis": 2,
         "surfacecolor": "gray",
         "type": "scatter3d",
         "visible": false,
         "x": [
          6.5,
          6.5,
          0,
          0,
          6.5
         ],
         "y": [
          32.5,
          0,
          0,
          32.5,
          32.5
         ],
         "z": [
          67.44,
          132.44,
          158.44,
          93.44,
          67.44
         ]
        },
        {
         "hoverinfo": "skip",
         "marker": {
          "color": "white",
          "opacity": 1e-7,
          "size": 0
         },
         "mode": "markers",
         "showlegend": false,
         "type": "scatter3d",
         "x": [
          0
         ],
         "y": [
          0
         ],
         "z": [
          0
         ]
        },
        {
         "hoverinfo": "none",
         "mode": "none",
         "opacity": 0.3,
         "showlegend": false,
         "surfaceaxis": 2,
         "surfacecolor": "gray",
         "type": "scatter3d",
         "visible": false,
         "x": [
          6.5,
          6.5,
          0,
          0,
          6.5
         ],
         "y": [
          0,
          32.5,
          32.5,
          0,
          0
         ],
         "z": [
          143,
          78,
          104,
          169,
          143
         ]
        },
        {
         "hoverinfo": "skip",
         "marker": {
          "color": "white",
          "opacity": 1e-7,
          "size": 0
         },
         "mode": "markers",
         "showlegend": false,
         "type": "scatter3d",
         "x": [
          0
         ],
         "y": [
          0
         ],
         "z": [
          0
         ]
        },
        {
         "hoverinfo": "none",
         "mode": "none",
         "opacity": 0.3,
         "showlegend": false,
         "surfaceaxis": 2,
         "surfacecolor": "gray",
         "type": "scatter3d",
         "visible": false,
         "x": [
          6.5,
          6.5,
          0,
          0,
          6.5
         ],
         "y": [
          32.5,
          0,
          0,
          32.5,
          32.5
         ],
         "z": [
          88.56,
          153.56,
          179.56,
          114.56,
          88.56
         ]
        },
        {
         "hoverinfo": "skip",
         "marker": {
          "color": "white",
          "opacity": 1e-7,
          "size": 0
         },
         "mode": "markers",
         "showlegend": false,
         "type": "scatter3d",
         "x": [
          0
         ],
         "y": [
          0
         ],
         "z": [
          0
         ]
        },
        {
         "hoverinfo": "none",
         "mode": "none",
         "opacity": 0.3,
         "showlegend": false,
         "surfaceaxis": 2,
         "surfacecolor": "gray",
         "type": "scatter3d",
         "visible": false,
         "x": [
          6.5,
          6.5,
          0,
          0,
          6.5
         ],
         "y": [
          0,
          32.5,
          32.5,
          0,
          0
         ],
         "z": [
          164.12,
          99.12,
          125.12,
          190.12,
          164.12
         ]
        },
        {
         "hoverinfo": "skip",
         "marker": {
          "color": "white",
          "opacity": 1e-7,
          "size": 0
         },
         "mode": "markers",
         "showlegend": false,
         "type": "scatter3d",
         "x": [
          0
         ],
         "y": [
          0
         ],
         "z": [
          0
         ]
        },
        {
         "hoverinfo": "none",
         "mode": "none",
         "opacity": 0.3,
         "showlegend": false,
         "surfaceaxis": 2,
         "surfacecolor": "gray",
         "type": "scatter3d",
         "visible": false,
         "x": [
          6.5,
          6.5,
          0,
          0,
          6.5
         ],
         "y": [
          0,
          32.5,
          32.5,
          0,
          0
         ],
         "z": [
          174.69,
          109.69,
          135.69,
          200.69,
          174.69
         ]
        },
        {
         "hoverinfo": "skip",
         "marker": {
          "color": "white",
          "opacity": 1e-7,
          "size": 0
         },
         "mode": "markers",
         "showlegend": false,
         "type": "scatter3d",
         "x": [
          0
         ],
         "y": [
          0
         ],
         "z": [
          0
         ]
        },
        {
         "hoverinfo": "none",
         "mode": "none",
         "opacity": 0.3,
         "showlegend": false,
         "surfaceaxis": 2,
         "surfacecolor": "gray",
         "type": "scatter3d",
         "visible": false,
         "x": [
          0,
          6.5,
          6.5,
          0,
          0
         ],
         "y": [
          0,
          0,
          32.5,
          32.5,
          0
         ],
         "z": [
          211.25,
          185.25,
          120.25,
          146.25,
          211.25
         ]
        },
        {
         "hoverinfo": "skip",
         "marker": {
          "color": "white",
          "opacity": 1e-7,
          "size": 0
         },
         "mode": "markers",
         "showlegend": false,
         "type": "scatter3d",
         "x": [
          0
         ],
         "y": [
          0
         ],
         "z": [
          0
         ]
        },
        {
         "hoverinfo": "none",
         "mode": "none",
         "opacity": 0.3,
         "showlegend": false,
         "surfaceaxis": 2,
         "surfacecolor": "gray",
         "type": "scatter3d",
         "visible": false,
         "x": [
          6.5,
          0,
          0,
          6.5,
          6.5
         ],
         "y": [
          0,
          0,
          32.5,
          32.5,
          0
         ],
         "z": [
          195.81,
          221.81,
          156.81,
          130.81,
          195.81
         ]
        },
        {
         "hoverinfo": "skip",
         "marker": {
          "color": "white",
          "opacity": 1e-7,
          "size": 0
         },
         "mode": "markers",
         "showlegend": false,
         "type": "scatter3d",
         "x": [
          0
         ],
         "y": [
          0
         ],
         "z": [
          0
         ]
        },
        {
         "hoverinfo": "none",
         "mode": "none",
         "opacity": 0.3,
         "showlegend": false,
         "surfaceaxis": 2,
         "surfacecolor": "gray",
         "type": "scatter3d",
         "visible": false,
         "x": [
          6.5,
          6.5,
          0,
          0,
          6.5
         ],
         "y": [
          0,
          32.5,
          32.5,
          0,
          0
         ],
         "z": [
          206.38,
          141.38,
          167.38,
          232.38,
          206.38
         ]
        },
        {
         "hoverinfo": "skip",
         "marker": {
          "color": "white",
          "opacity": 1e-7,
          "size": 0
         },
         "mode": "markers",
         "showlegend": false,
         "type": "scatter3d",
         "x": [
          0
         ],
         "y": [
          0
         ],
         "z": [
          0
         ]
        },
        {
         "hoverinfo": "none",
         "mode": "none",
         "opacity": 0.3,
         "showlegend": false,
         "surfaceaxis": 2,
         "surfacecolor": "gray",
         "type": "scatter3d",
         "visible": false,
         "x": [
          6.5,
          6.5,
          0,
          0,
          6.5
         ],
         "y": [
          32.5,
          0,
          0,
          32.5,
          32.5
         ],
         "z": [
          151.94,
          216.94,
          242.94,
          177.94,
          151.94
         ]
        },
        {
         "hoverinfo": "skip",
         "marker": {
          "color": "white",
          "opacity": 1e-7,
          "size": 0
         },
         "mode": "markers",
         "showlegend": false,
         "type": "scatter3d",
         "x": [
          0
         ],
         "y": [
          0
         ],
         "z": [
          0
         ]
        },
        {
         "hoverinfo": "none",
         "mode": "none",
         "opacity": 0.3,
         "showlegend": false,
         "surfaceaxis": 2,
         "surfacecolor": "gray",
         "type": "scatter3d",
         "visible": false,
         "x": [
          6.5,
          6.5,
          0,
          0,
          6.5
         ],
         "y": [
          0,
          32.5,
          32.5,
          0,
          0
         ],
         "z": [
          227.5,
          162.5,
          188.5,
          253.5,
          227.5
         ]
        },
        {
         "hoverinfo": "skip",
         "marker": {
          "color": "white",
          "opacity": 1e-7,
          "size": 0
         },
         "mode": "markers",
         "showlegend": false,
         "type": "scatter3d",
         "x": [
          0
         ],
         "y": [
          0
         ],
         "z": [
          0
         ]
        },
        {
         "hoverinfo": "skip",
         "marker": {
          "color": "red",
          "opacity": 1,
          "size": 5
         },
         "mode": "markers",
         "showlegend": false,
         "type": "scatter3d",
         "x": [
          0
         ],
         "y": [
          0
         ],
         "z": [
          0
         ]
        },
        {
         "hoverinfo": "skip",
         "line": {
          "color": "red",
          "width": 6
         },
         "mode": "lines",
         "opacity": 1,
         "showlegend": false,
         "type": "scatter3d",
         "visible": false,
         "x": [
          0,
          2.5
         ],
         "y": [
          0,
          0
         ],
         "z": [
          0,
          0
         ]
        },
        {
         "hoverinfo": "skip",
         "line": {
          "color": "red",
          "width": 6
         },
         "mode": "lines",
         "opacity": 1,
         "showlegend": false,
         "type": "scatter3d",
         "visible": false,
         "x": [
          0,
          5
         ],
         "y": [
          0,
          0
         ],
         "z": [
          0,
          0
         ]
        },
        {
         "hoverinfo": "skip",
         "line": {
          "color": "red",
          "width": 6
         },
         "mode": "lines",
         "opacity": 1,
         "showlegend": false,
         "type": "scatter3d",
         "visible": false,
         "x": [
          5,
          5
         ],
         "y": [
          0,
          2.5
         ],
         "z": [
          0,
          0
         ]
        },
        {
         "hoverinfo": "skip",
         "line": {
          "color": "red",
          "width": 6
         },
         "mode": "lines",
         "opacity": 1,
         "showlegend": false,
         "type": "scatter3d",
         "visible": false,
         "x": [
          5,
          5
         ],
         "y": [
          0,
          5
         ],
         "z": [
          0,
          0
         ]
        },
        {
         "hoverinfo": "skip",
         "line": {
          "color": "red",
          "width": 6
         },
         "mode": "lines",
         "opacity": 1,
         "showlegend": false,
         "type": "scatter3d",
         "visible": false,
         "x": [
          5,
          5
         ],
         "y": [
          5,
          5
         ],
         "z": [
          0,
          32.5
         ]
        },
        {
         "hoverinfo": "skip",
         "line": {
          "color": "red",
          "width": 6
         },
         "mode": "lines",
         "opacity": 1,
         "showlegend": false,
         "type": "scatter3d",
         "visible": false,
         "x": [
          5,
          5
         ],
         "y": [
          5,
          5
         ],
         "z": [
          0,
          65
         ]
        },
        {
         "hoverinfo": "skip",
         "line": {
          "color": "red",
          "width": 6
         },
         "mode": "lines",
         "opacity": 1,
         "showlegend": false,
         "type": "scatter3d",
         "visible": false,
         "x": [
          5,
          5
         ],
         "y": [
          5,
          2.5
         ],
         "z": [
          65,
          75
         ]
        },
        {
         "hoverinfo": "skip",
         "line": {
          "color": "red",
          "width": 6
         },
         "mode": "lines",
         "opacity": 1,
         "showlegend": false,
         "type": "scatter3d",
         "visible": false,
         "x": [
          5,
          5
         ],
         "y": [
          5,
          0
         ],
         "z": [
          65,
          85
         ]
        },
        {
         "hoverinfo": "skip",
         "line": {
          "color": "red",
          "width": 6
         },
         "mode": "lines",
         "opacity": 1,
         "showlegend": false,
         "type": "scatter3d",
         "visible": false,
         "x": [
          5,
          2.5
         ],
         "y": [
          0,
          0
         ],
         "z": [
          85,
          105
         ]
        },
        {
         "hoverinfo": "skip",
         "line": {
          "color": "red",
          "width": 6
         },
         "mode": "lines",
         "opacity": 1,
         "showlegend": false,
         "type": "scatter3d",
         "visible": false,
         "x": [
          5,
          0
         ],
         "y": [
          0,
          0
         ],
         "z": [
          85,
          125
         ]
        },
        {
         "cells": {
          "align": [
           "left",
           "right",
           "left"
          ],
          "fill": {
           "color": "white"
          },
          "font": {
           "color": [
            [
             "black",
             "red",
             "black"
            ],
            [
             "black",
             "black",
             "black"
            ]
           ],
           "size": 14
          },
          "height": 25,
          "line": {
           "color": "white",
           "width": 1
          },
          "values": [
           [
            "max<br>s.t.<br> <br> "
           ],
           [
            " <br>x<sub>4</sub><br>x<sub>5</sub><br>x<sub>6</sub>"
           ],
           [
            "0 + 4x<sub>1</sub> + 2x<sub>2</sub> + 1x<sub>3</sub><br>= 5 - 1x<sub>1</sub> + 0x<sub>2</sub> + 0x<sub>3</sub><br>= 25 - 4x<sub>1</sub> - 1x<sub>2</sub> + 0x<sub>3</sub><br>= 125 - 8x<sub>1</sub> - 4x<sub>2</sub> - 1x<sub>3</sub>"
           ]
          ]
         },
         "columnwidth": [
          0.13333333333333333,
          0.06666666666666667,
          0.8
         ],
         "domain": {
          "x": [
           0.6052631578947368,
           1
          ],
          "y": [
           0,
           1
          ]
         },
         "header": {
          "align": [
           "left",
           "right",
           "left"
          ],
          "fill": {
           "color": "white"
          },
          "font": {
           "color": [
            "red",
            "black"
           ],
           "size": 14
          },
          "height": 25,
          "line": {
           "color": "white",
           "width": 1
          },
          "values": [
           "<b>(0)</b>",
           " ",
           " "
          ]
         },
         "type": "table"
        },
        {
         "cells": {
          "align": [
           "left",
           "right",
           "left"
          ],
          "fill": {
           "color": "white"
          },
          "font": {
           "color": [
            [
             "black",
             "red",
             "black"
            ],
            [
             "black",
             "black",
             "black"
            ]
           ],
           "size": 14
          },
          "height": 25,
          "line": {
           "color": "white",
           "width": 1
          },
          "values": [
           [
            "max<br>s.t.<br> <br> ",
            "<b>(0)</b>",
            "max<br>s.t.<br> <br> "
           ],
           [
            " <br>x<sub>1</sub><br>x<sub>5</sub><br>x<sub>6</sub>",
            " ",
            " <br>x<sub>4</sub><br>x<sub>5</sub><br>x<sub>6</sub>"
           ],
           [
            "20 + 2x<sub>2</sub> + 1x<sub>3</sub> - 4x<sub>4</sub><br>= 5 + 0x<sub>2</sub> + 0x<sub>3</sub> - 1x<sub>4</sub><br>= 5 - 1x<sub>2</sub> + 0x<sub>3</sub> + 4x<sub>4</sub><br>= 85 - 4x<sub>2</sub> - 1x<sub>3</sub> + 8x<sub>4</sub>",
            " ",
            "0 + 4x<sub>1</sub> + 2x<sub>2</sub> + 1x<sub>3</sub><br>= 5 - 1x<sub>1</sub> + 0x<sub>2</sub> + 0x<sub>3</sub><br>= 25 - 4x<sub>1</sub> - 1x<sub>2</sub> + 0x<sub>3</sub><br>= 125 - 8x<sub>1</sub> - 4x<sub>2</sub> - 1x<sub>3</sub>"
           ]
          ]
         },
         "columnwidth": [
          0.13333333333333333,
          0.06666666666666667,
          0.8
         ],
         "domain": {
          "x": [
           0.6052631578947368,
           1
          ],
          "y": [
           0,
           1
          ]
         },
         "header": {
          "align": [
           "left",
           "right",
           "left"
          ],
          "fill": {
           "color": "white"
          },
          "font": {
           "color": [
            "red",
            "black"
           ],
           "size": 14
          },
          "height": 25,
          "line": {
           "color": "white",
           "width": 1
          },
          "values": [
           "<b>(1)</b>",
           " ",
           " "
          ]
         },
         "type": "table",
         "visible": false
        },
        {
         "cells": {
          "align": [
           "left",
           "right",
           "left"
          ],
          "fill": {
           "color": "white"
          },
          "font": {
           "color": [
            [
             "black",
             "red",
             "black"
            ],
            [
             "black",
             "black",
             "black"
            ]
           ],
           "size": 14
          },
          "height": 25,
          "line": {
           "color": "white",
           "width": 1
          },
          "values": [
           [
            "max<br>s.t.<br> <br> "
           ],
           [
            " <br>x<sub>1</sub><br>x<sub>5</sub><br>x<sub>6</sub>"
           ],
           [
            "20 + 2x<sub>2</sub> + 1x<sub>3</sub> - 4x<sub>4</sub><br>= 5 + 0x<sub>2</sub> + 0x<sub>3</sub> - 1x<sub>4</sub><br>= 5 - 1x<sub>2</sub> + 0x<sub>3</sub> + 4x<sub>4</sub><br>= 85 - 4x<sub>2</sub> - 1x<sub>3</sub> + 8x<sub>4</sub>"
           ]
          ]
         },
         "columnwidth": [
          0.13333333333333333,
          0.06666666666666667,
          0.8
         ],
         "domain": {
          "x": [
           0.6052631578947368,
           1
          ],
          "y": [
           0,
           1
          ]
         },
         "header": {
          "align": [
           "left",
           "right",
           "left"
          ],
          "fill": {
           "color": "white"
          },
          "font": {
           "color": [
            "red",
            "black"
           ],
           "size": 14
          },
          "height": 25,
          "line": {
           "color": "white",
           "width": 1
          },
          "values": [
           "<b>(1)</b>",
           " ",
           " "
          ]
         },
         "type": "table",
         "visible": false
        },
        {
         "cells": {
          "align": [
           "left",
           "right",
           "left"
          ],
          "fill": {
           "color": "white"
          },
          "font": {
           "color": [
            [
             "black",
             "red",
             "black"
            ],
            [
             "black",
             "black",
             "black"
            ]
           ],
           "size": 14
          },
          "height": 25,
          "line": {
           "color": "white",
           "width": 1
          },
          "values": [
           [
            "max<br>s.t.<br> <br> ",
            "<b>(1)</b>",
            "max<br>s.t.<br> <br> "
           ],
           [
            " <br>x<sub>1</sub><br>x<sub>2</sub><br>x<sub>6</sub>",
            " ",
            " <br>x<sub>1</sub><br>x<sub>5</sub><br>x<sub>6</sub>"
           ],
           [
            "30 + 1x<sub>3</sub> + 4x<sub>4</sub> - 2x<sub>5</sub><br>= 5 + 0x<sub>3</sub> - 1x<sub>4</sub> + 0x<sub>5</sub><br>= 5 + 0x<sub>3</sub> + 4x<sub>4</sub> - 1x<sub>5</sub><br>= 65 - 1x<sub>3</sub> - 8x<sub>4</sub> + 4x<sub>5</sub>",
            " ",
            "20 + 2x<sub>2</sub> + 1x<sub>3</sub> - 4x<sub>4</sub><br>= 5 + 0x<sub>2</sub> + 0x<sub>3</sub> - 1x<sub>4</sub><br>= 5 - 1x<sub>2</sub> + 0x<sub>3</sub> + 4x<sub>4</sub><br>= 85 - 4x<sub>2</sub> - 1x<sub>3</sub> + 8x<sub>4</sub>"
           ]
          ]
         },
         "columnwidth": [
          0.13333333333333333,
          0.06666666666666667,
          0.8
         ],
         "domain": {
          "x": [
           0.6052631578947368,
           1
          ],
          "y": [
           0,
           1
          ]
         },
         "header": {
          "align": [
           "left",
           "right",
           "left"
          ],
          "fill": {
           "color": "white"
          },
          "font": {
           "color": [
            "red",
            "black"
           ],
           "size": 14
          },
          "height": 25,
          "line": {
           "color": "white",
           "width": 1
          },
          "values": [
           "<b>(2)</b>",
           " ",
           " "
          ]
         },
         "type": "table",
         "visible": false
        },
        {
         "cells": {
          "align": [
           "left",
           "right",
           "left"
          ],
          "fill": {
           "color": "white"
          },
          "font": {
           "color": [
            [
             "black",
             "red",
             "black"
            ],
            [
             "black",
             "black",
             "black"
            ]
           ],
           "size": 14
          },
          "height": 25,
          "line": {
           "color": "white",
           "width": 1
          },
          "values": [
           [
            "max<br>s.t.<br> <br> "
           ],
           [
            " <br>x<sub>1</sub><br>x<sub>2</sub><br>x<sub>6</sub>"
           ],
           [
            "30 + 1x<sub>3</sub> + 4x<sub>4</sub> - 2x<sub>5</sub><br>= 5 + 0x<sub>3</sub> - 1x<sub>4</sub> + 0x<sub>5</sub><br>= 5 + 0x<sub>3</sub> + 4x<sub>4</sub> - 1x<sub>5</sub><br>= 65 - 1x<sub>3</sub> - 8x<sub>4</sub> + 4x<sub>5</sub>"
           ]
          ]
         },
         "columnwidth": [
          0.13333333333333333,
          0.06666666666666667,
          0.8
         ],
         "domain": {
          "x": [
           0.6052631578947368,
           1
          ],
          "y": [
           0,
           1
          ]
         },
         "header": {
          "align": [
           "left",
           "right",
           "left"
          ],
          "fill": {
           "color": "white"
          },
          "font": {
           "color": [
            "red",
            "black"
           ],
           "size": 14
          },
          "height": 25,
          "line": {
           "color": "white",
           "width": 1
          },
          "values": [
           "<b>(2)</b>",
           " ",
           " "
          ]
         },
         "type": "table",
         "visible": false
        },
        {
         "cells": {
          "align": [
           "left",
           "right",
           "left"
          ],
          "fill": {
           "color": "white"
          },
          "font": {
           "color": [
            [
             "black",
             "red",
             "black"
            ],
            [
             "black",
             "black",
             "black"
            ]
           ],
           "size": 14
          },
          "height": 25,
          "line": {
           "color": "white",
           "width": 1
          },
          "values": [
           [
            "max<br>s.t.<br> <br> ",
            "<b>(2)</b>",
            "max<br>s.t.<br> <br> "
           ],
           [
            " <br>x<sub>1</sub><br>x<sub>2</sub><br>x<sub>3</sub>",
            " ",
            " <br>x<sub>1</sub><br>x<sub>2</sub><br>x<sub>6</sub>"
           ],
           [
            "95 - 4x<sub>4</sub> + 2x<sub>5</sub> - 1x<sub>6</sub><br>= 5 - 1x<sub>4</sub> + 0x<sub>5</sub> + 0x<sub>6</sub><br>= 5 + 4x<sub>4</sub> - 1x<sub>5</sub> + 0x<sub>6</sub><br>= 65 - 8x<sub>4</sub> + 4x<sub>5</sub> - 1x<sub>6</sub>",
            " ",
            "30 + 1x<sub>3</sub> + 4x<sub>4</sub> - 2x<sub>5</sub><br>= 5 + 0x<sub>3</sub> - 1x<sub>4</sub> + 0x<sub>5</sub><br>= 5 + 0x<sub>3</sub> + 4x<sub>4</sub> - 1x<sub>5</sub><br>= 65 - 1x<sub>3</sub> - 8x<sub>4</sub> + 4x<sub>5</sub>"
           ]
          ]
         },
         "columnwidth": [
          0.13333333333333333,
          0.06666666666666667,
          0.8
         ],
         "domain": {
          "x": [
           0.6052631578947368,
           1
          ],
          "y": [
           0,
           1
          ]
         },
         "header": {
          "align": [
           "left",
           "right",
           "left"
          ],
          "fill": {
           "color": "white"
          },
          "font": {
           "color": [
            "red",
            "black"
           ],
           "size": 14
          },
          "height": 25,
          "line": {
           "color": "white",
           "width": 1
          },
          "values": [
           "<b>(3)</b>",
           " ",
           " "
          ]
         },
         "type": "table",
         "visible": false
        },
        {
         "cells": {
          "align": [
           "left",
           "right",
           "left"
          ],
          "fill": {
           "color": "white"
          },
          "font": {
           "color": [
            [
             "black",
             "red",
             "black"
            ],
            [
             "black",
             "black",
             "black"
            ]
           ],
           "size": 14
          },
          "height": 25,
          "line": {
           "color": "white",
           "width": 1
          },
          "values": [
           [
            "max<br>s.t.<br> <br> "
           ],
           [
            " <br>x<sub>1</sub><br>x<sub>2</sub><br>x<sub>3</sub>"
           ],
           [
            "95 - 4x<sub>4</sub> + 2x<sub>5</sub> - 1x<sub>6</sub><br>= 5 - 1x<sub>4</sub> + 0x<sub>5</sub> + 0x<sub>6</sub><br>= 5 + 4x<sub>4</sub> - 1x<sub>5</sub> + 0x<sub>6</sub><br>= 65 - 8x<sub>4</sub> + 4x<sub>5</sub> - 1x<sub>6</sub>"
           ]
          ]
         },
         "columnwidth": [
          0.13333333333333333,
          0.06666666666666667,
          0.8
         ],
         "domain": {
          "x": [
           0.6052631578947368,
           1
          ],
          "y": [
           0,
           1
          ]
         },
         "header": {
          "align": [
           "left",
           "right",
           "left"
          ],
          "fill": {
           "color": "white"
          },
          "font": {
           "color": [
            "red",
            "black"
           ],
           "size": 14
          },
          "height": 25,
          "line": {
           "color": "white",
           "width": 1
          },
          "values": [
           "<b>(3)</b>",
           " ",
           " "
          ]
         },
         "type": "table",
         "visible": false
        },
        {
         "cells": {
          "align": [
           "left",
           "right",
           "left"
          ],
          "fill": {
           "color": "white"
          },
          "font": {
           "color": [
            [
             "black",
             "red",
             "black"
            ],
            [
             "black",
             "black",
             "black"
            ]
           ],
           "size": 14
          },
          "height": 25,
          "line": {
           "color": "white",
           "width": 1
          },
          "values": [
           [
            "max<br>s.t.<br> <br> ",
            "<b>(3)</b>",
            "max<br>s.t.<br> <br> "
           ],
           [
            " <br>x<sub>1</sub><br>x<sub>3</sub><br>x<sub>5</sub>",
            " ",
            " <br>x<sub>1</sub><br>x<sub>2</sub><br>x<sub>3</sub>"
           ],
           [
            "105 - 2x<sub>2</sub> + 4x<sub>4</sub> - 1x<sub>6</sub><br>= 5 + 0x<sub>2</sub> - 1x<sub>4</sub> + 0x<sub>6</sub><br>= 85 - 4x<sub>2</sub> + 8x<sub>4</sub> - 1x<sub>6</sub><br>= 5 - 1x<sub>2</sub> + 4x<sub>4</sub> + 0x<sub>6</sub>",
            " ",
            "95 - 4x<sub>4</sub> + 2x<sub>5</sub> - 1x<sub>6</sub><br>= 5 - 1x<sub>4</sub> + 0x<sub>5</sub> + 0x<sub>6</sub><br>= 5 + 4x<sub>4</sub> - 1x<sub>5</sub> + 0x<sub>6</sub><br>= 65 - 8x<sub>4</sub> + 4x<sub>5</sub> - 1x<sub>6</sub>"
           ]
          ]
         },
         "columnwidth": [
          0.13333333333333333,
          0.06666666666666667,
          0.8
         ],
         "domain": {
          "x": [
           0.6052631578947368,
           1
          ],
          "y": [
           0,
           1
          ]
         },
         "header": {
          "align": [
           "left",
           "right",
           "left"
          ],
          "fill": {
           "color": "white"
          },
          "font": {
           "color": [
            "red",
            "black"
           ],
           "size": 14
          },
          "height": 25,
          "line": {
           "color": "white",
           "width": 1
          },
          "values": [
           "<b>(4)</b>",
           " ",
           " "
          ]
         },
         "type": "table",
         "visible": false
        },
        {
         "cells": {
          "align": [
           "left",
           "right",
           "left"
          ],
          "fill": {
           "color": "white"
          },
          "font": {
           "color": [
            [
             "black",
             "red",
             "black"
            ],
            [
             "black",
             "black",
             "black"
            ]
           ],
           "size": 14
          },
          "height": 25,
          "line": {
           "color": "white",
           "width": 1
          },
          "values": [
           [
            "max<br>s.t.<br> <br> "
           ],
           [
            " <br>x<sub>1</sub><br>x<sub>3</sub><br>x<sub>5</sub>"
           ],
           [
            "105 - 2x<sub>2</sub> + 4x<sub>4</sub> - 1x<sub>6</sub><br>= 5 + 0x<sub>2</sub> - 1x<sub>4</sub> + 0x<sub>6</sub><br>= 85 - 4x<sub>2</sub> + 8x<sub>4</sub> - 1x<sub>6</sub><br>= 5 - 1x<sub>2</sub> + 4x<sub>4</sub> + 0x<sub>6</sub>"
           ]
          ]
         },
         "columnwidth": [
          0.13333333333333333,
          0.06666666666666667,
          0.8
         ],
         "domain": {
          "x": [
           0.6052631578947368,
           1
          ],
          "y": [
           0,
           1
          ]
         },
         "header": {
          "align": [
           "left",
           "right",
           "left"
          ],
          "fill": {
           "color": "white"
          },
          "font": {
           "color": [
            "red",
            "black"
           ],
           "size": 14
          },
          "height": 25,
          "line": {
           "color": "white",
           "width": 1
          },
          "values": [
           "<b>(4)</b>",
           " ",
           " "
          ]
         },
         "type": "table",
         "visible": false
        },
        {
         "cells": {
          "align": [
           "left",
           "right",
           "left"
          ],
          "fill": {
           "color": "white"
          },
          "font": {
           "color": [
            [
             "black",
             "red",
             "black"
            ],
            [
             "black",
             "black",
             "black"
            ]
           ],
           "size": 14
          },
          "height": 25,
          "line": {
           "color": "white",
           "width": 1
          },
          "values": [
           [
            "max<br>s.t.<br> <br> ",
            "<b>(4)</b>",
            "max<br>s.t.<br> <br> "
           ],
           [
            " <br>x<sub>3</sub><br>x<sub>4</sub><br>x<sub>5</sub>",
            " ",
            " <br>x<sub>1</sub><br>x<sub>3</sub><br>x<sub>5</sub>"
           ],
           [
            "125 - 4x<sub>1</sub> - 2x<sub>2</sub> - 1x<sub>6</sub><br>= 125 - 8x<sub>1</sub> - 4x<sub>2</sub> - 1x<sub>6</sub><br>= 5 - 1x<sub>1</sub> + 0x<sub>2</sub> + 0x<sub>6</sub><br>= 25 - 4x<sub>1</sub> - 1x<sub>2</sub> + 0x<sub>6</sub>",
            " ",
            "105 - 2x<sub>2</sub> + 4x<sub>4</sub> - 1x<sub>6</sub><br>= 5 + 0x<sub>2</sub> - 1x<sub>4</sub> + 0x<sub>6</sub><br>= 85 - 4x<sub>2</sub> + 8x<sub>4</sub> - 1x<sub>6</sub><br>= 5 - 1x<sub>2</sub> + 4x<sub>4</sub> + 0x<sub>6</sub>"
           ]
          ]
         },
         "columnwidth": [
          0.13333333333333333,
          0.06666666666666667,
          0.8
         ],
         "domain": {
          "x": [
           0.6052631578947368,
           1
          ],
          "y": [
           0,
           1
          ]
         },
         "header": {
          "align": [
           "left",
           "right",
           "left"
          ],
          "fill": {
           "color": "white"
          },
          "font": {
           "color": [
            "red",
            "black"
           ],
           "size": 14
          },
          "height": 25,
          "line": {
           "color": "white",
           "width": 1
          },
          "values": [
           "<b>(5)</b>",
           " ",
           " "
          ]
         },
         "type": "table",
         "visible": false
        },
        {
         "cells": {
          "align": [
           "left",
           "right",
           "left"
          ],
          "fill": {
           "color": "white"
          },
          "font": {
           "color": [
            [
             "black",
             "red",
             "black"
            ],
            [
             "black",
             "black",
             "black"
            ]
           ],
           "size": 14
          },
          "height": 25,
          "line": {
           "color": "white",
           "width": 1
          },
          "values": [
           [
            "max<br>s.t.<br> <br> "
           ],
           [
            " <br>x<sub>3</sub><br>x<sub>4</sub><br>x<sub>5</sub>"
           ],
           [
            "125 - 4x<sub>1</sub> - 2x<sub>2</sub> - 1x<sub>6</sub><br>= 125 - 8x<sub>1</sub> - 4x<sub>2</sub> - 1x<sub>6</sub><br>= 5 - 1x<sub>1</sub> + 0x<sub>2</sub> + 0x<sub>6</sub><br>= 25 - 4x<sub>1</sub> - 1x<sub>2</sub> + 0x<sub>6</sub>"
           ]
          ]
         },
         "columnwidth": [
          0.13333333333333333,
          0.06666666666666667,
          0.8
         ],
         "domain": {
          "x": [
           0.6052631578947368,
           1
          ],
          "y": [
           0,
           1
          ]
         },
         "header": {
          "align": [
           "left",
           "right",
           "left"
          ],
          "fill": {
           "color": "white"
          },
          "font": {
           "color": [
            "red",
            "black"
           ],
           "size": 14
          },
          "height": 25,
          "line": {
           "color": "white",
           "width": 1
          },
          "values": [
           "<b>(5)</b>",
           " ",
           " "
          ]
         },
         "type": "table",
         "visible": false
        }
       ],
       "layout": {
        "font": {
         "color": "#323232",
         "family": "Arial"
        },
        "height": 500,
        "legend": {
         "font": {
          "size": 13
         },
         "title": {
          "font": {
           "size": 14
          },
          "text": "<b>Constraint(s)</b>"
         },
         "x": 0.39473684210526316,
         "xanchor": "left",
         "y": 1,
         "yanchor": "top"
        },
        "margin": {
         "b": 0,
         "l": 0,
         "r": 0,
         "t": 33
        },
        "paper_bgcolor": "white",
        "plot_bgcolor": "#FAFAFA",
        "scene": {
         "aspectmode": "cube",
         "domain": {
          "x": [
           0,
           0.39473684210526316
          ],
          "y": [
           0,
           1
          ]
         },
         "xaxis": {
          "gridcolor": "#CCCCCC",
          "gridwidth": 1,
          "linecolor": "#4D4D4D",
          "linewidth": 2,
          "range": [
           0,
           6.5
          ],
          "rangemode": "tozero",
          "showspikes": false,
          "tickcolor": "#4D4D4D",
          "ticks": "outside",
          "title": {
           "text": "x<sub>1</sub>"
          }
         },
         "yaxis": {
          "gridcolor": "#CCCCCC",
          "gridwidth": 1,
          "linecolor": "#4D4D4D",
          "linewidth": 2,
          "range": [
           0,
           32.5
          ],
          "rangemode": "tozero",
          "showspikes": false,
          "tickcolor": "#4D4D4D",
          "ticks": "outside",
          "title": {
           "text": "x<sub>2</sub>"
          }
         },
         "zaxis": {
          "gridcolor": "#CCCCCC",
          "gridwidth": 1,
          "linecolor": "#4D4D4D",
          "linewidth": 2,
          "range": [
           0,
           162.5
          ],
          "rangemode": "tozero",
          "showspikes": false,
          "tickcolor": "#4D4D4D",
          "ticks": "outside",
          "title": {
           "text": "x<sub>3</sub>"
          }
         }
        },
        "sliders": [
         {
          "active": 0,
          "currentvalue": {
           "prefix": "Objective Value: "
          },
          "len": 0.4,
          "lenmode": "fraction",
          "pad": {
           "b": 0,
           "l": 0,
           "r": 0,
           "t": 50
          },
          "steps": [
           {
            "args": [
             {
              "visible": [
               null,
               true,
               true,
               true,
               true,
               true,
               true,
               "legendonly",
               "legendonly",
               "legendonly",
               null,
               true,
               true,
               false,
               false,
               false,
               false,
               false,
               false,
               false,
               false,
               false,
               false,
               false,
               false,
               false,
               false,
               false,
               false,
               false,
               false,
               false,
               false,
               false,
               false,
               false,
               false,
               false,
               false,
               false,
               false,
               false,
               false,
               false,
               false,
               false,
               false,
               false,
               false,
               false,
               false,
               false,
               false,
               false,
               false,
               false,
               false,
               false,
               false,
               false,
               false,
               false,
               false,
               null,
               false,
               false,
               false,
               false,
               false,
               false,
               false,
               false,
               false,
               false,
               null,
               false,
               false,
               false,
               false,
               false,
               false,
               false,
               false,
               false,
               false
              ]
             }
            ],
            "label": "0.0",
            "method": "update"
           },
           {
            "args": [
             {
              "visible": [
               null,
               true,
               true,
               true,
               true,
               true,
               true,
               "legendonly",
               "legendonly",
               "legendonly",
               null,
               false,
               false,
               true,
               true,
               false,
               false,
               false,
               false,
               false,
               false,
               false,
               false,
               false,
               false,
               false,
               false,
               false,
               false,
               false,
               false,
               false,
               false,
               false,
               false,
               false,
               false,
               false,
               false,
               false,
               false,
               false,
               false,
               false,
               false,
               false,
               false,
               false,
               false,
               false,
               false,
               false,
               false,
               false,
               false,
               false,
               false,
               false,
               false,
               false,
               false,
               false,
               false,
               null,
               false,
               false,
               false,
               false,
               false,
               false,
               false,
               false,
               false,
               false,
               null,
               false,
               false,
               false,
               false,
               false,
               false,
               false,
               false,
               false,
               false
              ]
             }
            ],
            "label": "10.56",
            "method": "update"
           },
           {
            "args": [
             {
              "visible": [
               null,
               true,
               true,
               true,
               true,
               true,
               true,
               "legendonly",
               "legendonly",
               "legendonly",
               null,
               false,
               false,
               false,
               false,
               true,
               true,
               false,
               false,
               false,
               false,
               false,
               false,
               false,
               false,
               false,
               false,
               false,
               false,
               false,
               false,
               false,
               false,
               false,
               false,
               false,
               false,
               false,
               false,
               false,
               false,
               false,
               false,
               false,
               false,
               false,
               false,
               false,
               false,
               false,
               false,
               false,
               false,
               false,
               false,
               false,
               false,
               false,
               false,
               false,
               false,
               false,
               false,
               null,
               false,
               false,
               false,
               false,
               false,
               false,
               false,
               false,
               false,
               false,
               null,
               false,
               false,
               false,
               false,
               false,
               false,
               false,
               false,
               false,
               false
              ]
             }
            ],
            "label": "21.12",
            "method": "update"
           },
           {
            "args": [
             {
              "visible": [
               null,
               true,
               true,
               true,
               true,
               true,
               true,
               "legendonly",
               "legendonly",
               "legendonly",
               null,
               false,
               false,
               false,
               false,
               false,
               false,
               true,
               true,
               false,
               false,
               false,
               false,
               false,
               false,
               false,
               false,
               false,
               false,
               false,
               false,
               false,
               false,
               false,
               false,
               false,
               false,
               false,
               false,
               false,
               false,
               false,
               false,
               false,
               false,
               false,
               false,
               false,
               false,
               false,
               false,
               false,
               false,
               false,
               false,
               false,
               false,
               false,
               false,
               false,
               false,
               false,
               false,
               null,
               false,
               false,
               false,
               false,
               false,
               false,
               false,
               false,
               false,
               false,
               null,
               false,
               false,
               false,
               false,
               false,
               false,
               false,
               false,
               false,
               false
              ]
             }
            ],
            "label": "31.69",
            "method": "update"
           },
           {
            "args": [
             {
              "visible": [
               null,
               true,
               true,
               true,
               true,
               true,
               true,
               "legendonly",
               "legendonly",
               "legendonly",
               null,
               false,
               false,
               false,
               false,
               false,
               false,
               false,
               false,
               true,
               true,
               false,
               false,
               false,
               false,
               false,
               false,
               false,
               false,
               false,
               false,
               false,
               false,
               false,
               false,
               false,
               false,
               false,
               false,
               false,
               false,
               false,
               false,
               false,
               false,
               false,
               false,
               false,
               false,
               false,
               false,
               false,
               false,
               false,
               false,
               false,
               false,
               false,
               false,
               false,
               false,
               false,
               false,
               null,
               false,
               false,
               false,
               false,
               false,
               false,
               false,
               false,
               false,
               false,
               null,
               false,
               false,
               false,
               false,
               false,
               false,
               false,
               false,
               false,
               false
              ]
             }
            ],
            "label": "42.25",
            "method": "update"
           },
           {
            "args": [
             {
              "visible": [
               null,
               true,
               true,
               true,
               true,
               true,
               true,
               "legendonly",
               "legendonly",
               "legendonly",
               null,
               false,
               false,
               false,
               false,
               false,
               false,
               false,
               false,
               false,
               false,
               true,
               true,
               false,
               false,
               false,
               false,
               false,
               false,
               false,
               false,
               false,
               false,
               false,
               false,
               false,
               false,
               false,
               false,
               false,
               false,
               false,
               false,
               false,
               false,
               false,
               false,
               false,
               false,
               false,
               false,
               false,
               false,
               false,
               false,
               false,
               false,
               false,
               false,
               false,
               false,
               false,
               false,
               null,
               false,
               false,
               false,
               false,
               false,
               false,
               false,
               false,
               false,
               false,
               null,
               false,
               false,
               false,
               false,
               false,
               false,
               false,
               false,
               false,
               false
              ]
             }
            ],
            "label": "52.81",
            "method": "update"
           },
           {
            "args": [
             {
              "visible": [
               null,
               true,
               true,
               true,
               true,
               true,
               true,
               "legendonly",
               "legendonly",
               "legendonly",
               null,
               false,
               false,
               false,
               false,
               false,
               false,
               false,
               false,
               false,
               false,
               false,
               false,
               true,
               true,
               false,
               false,
               false,
               false,
               false,
               false,
               false,
               false,
               false,
               false,
               false,
               false,
               false,
               false,
               false,
               false,
               false,
               false,
               false,
               false,
               false,
               false,
               false,
               false,
               false,
               false,
               false,
               false,
               false,
               false,
               false,
               false,
               false,
               false,
               false,
               false,
               false,
               false,
               null,
               false,
               false,
               false,
               false,
               false,
               false,
               false,
               false,
               false,
               false,
               null,
               false,
               false,
               false,
               false,
               false,
               false,
               false,
               false,
               false,
               false
              ]
             }
            ],
            "label": "63.38",
            "method": "update"
           },
           {
            "args": [
             {
              "visible": [
               null,
               true,
               true,
               true,
               true,
               true,
               true,
               "legendonly",
               "legendonly",
               "legendonly",
               null,
               false,
               false,
               false,
               false,
               false,
               false,
               false,
               false,
               false,
               false,
               false,
               false,
               false,
               false,
               true,
               true,
               false,
               false,
               false,
               false,
               false,
               false,
               false,
               false,
               false,
               false,
               false,
               false,
               false,
               false,
               false,
               false,
               false,
               false,
               false,
               false,
               false,
               false,
               false,
               false,
               false,
               false,
               false,
               false,
               false,
               false,
               false,
               false,
               false,
               false,
               false,
               false,
               null,
               false,
               false,
               false,
               false,
               false,
               false,
               false,
               false,
               false,
               false,
               null,
               false,
               false,
               false,
               false,
               false,
               false,
               false,
               false,
               false,
               false
              ]
             }
            ],
            "label": "73.94",
            "method": "update"
           },
           {
            "args": [
             {
              "visible": [
               null,
               true,
               true,
               true,
               true,
               true,
               true,
               "legendonly",
               "legendonly",
               "legendonly",
               null,
               false,
               false,
               false,
               false,
               false,
               false,
               false,
               false,
               false,
               false,
               false,
               false,
               false,
               false,
               false,
               false,
               true,
               true,
               false,
               false,
               false,
               false,
               false,
               false,
               false,
               false,
               false,
               false,
               false,
               false,
               false,
               false,
               false,
               false,
               false,
               false,
               false,
               false,
               false,
               false,
               false,
               false,
               false,
               false,
               false,
               false,
               false,
               false,
               false,
               false,
               false,
               false,
               null,
               false,
               false,
               false,
               false,
               false,
               false,
               false,
               false,
               false,
               false,
               null,
               false,
               false,
               false,
               false,
               false,
               false,
               false,
               false,
               false,
               false
              ]
             }
            ],
            "label": "84.5",
            "method": "update"
           },
           {
            "args": [
             {
              "visible": [
               null,
               true,
               true,
               true,
               true,
               true,
               true,
               "legendonly",
               "legendonly",
               "legendonly",
               null,
               false,
               false,
               false,
               false,
               false,
               false,
               false,
               false,
               false,
               false,
               false,
               false,
               false,
               false,
               false,
               false,
               false,
               false,
               true,
               true,
               false,
               false,
               false,
               false,
               false,
               false,
               false,
               false,
               false,
               false,
               false,
               false,
               false,
               false,
               false,
               false,
               false,
               false,
               false,
               false,
               false,
               false,
               false,
               false,
               false,
               false,
               false,
               false,
               false,
               false,
               false,
               false,
               null,
               false,
               false,
               false,
               false,
               false,
               false,
               false,
               false,
               false,
               false,
               null,
               false,
               false,
               false,
               false,
               false,
               false,
               false,
               false,
               false,
               false
              ]
             }
            ],
            "label": "95.06",
            "method": "update"
           },
           {
            "args": [
             {
              "visible": [
               null,
               true,
               true,
               true,
               true,
               true,
               true,
               "legendonly",
               "legendonly",
               "legendonly",
               null,
               false,
               false,
               false,
               false,
               false,
               false,
               false,
               false,
               false,
               false,
               false,
               false,
               false,
               false,
               false,
               false,
               false,
               false,
               false,
               false,
               true,
               true,
               false,
               false,
               false,
               false,
               false,
               false,
               false,
               false,
               false,
               false,
               false,
               false,
               false,
               false,
               false,
               false,
               false,
               false,
               false,
               false,
               false,
               false,
               false,
               false,
               false,
               false,
               false,
               false,
               false,
               false,
               null,
               false,
               false,
               false,
               false,
               false,
               false,
               false,
               false,
               false,
               false,
               null,
               false,
               false,
               false,
               false,
               false,
               false,
               false,
               false,
               false,
               false
              ]
             }
            ],
            "label": "105.62",
            "method": "update"
           },
           {
            "args": [
             {
              "visible": [
               null,
               true,
               true,
               true,
               true,
               true,
               true,
               "legendonly",
               "legendonly",
               "legendonly",
               null,
               false,
               false,
               false,
               false,
               false,
               false,
               false,
               false,
               false,
               false,
               false,
               false,
               false,
               false,
               false,
               false,
               false,
               false,
               false,
               false,
               false,
               false,
               true,
               true,
               false,
               false,
               false,
               false,
               false,
               false,
               false,
               false,
               false,
               false,
               false,
               false,
               false,
               false,
               false,
               false,
               false,
               false,
               false,
               false,
               false,
               false,
               false,
               false,
               false,
               false,
               false,
               false,
               null,
               false,
               false,
               false,
               false,
               false,
               false,
               false,
               false,
               false,
               false,
               null,
               false,
               false,
               false,
               false,
               false,
               false,
               false,
               false,
               false,
               false
              ]
             }
            ],
            "label": "116.19",
            "method": "update"
           },
           {
            "args": [
             {
              "visible": [
               null,
               true,
               true,
               true,
               true,
               true,
               true,
               "legendonly",
               "legendonly",
               "legendonly",
               null,
               false,
               false,
               false,
               false,
               false,
               false,
               false,
               false,
               false,
               false,
               false,
               false,
               false,
               false,
               false,
               false,
               false,
               false,
               false,
               false,
               false,
               false,
               false,
               false,
               true,
               true,
               false,
               false,
               false,
               false,
               false,
               false,
               false,
               false,
               false,
               false,
               false,
               false,
               false,
               false,
               false,
               false,
               false,
               false,
               false,
               false,
               false,
               false,
               false,
               false,
               false,
               false,
               null,
               false,
               false,
               false,
               false,
               false,
               false,
               false,
               false,
               false,
               false,
               null,
               false,
               false,
               false,
               false,
               false,
               false,
               false,
               false,
               false,
               false
              ]
             }
            ],
            "label": "125.0",
            "method": "update"
           },
           {
            "args": [
             {
              "visible": [
               null,
               true,
               true,
               true,
               true,
               true,
               true,
               "legendonly",
               "legendonly",
               "legendonly",
               null,
               false,
               false,
               false,
               false,
               false,
               false,
               false,
               false,
               false,
               false,
               false,
               false,
               false,
               false,
               false,
               false,
               false,
               false,
               false,
               false,
               false,
               false,
               false,
               false,
               false,
               false,
               true,
               true,
               false,
               false,
               false,
               false,
               false,
               false,
               false,
               false,
               false,
               false,
               false,
               false,
               false,
               false,
               false,
               false,
               false,
               false,
               false,
               false,
               false,
               false,
               false,
               false,
               null,
               false,
               false,
               false,
               false,
               false,
               false,
               false,
               false,
               false,
               false,
               null,
               false,
               false,
               false,
               false,
               false,
               false,
               false,
               false,
               false,
               false
              ]
             }
            ],
            "label": "126.75",
            "method": "update"
           },
           {
            "args": [
             {
              "visible": [
               null,
               true,
               true,
               true,
               true,
               true,
               true,
               "legendonly",
               "legendonly",
               "legendonly",
               null,
               false,
               false,
               false,
               false,
               false,
               false,
               false,
               false,
               false,
               false,
               false,
               false,
               false,
               false,
               false,
               false,
               false,
               false,
               false,
               false,
               false,
               false,
               false,
               false,
               false,
               false,
               false,
               false,
               true,
               true,
               false,
               false,
               false,
               false,
               false,
               false,
               false,
               false,
               false,
               false,
               false,
               false,
               false,
               false,
               false,
               false,
               false,
               false,
               false,
               false,
               false,
               false,
               null,
               false,
               false,
               false,
               false,
               false,
               false,
               false,
               false,
               false,
               false,
               null,
               false,
               false,
               false,
               false,
               false,
               false,
               false,
               false,
               false,
               false
              ]
             }
            ],
            "label": "137.31",
            "method": "update"
           },
           {
            "args": [
             {
              "visible": [
               null,
               true,
               true,
               true,
               true,
               true,
               true,
               "legendonly",
               "legendonly",
               "legendonly",
               null,
               false,
               false,
               false,
               false,
               false,
               false,
               false,
               false,
               false,
               false,
               false,
               false,
               false,
               false,
               false,
               false,
               false,
               false,
               false,
               false,
               false,
               false,
               false,
               false,
               false,
               false,
               false,
               false,
               false,
               false,
               true,
               true,
               false,
               false,
               false,
               false,
               false,
               false,
               false,
               false,
               false,
               false,
               false,
               false,
               false,
               false,
               false,
               false,
               false,
               false,
               false,
               false,
               null,
               false,
               false,
               false,
               false,
               false,
               false,
               false,
               false,
               false,
               false,
               null,
               false,
               false,
               false,
               false,
               false,
               false,
               false,
               false,
               false,
               false
              ]
             }
            ],
            "label": "147.88",
            "method": "update"
           },
           {
            "args": [
             {
              "visible": [
               null,
               true,
               true,
               true,
               true,
               true,
               true,
               "legendonly",
               "legendonly",
               "legendonly",
               null,
               false,
               false,
               false,
               false,
               false,
               false,
               false,
               false,
               false,
               false,
               false,
               false,
               false,
               false,
               false,
               false,
               false,
               false,
               false,
               false,
               false,
               false,
               false,
               false,
               false,
               false,
               false,
               false,
               false,
               false,
               false,
               false,
               true,
               true,
               false,
               false,
               false,
               false,
               false,
               false,
               false,
               false,
               false,
               false,
               false,
               false,
               false,
               false,
               false,
               false,
               false,
               false,
               null,
               false,
               false,
               false,
               false,
               false,
               false,
               false,
               false,
               false,
               false,
               null,
               false,
               false,
               false,
               false,
               false,
               false,
               false,
               false,
               false,
               false
              ]
             }
            ],
            "label": "158.44",
            "method": "update"
           },
           {
            "args": [
             {
              "visible": [
               null,
               true,
               true,
               true,
               true,
               true,
               true,
               "legendonly",
               "legendonly",
               "legendonly",
               null,
               false,
               false,
               false,
               false,
               false,
               false,
               false,
               false,
               false,
               false,
               false,
               false,
               false,
               false,
               false,
               false,
               false,
               false,
               false,
               false,
               false,
               false,
               false,
               false,
               false,
               false,
               false,
               false,
               false,
               false,
               false,
               false,
               false,
               false,
               true,
               true,
               false,
               false,
               false,
               false,
               false,
               false,
               false,
               false,
               false,
               false,
               false,
               false,
               false,
               false,
               false,
               false,
               null,
               false,
               false,
               false,
               false,
               false,
               false,
               false,
               false,
               false,
               false,
               null,
               false,
               false,
               false,
               false,
               false,
               false,
               false,
               false,
               false,
               false
              ]
             }
            ],
            "label": "169.0",
            "method": "update"
           },
           {
            "args": [
             {
              "visible": [
               null,
               true,
               true,
               true,
               true,
               true,
               true,
               "legendonly",
               "legendonly",
               "legendonly",
               null,
               false,
               false,
               false,
               false,
               false,
               false,
               false,
               false,
               false,
               false,
               false,
               false,
               false,
               false,
               false,
               false,
               false,
               false,
               false,
               false,
               false,
               false,
               false,
               false,
               false,
               false,
               false,
               false,
               false,
               false,
               false,
               false,
               false,
               false,
               false,
               false,
               true,
               true,
               false,
               false,
               false,
               false,
               false,
               false,
               false,
               false,
               false,
               false,
               false,
               false,
               false,
               false,
               null,
               false,
               false,
               false,
               false,
               false,
               false,
               false,
               false,
               false,
               false,
               null,
               false,
               false,
               false,
               false,
               false,
               false,
               false,
               false,
               false,
               false
              ]
             }
            ],
            "label": "179.56",
            "method": "update"
           },
           {
            "args": [
             {
              "visible": [
               null,
               true,
               true,
               true,
               true,
               true,
               true,
               "legendonly",
               "legendonly",
               "legendonly",
               null,
               false,
               false,
               false,
               false,
               false,
               false,
               false,
               false,
               false,
               false,
               false,
               false,
               false,
               false,
               false,
               false,
               false,
               false,
               false,
               false,
               false,
               false,
               false,
               false,
               false,
               false,
               false,
               false,
               false,
               false,
               false,
               false,
               false,
               false,
               false,
               false,
               false,
               false,
               true,
               true,
               false,
               false,
               false,
               false,
               false,
               false,
               false,
               false,
               false,
               false,
               false,
               false,
               null,
               false,
               false,
               false,
               false,
               false,
               false,
               false,
               false,
               false,
               false,
               null,
               false,
               false,
               false,
               false,
               false,
               false,
               false,
               false,
               false,
               false
              ]
             }
            ],
            "label": "190.12",
            "method": "update"
           },
           {
            "args": [
             {
              "visible": [
               null,
               true,
               true,
               true,
               true,
               true,
               true,
               "legendonly",
               "legendonly",
               "legendonly",
               null,
               false,
               false,
               false,
               false,
               false,
               false,
               false,
               false,
               false,
               false,
               false,
               false,
               false,
               false,
               false,
               false,
               false,
               false,
               false,
               false,
               false,
               false,
               false,
               false,
               false,
               false,
               false,
               false,
               false,
               false,
               false,
               false,
               false,
               false,
               false,
               false,
               false,
               false,
               false,
               false,
               true,
               true,
               false,
               false,
               false,
               false,
               false,
               false,
               false,
               false,
               false,
               false,
               null,
               false,
               false,
               false,
               false,
               false,
               false,
               false,
               false,
               false,
               false,
               null,
               false,
               false,
               false,
               false,
               false,
               false,
               false,
               false,
               false,
               false
              ]
             }
            ],
            "label": "200.69",
            "method": "update"
           },
           {
            "args": [
             {
              "visible": [
               null,
               true,
               true,
               true,
               true,
               true,
               true,
               "legendonly",
               "legendonly",
               "legendonly",
               null,
               false,
               false,
               false,
               false,
               false,
               false,
               false,
               false,
               false,
               false,
               false,
               false,
               false,
               false,
               false,
               false,
               false,
               false,
               false,
               false,
               false,
               false,
               false,
               false,
               false,
               false,
               false,
               false,
               false,
               false,
               false,
               false,
               false,
               false,
               false,
               false,
               false,
               false,
               false,
               false,
               false,
               false,
               true,
               true,
               false,
               false,
               false,
               false,
               false,
               false,
               false,
               false,
               null,
               false,
               false,
               false,
               false,
               false,
               false,
               false,
               false,
               false,
               false,
               null,
               false,
               false,
               false,
               false,
               false,
               false,
               false,
               false,
               false,
               false
              ]
             }
            ],
            "label": "211.25",
            "method": "update"
           },
           {
            "args": [
             {
              "visible": [
               null,
               true,
               true,
               true,
               true,
               true,
               true,
               "legendonly",
               "legendonly",
               "legendonly",
               null,
               false,
               false,
               false,
               false,
               false,
               false,
               false,
               false,
               false,
               false,
               false,
               false,
               false,
               false,
               false,
               false,
               false,
               false,
               false,
               false,
               false,
               false,
               false,
               false,
               false,
               false,
               false,
               false,
               false,
               false,
               false,
               false,
               false,
               false,
               false,
               false,
               false,
               false,
               false,
               false,
               false,
               false,
               false,
               false,
               true,
               true,
               false,
               false,
               false,
               false,
               false,
               false,
               null,
               false,
               false,
               false,
               false,
               false,
               false,
               false,
               false,
               false,
               false,
               null,
               false,
               false,
               false,
               false,
               false,
               false,
               false,
               false,
               false,
               false
              ]
             }
            ],
            "label": "221.81",
            "method": "update"
           },
           {
            "args": [
             {
              "visible": [
               null,
               true,
               true,
               true,
               true,
               true,
               true,
               "legendonly",
               "legendonly",
               "legendonly",
               null,
               false,
               false,
               false,
               false,
               false,
               false,
               false,
               false,
               false,
               false,
               false,
               false,
               false,
               false,
               false,
               false,
               false,
               false,
               false,
               false,
               false,
               false,
               false,
               false,
               false,
               false,
               false,
               false,
               false,
               false,
               false,
               false,
               false,
               false,
               false,
               false,
               false,
               false,
               false,
               false,
               false,
               false,
               false,
               false,
               false,
               false,
               true,
               true,
               false,
               false,
               false,
               false,
               null,
               false,
               false,
               false,
               false,
               false,
               false,
               false,
               false,
               false,
               false,
               null,
               false,
               false,
               false,
               false,
               false,
               false,
               false,
               false,
               false,
               false
              ]
             }
            ],
            "label": "232.38",
            "method": "update"
           },
           {
            "args": [
             {
              "visible": [
               null,
               true,
               true,
               true,
               true,
               true,
               true,
               "legendonly",
               "legendonly",
               "legendonly",
               null,
               false,
               false,
               false,
               false,
               false,
               false,
               false,
               false,
               false,
               false,
               false,
               false,
               false,
               false,
               false,
               false,
               false,
               false,
               false,
               false,
               false,
               false,
               false,
               false,
               false,
               false,
               false,
               false,
               false,
               false,
               false,
               false,
               false,
               false,
               false,
               false,
               false,
               false,
               false,
               false,
               false,
               false,
               false,
               false,
               false,
               false,
               false,
               false,
               true,
               true,
               false,
               false,
               null,
               false,
               false,
               false,
               false,
               false,
               false,
               false,
               false,
               false,
               false,
               null,
               false,
               false,
               false,
               false,
               false,
               false,
               false,
               false,
               false,
               false
              ]
             }
            ],
            "label": "242.94",
            "method": "update"
           },
           {
            "args": [
             {
              "visible": [
               null,
               true,
               true,
               true,
               true,
               true,
               true,
               "legendonly",
               "legendonly",
               "legendonly",
               null,
               false,
               false,
               false,
               false,
               false,
               false,
               false,
               false,
               false,
               false,
               false,
               false,
               false,
               false,
               false,
               false,
               false,
               false,
               false,
               false,
               false,
               false,
               false,
               false,
               false,
               false,
               false,
               false,
               false,
               false,
               false,
               false,
               false,
               false,
               false,
               false,
               false,
               false,
               false,
               false,
               false,
               false,
               false,
               false,
               false,
               false,
               false,
               false,
               false,
               false,
               true,
               true,
               null,
               false,
               false,
               false,
               false,
               false,
               false,
               false,
               false,
               false,
               false,
               null,
               false,
               false,
               false,
               false,
               false,
               false,
               false,
               false,
               false,
               false
              ]
             }
            ],
            "label": "253.5",
            "method": "update"
           }
          ],
          "tickcolor": "white",
          "ticklen": 0,
          "x": 0.6052631578947368,
          "xanchor": "left",
          "y": 0.01,
          "yanchor": "bottom"
         },
         {
          "active": 0,
          "currentvalue": {
           "prefix": "Iteration: "
          },
          "len": 0.4,
          "lenmode": "fraction",
          "pad": {
           "b": 0,
           "l": 0,
           "r": 0,
           "t": 0
          },
          "steps": [
           {
            "args": [
             {
              "visible": [
               null,
               true,
               true,
               true,
               true,
               true,
               true,
               "legendonly",
               "legendonly",
               "legendonly",
               null,
               false,
               false,
               false,
               false,
               false,
               false,
               false,
               false,
               false,
               false,
               false,
               false,
               false,
               false,
               false,
               false,
               false,
               false,
               false,
               false,
               false,
               false,
               false,
               false,
               false,
               false,
               false,
               null,
               false,
               null,
               false,
               null,
               false,
               null,
               false,
               null,
               false,
               null,
               false,
               null,
               false,
               null,
               false,
               null,
               false,
               null,
               false,
               null,
               false,
               null,
               false,
               null,
               null,
               false,
               false,
               false,
               false,
               false,
               false,
               false,
               false,
               false,
               false,
               true,
               false,
               false,
               false,
               false,
               false,
               false,
               false,
               false,
               false,
               false
              ]
             }
            ],
            "label": "0",
            "method": "update"
           },
           {
            "args": [
             {
              "visible": [
               null,
               true,
               true,
               true,
               true,
               true,
               true,
               "legendonly",
               "legendonly",
               "legendonly",
               null,
               false,
               false,
               false,
               false,
               false,
               false,
               false,
               false,
               false,
               false,
               false,
               false,
               false,
               false,
               false,
               false,
               false,
               false,
               false,
               false,
               false,
               false,
               false,
               false,
               false,
               false,
               false,
               null,
               false,
               null,
               false,
               null,
               false,
               null,
               false,
               null,
               false,
               null,
               false,
               null,
               false,
               null,
               false,
               null,
               false,
               null,
               false,
               null,
               false,
               null,
               false,
               null,
               null,
               true,
               false,
               false,
               false,
               false,
               false,
               false,
               false,
               false,
               false,
               false,
               true,
               false,
               false,
               false,
               false,
               false,
               false,
               false,
               false,
               false
              ]
             }
            ],
            "label": "",
            "method": "update"
           },
           {
            "args": [
             {
              "visible": [
               null,
               true,
               true,
               true,
               true,
               true,
               true,
               "legendonly",
               "legendonly",
               "legendonly",
               null,
               false,
               false,
               false,
               false,
               false,
               false,
               false,
               false,
               false,
               false,
               false,
               false,
               false,
               false,
               false,
               false,
               false,
               false,
               false,
               false,
               false,
               false,
               false,
               false,
               false,
               false,
               false,
               null,
               false,
               null,
               false,
               null,
               false,
               null,
               false,
               null,
               false,
               null,
               false,
               null,
               false,
               null,
               false,
               null,
               false,
               null,
               false,
               null,
               false,
               null,
               false,
               null,
               null,
               true,
               true,
               false,
               false,
               false,
               false,
               false,
               false,
               false,
               false,
               false,
               false,
               true,
               false,
               false,
               false,
               false,
               false,
               false,
               false,
               false
              ]
             }
            ],
            "label": "1",
            "method": "update"
           },
           {
            "args": [
             {
              "visible": [
               null,
               true,
               true,
               true,
               true,
               true,
               true,
               "legendonly",
               "legendonly",
               "legendonly",
               null,
               false,
               false,
               false,
               false,
               false,
               false,
               false,
               false,
               false,
               false,
               false,
               false,
               false,
               false,
               false,
               false,
               false,
               false,
               false,
               false,
               false,
               false,
               false,
               false,
               false,
               false,
               false,
               null,
               false,
               null,
               false,
               null,
               false,
               null,
               false,
               null,
               false,
               null,
               false,
               null,
               false,
               null,
               false,
               null,
               false,
               null,
               false,
               null,
               false,
               null,
               false,
               null,
               null,
               true,
               true,
               true,
               false,
               false,
               false,
               false,
               false,
               false,
               false,
               false,
               false,
               false,
               true,
               false,
               false,
               false,
               false,
               false,
               false,
               false
              ]
             }
            ],
            "label": "",
            "method": "update"
           },
           {
            "args": [
             {
              "visible": [
               null,
               true,
               true,
               true,
               true,
               true,
               true,
               "legendonly",
               "legendonly",
               "legendonly",
               null,
               false,
               false,
               false,
               false,
               false,
               false,
               false,
               false,
               false,
               false,
               false,
               false,
               false,
               false,
               false,
               false,
               false,
               false,
               false,
               false,
               false,
               false,
               false,
               false,
               false,
               false,
               false,
               null,
               false,
               null,
               false,
               null,
               false,
               null,
               false,
               null,
               false,
               null,
               false,
               null,
               false,
               null,
               false,
               null,
               false,
               null,
               false,
               null,
               false,
               null,
               false,
               null,
               null,
               true,
               true,
               true,
               true,
               false,
               false,
               false,
               false,
               false,
               false,
               false,
               false,
               false,
               false,
               true,
               false,
               false,
               false,
               false,
               false,
               false
              ]
             }
            ],
            "label": "2",
            "method": "update"
           },
           {
            "args": [
             {
              "visible": [
               null,
               true,
               true,
               true,
               true,
               true,
               true,
               "legendonly",
               "legendonly",
               "legendonly",
               null,
               false,
               false,
               false,
               false,
               false,
               false,
               false,
               false,
               false,
               false,
               false,
               false,
               false,
               false,
               false,
               false,
               false,
               false,
               false,
               false,
               false,
               false,
               false,
               false,
               false,
               false,
               false,
               null,
               false,
               null,
               false,
               null,
               false,
               null,
               false,
               null,
               false,
               null,
               false,
               null,
               false,
               null,
               false,
               null,
               false,
               null,
               false,
               null,
               false,
               null,
               false,
               null,
               null,
               true,
               true,
               true,
               true,
               true,
               false,
               false,
               false,
               false,
               false,
               false,
               false,
               false,
               false,
               false,
               true,
               false,
               false,
               false,
               false,
               false
              ]
             }
            ],
            "label": "",
            "method": "update"
           },
           {
            "args": [
             {
              "visible": [
               null,
               true,
               true,
               true,
               true,
               true,
               true,
               "legendonly",
               "legendonly",
               "legendonly",
               null,
               false,
               false,
               false,
               false,
               false,
               false,
               false,
               false,
               false,
               false,
               false,
               false,
               false,
               false,
               false,
               false,
               false,
               false,
               false,
               false,
               false,
               false,
               false,
               false,
               false,
               false,
               false,
               null,
               false,
               null,
               false,
               null,
               false,
               null,
               false,
               null,
               false,
               null,
               false,
               null,
               false,
               null,
               false,
               null,
               false,
               null,
               false,
               null,
               false,
               null,
               false,
               null,
               null,
               true,
               true,
               true,
               true,
               true,
               true,
               false,
               false,
               false,
               false,
               false,
               false,
               false,
               false,
               false,
               false,
               true,
               false,
               false,
               false,
               false
              ]
             }
            ],
            "label": "3",
            "method": "update"
           },
           {
            "args": [
             {
              "visible": [
               null,
               true,
               true,
               true,
               true,
               true,
               true,
               "legendonly",
               "legendonly",
               "legendonly",
               null,
               false,
               false,
               false,
               false,
               false,
               false,
               false,
               false,
               false,
               false,
               false,
               false,
               false,
               false,
               false,
               false,
               false,
               false,
               false,
               false,
               false,
               false,
               false,
               false,
               false,
               false,
               false,
               null,
               false,
               null,
               false,
               null,
               false,
               null,
               false,
               null,
               false,
               null,
               false,
               null,
               false,
               null,
               false,
               null,
               false,
               null,
               false,
               null,
               false,
               null,
               false,
               null,
               null,
               true,
               true,
               true,
               true,
               true,
               true,
               true,
               false,
               false,
               false,
               false,
               false,
               false,
               false,
               false,
               false,
               false,
               true,
               false,
               false,
               false
              ]
             }
            ],
            "label": "",
            "method": "update"
           },
           {
            "args": [
             {
              "visible": [
               null,
               true,
               true,
               true,
               true,
               true,
               true,
               "legendonly",
               "legendonly",
               "legendonly",
               null,
               false,
               false,
               false,
               false,
               false,
               false,
               false,
               false,
               false,
               false,
               false,
               false,
               false,
               false,
               false,
               false,
               false,
               false,
               false,
               false,
               false,
               false,
               false,
               false,
               false,
               false,
               false,
               null,
               false,
               null,
               false,
               null,
               false,
               null,
               false,
               null,
               false,
               null,
               false,
               null,
               false,
               null,
               false,
               null,
               false,
               null,
               false,
               null,
               false,
               null,
               false,
               null,
               null,
               true,
               true,
               true,
               true,
               true,
               true,
               true,
               true,
               false,
               false,
               false,
               false,
               false,
               false,
               false,
               false,
               false,
               false,
               true,
               false,
               false
              ]
             }
            ],
            "label": "4",
            "method": "update"
           },
           {
            "args": [
             {
              "visible": [
               null,
               true,
               true,
               true,
               true,
               true,
               true,
               "legendonly",
               "legendonly",
               "legendonly",
               null,
               false,
               false,
               false,
               false,
               false,
               false,
               false,
               false,
               false,
               false,
               false,
               false,
               false,
               false,
               false,
               false,
               false,
               false,
               false,
               false,
               false,
               false,
               false,
               false,
               false,
               false,
               false,
               null,
               false,
               null,
               false,
               null,
               false,
               null,
               false,
               null,
               false,
               null,
               false,
               null,
               false,
               null,
               false,
               null,
               false,
               null,
               false,
               null,
               false,
               null,
               false,
               null,
               null,
               true,
               true,
               true,
               true,
               true,
               true,
               true,
               true,
               true,
               false,
               false,
               false,
               false,
               false,
               false,
               false,
               false,
               false,
               false,
               true,
               false
              ]
             }
            ],
            "label": "",
            "method": "update"
           },
           {
            "args": [
             {
              "visible": [
               null,
               true,
               true,
               true,
               true,
               true,
               true,
               "legendonly",
               "legendonly",
               "legendonly",
               null,
               false,
               false,
               false,
               false,
               false,
               false,
               false,
               false,
               false,
               false,
               false,
               false,
               false,
               false,
               false,
               false,
               false,
               false,
               false,
               false,
               false,
               false,
               false,
               false,
               false,
               false,
               false,
               null,
               false,
               null,
               false,
               null,
               false,
               null,
               false,
               null,
               false,
               null,
               false,
               null,
               false,
               null,
               false,
               null,
               false,
               null,
               false,
               null,
               false,
               null,
               false,
               null,
               null,
               true,
               true,
               true,
               true,
               true,
               true,
               true,
               true,
               true,
               true,
               false,
               false,
               false,
               false,
               false,
               false,
               false,
               false,
               false,
               false,
               true
              ]
             }
            ],
            "label": "5",
            "method": "update"
           }
          ],
          "tickcolor": "white",
          "ticklen": 0,
          "x": 0.6052631578947368,
          "xanchor": "left",
          "y": 0.17,
          "yanchor": "bottom"
         }
        ],
        "template": {
         "data": {
          "bar": [
           {
            "error_x": {
             "color": "#2a3f5f"
            },
            "error_y": {
             "color": "#2a3f5f"
            },
            "marker": {
             "line": {
              "color": "#E5ECF6",
              "width": 0.5
             },
             "pattern": {
              "fillmode": "overlay",
              "size": 10,
              "solidity": 0.2
             }
            },
            "type": "bar"
           }
          ],
          "barpolar": [
           {
            "marker": {
             "line": {
              "color": "#E5ECF6",
              "width": 0.5
             },
             "pattern": {
              "fillmode": "overlay",
              "size": 10,
              "solidity": 0.2
             }
            },
            "type": "barpolar"
           }
          ],
          "carpet": [
           {
            "aaxis": {
             "endlinecolor": "#2a3f5f",
             "gridcolor": "white",
             "linecolor": "white",
             "minorgridcolor": "white",
             "startlinecolor": "#2a3f5f"
            },
            "baxis": {
             "endlinecolor": "#2a3f5f",
             "gridcolor": "white",
             "linecolor": "white",
             "minorgridcolor": "white",
             "startlinecolor": "#2a3f5f"
            },
            "type": "carpet"
           }
          ],
          "choropleth": [
           {
            "colorbar": {
             "outlinewidth": 0,
             "ticks": ""
            },
            "type": "choropleth"
           }
          ],
          "contour": [
           {
            "colorbar": {
             "outlinewidth": 0,
             "ticks": ""
            },
            "colorscale": [
             [
              0,
              "#0d0887"
             ],
             [
              0.1111111111111111,
              "#46039f"
             ],
             [
              0.2222222222222222,
              "#7201a8"
             ],
             [
              0.3333333333333333,
              "#9c179e"
             ],
             [
              0.4444444444444444,
              "#bd3786"
             ],
             [
              0.5555555555555556,
              "#d8576b"
             ],
             [
              0.6666666666666666,
              "#ed7953"
             ],
             [
              0.7777777777777778,
              "#fb9f3a"
             ],
             [
              0.8888888888888888,
              "#fdca26"
             ],
             [
              1,
              "#f0f921"
             ]
            ],
            "type": "contour"
           }
          ],
          "contourcarpet": [
           {
            "colorbar": {
             "outlinewidth": 0,
             "ticks": ""
            },
            "type": "contourcarpet"
           }
          ],
          "heatmap": [
           {
            "colorbar": {
             "outlinewidth": 0,
             "ticks": ""
            },
            "colorscale": [
             [
              0,
              "#0d0887"
             ],
             [
              0.1111111111111111,
              "#46039f"
             ],
             [
              0.2222222222222222,
              "#7201a8"
             ],
             [
              0.3333333333333333,
              "#9c179e"
             ],
             [
              0.4444444444444444,
              "#bd3786"
             ],
             [
              0.5555555555555556,
              "#d8576b"
             ],
             [
              0.6666666666666666,
              "#ed7953"
             ],
             [
              0.7777777777777778,
              "#fb9f3a"
             ],
             [
              0.8888888888888888,
              "#fdca26"
             ],
             [
              1,
              "#f0f921"
             ]
            ],
            "type": "heatmap"
           }
          ],
          "heatmapgl": [
           {
            "colorbar": {
             "outlinewidth": 0,
             "ticks": ""
            },
            "colorscale": [
             [
              0,
              "#0d0887"
             ],
             [
              0.1111111111111111,
              "#46039f"
             ],
             [
              0.2222222222222222,
              "#7201a8"
             ],
             [
              0.3333333333333333,
              "#9c179e"
             ],
             [
              0.4444444444444444,
              "#bd3786"
             ],
             [
              0.5555555555555556,
              "#d8576b"
             ],
             [
              0.6666666666666666,
              "#ed7953"
             ],
             [
              0.7777777777777778,
              "#fb9f3a"
             ],
             [
              0.8888888888888888,
              "#fdca26"
             ],
             [
              1,
              "#f0f921"
             ]
            ],
            "type": "heatmapgl"
           }
          ],
          "histogram": [
           {
            "marker": {
             "pattern": {
              "fillmode": "overlay",
              "size": 10,
              "solidity": 0.2
             }
            },
            "type": "histogram"
           }
          ],
          "histogram2d": [
           {
            "colorbar": {
             "outlinewidth": 0,
             "ticks": ""
            },
            "colorscale": [
             [
              0,
              "#0d0887"
             ],
             [
              0.1111111111111111,
              "#46039f"
             ],
             [
              0.2222222222222222,
              "#7201a8"
             ],
             [
              0.3333333333333333,
              "#9c179e"
             ],
             [
              0.4444444444444444,
              "#bd3786"
             ],
             [
              0.5555555555555556,
              "#d8576b"
             ],
             [
              0.6666666666666666,
              "#ed7953"
             ],
             [
              0.7777777777777778,
              "#fb9f3a"
             ],
             [
              0.8888888888888888,
              "#fdca26"
             ],
             [
              1,
              "#f0f921"
             ]
            ],
            "type": "histogram2d"
           }
          ],
          "histogram2dcontour": [
           {
            "colorbar": {
             "outlinewidth": 0,
             "ticks": ""
            },
            "colorscale": [
             [
              0,
              "#0d0887"
             ],
             [
              0.1111111111111111,
              "#46039f"
             ],
             [
              0.2222222222222222,
              "#7201a8"
             ],
             [
              0.3333333333333333,
              "#9c179e"
             ],
             [
              0.4444444444444444,
              "#bd3786"
             ],
             [
              0.5555555555555556,
              "#d8576b"
             ],
             [
              0.6666666666666666,
              "#ed7953"
             ],
             [
              0.7777777777777778,
              "#fb9f3a"
             ],
             [
              0.8888888888888888,
              "#fdca26"
             ],
             [
              1,
              "#f0f921"
             ]
            ],
            "type": "histogram2dcontour"
           }
          ],
          "mesh3d": [
           {
            "colorbar": {
             "outlinewidth": 0,
             "ticks": ""
            },
            "type": "mesh3d"
           }
          ],
          "parcoords": [
           {
            "line": {
             "colorbar": {
              "outlinewidth": 0,
              "ticks": ""
             }
            },
            "type": "parcoords"
           }
          ],
          "pie": [
           {
            "automargin": true,
            "type": "pie"
           }
          ],
          "scatter": [
           {
            "fillpattern": {
             "fillmode": "overlay",
             "size": 10,
             "solidity": 0.2
            },
            "type": "scatter"
           }
          ],
          "scatter3d": [
           {
            "line": {
             "colorbar": {
              "outlinewidth": 0,
              "ticks": ""
             }
            },
            "marker": {
             "colorbar": {
              "outlinewidth": 0,
              "ticks": ""
             }
            },
            "type": "scatter3d"
           }
          ],
          "scattercarpet": [
           {
            "marker": {
             "colorbar": {
              "outlinewidth": 0,
              "ticks": ""
             }
            },
            "type": "scattercarpet"
           }
          ],
          "scattergeo": [
           {
            "marker": {
             "colorbar": {
              "outlinewidth": 0,
              "ticks": ""
             }
            },
            "type": "scattergeo"
           }
          ],
          "scattergl": [
           {
            "marker": {
             "colorbar": {
              "outlinewidth": 0,
              "ticks": ""
             }
            },
            "type": "scattergl"
           }
          ],
          "scattermapbox": [
           {
            "marker": {
             "colorbar": {
              "outlinewidth": 0,
              "ticks": ""
             }
            },
            "type": "scattermapbox"
           }
          ],
          "scatterpolar": [
           {
            "marker": {
             "colorbar": {
              "outlinewidth": 0,
              "ticks": ""
             }
            },
            "type": "scatterpolar"
           }
          ],
          "scatterpolargl": [
           {
            "marker": {
             "colorbar": {
              "outlinewidth": 0,
              "ticks": ""
             }
            },
            "type": "scatterpolargl"
           }
          ],
          "scatterternary": [
           {
            "marker": {
             "colorbar": {
              "outlinewidth": 0,
              "ticks": ""
             }
            },
            "type": "scatterternary"
           }
          ],
          "surface": [
           {
            "colorbar": {
             "outlinewidth": 0,
             "ticks": ""
            },
            "colorscale": [
             [
              0,
              "#0d0887"
             ],
             [
              0.1111111111111111,
              "#46039f"
             ],
             [
              0.2222222222222222,
              "#7201a8"
             ],
             [
              0.3333333333333333,
              "#9c179e"
             ],
             [
              0.4444444444444444,
              "#bd3786"
             ],
             [
              0.5555555555555556,
              "#d8576b"
             ],
             [
              0.6666666666666666,
              "#ed7953"
             ],
             [
              0.7777777777777778,
              "#fb9f3a"
             ],
             [
              0.8888888888888888,
              "#fdca26"
             ],
             [
              1,
              "#f0f921"
             ]
            ],
            "type": "surface"
           }
          ],
          "table": [
           {
            "cells": {
             "fill": {
              "color": "#EBF0F8"
             },
             "line": {
              "color": "white"
             }
            },
            "header": {
             "fill": {
              "color": "#C8D4E3"
             },
             "line": {
              "color": "white"
             }
            },
            "type": "table"
           }
          ]
         },
         "layout": {
          "annotationdefaults": {
           "arrowcolor": "#2a3f5f",
           "arrowhead": 0,
           "arrowwidth": 1
          },
          "autotypenumbers": "strict",
          "coloraxis": {
           "colorbar": {
            "outlinewidth": 0,
            "ticks": ""
           }
          },
          "colorscale": {
           "diverging": [
            [
             0,
             "#8e0152"
            ],
            [
             0.1,
             "#c51b7d"
            ],
            [
             0.2,
             "#de77ae"
            ],
            [
             0.3,
             "#f1b6da"
            ],
            [
             0.4,
             "#fde0ef"
            ],
            [
             0.5,
             "#f7f7f7"
            ],
            [
             0.6,
             "#e6f5d0"
            ],
            [
             0.7,
             "#b8e186"
            ],
            [
             0.8,
             "#7fbc41"
            ],
            [
             0.9,
             "#4d9221"
            ],
            [
             1,
             "#276419"
            ]
           ],
           "sequential": [
            [
             0,
             "#0d0887"
            ],
            [
             0.1111111111111111,
             "#46039f"
            ],
            [
             0.2222222222222222,
             "#7201a8"
            ],
            [
             0.3333333333333333,
             "#9c179e"
            ],
            [
             0.4444444444444444,
             "#bd3786"
            ],
            [
             0.5555555555555556,
             "#d8576b"
            ],
            [
             0.6666666666666666,
             "#ed7953"
            ],
            [
             0.7777777777777778,
             "#fb9f3a"
            ],
            [
             0.8888888888888888,
             "#fdca26"
            ],
            [
             1,
             "#f0f921"
            ]
           ],
           "sequentialminus": [
            [
             0,
             "#0d0887"
            ],
            [
             0.1111111111111111,
             "#46039f"
            ],
            [
             0.2222222222222222,
             "#7201a8"
            ],
            [
             0.3333333333333333,
             "#9c179e"
            ],
            [
             0.4444444444444444,
             "#bd3786"
            ],
            [
             0.5555555555555556,
             "#d8576b"
            ],
            [
             0.6666666666666666,
             "#ed7953"
            ],
            [
             0.7777777777777778,
             "#fb9f3a"
            ],
            [
             0.8888888888888888,
             "#fdca26"
            ],
            [
             1,
             "#f0f921"
            ]
           ]
          },
          "colorway": [
           "#636efa",
           "#EF553B",
           "#00cc96",
           "#ab63fa",
           "#FFA15A",
           "#19d3f3",
           "#FF6692",
           "#B6E880",
           "#FF97FF",
           "#FECB52"
          ],
          "font": {
           "color": "#2a3f5f"
          },
          "geo": {
           "bgcolor": "white",
           "lakecolor": "white",
           "landcolor": "#E5ECF6",
           "showlakes": true,
           "showland": true,
           "subunitcolor": "white"
          },
          "hoverlabel": {
           "align": "left"
          },
          "hovermode": "closest",
          "mapbox": {
           "style": "light"
          },
          "paper_bgcolor": "white",
          "plot_bgcolor": "#E5ECF6",
          "polar": {
           "angularaxis": {
            "gridcolor": "white",
            "linecolor": "white",
            "ticks": ""
           },
           "bgcolor": "#E5ECF6",
           "radialaxis": {
            "gridcolor": "white",
            "linecolor": "white",
            "ticks": ""
           }
          },
          "scene": {
           "xaxis": {
            "backgroundcolor": "#E5ECF6",
            "gridcolor": "white",
            "gridwidth": 2,
            "linecolor": "white",
            "showbackground": true,
            "ticks": "",
            "zerolinecolor": "white"
           },
           "yaxis": {
            "backgroundcolor": "#E5ECF6",
            "gridcolor": "white",
            "gridwidth": 2,
            "linecolor": "white",
            "showbackground": true,
            "ticks": "",
            "zerolinecolor": "white"
           },
           "zaxis": {
            "backgroundcolor": "#E5ECF6",
            "gridcolor": "white",
            "gridwidth": 2,
            "linecolor": "white",
            "showbackground": true,
            "ticks": "",
            "zerolinecolor": "white"
           }
          },
          "shapedefaults": {
           "line": {
            "color": "#2a3f5f"
           }
          },
          "ternary": {
           "aaxis": {
            "gridcolor": "white",
            "linecolor": "white",
            "ticks": ""
           },
           "baxis": {
            "gridcolor": "white",
            "linecolor": "white",
            "ticks": ""
           },
           "bgcolor": "#E5ECF6",
           "caxis": {
            "gridcolor": "white",
            "linecolor": "white",
            "ticks": ""
           }
          },
          "title": {
           "x": 0.05
          },
          "xaxis": {
           "automargin": true,
           "gridcolor": "white",
           "linecolor": "white",
           "ticks": "",
           "title": {
            "standoff": 15
           },
           "zerolinecolor": "white",
           "zerolinewidth": 2
          },
          "yaxis": {
           "automargin": true,
           "gridcolor": "white",
           "linecolor": "white",
           "ticks": "",
           "title": {
            "standoff": 15
           },
           "zerolinecolor": "white",
           "zerolinewidth": 2
          }
         }
        },
        "title": {
         "font": {
          "color": "#00285F",
          "size": 18
         },
         "text": "<b>Geometric Interpretation of LPs</b>",
         "x": 0,
         "xanchor": "left",
         "y": 0.99,
         "yanchor": "top"
        },
        "width": 950,
        "xaxis": {
         "domain": [
          0,
          0.39473684210526316
         ],
         "gridcolor": "#CCCCCC",
         "gridwidth": 1,
         "linecolor": "#4D4D4D",
         "linewidth": 2,
         "rangemode": "tozero",
         "showspikes": false,
         "tickcolor": "#4D4D4D",
         "ticks": "outside",
         "title": {
          "text": "x<sub>1</sub>"
         }
        },
        "yaxis": {
         "domain": [
          0,
          1
         ],
         "gridcolor": "#CCCCCC",
         "gridwidth": 1,
         "linecolor": "#4D4D4D",
         "linewidth": 2,
         "rangemode": "tozero",
         "showspikes": false,
         "tickcolor": "#4D4D4D",
         "ticks": "outside",
         "title": {
          "text": "x<sub>2</sub>"
         }
        }
       }
      }
     },
     "metadata": {},
     "output_type": "display_data"
    }
   ],
   "source": [
    "from gilp import examples as ex\n",
    "\n",
    "x = np.array([[0],[0],[0],[5],[25],[125]])\n",
    "simplex_visual(ex.KLEE_MINTY_3D_LP, initial_solution=x, rule='bland').show()"
   ]
  },
  {
   "cell_type": "code",
   "execution_count": 18,
   "id": "ce3abcb4",
   "metadata": {},
   "outputs": [
    {
     "data": {
      "application/vnd.plotly.v1+json": {
       "config": {
        "plotlyServerURL": "https://plot.ly"
       },
       "data": [
        {
         "hoverinfo": "skip",
         "marker": {
          "color": "white",
          "opacity": 1e-7,
          "size": 0
         },
         "mode": "markers",
         "showlegend": false,
         "type": "scatter3d",
         "x": [
          6.5
         ],
         "y": [
          32.5
         ],
         "z": [
          162.5
         ]
        },
        {
         "hoverinfo": "none",
         "line": {
          "color": "#173D90",
          "width": 5
         },
         "mode": "lines",
         "opacity": 0.2,
         "showlegend": false,
         "surfaceaxis": 0,
         "surfacecolor": "#1469FE",
         "type": "scatter3d",
         "visible": true,
         "x": [
          5,
          5,
          5,
          5,
          5
         ],
         "y": [
          5,
          5,
          0,
          0,
          5
         ],
         "z": [
          65,
          0,
          0,
          85,
          65
         ]
        },
        {
         "hoverinfo": "none",
         "line": {
          "color": "#173D90",
          "width": 5
         },
         "mode": "lines",
         "opacity": 0.2,
         "showlegend": false,
         "surfaceaxis": 1,
         "surfacecolor": "#1469FE",
         "type": "scatter3d",
         "visible": true,
         "x": [
          5,
          5,
          0,
          0,
          5
         ],
         "y": [
          5,
          5,
          25,
          25,
          5
         ],
         "z": [
          65,
          0,
          0,
          25,
          65
         ]
        },
        {
         "hoverinfo": "none",
         "line": {
          "color": "#173D90",
          "width": 5
         },
         "mode": "lines",
         "opacity": 0.2,
         "showlegend": false,
         "surfaceaxis": 2,
         "surfacecolor": "#1469FE",
         "type": "scatter3d",
         "visible": true,
         "x": [
          5,
          5,
          0,
          0,
          5
         ],
         "y": [
          5,
          0,
          0,
          25,
          5
         ],
         "z": [
          65,
          85,
          125,
          25,
          65
         ]
        },
        {
         "hoverinfo": "none",
         "line": {
          "color": "#173D90",
          "width": 5
         },
         "mode": "lines",
         "opacity": 0.2,
         "showlegend": false,
         "surfaceaxis": 0,
         "surfacecolor": "#1469FE",
         "type": "scatter3d",
         "visible": true,
         "x": [
          0,
          0,
          0,
          0,
          0
         ],
         "y": [
          25,
          25,
          0,
          0,
          25
         ],
         "z": [
          25,
          0,
          0,
          125,
          25
         ]
        },
        {
         "hoverinfo": "none",
         "line": {
          "color": "#173D90",
          "width": 5
         },
         "mode": "lines",
         "opacity": 0.2,
         "showlegend": false,
         "surfaceaxis": 1,
         "surfacecolor": "#1469FE",
         "type": "scatter3d",
         "visible": true,
         "x": [
          0,
          0,
          5,
          5,
          0
         ],
         "y": [
          0,
          0,
          0,
          0,
          0
         ],
         "z": [
          125,
          0,
          0,
          85,
          125
         ]
        },
        {
         "hoverinfo": "none",
         "line": {
          "color": "#173D90",
          "width": 5
         },
         "mode": "lines",
         "opacity": 0.2,
         "showlegend": false,
         "surfaceaxis": 2,
         "surfacecolor": "#1469FE",
         "type": "scatter3d",
         "visible": true,
         "x": [
          5,
          5,
          0,
          0,
          5
         ],
         "y": [
          5,
          0,
          0,
          25,
          5
         ],
         "z": [
          0,
          0,
          0,
          0,
          0
         ]
        },
        {
         "hoverinfo": "none",
         "mode": "none",
         "name": "(4) 1x<sub>1</sub> + 0x<sub>2</sub> + 0x<sub>3</sub> ≤ 5",
         "opacity": 0.5,
         "showlegend": true,
         "surfaceaxis": 0,
         "surfacecolor": "gray",
         "type": "scatter3d",
         "visible": "legendonly",
         "x": [
          5,
          5,
          5,
          5,
          5
         ],
         "y": [
          0,
          32.5,
          32.5,
          0,
          0
         ],
         "z": [
          162.5,
          162.5,
          0,
          0,
          162.5
         ]
        },
        {
         "hoverinfo": "none",
         "mode": "none",
         "name": "(5) 4x<sub>1</sub> + 1x<sub>2</sub> + 0x<sub>3</sub> ≤ 25",
         "opacity": 0.5,
         "showlegend": true,
         "surfaceaxis": 1,
         "surfacecolor": "gray",
         "type": "scatter3d",
         "visible": "legendonly",
         "x": [
          6.5,
          0,
          0,
          6.5,
          6.5
         ],
         "y": [
          -1,
          25,
          25,
          -1,
          -1
         ],
         "z": [
          162.5,
          162.5,
          0,
          0,
          162.5
         ]
        },
        {
         "hoverinfo": "none",
         "mode": "none",
         "name": "(6) 8x<sub>1</sub> + 4x<sub>2</sub> + 1x<sub>3</sub> ≤ 125",
         "opacity": 0.5,
         "showlegend": true,
         "surfaceaxis": 2,
         "surfacecolor": "gray",
         "type": "scatter3d",
         "visible": "legendonly",
         "x": [
          6.5,
          6.5,
          0,
          0,
          6.5
         ],
         "y": [
          32.5,
          0,
          0,
          32.5,
          32.5
         ],
         "z": [
          -57,
          73,
          125,
          -5,
          -57
         ]
        },
        {
         "hoverinfo": "text",
         "hoverlabel": {
          "bgcolor": "#FAFAFA",
          "bordercolor": "#323232",
          "font": {
           "color": "#323232",
           "family": "Arial"
          }
         },
         "marker": {
          "color": "gray",
          "opacity": 1e-7,
          "size": 20
         },
         "mode": "markers",
         "showlegend": false,
         "text": [
          "<b>BFS</b>: (0, 0, 125, 5, 25, 0)<br><b>B</b>: (1, 2, 3, 4, 5)<br><b>Obj</b>: 125",
          "<b>BFS</b>: (0, 0, 0, 5, 25, 125)<br><b>B</b>: (4, 5, 6)<br><b>Obj</b>: 0",
          "<b>BFS</b>: (0, 25, 25, 5, 0, 0)<br><b>B</b>: (1, 2, 3, 4)<br><b>Obj</b>: 75",
          "<b>BFS</b>: (0, 25, 0, 5, 0, 25)<br><b>B</b>: (1, 2, 3, 4, 5, 6)<br><b>Obj</b>: 50",
          "<b>BFS</b>: (5, 0, 0, 0, 5, 85)<br><b>B</b>: (1, 5, 6)<br><b>Obj</b>: 20",
          "<b>BFS</b>: (5, 0, 85, 0, 5, 0)<br><b>B</b>: (1, 3, 5)<br><b>Obj</b>: 105",
          "<b>BFS</b>: (5, 5, 0, 0, 0, 65)<br><b>B</b>: (1, 2, 6)<br><b>Obj</b>: 30",
          "<b>BFS</b>: (5, 5, 65, 0, 0, 0)<br><b>B</b>: (1, 2, 3)<br><b>Obj</b>: 95"
         ],
         "type": "scatter3d",
         "x": [
          4.440892098500626e-16,
          0,
          4.440892098500626e-16,
          1.332267629550188e-15,
          5,
          5,
          5,
          5
         ],
         "y": [
          4.440892098500626e-16,
          0,
          25,
          24.99999999999999,
          0,
          0,
          5,
          5
         ],
         "z": [
          125,
          0,
          25,
          7.105427357601002e-15,
          0,
          85,
          0,
          65
         ]
        },
        {
         "hoverinfo": "none",
         "mode": "none",
         "opacity": 0.3,
         "showlegend": false,
         "surfaceaxis": 2,
         "surfacecolor": "gray",
         "type": "scatter3d",
         "visible": false,
         "x": [
          0,
          6.5,
          6.5,
          0,
          0
         ],
         "y": [
          0,
          0,
          32.5,
          32.5,
          0
         ],
         "z": [
          0,
          -26,
          -91,
          -65,
          0
         ]
        },
        {
         "hoverinfo": "none",
         "line": {
          "color": "red",
          "width": 5
         },
         "marker": {
          "color": "red",
          "opacity": 1,
          "size": 5
         },
         "mode": "lines+markers",
         "opacity": 1,
         "showlegend": false,
         "surfaceaxis": 2,
         "surfacecolor": "red",
         "type": "scatter3d",
         "visible": false,
         "x": [
          0,
          0,
          0,
          0
         ],
         "y": [
          0,
          0,
          0,
          0
         ],
         "z": [
          0,
          0,
          0,
          0
         ]
        },
        {
         "hoverinfo": "none",
         "mode": "none",
         "opacity": 0.3,
         "showlegend": false,
         "surfaceaxis": 2,
         "surfacecolor": "gray",
         "type": "scatter3d",
         "visible": false,
         "x": [
          6.5,
          0,
          0,
          6.5,
          6.5
         ],
         "y": [
          32.5,
          32.5,
          0,
          0,
          32.5
         ],
         "z": [
          -80.44,
          -54.44,
          10.56,
          -15.44,
          -80.44
         ]
        },
        {
         "hoverinfo": "none",
         "line": {
          "color": "red",
          "width": 5
         },
         "marker": {
          "color": "red",
          "opacity": 1,
          "size": 5
         },
         "mode": "lines+markers",
         "opacity": 1,
         "showlegend": false,
         "surfaceaxis": 2,
         "surfacecolor": "red",
         "type": "scatter3d",
         "visible": false,
         "x": [
          2.640000000000001,
          1.110223024625157e-16,
          0,
          2.640000000000001
         ],
         "y": [
          -1.110223024625157e-16,
          1.110223024625157e-16,
          5.28,
          -1.110223024625157e-16
         ],
         "z": [
          -1.110223024625157e-16,
          10.56,
          0,
          -1.110223024625157e-16
         ]
        },
        {
         "hoverinfo": "none",
         "mode": "none",
         "opacity": 0.3,
         "showlegend": false,
         "surfaceaxis": 2,
         "surfacecolor": "gray",
         "type": "scatter3d",
         "visible": false,
         "x": [
          0,
          6.5,
          6.5,
          0,
          0
         ],
         "y": [
          32.5,
          32.5,
          0,
          0,
          32.5
         ],
         "z": [
          -43.879999999999995,
          -69.88,
          -4.879999999999999,
          21.12,
          -43.879999999999995
         ]
        },
        {
         "hoverinfo": "none",
         "line": {
          "color": "red",
          "width": 5
         },
         "marker": {
          "color": "red",
          "opacity": 1,
          "size": 5
         },
         "mode": "lines+markers",
         "opacity": 1,
         "showlegend": false,
         "surfaceaxis": 2,
         "surfacecolor": "red",
         "type": "scatter3d",
         "visible": false,
         "x": [
          5,
          1.110223024625157e-16,
          2.220446049250313e-16,
          5,
          5
         ],
         "y": [
          0.5600000000000007,
          10.56,
          1.110223024625157e-16,
          2.220446049250313e-16,
          0.5600000000000007
         ],
         "z": [
          0,
          0,
          21.12,
          1.120000000000001,
          0
         ]
        },
        {
         "hoverinfo": "none",
         "mode": "none",
         "opacity": 0.3,
         "showlegend": false,
         "surfaceaxis": 2,
         "surfacecolor": "gray",
         "type": "scatter3d",
         "visible": false,
         "x": [
          6.5,
          6.5,
          0,
          0,
          6.5
         ],
         "y": [
          32.5,
          0,
          0,
          32.5,
          32.5
         ],
         "z": [
          -59.31,
          5.690000000000001,
          31.69,
          -33.31,
          -59.31
         ]
        },
        {
         "hoverinfo": "none",
         "line": {
          "color": "red",
          "width": 5
         },
         "marker": {
          "color": "red",
          "opacity": 1,
          "size": 5
         },
         "mode": "lines+markers",
         "opacity": 1,
         "showlegend": false,
         "surfaceaxis": 2,
         "surfacecolor": "red",
         "type": "scatter3d",
         "visible": false,
         "x": [
          4.577500000000001,
          4.999999999999999,
          5,
          -3.33066907387547e-16,
          0,
          4.577500000000001
         ],
         "y": [
          6.690000000000001,
          5,
          1.110223024625157e-16,
          -2.220446049250313e-16,
          15.845,
          6.690000000000001
         ],
         "z": [
          -3.33066907387547e-16,
          1.69,
          11.69,
          31.69,
          -1.110223024625157e-16,
          -3.33066907387547e-16
         ]
        },
        {
         "hoverinfo": "none",
         "mode": "none",
         "opacity": 0.3,
         "showlegend": false,
         "surfaceaxis": 2,
         "surfacecolor": "gray",
         "type": "scatter3d",
         "visible": false,
         "x": [
          6.5,
          0,
          0,
          6.5,
          6.5
         ],
         "y": [
          32.5,
          32.5,
          0,
          0,
          32.5
         ],
         "z": [
          -48.75,
          -22.75,
          42.25,
          16.25,
          -48.75
         ]
        },
        {
         "hoverinfo": "none",
         "line": {
          "color": "red",
          "width": 5
         },
         "marker": {
          "color": "red",
          "opacity": 1,
          "size": 5
         },
         "mode": "lines+markers",
         "opacity": 1,
         "showlegend": false,
         "surfaceaxis": 2,
         "surfacecolor": "red",
         "type": "scatter3d",
         "visible": false,
         "x": [
          1.9375,
          4.999999999999999,
          5.000000000000001,
          -1.110223024625157e-16,
          1.110223024625157e-16,
          1.9375
         ],
         "y": [
          17.25,
          5.000000000000002,
          1.110223024625157e-16,
          0,
          21.125,
          17.25
         ],
         "z": [
          0,
          12.25,
          22.25,
          42.25000000000001,
          0,
          0
         ]
        },
        {
         "hoverinfo": "none",
         "mode": "none",
         "opacity": 0.3,
         "showlegend": false,
         "surfaceaxis": 2,
         "surfacecolor": "gray",
         "type": "scatter3d",
         "visible": false,
         "x": [
          0,
          6.5,
          6.5,
          0,
          0
         ],
         "y": [
          32.5,
          32.5,
          0,
          0,
          32.5
         ],
         "z": [
          -12.189999999999998,
          -38.19,
          26.810000000000002,
          52.81,
          -12.189999999999998
         ]
        },
        {
         "hoverinfo": "none",
         "line": {
          "color": "red",
          "width": 5
         },
         "marker": {
          "color": "red",
          "opacity": 1,
          "size": 5
         },
         "mode": "lines+markers",
         "opacity": 1,
         "showlegend": false,
         "surfaceaxis": 2,
         "surfacecolor": "red",
         "type": "scatter3d",
         "visible": false,
         "x": [
          5,
          5,
          1.110223024625157e-16,
          -1.110223024625157e-16,
          5
         ],
         "y": [
          5.000000000000002,
          1.110223024625157e-16,
          2.220446049250313e-16,
          25,
          5.000000000000002
         ],
         "z": [
          22.81000000000001,
          32.81,
          52.81,
          2.810000000000003,
          22.81000000000001
         ]
        },
        {
         "hoverinfo": "none",
         "mode": "none",
         "opacity": 0.3,
         "showlegend": false,
         "surfaceaxis": 2,
         "surfacecolor": "gray",
         "type": "scatter3d",
         "visible": false,
         "x": [
          0,
          6.5,
          6.5,
          0,
          0
         ],
         "y": [
          0,
          0,
          32.5,
          32.5,
          0
         ],
         "z": [
          63.38,
          37.38,
          -27.619999999999997,
          -1.6199999999999974,
          63.38
         ]
        },
        {
         "hoverinfo": "none",
         "line": {
          "color": "red",
          "width": 5
         },
         "marker": {
          "color": "red",
          "opacity": 1,
          "size": 5
         },
         "mode": "lines+markers",
         "opacity": 1,
         "showlegend": false,
         "surfaceaxis": 2,
         "surfacecolor": "red",
         "type": "scatter3d",
         "visible": false,
         "x": [
          5,
          5,
          0,
          -1.110223024625157e-16,
          5
         ],
         "y": [
          4.999999999999999,
          2.220446049250313e-16,
          0,
          25,
          4.999999999999999
         ],
         "z": [
          33.38,
          43.38,
          63.38,
          13.38,
          33.38
         ]
        },
        {
         "hoverinfo": "none",
         "mode": "none",
         "opacity": 0.3,
         "showlegend": false,
         "surfaceaxis": 2,
         "surfacecolor": "gray",
         "type": "scatter3d",
         "visible": false,
         "x": [
          6.5,
          6.5,
          0,
          0,
          6.5
         ],
         "y": [
          32.5,
          0,
          0,
          32.5,
          32.5
         ],
         "z": [
          -17.060000000000002,
          47.94,
          73.94,
          8.939999999999998,
          -17.060000000000002
         ]
        },
        {
         "hoverinfo": "none",
         "line": {
          "color": "red",
          "width": 5
         },
         "marker": {
          "color": "red",
          "opacity": 1,
          "size": 5
         },
         "mode": "lines+markers",
         "opacity": 1,
         "showlegend": false,
         "surfaceaxis": 2,
         "surfacecolor": "red",
         "type": "scatter3d",
         "visible": false,
         "x": [
          5,
          5.000000000000001,
          0,
          2.220446049250313e-16,
          5
         ],
         "y": [
          5,
          0,
          -1.110223024625157e-16,
          25,
          5
         ],
         "z": [
          43.94,
          53.93999999999999,
          73.94,
          23.93999999999999,
          43.94
         ]
        },
        {
         "hoverinfo": "none",
         "mode": "none",
         "opacity": 0.3,
         "showlegend": false,
         "surfaceaxis": 2,
         "surfacecolor": "gray",
         "type": "scatter3d",
         "visible": false,
         "x": [
          6.5,
          6.5,
          0,
          0,
          6.5
         ],
         "y": [
          0,
          32.5,
          32.5,
          0,
          0
         ],
         "z": [
          58.5,
          -6.5,
          19.5,
          84.5,
          58.5
         ]
        },
        {
         "hoverinfo": "none",
         "line": {
          "color": "red",
          "width": 5
         },
         "marker": {
          "color": "red",
          "opacity": 1,
          "size": 5
         },
         "mode": "lines+markers",
         "opacity": 1,
         "showlegend": false,
         "surfaceaxis": 2,
         "surfacecolor": "red",
         "type": "scatter3d",
         "visible": false,
         "x": [
          2.374999999999996,
          5.000000000000001,
          4.999999999999999,
          1.110223024625157e-16,
          -1.110223024625157e-16,
          2.374999999999996
         ],
         "y": [
          15.50000000000002,
          4.999999999999999,
          2.220446049250313e-16,
          0,
          20.25000000000001,
          15.50000000000002
         ],
         "z": [
          43.99999999999996,
          54.49999999999999,
          64.49999999999999,
          84.49999999999999,
          43.99999999999997,
          43.99999999999996
         ]
        },
        {
         "hoverinfo": "none",
         "mode": "none",
         "opacity": 0.3,
         "showlegend": false,
         "surfaceaxis": 2,
         "surfacecolor": "gray",
         "type": "scatter3d",
         "visible": false,
         "x": [
          6.5,
          0,
          0,
          6.5,
          6.5
         ],
         "y": [
          32.5,
          32.5,
          0,
          0,
          32.5
         ],
         "z": [
          4.060000000000002,
          30.060000000000002,
          95.06,
          69.06,
          4.060000000000002
         ]
        },
        {
         "hoverinfo": "none",
         "line": {
          "color": "red",
          "width": 5
         },
         "marker": {
          "color": "red",
          "opacity": 1,
          "size": 5
         },
         "mode": "lines+markers",
         "opacity": 1,
         "showlegend": false,
         "surfaceaxis": 2,
         "surfacecolor": "red",
         "type": "scatter3d",
         "visible": false,
         "x": [
          1.110223024625157e-16,
          1.110223024625157e-16,
          5,
          5,
          1.110223024625157e-16
         ],
         "y": [
          14.97,
          2.220446049250313e-16,
          2.220446049250313e-16,
          4.970000000000003,
          14.97
         ],
         "z": [
          65.11999999999999,
          95.05999999999999,
          75.05999999999999,
          65.11999999999998,
          65.11999999999999
         ]
        },
        {
         "hoverinfo": "none",
         "mode": "none",
         "opacity": 0.3,
         "showlegend": false,
         "surfaceaxis": 2,
         "surfacecolor": "gray",
         "type": "scatter3d",
         "visible": false,
         "x": [
          6.5,
          6.5,
          0,
          0,
          6.5
         ],
         "y": [
          0,
          32.5,
          32.5,
          0,
          0
         ],
         "z": [
          79.62,
          14.620000000000005,
          40.620000000000005,
          105.62,
          79.62
         ]
        },
        {
         "hoverinfo": "none",
         "line": {
          "color": "red",
          "width": 5
         },
         "marker": {
          "color": "red",
          "opacity": 1,
          "size": 5
         },
         "mode": "lines+markers",
         "opacity": 1,
         "showlegend": false,
         "surfaceaxis": 2,
         "surfacecolor": "red",
         "type": "scatter3d",
         "visible": false,
         "x": [
          1.110223024625157e-16,
          1.110223024625157e-16,
          4.845000000000001,
          1.110223024625157e-16
         ],
         "y": [
          9.690000000000005,
          1.110223024625157e-16,
          3.33066907387547e-16,
          9.690000000000005
         ],
         "z": [
          86.23999999999998,
          105.62,
          86.24,
          86.23999999999998
         ]
        },
        {
         "hoverinfo": "none",
         "mode": "none",
         "opacity": 0.3,
         "showlegend": false,
         "surfaceaxis": 2,
         "surfacecolor": "gray",
         "type": "scatter3d",
         "visible": false,
         "x": [
          6.5,
          0,
          0,
          6.5,
          6.5
         ],
         "y": [
          0,
          0,
          32.5,
          32.5,
          0
         ],
         "z": [
          90.19,
          116.19,
          51.19,
          25.189999999999998,
          90.19
         ]
        },
        {
         "hoverinfo": "none",
         "line": {
          "color": "red",
          "width": 5
         },
         "marker": {
          "color": "red",
          "opacity": 1,
          "size": 5
         },
         "mode": "lines+markers",
         "opacity": 1,
         "showlegend": false,
         "surfaceaxis": 2,
         "surfacecolor": "red",
         "type": "scatter3d",
         "visible": false,
         "x": [
          0,
          -1.110223024625157e-16,
          2.202500000000005,
          0
         ],
         "y": [
          4.405000000000011,
          0,
          2.220446049250313e-16,
          4.405000000000011
         ],
         "z": [
          107.38,
          116.19,
          107.38,
          107.38
         ]
        },
        {
         "hoverinfo": "none",
         "mode": "none",
         "opacity": 0.3,
         "showlegend": false,
         "surfaceaxis": 2,
         "surfacecolor": "gray",
         "type": "scatter3d",
         "visible": false,
         "x": [
          6.5,
          0,
          0,
          6.5,
          6.5
         ],
         "y": [
          0,
          0,
          32.5,
          32.5,
          0
         ],
         "z": [
          99,
          125,
          60,
          34,
          99
         ]
        },
        {
         "hoverinfo": "none",
         "line": {
          "color": "red",
          "width": 5
         },
         "marker": {
          "color": "red",
          "opacity": 1,
          "size": 5
         },
         "mode": "lines+markers",
         "opacity": 1,
         "showlegend": false,
         "surfaceaxis": 2,
         "surfacecolor": "red",
         "type": "scatter3d",
         "visible": false,
         "x": [
          0,
          0,
          0,
          0
         ],
         "y": [
          0,
          0,
          0,
          0
         ],
         "z": [
          124.99999999999997,
          124.99999999999999,
          125.00000000000004,
          124.99999999999997
         ]
        },
        {
         "hoverinfo": "none",
         "mode": "none",
         "opacity": 0.3,
         "showlegend": false,
         "surfaceaxis": 2,
         "surfacecolor": "gray",
         "type": "scatter3d",
         "visible": false,
         "x": [
          0,
          6.5,
          6.5,
          0,
          0
         ],
         "y": [
          0,
          0,
          32.5,
          32.5,
          0
         ],
         "z": [
          126.75,
          100.75,
          35.75,
          61.75,
          126.75
         ]
        },
        {
         "hoverinfo": "skip",
         "marker": {
          "color": "white",
          "opacity": 1e-7,
          "size": 0
         },
         "mode": "markers",
         "showlegend": false,
         "type": "scatter3d",
         "x": [
          0
         ],
         "y": [
          0
         ],
         "z": [
          0
         ]
        },
        {
         "hoverinfo": "none",
         "mode": "none",
         "opacity": 0.3,
         "showlegend": false,
         "surfaceaxis": 2,
         "surfacecolor": "gray",
         "type": "scatter3d",
         "visible": false,
         "x": [
          6.5,
          6.5,
          0,
          0,
          6.5
         ],
         "y": [
          0,
          32.5,
          32.5,
          0,
          0
         ],
         "z": [
          111.31,
          46.31,
          72.31,
          137.31,
          111.31
         ]
        },
        {
         "hoverinfo": "skip",
         "marker": {
          "color": "white",
          "opacity": 1e-7,
          "size": 0
         },
         "mode": "markers",
         "showlegend": false,
         "type": "scatter3d",
         "x": [
          0
         ],
         "y": [
          0
         ],
         "z": [
          0
         ]
        },
        {
         "hoverinfo": "none",
         "mode": "none",
         "opacity": 0.3,
         "showlegend": false,
         "surfaceaxis": 2,
         "surfacecolor": "gray",
         "type": "scatter3d",
         "visible": false,
         "x": [
          6.5,
          6.5,
          0,
          0,
          6.5
         ],
         "y": [
          0,
          32.5,
          32.5,
          0,
          0
         ],
         "z": [
          121.88,
          56.879999999999995,
          82.88,
          147.88,
          121.88
         ]
        },
        {
         "hoverinfo": "skip",
         "marker": {
          "color": "white",
          "opacity": 1e-7,
          "size": 0
         },
         "mode": "markers",
         "showlegend": false,
         "type": "scatter3d",
         "x": [
          0
         ],
         "y": [
          0
         ],
         "z": [
          0
         ]
        },
        {
         "hoverinfo": "none",
         "mode": "none",
         "opacity": 0.3,
         "showlegend": false,
         "surfaceaxis": 2,
         "surfacecolor": "gray",
         "type": "scatter3d",
         "visible": false,
         "x": [
          6.5,
          6.5,
          0,
          0,
          6.5
         ],
         "y": [
          32.5,
          0,
          0,
          32.5,
          32.5
         ],
         "z": [
          67.44,
          132.44,
          158.44,
          93.44,
          67.44
         ]
        },
        {
         "hoverinfo": "skip",
         "marker": {
          "color": "white",
          "opacity": 1e-7,
          "size": 0
         },
         "mode": "markers",
         "showlegend": false,
         "type": "scatter3d",
         "x": [
          0
         ],
         "y": [
          0
         ],
         "z": [
          0
         ]
        },
        {
         "hoverinfo": "none",
         "mode": "none",
         "opacity": 0.3,
         "showlegend": false,
         "surfaceaxis": 2,
         "surfacecolor": "gray",
         "type": "scatter3d",
         "visible": false,
         "x": [
          6.5,
          6.5,
          0,
          0,
          6.5
         ],
         "y": [
          0,
          32.5,
          32.5,
          0,
          0
         ],
         "z": [
          143,
          78,
          104,
          169,
          143
         ]
        },
        {
         "hoverinfo": "skip",
         "marker": {
          "color": "white",
          "opacity": 1e-7,
          "size": 0
         },
         "mode": "markers",
         "showlegend": false,
         "type": "scatter3d",
         "x": [
          0
         ],
         "y": [
          0
         ],
         "z": [
          0
         ]
        },
        {
         "hoverinfo": "none",
         "mode": "none",
         "opacity": 0.3,
         "showlegend": false,
         "surfaceaxis": 2,
         "surfacecolor": "gray",
         "type": "scatter3d",
         "visible": false,
         "x": [
          6.5,
          6.5,
          0,
          0,
          6.5
         ],
         "y": [
          32.5,
          0,
          0,
          32.5,
          32.5
         ],
         "z": [
          88.56,
          153.56,
          179.56,
          114.56,
          88.56
         ]
        },
        {
         "hoverinfo": "skip",
         "marker": {
          "color": "white",
          "opacity": 1e-7,
          "size": 0
         },
         "mode": "markers",
         "showlegend": false,
         "type": "scatter3d",
         "x": [
          0
         ],
         "y": [
          0
         ],
         "z": [
          0
         ]
        },
        {
         "hoverinfo": "none",
         "mode": "none",
         "opacity": 0.3,
         "showlegend": false,
         "surfaceaxis": 2,
         "surfacecolor": "gray",
         "type": "scatter3d",
         "visible": false,
         "x": [
          6.5,
          6.5,
          0,
          0,
          6.5
         ],
         "y": [
          0,
          32.5,
          32.5,
          0,
          0
         ],
         "z": [
          164.12,
          99.12,
          125.12,
          190.12,
          164.12
         ]
        },
        {
         "hoverinfo": "skip",
         "marker": {
          "color": "white",
          "opacity": 1e-7,
          "size": 0
         },
         "mode": "markers",
         "showlegend": false,
         "type": "scatter3d",
         "x": [
          0
         ],
         "y": [
          0
         ],
         "z": [
          0
         ]
        },
        {
         "hoverinfo": "none",
         "mode": "none",
         "opacity": 0.3,
         "showlegend": false,
         "surfaceaxis": 2,
         "surfacecolor": "gray",
         "type": "scatter3d",
         "visible": false,
         "x": [
          6.5,
          6.5,
          0,
          0,
          6.5
         ],
         "y": [
          0,
          32.5,
          32.5,
          0,
          0
         ],
         "z": [
          174.69,
          109.69,
          135.69,
          200.69,
          174.69
         ]
        },
        {
         "hoverinfo": "skip",
         "marker": {
          "color": "white",
          "opacity": 1e-7,
          "size": 0
         },
         "mode": "markers",
         "showlegend": false,
         "type": "scatter3d",
         "x": [
          0
         ],
         "y": [
          0
         ],
         "z": [
          0
         ]
        },
        {
         "hoverinfo": "none",
         "mode": "none",
         "opacity": 0.3,
         "showlegend": false,
         "surfaceaxis": 2,
         "surfacecolor": "gray",
         "type": "scatter3d",
         "visible": false,
         "x": [
          0,
          6.5,
          6.5,
          0,
          0
         ],
         "y": [
          0,
          0,
          32.5,
          32.5,
          0
         ],
         "z": [
          211.25,
          185.25,
          120.25,
          146.25,
          211.25
         ]
        },
        {
         "hoverinfo": "skip",
         "marker": {
          "color": "white",
          "opacity": 1e-7,
          "size": 0
         },
         "mode": "markers",
         "showlegend": false,
         "type": "scatter3d",
         "x": [
          0
         ],
         "y": [
          0
         ],
         "z": [
          0
         ]
        },
        {
         "hoverinfo": "none",
         "mode": "none",
         "opacity": 0.3,
         "showlegend": false,
         "surfaceaxis": 2,
         "surfacecolor": "gray",
         "type": "scatter3d",
         "visible": false,
         "x": [
          6.5,
          0,
          0,
          6.5,
          6.5
         ],
         "y": [
          0,
          0,
          32.5,
          32.5,
          0
         ],
         "z": [
          195.81,
          221.81,
          156.81,
          130.81,
          195.81
         ]
        },
        {
         "hoverinfo": "skip",
         "marker": {
          "color": "white",
          "opacity": 1e-7,
          "size": 0
         },
         "mode": "markers",
         "showlegend": false,
         "type": "scatter3d",
         "x": [
          0
         ],
         "y": [
          0
         ],
         "z": [
          0
         ]
        },
        {
         "hoverinfo": "none",
         "mode": "none",
         "opacity": 0.3,
         "showlegend": false,
         "surfaceaxis": 2,
         "surfacecolor": "gray",
         "type": "scatter3d",
         "visible": false,
         "x": [
          6.5,
          6.5,
          0,
          0,
          6.5
         ],
         "y": [
          0,
          32.5,
          32.5,
          0,
          0
         ],
         "z": [
          206.38,
          141.38,
          167.38,
          232.38,
          206.38
         ]
        },
        {
         "hoverinfo": "skip",
         "marker": {
          "color": "white",
          "opacity": 1e-7,
          "size": 0
         },
         "mode": "markers",
         "showlegend": false,
         "type": "scatter3d",
         "x": [
          0
         ],
         "y": [
          0
         ],
         "z": [
          0
         ]
        },
        {
         "hoverinfo": "none",
         "mode": "none",
         "opacity": 0.3,
         "showlegend": false,
         "surfaceaxis": 2,
         "surfacecolor": "gray",
         "type": "scatter3d",
         "visible": false,
         "x": [
          6.5,
          6.5,
          0,
          0,
          6.5
         ],
         "y": [
          32.5,
          0,
          0,
          32.5,
          32.5
         ],
         "z": [
          151.94,
          216.94,
          242.94,
          177.94,
          151.94
         ]
        },
        {
         "hoverinfo": "skip",
         "marker": {
          "color": "white",
          "opacity": 1e-7,
          "size": 0
         },
         "mode": "markers",
         "showlegend": false,
         "type": "scatter3d",
         "x": [
          0
         ],
         "y": [
          0
         ],
         "z": [
          0
         ]
        },
        {
         "hoverinfo": "none",
         "mode": "none",
         "opacity": 0.3,
         "showlegend": false,
         "surfaceaxis": 2,
         "surfacecolor": "gray",
         "type": "scatter3d",
         "visible": false,
         "x": [
          6.5,
          6.5,
          0,
          0,
          6.5
         ],
         "y": [
          0,
          32.5,
          32.5,
          0,
          0
         ],
         "z": [
          227.5,
          162.5,
          188.5,
          253.5,
          227.5
         ]
        },
        {
         "hoverinfo": "skip",
         "marker": {
          "color": "white",
          "opacity": 1e-7,
          "size": 0
         },
         "mode": "markers",
         "showlegend": false,
         "type": "scatter3d",
         "x": [
          0
         ],
         "y": [
          0
         ],
         "z": [
          0
         ]
        },
        {
         "hoverinfo": "skip",
         "marker": {
          "color": "red",
          "opacity": 1,
          "size": 5
         },
         "mode": "markers",
         "showlegend": false,
         "type": "scatter3d",
         "x": [
          0
         ],
         "y": [
          0
         ],
         "z": [
          0
         ]
        },
        {
         "hoverinfo": "skip",
         "line": {
          "color": "red",
          "width": 6
         },
         "mode": "lines",
         "opacity": 1,
         "showlegend": false,
         "type": "scatter3d",
         "visible": false,
         "x": [
          0,
          2.5
         ],
         "y": [
          0,
          0
         ],
         "z": [
          0,
          0
         ]
        },
        {
         "hoverinfo": "skip",
         "line": {
          "color": "red",
          "width": 6
         },
         "mode": "lines",
         "opacity": 1,
         "showlegend": false,
         "type": "scatter3d",
         "visible": false,
         "x": [
          0,
          5
         ],
         "y": [
          0,
          0
         ],
         "z": [
          0,
          0
         ]
        },
        {
         "hoverinfo": "skip",
         "line": {
          "color": "red",
          "width": 6
         },
         "mode": "lines",
         "opacity": 1,
         "showlegend": false,
         "type": "scatter3d",
         "visible": false,
         "x": [
          5,
          5
         ],
         "y": [
          0,
          2.5
         ],
         "z": [
          0,
          0
         ]
        },
        {
         "hoverinfo": "skip",
         "line": {
          "color": "red",
          "width": 6
         },
         "mode": "lines",
         "opacity": 1,
         "showlegend": false,
         "type": "scatter3d",
         "visible": false,
         "x": [
          5,
          5
         ],
         "y": [
          0,
          5
         ],
         "z": [
          0,
          0
         ]
        },
        {
         "hoverinfo": "skip",
         "line": {
          "color": "red",
          "width": 6
         },
         "mode": "lines",
         "opacity": 1,
         "showlegend": false,
         "type": "scatter3d",
         "visible": false,
         "x": [
          5,
          2.5
         ],
         "y": [
          5,
          15
         ],
         "z": [
          0,
          0
         ]
        },
        {
         "hoverinfo": "skip",
         "line": {
          "color": "red",
          "width": 6
         },
         "mode": "lines",
         "opacity": 1,
         "showlegend": false,
         "type": "scatter3d",
         "visible": false,
         "x": [
          5,
          0
         ],
         "y": [
          5,
          25
         ],
         "z": [
          0,
          0
         ]
        },
        {
         "hoverinfo": "skip",
         "line": {
          "color": "red",
          "width": 6
         },
         "mode": "lines",
         "opacity": 1,
         "showlegend": false,
         "type": "scatter3d",
         "visible": false,
         "x": [
          0,
          0
         ],
         "y": [
          25,
          25
         ],
         "z": [
          0,
          12.5
         ]
        },
        {
         "hoverinfo": "skip",
         "line": {
          "color": "red",
          "width": 6
         },
         "mode": "lines",
         "opacity": 1,
         "showlegend": false,
         "type": "scatter3d",
         "visible": false,
         "x": [
          0,
          0
         ],
         "y": [
          25,
          25
         ],
         "z": [
          0,
          25
         ]
        },
        {
         "hoverinfo": "skip",
         "line": {
          "color": "red",
          "width": 6
         },
         "mode": "lines",
         "opacity": 1,
         "showlegend": false,
         "type": "scatter3d",
         "visible": false,
         "x": [
          0,
          2.5
         ],
         "y": [
          25,
          15
         ],
         "z": [
          25,
          45
         ]
        },
        {
         "hoverinfo": "skip",
         "line": {
          "color": "red",
          "width": 6
         },
         "mode": "lines",
         "opacity": 1,
         "showlegend": false,
         "type": "scatter3d",
         "visible": false,
         "x": [
          0,
          5
         ],
         "y": [
          25,
          5
         ],
         "z": [
          25,
          65
         ]
        },
        {
         "hoverinfo": "skip",
         "line": {
          "color": "red",
          "width": 6
         },
         "mode": "lines",
         "opacity": 1,
         "showlegend": false,
         "type": "scatter3d",
         "visible": false,
         "x": [
          5,
          5
         ],
         "y": [
          5,
          2.5
         ],
         "z": [
          65,
          75
         ]
        },
        {
         "hoverinfo": "skip",
         "line": {
          "color": "red",
          "width": 6
         },
         "mode": "lines",
         "opacity": 1,
         "showlegend": false,
         "type": "scatter3d",
         "visible": false,
         "x": [
          5,
          5
         ],
         "y": [
          5,
          0
         ],
         "z": [
          65,
          85
         ]
        },
        {
         "hoverinfo": "skip",
         "line": {
          "color": "red",
          "width": 6
         },
         "mode": "lines",
         "opacity": 1,
         "showlegend": false,
         "type": "scatter3d",
         "visible": false,
         "x": [
          5,
          2.5
         ],
         "y": [
          0,
          0
         ],
         "z": [
          85,
          105
         ]
        },
        {
         "hoverinfo": "skip",
         "line": {
          "color": "red",
          "width": 6
         },
         "mode": "lines",
         "opacity": 1,
         "showlegend": false,
         "type": "scatter3d",
         "visible": false,
         "x": [
          5,
          0
         ],
         "y": [
          0,
          0
         ],
         "z": [
          85,
          125
         ]
        },
        {
         "cells": {
          "align": [
           "left",
           "right",
           "left"
          ],
          "fill": {
           "color": "white"
          },
          "font": {
           "color": [
            [
             "black",
             "red",
             "black"
            ],
            [
             "black",
             "black",
             "black"
            ]
           ],
           "size": 14
          },
          "height": 25,
          "line": {
           "color": "white",
           "width": 1
          },
          "values": [
           [
            "max<br>s.t.<br> <br> "
           ],
           [
            " <br>x<sub>4</sub><br>x<sub>5</sub><br>x<sub>6</sub>"
           ],
           [
            "0 + 4x<sub>1</sub> + 2x<sub>2</sub> + 1x<sub>3</sub><br>= 5 - 1x<sub>1</sub> + 0x<sub>2</sub> + 0x<sub>3</sub><br>= 25 - 4x<sub>1</sub> - 1x<sub>2</sub> + 0x<sub>3</sub><br>= 125 - 8x<sub>1</sub> - 4x<sub>2</sub> - 1x<sub>3</sub>"
           ]
          ]
         },
         "columnwidth": [
          0.13333333333333333,
          0.06666666666666667,
          0.8
         ],
         "domain": {
          "x": [
           0.6052631578947368,
           1
          ],
          "y": [
           0,
           1
          ]
         },
         "header": {
          "align": [
           "left",
           "right",
           "left"
          ],
          "fill": {
           "color": "white"
          },
          "font": {
           "color": [
            "red",
            "black"
           ],
           "size": 14
          },
          "height": 25,
          "line": {
           "color": "white",
           "width": 1
          },
          "values": [
           "<b>(0)</b>",
           " ",
           " "
          ]
         },
         "type": "table"
        },
        {
         "cells": {
          "align": [
           "left",
           "right",
           "left"
          ],
          "fill": {
           "color": "white"
          },
          "font": {
           "color": [
            [
             "black",
             "red",
             "black"
            ],
            [
             "black",
             "black",
             "black"
            ]
           ],
           "size": 14
          },
          "height": 25,
          "line": {
           "color": "white",
           "width": 1
          },
          "values": [
           [
            "max<br>s.t.<br> <br> ",
            "<b>(0)</b>",
            "max<br>s.t.<br> <br> "
           ],
           [
            " <br>x<sub>1</sub><br>x<sub>5</sub><br>x<sub>6</sub>",
            " ",
            " <br>x<sub>4</sub><br>x<sub>5</sub><br>x<sub>6</sub>"
           ],
           [
            "20 + 2x<sub>2</sub> + 1x<sub>3</sub> - 4x<sub>4</sub><br>= 5 + 0x<sub>2</sub> + 0x<sub>3</sub> - 1x<sub>4</sub><br>= 5 - 1x<sub>2</sub> + 0x<sub>3</sub> + 4x<sub>4</sub><br>= 85 - 4x<sub>2</sub> - 1x<sub>3</sub> + 8x<sub>4</sub>",
            " ",
            "0 + 4x<sub>1</sub> + 2x<sub>2</sub> + 1x<sub>3</sub><br>= 5 - 1x<sub>1</sub> + 0x<sub>2</sub> + 0x<sub>3</sub><br>= 25 - 4x<sub>1</sub> - 1x<sub>2</sub> + 0x<sub>3</sub><br>= 125 - 8x<sub>1</sub> - 4x<sub>2</sub> - 1x<sub>3</sub>"
           ]
          ]
         },
         "columnwidth": [
          0.13333333333333333,
          0.06666666666666667,
          0.8
         ],
         "domain": {
          "x": [
           0.6052631578947368,
           1
          ],
          "y": [
           0,
           1
          ]
         },
         "header": {
          "align": [
           "left",
           "right",
           "left"
          ],
          "fill": {
           "color": "white"
          },
          "font": {
           "color": [
            "red",
            "black"
           ],
           "size": 14
          },
          "height": 25,
          "line": {
           "color": "white",
           "width": 1
          },
          "values": [
           "<b>(1)</b>",
           " ",
           " "
          ]
         },
         "type": "table",
         "visible": false
        },
        {
         "cells": {
          "align": [
           "left",
           "right",
           "left"
          ],
          "fill": {
           "color": "white"
          },
          "font": {
           "color": [
            [
             "black",
             "red",
             "black"
            ],
            [
             "black",
             "black",
             "black"
            ]
           ],
           "size": 14
          },
          "height": 25,
          "line": {
           "color": "white",
           "width": 1
          },
          "values": [
           [
            "max<br>s.t.<br> <br> "
           ],
           [
            " <br>x<sub>1</sub><br>x<sub>5</sub><br>x<sub>6</sub>"
           ],
           [
            "20 + 2x<sub>2</sub> + 1x<sub>3</sub> - 4x<sub>4</sub><br>= 5 + 0x<sub>2</sub> + 0x<sub>3</sub> - 1x<sub>4</sub><br>= 5 - 1x<sub>2</sub> + 0x<sub>3</sub> + 4x<sub>4</sub><br>= 85 - 4x<sub>2</sub> - 1x<sub>3</sub> + 8x<sub>4</sub>"
           ]
          ]
         },
         "columnwidth": [
          0.13333333333333333,
          0.06666666666666667,
          0.8
         ],
         "domain": {
          "x": [
           0.6052631578947368,
           1
          ],
          "y": [
           0,
           1
          ]
         },
         "header": {
          "align": [
           "left",
           "right",
           "left"
          ],
          "fill": {
           "color": "white"
          },
          "font": {
           "color": [
            "red",
            "black"
           ],
           "size": 14
          },
          "height": 25,
          "line": {
           "color": "white",
           "width": 1
          },
          "values": [
           "<b>(1)</b>",
           " ",
           " "
          ]
         },
         "type": "table",
         "visible": false
        },
        {
         "cells": {
          "align": [
           "left",
           "right",
           "left"
          ],
          "fill": {
           "color": "white"
          },
          "font": {
           "color": [
            [
             "black",
             "red",
             "black"
            ],
            [
             "black",
             "black",
             "black"
            ]
           ],
           "size": 14
          },
          "height": 25,
          "line": {
           "color": "white",
           "width": 1
          },
          "values": [
           [
            "max<br>s.t.<br> <br> ",
            "<b>(1)</b>",
            "max<br>s.t.<br> <br> "
           ],
           [
            " <br>x<sub>1</sub><br>x<sub>2</sub><br>x<sub>6</sub>",
            " ",
            " <br>x<sub>1</sub><br>x<sub>5</sub><br>x<sub>6</sub>"
           ],
           [
            "30 + 1x<sub>3</sub> + 4x<sub>4</sub> - 2x<sub>5</sub><br>= 5 + 0x<sub>3</sub> - 1x<sub>4</sub> + 0x<sub>5</sub><br>= 5 + 0x<sub>3</sub> + 4x<sub>4</sub> - 1x<sub>5</sub><br>= 65 - 1x<sub>3</sub> - 8x<sub>4</sub> + 4x<sub>5</sub>",
            " ",
            "20 + 2x<sub>2</sub> + 1x<sub>3</sub> - 4x<sub>4</sub><br>= 5 + 0x<sub>2</sub> + 0x<sub>3</sub> - 1x<sub>4</sub><br>= 5 - 1x<sub>2</sub> + 0x<sub>3</sub> + 4x<sub>4</sub><br>= 85 - 4x<sub>2</sub> - 1x<sub>3</sub> + 8x<sub>4</sub>"
           ]
          ]
         },
         "columnwidth": [
          0.13333333333333333,
          0.06666666666666667,
          0.8
         ],
         "domain": {
          "x": [
           0.6052631578947368,
           1
          ],
          "y": [
           0,
           1
          ]
         },
         "header": {
          "align": [
           "left",
           "right",
           "left"
          ],
          "fill": {
           "color": "white"
          },
          "font": {
           "color": [
            "red",
            "black"
           ],
           "size": 14
          },
          "height": 25,
          "line": {
           "color": "white",
           "width": 1
          },
          "values": [
           "<b>(2)</b>",
           " ",
           " "
          ]
         },
         "type": "table",
         "visible": false
        },
        {
         "cells": {
          "align": [
           "left",
           "right",
           "left"
          ],
          "fill": {
           "color": "white"
          },
          "font": {
           "color": [
            [
             "black",
             "red",
             "black"
            ],
            [
             "black",
             "black",
             "black"
            ]
           ],
           "size": 14
          },
          "height": 25,
          "line": {
           "color": "white",
           "width": 1
          },
          "values": [
           [
            "max<br>s.t.<br> <br> "
           ],
           [
            " <br>x<sub>1</sub><br>x<sub>2</sub><br>x<sub>6</sub>"
           ],
           [
            "30 + 1x<sub>3</sub> + 4x<sub>4</sub> - 2x<sub>5</sub><br>= 5 + 0x<sub>3</sub> - 1x<sub>4</sub> + 0x<sub>5</sub><br>= 5 + 0x<sub>3</sub> + 4x<sub>4</sub> - 1x<sub>5</sub><br>= 65 - 1x<sub>3</sub> - 8x<sub>4</sub> + 4x<sub>5</sub>"
           ]
          ]
         },
         "columnwidth": [
          0.13333333333333333,
          0.06666666666666667,
          0.8
         ],
         "domain": {
          "x": [
           0.6052631578947368,
           1
          ],
          "y": [
           0,
           1
          ]
         },
         "header": {
          "align": [
           "left",
           "right",
           "left"
          ],
          "fill": {
           "color": "white"
          },
          "font": {
           "color": [
            "red",
            "black"
           ],
           "size": 14
          },
          "height": 25,
          "line": {
           "color": "white",
           "width": 1
          },
          "values": [
           "<b>(2)</b>",
           " ",
           " "
          ]
         },
         "type": "table",
         "visible": false
        },
        {
         "cells": {
          "align": [
           "left",
           "right",
           "left"
          ],
          "fill": {
           "color": "white"
          },
          "font": {
           "color": [
            [
             "black",
             "red",
             "black"
            ],
            [
             "black",
             "black",
             "black"
            ]
           ],
           "size": 14
          },
          "height": 25,
          "line": {
           "color": "white",
           "width": 1
          },
          "values": [
           [
            "max<br>s.t.<br> <br> ",
            "<b>(2)</b>",
            "max<br>s.t.<br> <br> "
           ],
           [
            " <br>x<sub>2</sub><br>x<sub>4</sub><br>x<sub>6</sub>",
            " ",
            " <br>x<sub>1</sub><br>x<sub>2</sub><br>x<sub>6</sub>"
           ],
           [
            "50 - 4x<sub>1</sub> + 1x<sub>3</sub> - 2x<sub>5</sub><br>= 25 - 4x<sub>1</sub> + 0x<sub>3</sub> - 1x<sub>5</sub><br>= 5 - 1x<sub>1</sub> + 0x<sub>3</sub> + 0x<sub>5</sub><br>= 25 + 8x<sub>1</sub> - 1x<sub>3</sub> + 4x<sub>5</sub>",
            " ",
            "30 + 1x<sub>3</sub> + 4x<sub>4</sub> - 2x<sub>5</sub><br>= 5 + 0x<sub>3</sub> - 1x<sub>4</sub> + 0x<sub>5</sub><br>= 5 + 0x<sub>3</sub> + 4x<sub>4</sub> - 1x<sub>5</sub><br>= 65 - 1x<sub>3</sub> - 8x<sub>4</sub> + 4x<sub>5</sub>"
           ]
          ]
         },
         "columnwidth": [
          0.13333333333333333,
          0.06666666666666667,
          0.8
         ],
         "domain": {
          "x": [
           0.6052631578947368,
           1
          ],
          "y": [
           0,
           1
          ]
         },
         "header": {
          "align": [
           "left",
           "right",
           "left"
          ],
          "fill": {
           "color": "white"
          },
          "font": {
           "color": [
            "red",
            "black"
           ],
           "size": 14
          },
          "height": 25,
          "line": {
           "color": "white",
           "width": 1
          },
          "values": [
           "<b>(3)</b>",
           " ",
           " "
          ]
         },
         "type": "table",
         "visible": false
        },
        {
         "cells": {
          "align": [
           "left",
           "right",
           "left"
          ],
          "fill": {
           "color": "white"
          },
          "font": {
           "color": [
            [
             "black",
             "red",
             "black"
            ],
            [
             "black",
             "black",
             "black"
            ]
           ],
           "size": 14
          },
          "height": 25,
          "line": {
           "color": "white",
           "width": 1
          },
          "values": [
           [
            "max<br>s.t.<br> <br> "
           ],
           [
            " <br>x<sub>2</sub><br>x<sub>4</sub><br>x<sub>6</sub>"
           ],
           [
            "50 - 4x<sub>1</sub> + 1x<sub>3</sub> - 2x<sub>5</sub><br>= 25 - 4x<sub>1</sub> + 0x<sub>3</sub> - 1x<sub>5</sub><br>= 5 - 1x<sub>1</sub> + 0x<sub>3</sub> + 0x<sub>5</sub><br>= 25 + 8x<sub>1</sub> - 1x<sub>3</sub> + 4x<sub>5</sub>"
           ]
          ]
         },
         "columnwidth": [
          0.13333333333333333,
          0.06666666666666667,
          0.8
         ],
         "domain": {
          "x": [
           0.6052631578947368,
           1
          ],
          "y": [
           0,
           1
          ]
         },
         "header": {
          "align": [
           "left",
           "right",
           "left"
          ],
          "fill": {
           "color": "white"
          },
          "font": {
           "color": [
            "red",
            "black"
           ],
           "size": 14
          },
          "height": 25,
          "line": {
           "color": "white",
           "width": 1
          },
          "values": [
           "<b>(3)</b>",
           " ",
           " "
          ]
         },
         "type": "table",
         "visible": false
        },
        {
         "cells": {
          "align": [
           "left",
           "right",
           "left"
          ],
          "fill": {
           "color": "white"
          },
          "font": {
           "color": [
            [
             "black",
             "red",
             "black"
            ],
            [
             "black",
             "black",
             "black"
            ]
           ],
           "size": 14
          },
          "height": 25,
          "line": {
           "color": "white",
           "width": 1
          },
          "values": [
           [
            "max<br>s.t.<br> <br> ",
            "<b>(3)</b>",
            "max<br>s.t.<br> <br> "
           ],
           [
            " <br>x<sub>2</sub><br>x<sub>3</sub><br>x<sub>4</sub>",
            " ",
            " <br>x<sub>2</sub><br>x<sub>4</sub><br>x<sub>6</sub>"
           ],
           [
            "75 + 4x<sub>1</sub> + 2x<sub>5</sub> - 1x<sub>6</sub><br>= 25 - 4x<sub>1</sub> - 1x<sub>5</sub> + 0x<sub>6</sub><br>= 25 + 8x<sub>1</sub> + 4x<sub>5</sub> - 1x<sub>6</sub><br>= 5 - 1x<sub>1</sub> + 0x<sub>5</sub> + 0x<sub>6</sub>",
            " ",
            "50 - 4x<sub>1</sub> + 1x<sub>3</sub> - 2x<sub>5</sub><br>= 25 - 4x<sub>1</sub> + 0x<sub>3</sub> - 1x<sub>5</sub><br>= 5 - 1x<sub>1</sub> + 0x<sub>3</sub> + 0x<sub>5</sub><br>= 25 + 8x<sub>1</sub> - 1x<sub>3</sub> + 4x<sub>5</sub>"
           ]
          ]
         },
         "columnwidth": [
          0.13333333333333333,
          0.06666666666666667,
          0.8
         ],
         "domain": {
          "x": [
           0.6052631578947368,
           1
          ],
          "y": [
           0,
           1
          ]
         },
         "header": {
          "align": [
           "left",
           "right",
           "left"
          ],
          "fill": {
           "color": "white"
          },
          "font": {
           "color": [
            "red",
            "black"
           ],
           "size": 14
          },
          "height": 25,
          "line": {
           "color": "white",
           "width": 1
          },
          "values": [
           "<b>(4)</b>",
           " ",
           " "
          ]
         },
         "type": "table",
         "visible": false
        },
        {
         "cells": {
          "align": [
           "left",
           "right",
           "left"
          ],
          "fill": {
           "color": "white"
          },
          "font": {
           "color": [
            [
             "black",
             "red",
             "black"
            ],
            [
             "black",
             "black",
             "black"
            ]
           ],
           "size": 14
          },
          "height": 25,
          "line": {
           "color": "white",
           "width": 1
          },
          "values": [
           [
            "max<br>s.t.<br> <br> "
           ],
           [
            " <br>x<sub>2</sub><br>x<sub>3</sub><br>x<sub>4</sub>"
           ],
           [
            "75 + 4x<sub>1</sub> + 2x<sub>5</sub> - 1x<sub>6</sub><br>= 25 - 4x<sub>1</sub> - 1x<sub>5</sub> + 0x<sub>6</sub><br>= 25 + 8x<sub>1</sub> + 4x<sub>5</sub> - 1x<sub>6</sub><br>= 5 - 1x<sub>1</sub> + 0x<sub>5</sub> + 0x<sub>6</sub>"
           ]
          ]
         },
         "columnwidth": [
          0.13333333333333333,
          0.06666666666666667,
          0.8
         ],
         "domain": {
          "x": [
           0.6052631578947368,
           1
          ],
          "y": [
           0,
           1
          ]
         },
         "header": {
          "align": [
           "left",
           "right",
           "left"
          ],
          "fill": {
           "color": "white"
          },
          "font": {
           "color": [
            "red",
            "black"
           ],
           "size": 14
          },
          "height": 25,
          "line": {
           "color": "white",
           "width": 1
          },
          "values": [
           "<b>(4)</b>",
           " ",
           " "
          ]
         },
         "type": "table",
         "visible": false
        },
        {
         "cells": {
          "align": [
           "left",
           "right",
           "left"
          ],
          "fill": {
           "color": "white"
          },
          "font": {
           "color": [
            [
             "black",
             "red",
             "black"
            ],
            [
             "black",
             "black",
             "black"
            ]
           ],
           "size": 14
          },
          "height": 25,
          "line": {
           "color": "white",
           "width": 1
          },
          "values": [
           [
            "max<br>s.t.<br> <br> ",
            "<b>(4)</b>",
            "max<br>s.t.<br> <br> "
           ],
           [
            " <br>x<sub>1</sub><br>x<sub>2</sub><br>x<sub>3</sub>",
            " ",
            " <br>x<sub>2</sub><br>x<sub>3</sub><br>x<sub>4</sub>"
           ],
           [
            "95 - 4x<sub>4</sub> + 2x<sub>5</sub> - 1x<sub>6</sub><br>= 5 - 1x<sub>4</sub> + 0x<sub>5</sub> + 0x<sub>6</sub><br>= 5 + 4x<sub>4</sub> - 1x<sub>5</sub> + 0x<sub>6</sub><br>= 65 - 8x<sub>4</sub> + 4x<sub>5</sub> - 1x<sub>6</sub>",
            " ",
            "75 + 4x<sub>1</sub> + 2x<sub>5</sub> - 1x<sub>6</sub><br>= 25 - 4x<sub>1</sub> - 1x<sub>5</sub> + 0x<sub>6</sub><br>= 25 + 8x<sub>1</sub> + 4x<sub>5</sub> - 1x<sub>6</sub><br>= 5 - 1x<sub>1</sub> + 0x<sub>5</sub> + 0x<sub>6</sub>"
           ]
          ]
         },
         "columnwidth": [
          0.13333333333333333,
          0.06666666666666667,
          0.8
         ],
         "domain": {
          "x": [
           0.6052631578947368,
           1
          ],
          "y": [
           0,
           1
          ]
         },
         "header": {
          "align": [
           "left",
           "right",
           "left"
          ],
          "fill": {
           "color": "white"
          },
          "font": {
           "color": [
            "red",
            "black"
           ],
           "size": 14
          },
          "height": 25,
          "line": {
           "color": "white",
           "width": 1
          },
          "values": [
           "<b>(5)</b>",
           " ",
           " "
          ]
         },
         "type": "table",
         "visible": false
        },
        {
         "cells": {
          "align": [
           "left",
           "right",
           "left"
          ],
          "fill": {
           "color": "white"
          },
          "font": {
           "color": [
            [
             "black",
             "red",
             "black"
            ],
            [
             "black",
             "black",
             "black"
            ]
           ],
           "size": 14
          },
          "height": 25,
          "line": {
           "color": "white",
           "width": 1
          },
          "values": [
           [
            "max<br>s.t.<br> <br> "
           ],
           [
            " <br>x<sub>1</sub><br>x<sub>2</sub><br>x<sub>3</sub>"
           ],
           [
            "95 - 4x<sub>4</sub> + 2x<sub>5</sub> - 1x<sub>6</sub><br>= 5 - 1x<sub>4</sub> + 0x<sub>5</sub> + 0x<sub>6</sub><br>= 5 + 4x<sub>4</sub> - 1x<sub>5</sub> + 0x<sub>6</sub><br>= 65 - 8x<sub>4</sub> + 4x<sub>5</sub> - 1x<sub>6</sub>"
           ]
          ]
         },
         "columnwidth": [
          0.13333333333333333,
          0.06666666666666667,
          0.8
         ],
         "domain": {
          "x": [
           0.6052631578947368,
           1
          ],
          "y": [
           0,
           1
          ]
         },
         "header": {
          "align": [
           "left",
           "right",
           "left"
          ],
          "fill": {
           "color": "white"
          },
          "font": {
           "color": [
            "red",
            "black"
           ],
           "size": 14
          },
          "height": 25,
          "line": {
           "color": "white",
           "width": 1
          },
          "values": [
           "<b>(5)</b>",
           " ",
           " "
          ]
         },
         "type": "table",
         "visible": false
        },
        {
         "cells": {
          "align": [
           "left",
           "right",
           "left"
          ],
          "fill": {
           "color": "white"
          },
          "font": {
           "color": [
            [
             "black",
             "red",
             "black"
            ],
            [
             "black",
             "black",
             "black"
            ]
           ],
           "size": 14
          },
          "height": 25,
          "line": {
           "color": "white",
           "width": 1
          },
          "values": [
           [
            "max<br>s.t.<br> <br> ",
            "<b>(5)</b>",
            "max<br>s.t.<br> <br> "
           ],
           [
            " <br>x<sub>1</sub><br>x<sub>3</sub><br>x<sub>5</sub>",
            " ",
            " <br>x<sub>1</sub><br>x<sub>2</sub><br>x<sub>3</sub>"
           ],
           [
            "105 - 2x<sub>2</sub> + 4x<sub>4</sub> - 1x<sub>6</sub><br>= 5 + 0x<sub>2</sub> - 1x<sub>4</sub> + 0x<sub>6</sub><br>= 85 - 4x<sub>2</sub> + 8x<sub>4</sub> - 1x<sub>6</sub><br>= 5 - 1x<sub>2</sub> + 4x<sub>4</sub> + 0x<sub>6</sub>",
            " ",
            "95 - 4x<sub>4</sub> + 2x<sub>5</sub> - 1x<sub>6</sub><br>= 5 - 1x<sub>4</sub> + 0x<sub>5</sub> + 0x<sub>6</sub><br>= 5 + 4x<sub>4</sub> - 1x<sub>5</sub> + 0x<sub>6</sub><br>= 65 - 8x<sub>4</sub> + 4x<sub>5</sub> - 1x<sub>6</sub>"
           ]
          ]
         },
         "columnwidth": [
          0.13333333333333333,
          0.06666666666666667,
          0.8
         ],
         "domain": {
          "x": [
           0.6052631578947368,
           1
          ],
          "y": [
           0,
           1
          ]
         },
         "header": {
          "align": [
           "left",
           "right",
           "left"
          ],
          "fill": {
           "color": "white"
          },
          "font": {
           "color": [
            "red",
            "black"
           ],
           "size": 14
          },
          "height": 25,
          "line": {
           "color": "white",
           "width": 1
          },
          "values": [
           "<b>(6)</b>",
           " ",
           " "
          ]
         },
         "type": "table",
         "visible": false
        },
        {
         "cells": {
          "align": [
           "left",
           "right",
           "left"
          ],
          "fill": {
           "color": "white"
          },
          "font": {
           "color": [
            [
             "black",
             "red",
             "black"
            ],
            [
             "black",
             "black",
             "black"
            ]
           ],
           "size": 14
          },
          "height": 25,
          "line": {
           "color": "white",
           "width": 1
          },
          "values": [
           [
            "max<br>s.t.<br> <br> "
           ],
           [
            " <br>x<sub>1</sub><br>x<sub>3</sub><br>x<sub>5</sub>"
           ],
           [
            "105 - 2x<sub>2</sub> + 4x<sub>4</sub> - 1x<sub>6</sub><br>= 5 + 0x<sub>2</sub> - 1x<sub>4</sub> + 0x<sub>6</sub><br>= 85 - 4x<sub>2</sub> + 8x<sub>4</sub> - 1x<sub>6</sub><br>= 5 - 1x<sub>2</sub> + 4x<sub>4</sub> + 0x<sub>6</sub>"
           ]
          ]
         },
         "columnwidth": [
          0.13333333333333333,
          0.06666666666666667,
          0.8
         ],
         "domain": {
          "x": [
           0.6052631578947368,
           1
          ],
          "y": [
           0,
           1
          ]
         },
         "header": {
          "align": [
           "left",
           "right",
           "left"
          ],
          "fill": {
           "color": "white"
          },
          "font": {
           "color": [
            "red",
            "black"
           ],
           "size": 14
          },
          "height": 25,
          "line": {
           "color": "white",
           "width": 1
          },
          "values": [
           "<b>(6)</b>",
           " ",
           " "
          ]
         },
         "type": "table",
         "visible": false
        },
        {
         "cells": {
          "align": [
           "left",
           "right",
           "left"
          ],
          "fill": {
           "color": "white"
          },
          "font": {
           "color": [
            [
             "black",
             "red",
             "black"
            ],
            [
             "black",
             "black",
             "black"
            ]
           ],
           "size": 14
          },
          "height": 25,
          "line": {
           "color": "white",
           "width": 1
          },
          "values": [
           [
            "max<br>s.t.<br> <br> ",
            "<b>(6)</b>",
            "max<br>s.t.<br> <br> "
           ],
           [
            " <br>x<sub>3</sub><br>x<sub>4</sub><br>x<sub>5</sub>",
            " ",
            " <br>x<sub>1</sub><br>x<sub>3</sub><br>x<sub>5</sub>"
           ],
           [
            "125 - 4x<sub>1</sub> - 2x<sub>2</sub> - 1x<sub>6</sub><br>= 125 - 8x<sub>1</sub> - 4x<sub>2</sub> - 1x<sub>6</sub><br>= 5 - 1x<sub>1</sub> + 0x<sub>2</sub> + 0x<sub>6</sub><br>= 25 - 4x<sub>1</sub> - 1x<sub>2</sub> + 0x<sub>6</sub>",
            " ",
            "105 - 2x<sub>2</sub> + 4x<sub>4</sub> - 1x<sub>6</sub><br>= 5 + 0x<sub>2</sub> - 1x<sub>4</sub> + 0x<sub>6</sub><br>= 85 - 4x<sub>2</sub> + 8x<sub>4</sub> - 1x<sub>6</sub><br>= 5 - 1x<sub>2</sub> + 4x<sub>4</sub> + 0x<sub>6</sub>"
           ]
          ]
         },
         "columnwidth": [
          0.13333333333333333,
          0.06666666666666667,
          0.8
         ],
         "domain": {
          "x": [
           0.6052631578947368,
           1
          ],
          "y": [
           0,
           1
          ]
         },
         "header": {
          "align": [
           "left",
           "right",
           "left"
          ],
          "fill": {
           "color": "white"
          },
          "font": {
           "color": [
            "red",
            "black"
           ],
           "size": 14
          },
          "height": 25,
          "line": {
           "color": "white",
           "width": 1
          },
          "values": [
           "<b>(7)</b>",
           " ",
           " "
          ]
         },
         "type": "table",
         "visible": false
        },
        {
         "cells": {
          "align": [
           "left",
           "right",
           "left"
          ],
          "fill": {
           "color": "white"
          },
          "font": {
           "color": [
            [
             "black",
             "red",
             "black"
            ],
            [
             "black",
             "black",
             "black"
            ]
           ],
           "size": 14
          },
          "height": 25,
          "line": {
           "color": "white",
           "width": 1
          },
          "values": [
           [
            "max<br>s.t.<br> <br> "
           ],
           [
            " <br>x<sub>3</sub><br>x<sub>4</sub><br>x<sub>5</sub>"
           ],
           [
            "125 - 4x<sub>1</sub> - 2x<sub>2</sub> - 1x<sub>6</sub><br>= 125 - 8x<sub>1</sub> - 4x<sub>2</sub> - 1x<sub>6</sub><br>= 5 - 1x<sub>1</sub> + 0x<sub>2</sub> + 0x<sub>6</sub><br>= 25 - 4x<sub>1</sub> - 1x<sub>2</sub> + 0x<sub>6</sub>"
           ]
          ]
         },
         "columnwidth": [
          0.13333333333333333,
          0.06666666666666667,
          0.8
         ],
         "domain": {
          "x": [
           0.6052631578947368,
           1
          ],
          "y": [
           0,
           1
          ]
         },
         "header": {
          "align": [
           "left",
           "right",
           "left"
          ],
          "fill": {
           "color": "white"
          },
          "font": {
           "color": [
            "red",
            "black"
           ],
           "size": 14
          },
          "height": 25,
          "line": {
           "color": "white",
           "width": 1
          },
          "values": [
           "<b>(7)</b>",
           " ",
           " "
          ]
         },
         "type": "table",
         "visible": false
        }
       ],
       "layout": {
        "font": {
         "color": "#323232",
         "family": "Arial"
        },
        "height": 500,
        "legend": {
         "font": {
          "size": 13
         },
         "title": {
          "font": {
           "size": 14
          },
          "text": "<b>Constraint(s)</b>"
         },
         "x": 0.39473684210526316,
         "xanchor": "left",
         "y": 1,
         "yanchor": "top"
        },
        "margin": {
         "b": 0,
         "l": 0,
         "r": 0,
         "t": 33
        },
        "paper_bgcolor": "white",
        "plot_bgcolor": "#FAFAFA",
        "scene": {
         "aspectmode": "cube",
         "domain": {
          "x": [
           0,
           0.39473684210526316
          ],
          "y": [
           0,
           1
          ]
         },
         "xaxis": {
          "gridcolor": "#CCCCCC",
          "gridwidth": 1,
          "linecolor": "#4D4D4D",
          "linewidth": 2,
          "range": [
           0,
           6.5
          ],
          "rangemode": "tozero",
          "showspikes": false,
          "tickcolor": "#4D4D4D",
          "ticks": "outside",
          "title": {
           "text": "x<sub>1</sub>"
          }
         },
         "yaxis": {
          "gridcolor": "#CCCCCC",
          "gridwidth": 1,
          "linecolor": "#4D4D4D",
          "linewidth": 2,
          "range": [
           0,
           32.5
          ],
          "rangemode": "tozero",
          "showspikes": false,
          "tickcolor": "#4D4D4D",
          "ticks": "outside",
          "title": {
           "text": "x<sub>2</sub>"
          }
         },
         "zaxis": {
          "gridcolor": "#CCCCCC",
          "gridwidth": 1,
          "linecolor": "#4D4D4D",
          "linewidth": 2,
          "range": [
           0,
           162.5
          ],
          "rangemode": "tozero",
          "showspikes": false,
          "tickcolor": "#4D4D4D",
          "ticks": "outside",
          "title": {
           "text": "x<sub>3</sub>"
          }
         }
        },
        "sliders": [
         {
          "active": 0,
          "currentvalue": {
           "prefix": "Objective Value: "
          },
          "len": 0.4,
          "lenmode": "fraction",
          "pad": {
           "b": 0,
           "l": 0,
           "r": 0,
           "t": 50
          },
          "steps": [
           {
            "args": [
             {
              "visible": [
               null,
               true,
               true,
               true,
               true,
               true,
               true,
               "legendonly",
               "legendonly",
               "legendonly",
               null,
               true,
               true,
               false,
               false,
               false,
               false,
               false,
               false,
               false,
               false,
               false,
               false,
               false,
               false,
               false,
               false,
               false,
               false,
               false,
               false,
               false,
               false,
               false,
               false,
               false,
               false,
               false,
               false,
               false,
               false,
               false,
               false,
               false,
               false,
               false,
               false,
               false,
               false,
               false,
               false,
               false,
               false,
               false,
               false,
               false,
               false,
               false,
               false,
               false,
               false,
               false,
               false,
               null,
               false,
               false,
               false,
               false,
               false,
               false,
               false,
               false,
               false,
               false,
               false,
               false,
               false,
               false,
               null,
               false,
               false,
               false,
               false,
               false,
               false,
               false,
               false,
               false,
               false,
               false,
               false,
               false,
               false
              ]
             }
            ],
            "label": "0.0",
            "method": "update"
           },
           {
            "args": [
             {
              "visible": [
               null,
               true,
               true,
               true,
               true,
               true,
               true,
               "legendonly",
               "legendonly",
               "legendonly",
               null,
               false,
               false,
               true,
               true,
               false,
               false,
               false,
               false,
               false,
               false,
               false,
               false,
               false,
               false,
               false,
               false,
               false,
               false,
               false,
               false,
               false,
               false,
               false,
               false,
               false,
               false,
               false,
               false,
               false,
               false,
               false,
               false,
               false,
               false,
               false,
               false,
               false,
               false,
               false,
               false,
               false,
               false,
               false,
               false,
               false,
               false,
               false,
               false,
               false,
               false,
               false,
               false,
               null,
               false,
               false,
               false,
               false,
               false,
               false,
               false,
               false,
               false,
               false,
               false,
               false,
               false,
               false,
               null,
               false,
               false,
               false,
               false,
               false,
               false,
               false,
               false,
               false,
               false,
               false,
               false,
               false,
               false
              ]
             }
            ],
            "label": "10.56",
            "method": "update"
           },
           {
            "args": [
             {
              "visible": [
               null,
               true,
               true,
               true,
               true,
               true,
               true,
               "legendonly",
               "legendonly",
               "legendonly",
               null,
               false,
               false,
               false,
               false,
               true,
               true,
               false,
               false,
               false,
               false,
               false,
               false,
               false,
               false,
               false,
               false,
               false,
               false,
               false,
               false,
               false,
               false,
               false,
               false,
               false,
               false,
               false,
               false,
               false,
               false,
               false,
               false,
               false,
               false,
               false,
               false,
               false,
               false,
               false,
               false,
               false,
               false,
               false,
               false,
               false,
               false,
               false,
               false,
               false,
               false,
               false,
               false,
               null,
               false,
               false,
               false,
               false,
               false,
               false,
               false,
               false,
               false,
               false,
               false,
               false,
               false,
               false,
               null,
               false,
               false,
               false,
               false,
               false,
               false,
               false,
               false,
               false,
               false,
               false,
               false,
               false,
               false
              ]
             }
            ],
            "label": "21.12",
            "method": "update"
           },
           {
            "args": [
             {
              "visible": [
               null,
               true,
               true,
               true,
               true,
               true,
               true,
               "legendonly",
               "legendonly",
               "legendonly",
               null,
               false,
               false,
               false,
               false,
               false,
               false,
               true,
               true,
               false,
               false,
               false,
               false,
               false,
               false,
               false,
               false,
               false,
               false,
               false,
               false,
               false,
               false,
               false,
               false,
               false,
               false,
               false,
               false,
               false,
               false,
               false,
               false,
               false,
               false,
               false,
               false,
               false,
               false,
               false,
               false,
               false,
               false,
               false,
               false,
               false,
               false,
               false,
               false,
               false,
               false,
               false,
               false,
               null,
               false,
               false,
               false,
               false,
               false,
               false,
               false,
               false,
               false,
               false,
               false,
               false,
               false,
               false,
               null,
               false,
               false,
               false,
               false,
               false,
               false,
               false,
               false,
               false,
               false,
               false,
               false,
               false,
               false
              ]
             }
            ],
            "label": "31.69",
            "method": "update"
           },
           {
            "args": [
             {
              "visible": [
               null,
               true,
               true,
               true,
               true,
               true,
               true,
               "legendonly",
               "legendonly",
               "legendonly",
               null,
               false,
               false,
               false,
               false,
               false,
               false,
               false,
               false,
               true,
               true,
               false,
               false,
               false,
               false,
               false,
               false,
               false,
               false,
               false,
               false,
               false,
               false,
               false,
               false,
               false,
               false,
               false,
               false,
               false,
               false,
               false,
               false,
               false,
               false,
               false,
               false,
               false,
               false,
               false,
               false,
               false,
               false,
               false,
               false,
               false,
               false,
               false,
               false,
               false,
               false,
               false,
               false,
               null,
               false,
               false,
               false,
               false,
               false,
               false,
               false,
               false,
               false,
               false,
               false,
               false,
               false,
               false,
               null,
               false,
               false,
               false,
               false,
               false,
               false,
               false,
               false,
               false,
               false,
               false,
               false,
               false,
               false
              ]
             }
            ],
            "label": "42.25",
            "method": "update"
           },
           {
            "args": [
             {
              "visible": [
               null,
               true,
               true,
               true,
               true,
               true,
               true,
               "legendonly",
               "legendonly",
               "legendonly",
               null,
               false,
               false,
               false,
               false,
               false,
               false,
               false,
               false,
               false,
               false,
               true,
               true,
               false,
               false,
               false,
               false,
               false,
               false,
               false,
               false,
               false,
               false,
               false,
               false,
               false,
               false,
               false,
               false,
               false,
               false,
               false,
               false,
               false,
               false,
               false,
               false,
               false,
               false,
               false,
               false,
               false,
               false,
               false,
               false,
               false,
               false,
               false,
               false,
               false,
               false,
               false,
               false,
               null,
               false,
               false,
               false,
               false,
               false,
               false,
               false,
               false,
               false,
               false,
               false,
               false,
               false,
               false,
               null,
               false,
               false,
               false,
               false,
               false,
               false,
               false,
               false,
               false,
               false,
               false,
               false,
               false,
               false
              ]
             }
            ],
            "label": "52.81",
            "method": "update"
           },
           {
            "args": [
             {
              "visible": [
               null,
               true,
               true,
               true,
               true,
               true,
               true,
               "legendonly",
               "legendonly",
               "legendonly",
               null,
               false,
               false,
               false,
               false,
               false,
               false,
               false,
               false,
               false,
               false,
               false,
               false,
               true,
               true,
               false,
               false,
               false,
               false,
               false,
               false,
               false,
               false,
               false,
               false,
               false,
               false,
               false,
               false,
               false,
               false,
               false,
               false,
               false,
               false,
               false,
               false,
               false,
               false,
               false,
               false,
               false,
               false,
               false,
               false,
               false,
               false,
               false,
               false,
               false,
               false,
               false,
               false,
               null,
               false,
               false,
               false,
               false,
               false,
               false,
               false,
               false,
               false,
               false,
               false,
               false,
               false,
               false,
               null,
               false,
               false,
               false,
               false,
               false,
               false,
               false,
               false,
               false,
               false,
               false,
               false,
               false,
               false
              ]
             }
            ],
            "label": "63.38",
            "method": "update"
           },
           {
            "args": [
             {
              "visible": [
               null,
               true,
               true,
               true,
               true,
               true,
               true,
               "legendonly",
               "legendonly",
               "legendonly",
               null,
               false,
               false,
               false,
               false,
               false,
               false,
               false,
               false,
               false,
               false,
               false,
               false,
               false,
               false,
               true,
               true,
               false,
               false,
               false,
               false,
               false,
               false,
               false,
               false,
               false,
               false,
               false,
               false,
               false,
               false,
               false,
               false,
               false,
               false,
               false,
               false,
               false,
               false,
               false,
               false,
               false,
               false,
               false,
               false,
               false,
               false,
               false,
               false,
               false,
               false,
               false,
               false,
               null,
               false,
               false,
               false,
               false,
               false,
               false,
               false,
               false,
               false,
               false,
               false,
               false,
               false,
               false,
               null,
               false,
               false,
               false,
               false,
               false,
               false,
               false,
               false,
               false,
               false,
               false,
               false,
               false,
               false
              ]
             }
            ],
            "label": "73.94",
            "method": "update"
           },
           {
            "args": [
             {
              "visible": [
               null,
               true,
               true,
               true,
               true,
               true,
               true,
               "legendonly",
               "legendonly",
               "legendonly",
               null,
               false,
               false,
               false,
               false,
               false,
               false,
               false,
               false,
               false,
               false,
               false,
               false,
               false,
               false,
               false,
               false,
               true,
               true,
               false,
               false,
               false,
               false,
               false,
               false,
               false,
               false,
               false,
               false,
               false,
               false,
               false,
               false,
               false,
               false,
               false,
               false,
               false,
               false,
               false,
               false,
               false,
               false,
               false,
               false,
               false,
               false,
               false,
               false,
               false,
               false,
               false,
               false,
               null,
               false,
               false,
               false,
               false,
               false,
               false,
               false,
               false,
               false,
               false,
               false,
               false,
               false,
               false,
               null,
               false,
               false,
               false,
               false,
               false,
               false,
               false,
               false,
               false,
               false,
               false,
               false,
               false,
               false
              ]
             }
            ],
            "label": "84.5",
            "method": "update"
           },
           {
            "args": [
             {
              "visible": [
               null,
               true,
               true,
               true,
               true,
               true,
               true,
               "legendonly",
               "legendonly",
               "legendonly",
               null,
               false,
               false,
               false,
               false,
               false,
               false,
               false,
               false,
               false,
               false,
               false,
               false,
               false,
               false,
               false,
               false,
               false,
               false,
               true,
               true,
               false,
               false,
               false,
               false,
               false,
               false,
               false,
               false,
               false,
               false,
               false,
               false,
               false,
               false,
               false,
               false,
               false,
               false,
               false,
               false,
               false,
               false,
               false,
               false,
               false,
               false,
               false,
               false,
               false,
               false,
               false,
               false,
               null,
               false,
               false,
               false,
               false,
               false,
               false,
               false,
               false,
               false,
               false,
               false,
               false,
               false,
               false,
               null,
               false,
               false,
               false,
               false,
               false,
               false,
               false,
               false,
               false,
               false,
               false,
               false,
               false,
               false
              ]
             }
            ],
            "label": "95.06",
            "method": "update"
           },
           {
            "args": [
             {
              "visible": [
               null,
               true,
               true,
               true,
               true,
               true,
               true,
               "legendonly",
               "legendonly",
               "legendonly",
               null,
               false,
               false,
               false,
               false,
               false,
               false,
               false,
               false,
               false,
               false,
               false,
               false,
               false,
               false,
               false,
               false,
               false,
               false,
               false,
               false,
               true,
               true,
               false,
               false,
               false,
               false,
               false,
               false,
               false,
               false,
               false,
               false,
               false,
               false,
               false,
               false,
               false,
               false,
               false,
               false,
               false,
               false,
               false,
               false,
               false,
               false,
               false,
               false,
               false,
               false,
               false,
               false,
               null,
               false,
               false,
               false,
               false,
               false,
               false,
               false,
               false,
               false,
               false,
               false,
               false,
               false,
               false,
               null,
               false,
               false,
               false,
               false,
               false,
               false,
               false,
               false,
               false,
               false,
               false,
               false,
               false,
               false
              ]
             }
            ],
            "label": "105.62",
            "method": "update"
           },
           {
            "args": [
             {
              "visible": [
               null,
               true,
               true,
               true,
               true,
               true,
               true,
               "legendonly",
               "legendonly",
               "legendonly",
               null,
               false,
               false,
               false,
               false,
               false,
               false,
               false,
               false,
               false,
               false,
               false,
               false,
               false,
               false,
               false,
               false,
               false,
               false,
               false,
               false,
               false,
               false,
               true,
               true,
               false,
               false,
               false,
               false,
               false,
               false,
               false,
               false,
               false,
               false,
               false,
               false,
               false,
               false,
               false,
               false,
               false,
               false,
               false,
               false,
               false,
               false,
               false,
               false,
               false,
               false,
               false,
               false,
               null,
               false,
               false,
               false,
               false,
               false,
               false,
               false,
               false,
               false,
               false,
               false,
               false,
               false,
               false,
               null,
               false,
               false,
               false,
               false,
               false,
               false,
               false,
               false,
               false,
               false,
               false,
               false,
               false,
               false
              ]
             }
            ],
            "label": "116.19",
            "method": "update"
           },
           {
            "args": [
             {
              "visible": [
               null,
               true,
               true,
               true,
               true,
               true,
               true,
               "legendonly",
               "legendonly",
               "legendonly",
               null,
               false,
               false,
               false,
               false,
               false,
               false,
               false,
               false,
               false,
               false,
               false,
               false,
               false,
               false,
               false,
               false,
               false,
               false,
               false,
               false,
               false,
               false,
               false,
               false,
               true,
               true,
               false,
               false,
               false,
               false,
               false,
               false,
               false,
               false,
               false,
               false,
               false,
               false,
               false,
               false,
               false,
               false,
               false,
               false,
               false,
               false,
               false,
               false,
               false,
               false,
               false,
               false,
               null,
               false,
               false,
               false,
               false,
               false,
               false,
               false,
               false,
               false,
               false,
               false,
               false,
               false,
               false,
               null,
               false,
               false,
               false,
               false,
               false,
               false,
               false,
               false,
               false,
               false,
               false,
               false,
               false,
               false
              ]
             }
            ],
            "label": "125.0",
            "method": "update"
           },
           {
            "args": [
             {
              "visible": [
               null,
               true,
               true,
               true,
               true,
               true,
               true,
               "legendonly",
               "legendonly",
               "legendonly",
               null,
               false,
               false,
               false,
               false,
               false,
               false,
               false,
               false,
               false,
               false,
               false,
               false,
               false,
               false,
               false,
               false,
               false,
               false,
               false,
               false,
               false,
               false,
               false,
               false,
               false,
               false,
               true,
               true,
               false,
               false,
               false,
               false,
               false,
               false,
               false,
               false,
               false,
               false,
               false,
               false,
               false,
               false,
               false,
               false,
               false,
               false,
               false,
               false,
               false,
               false,
               false,
               false,
               null,
               false,
               false,
               false,
               false,
               false,
               false,
               false,
               false,
               false,
               false,
               false,
               false,
               false,
               false,
               null,
               false,
               false,
               false,
               false,
               false,
               false,
               false,
               false,
               false,
               false,
               false,
               false,
               false,
               false
              ]
             }
            ],
            "label": "126.75",
            "method": "update"
           },
           {
            "args": [
             {
              "visible": [
               null,
               true,
               true,
               true,
               true,
               true,
               true,
               "legendonly",
               "legendonly",
               "legendonly",
               null,
               false,
               false,
               false,
               false,
               false,
               false,
               false,
               false,
               false,
               false,
               false,
               false,
               false,
               false,
               false,
               false,
               false,
               false,
               false,
               false,
               false,
               false,
               false,
               false,
               false,
               false,
               false,
               false,
               true,
               true,
               false,
               false,
               false,
               false,
               false,
               false,
               false,
               false,
               false,
               false,
               false,
               false,
               false,
               false,
               false,
               false,
               false,
               false,
               false,
               false,
               false,
               false,
               null,
               false,
               false,
               false,
               false,
               false,
               false,
               false,
               false,
               false,
               false,
               false,
               false,
               false,
               false,
               null,
               false,
               false,
               false,
               false,
               false,
               false,
               false,
               false,
               false,
               false,
               false,
               false,
               false,
               false
              ]
             }
            ],
            "label": "137.31",
            "method": "update"
           },
           {
            "args": [
             {
              "visible": [
               null,
               true,
               true,
               true,
               true,
               true,
               true,
               "legendonly",
               "legendonly",
               "legendonly",
               null,
               false,
               false,
               false,
               false,
               false,
               false,
               false,
               false,
               false,
               false,
               false,
               false,
               false,
               false,
               false,
               false,
               false,
               false,
               false,
               false,
               false,
               false,
               false,
               false,
               false,
               false,
               false,
               false,
               false,
               false,
               true,
               true,
               false,
               false,
               false,
               false,
               false,
               false,
               false,
               false,
               false,
               false,
               false,
               false,
               false,
               false,
               false,
               false,
               false,
               false,
               false,
               false,
               null,
               false,
               false,
               false,
               false,
               false,
               false,
               false,
               false,
               false,
               false,
               false,
               false,
               false,
               false,
               null,
               false,
               false,
               false,
               false,
               false,
               false,
               false,
               false,
               false,
               false,
               false,
               false,
               false,
               false
              ]
             }
            ],
            "label": "147.88",
            "method": "update"
           },
           {
            "args": [
             {
              "visible": [
               null,
               true,
               true,
               true,
               true,
               true,
               true,
               "legendonly",
               "legendonly",
               "legendonly",
               null,
               false,
               false,
               false,
               false,
               false,
               false,
               false,
               false,
               false,
               false,
               false,
               false,
               false,
               false,
               false,
               false,
               false,
               false,
               false,
               false,
               false,
               false,
               false,
               false,
               false,
               false,
               false,
               false,
               false,
               false,
               false,
               false,
               true,
               true,
               false,
               false,
               false,
               false,
               false,
               false,
               false,
               false,
               false,
               false,
               false,
               false,
               false,
               false,
               false,
               false,
               false,
               false,
               null,
               false,
               false,
               false,
               false,
               false,
               false,
               false,
               false,
               false,
               false,
               false,
               false,
               false,
               false,
               null,
               false,
               false,
               false,
               false,
               false,
               false,
               false,
               false,
               false,
               false,
               false,
               false,
               false,
               false
              ]
             }
            ],
            "label": "158.44",
            "method": "update"
           },
           {
            "args": [
             {
              "visible": [
               null,
               true,
               true,
               true,
               true,
               true,
               true,
               "legendonly",
               "legendonly",
               "legendonly",
               null,
               false,
               false,
               false,
               false,
               false,
               false,
               false,
               false,
               false,
               false,
               false,
               false,
               false,
               false,
               false,
               false,
               false,
               false,
               false,
               false,
               false,
               false,
               false,
               false,
               false,
               false,
               false,
               false,
               false,
               false,
               false,
               false,
               false,
               false,
               true,
               true,
               false,
               false,
               false,
               false,
               false,
               false,
               false,
               false,
               false,
               false,
               false,
               false,
               false,
               false,
               false,
               false,
               null,
               false,
               false,
               false,
               false,
               false,
               false,
               false,
               false,
               false,
               false,
               false,
               false,
               false,
               false,
               null,
               false,
               false,
               false,
               false,
               false,
               false,
               false,
               false,
               false,
               false,
               false,
               false,
               false,
               false
              ]
             }
            ],
            "label": "169.0",
            "method": "update"
           },
           {
            "args": [
             {
              "visible": [
               null,
               true,
               true,
               true,
               true,
               true,
               true,
               "legendonly",
               "legendonly",
               "legendonly",
               null,
               false,
               false,
               false,
               false,
               false,
               false,
               false,
               false,
               false,
               false,
               false,
               false,
               false,
               false,
               false,
               false,
               false,
               false,
               false,
               false,
               false,
               false,
               false,
               false,
               false,
               false,
               false,
               false,
               false,
               false,
               false,
               false,
               false,
               false,
               false,
               false,
               true,
               true,
               false,
               false,
               false,
               false,
               false,
               false,
               false,
               false,
               false,
               false,
               false,
               false,
               false,
               false,
               null,
               false,
               false,
               false,
               false,
               false,
               false,
               false,
               false,
               false,
               false,
               false,
               false,
               false,
               false,
               null,
               false,
               false,
               false,
               false,
               false,
               false,
               false,
               false,
               false,
               false,
               false,
               false,
               false,
               false
              ]
             }
            ],
            "label": "179.56",
            "method": "update"
           },
           {
            "args": [
             {
              "visible": [
               null,
               true,
               true,
               true,
               true,
               true,
               true,
               "legendonly",
               "legendonly",
               "legendonly",
               null,
               false,
               false,
               false,
               false,
               false,
               false,
               false,
               false,
               false,
               false,
               false,
               false,
               false,
               false,
               false,
               false,
               false,
               false,
               false,
               false,
               false,
               false,
               false,
               false,
               false,
               false,
               false,
               false,
               false,
               false,
               false,
               false,
               false,
               false,
               false,
               false,
               false,
               false,
               true,
               true,
               false,
               false,
               false,
               false,
               false,
               false,
               false,
               false,
               false,
               false,
               false,
               false,
               null,
               false,
               false,
               false,
               false,
               false,
               false,
               false,
               false,
               false,
               false,
               false,
               false,
               false,
               false,
               null,
               false,
               false,
               false,
               false,
               false,
               false,
               false,
               false,
               false,
               false,
               false,
               false,
               false,
               false
              ]
             }
            ],
            "label": "190.12",
            "method": "update"
           },
           {
            "args": [
             {
              "visible": [
               null,
               true,
               true,
               true,
               true,
               true,
               true,
               "legendonly",
               "legendonly",
               "legendonly",
               null,
               false,
               false,
               false,
               false,
               false,
               false,
               false,
               false,
               false,
               false,
               false,
               false,
               false,
               false,
               false,
               false,
               false,
               false,
               false,
               false,
               false,
               false,
               false,
               false,
               false,
               false,
               false,
               false,
               false,
               false,
               false,
               false,
               false,
               false,
               false,
               false,
               false,
               false,
               false,
               false,
               true,
               true,
               false,
               false,
               false,
               false,
               false,
               false,
               false,
               false,
               false,
               false,
               null,
               false,
               false,
               false,
               false,
               false,
               false,
               false,
               false,
               false,
               false,
               false,
               false,
               false,
               false,
               null,
               false,
               false,
               false,
               false,
               false,
               false,
               false,
               false,
               false,
               false,
               false,
               false,
               false,
               false
              ]
             }
            ],
            "label": "200.69",
            "method": "update"
           },
           {
            "args": [
             {
              "visible": [
               null,
               true,
               true,
               true,
               true,
               true,
               true,
               "legendonly",
               "legendonly",
               "legendonly",
               null,
               false,
               false,
               false,
               false,
               false,
               false,
               false,
               false,
               false,
               false,
               false,
               false,
               false,
               false,
               false,
               false,
               false,
               false,
               false,
               false,
               false,
               false,
               false,
               false,
               false,
               false,
               false,
               false,
               false,
               false,
               false,
               false,
               false,
               false,
               false,
               false,
               false,
               false,
               false,
               false,
               false,
               false,
               true,
               true,
               false,
               false,
               false,
               false,
               false,
               false,
               false,
               false,
               null,
               false,
               false,
               false,
               false,
               false,
               false,
               false,
               false,
               false,
               false,
               false,
               false,
               false,
               false,
               null,
               false,
               false,
               false,
               false,
               false,
               false,
               false,
               false,
               false,
               false,
               false,
               false,
               false,
               false
              ]
             }
            ],
            "label": "211.25",
            "method": "update"
           },
           {
            "args": [
             {
              "visible": [
               null,
               true,
               true,
               true,
               true,
               true,
               true,
               "legendonly",
               "legendonly",
               "legendonly",
               null,
               false,
               false,
               false,
               false,
               false,
               false,
               false,
               false,
               false,
               false,
               false,
               false,
               false,
               false,
               false,
               false,
               false,
               false,
               false,
               false,
               false,
               false,
               false,
               false,
               false,
               false,
               false,
               false,
               false,
               false,
               false,
               false,
               false,
               false,
               false,
               false,
               false,
               false,
               false,
               false,
               false,
               false,
               false,
               false,
               true,
               true,
               false,
               false,
               false,
               false,
               false,
               false,
               null,
               false,
               false,
               false,
               false,
               false,
               false,
               false,
               false,
               false,
               false,
               false,
               false,
               false,
               false,
               null,
               false,
               false,
               false,
               false,
               false,
               false,
               false,
               false,
               false,
               false,
               false,
               false,
               false,
               false
              ]
             }
            ],
            "label": "221.81",
            "method": "update"
           },
           {
            "args": [
             {
              "visible": [
               null,
               true,
               true,
               true,
               true,
               true,
               true,
               "legendonly",
               "legendonly",
               "legendonly",
               null,
               false,
               false,
               false,
               false,
               false,
               false,
               false,
               false,
               false,
               false,
               false,
               false,
               false,
               false,
               false,
               false,
               false,
               false,
               false,
               false,
               false,
               false,
               false,
               false,
               false,
               false,
               false,
               false,
               false,
               false,
               false,
               false,
               false,
               false,
               false,
               false,
               false,
               false,
               false,
               false,
               false,
               false,
               false,
               false,
               false,
               false,
               true,
               true,
               false,
               false,
               false,
               false,
               null,
               false,
               false,
               false,
               false,
               false,
               false,
               false,
               false,
               false,
               false,
               false,
               false,
               false,
               false,
               null,
               false,
               false,
               false,
               false,
               false,
               false,
               false,
               false,
               false,
               false,
               false,
               false,
               false,
               false
              ]
             }
            ],
            "label": "232.38",
            "method": "update"
           },
           {
            "args": [
             {
              "visible": [
               null,
               true,
               true,
               true,
               true,
               true,
               true,
               "legendonly",
               "legendonly",
               "legendonly",
               null,
               false,
               false,
               false,
               false,
               false,
               false,
               false,
               false,
               false,
               false,
               false,
               false,
               false,
               false,
               false,
               false,
               false,
               false,
               false,
               false,
               false,
               false,
               false,
               false,
               false,
               false,
               false,
               false,
               false,
               false,
               false,
               false,
               false,
               false,
               false,
               false,
               false,
               false,
               false,
               false,
               false,
               false,
               false,
               false,
               false,
               false,
               false,
               false,
               true,
               true,
               false,
               false,
               null,
               false,
               false,
               false,
               false,
               false,
               false,
               false,
               false,
               false,
               false,
               false,
               false,
               false,
               false,
               null,
               false,
               false,
               false,
               false,
               false,
               false,
               false,
               false,
               false,
               false,
               false,
               false,
               false,
               false
              ]
             }
            ],
            "label": "242.94",
            "method": "update"
           },
           {
            "args": [
             {
              "visible": [
               null,
               true,
               true,
               true,
               true,
               true,
               true,
               "legendonly",
               "legendonly",
               "legendonly",
               null,
               false,
               false,
               false,
               false,
               false,
               false,
               false,
               false,
               false,
               false,
               false,
               false,
               false,
               false,
               false,
               false,
               false,
               false,
               false,
               false,
               false,
               false,
               false,
               false,
               false,
               false,
               false,
               false,
               false,
               false,
               false,
               false,
               false,
               false,
               false,
               false,
               false,
               false,
               false,
               false,
               false,
               false,
               false,
               false,
               false,
               false,
               false,
               false,
               false,
               false,
               true,
               true,
               null,
               false,
               false,
               false,
               false,
               false,
               false,
               false,
               false,
               false,
               false,
               false,
               false,
               false,
               false,
               null,
               false,
               false,
               false,
               false,
               false,
               false,
               false,
               false,
               false,
               false,
               false,
               false,
               false,
               false
              ]
             }
            ],
            "label": "253.5",
            "method": "update"
           }
          ],
          "tickcolor": "white",
          "ticklen": 0,
          "x": 0.6052631578947368,
          "xanchor": "left",
          "y": 0.01,
          "yanchor": "bottom"
         },
         {
          "active": 0,
          "currentvalue": {
           "prefix": "Iteration: "
          },
          "len": 0.4,
          "lenmode": "fraction",
          "pad": {
           "b": 0,
           "l": 0,
           "r": 0,
           "t": 0
          },
          "steps": [
           {
            "args": [
             {
              "visible": [
               null,
               true,
               true,
               true,
               true,
               true,
               true,
               "legendonly",
               "legendonly",
               "legendonly",
               null,
               false,
               false,
               false,
               false,
               false,
               false,
               false,
               false,
               false,
               false,
               false,
               false,
               false,
               false,
               false,
               false,
               false,
               false,
               false,
               false,
               false,
               false,
               false,
               false,
               false,
               false,
               false,
               null,
               false,
               null,
               false,
               null,
               false,
               null,
               false,
               null,
               false,
               null,
               false,
               null,
               false,
               null,
               false,
               null,
               false,
               null,
               false,
               null,
               false,
               null,
               false,
               null,
               null,
               false,
               false,
               false,
               false,
               false,
               false,
               false,
               false,
               false,
               false,
               false,
               false,
               false,
               false,
               true,
               false,
               false,
               false,
               false,
               false,
               false,
               false,
               false,
               false,
               false,
               false,
               false,
               false,
               false
              ]
             }
            ],
            "label": "0",
            "method": "update"
           },
           {
            "args": [
             {
              "visible": [
               null,
               true,
               true,
               true,
               true,
               true,
               true,
               "legendonly",
               "legendonly",
               "legendonly",
               null,
               false,
               false,
               false,
               false,
               false,
               false,
               false,
               false,
               false,
               false,
               false,
               false,
               false,
               false,
               false,
               false,
               false,
               false,
               false,
               false,
               false,
               false,
               false,
               false,
               false,
               false,
               false,
               null,
               false,
               null,
               false,
               null,
               false,
               null,
               false,
               null,
               false,
               null,
               false,
               null,
               false,
               null,
               false,
               null,
               false,
               null,
               false,
               null,
               false,
               null,
               false,
               null,
               null,
               true,
               false,
               false,
               false,
               false,
               false,
               false,
               false,
               false,
               false,
               false,
               false,
               false,
               false,
               false,
               true,
               false,
               false,
               false,
               false,
               false,
               false,
               false,
               false,
               false,
               false,
               false,
               false,
               false
              ]
             }
            ],
            "label": "",
            "method": "update"
           },
           {
            "args": [
             {
              "visible": [
               null,
               true,
               true,
               true,
               true,
               true,
               true,
               "legendonly",
               "legendonly",
               "legendonly",
               null,
               false,
               false,
               false,
               false,
               false,
               false,
               false,
               false,
               false,
               false,
               false,
               false,
               false,
               false,
               false,
               false,
               false,
               false,
               false,
               false,
               false,
               false,
               false,
               false,
               false,
               false,
               false,
               null,
               false,
               null,
               false,
               null,
               false,
               null,
               false,
               null,
               false,
               null,
               false,
               null,
               false,
               null,
               false,
               null,
               false,
               null,
               false,
               null,
               false,
               null,
               false,
               null,
               null,
               true,
               true,
               false,
               false,
               false,
               false,
               false,
               false,
               false,
               false,
               false,
               false,
               false,
               false,
               false,
               false,
               true,
               false,
               false,
               false,
               false,
               false,
               false,
               false,
               false,
               false,
               false,
               false,
               false
              ]
             }
            ],
            "label": "1",
            "method": "update"
           },
           {
            "args": [
             {
              "visible": [
               null,
               true,
               true,
               true,
               true,
               true,
               true,
               "legendonly",
               "legendonly",
               "legendonly",
               null,
               false,
               false,
               false,
               false,
               false,
               false,
               false,
               false,
               false,
               false,
               false,
               false,
               false,
               false,
               false,
               false,
               false,
               false,
               false,
               false,
               false,
               false,
               false,
               false,
               false,
               false,
               false,
               null,
               false,
               null,
               false,
               null,
               false,
               null,
               false,
               null,
               false,
               null,
               false,
               null,
               false,
               null,
               false,
               null,
               false,
               null,
               false,
               null,
               false,
               null,
               false,
               null,
               null,
               true,
               true,
               true,
               false,
               false,
               false,
               false,
               false,
               false,
               false,
               false,
               false,
               false,
               false,
               false,
               false,
               false,
               true,
               false,
               false,
               false,
               false,
               false,
               false,
               false,
               false,
               false,
               false,
               false
              ]
             }
            ],
            "label": "",
            "method": "update"
           },
           {
            "args": [
             {
              "visible": [
               null,
               true,
               true,
               true,
               true,
               true,
               true,
               "legendonly",
               "legendonly",
               "legendonly",
               null,
               false,
               false,
               false,
               false,
               false,
               false,
               false,
               false,
               false,
               false,
               false,
               false,
               false,
               false,
               false,
               false,
               false,
               false,
               false,
               false,
               false,
               false,
               false,
               false,
               false,
               false,
               false,
               null,
               false,
               null,
               false,
               null,
               false,
               null,
               false,
               null,
               false,
               null,
               false,
               null,
               false,
               null,
               false,
               null,
               false,
               null,
               false,
               null,
               false,
               null,
               false,
               null,
               null,
               true,
               true,
               true,
               true,
               false,
               false,
               false,
               false,
               false,
               false,
               false,
               false,
               false,
               false,
               false,
               false,
               false,
               false,
               true,
               false,
               false,
               false,
               false,
               false,
               false,
               false,
               false,
               false,
               false
              ]
             }
            ],
            "label": "2",
            "method": "update"
           },
           {
            "args": [
             {
              "visible": [
               null,
               true,
               true,
               true,
               true,
               true,
               true,
               "legendonly",
               "legendonly",
               "legendonly",
               null,
               false,
               false,
               false,
               false,
               false,
               false,
               false,
               false,
               false,
               false,
               false,
               false,
               false,
               false,
               false,
               false,
               false,
               false,
               false,
               false,
               false,
               false,
               false,
               false,
               false,
               false,
               false,
               null,
               false,
               null,
               false,
               null,
               false,
               null,
               false,
               null,
               false,
               null,
               false,
               null,
               false,
               null,
               false,
               null,
               false,
               null,
               false,
               null,
               false,
               null,
               false,
               null,
               null,
               true,
               true,
               true,
               true,
               true,
               false,
               false,
               false,
               false,
               false,
               false,
               false,
               false,
               false,
               false,
               false,
               false,
               false,
               false,
               true,
               false,
               false,
               false,
               false,
               false,
               false,
               false,
               false,
               false
              ]
             }
            ],
            "label": "",
            "method": "update"
           },
           {
            "args": [
             {
              "visible": [
               null,
               true,
               true,
               true,
               true,
               true,
               true,
               "legendonly",
               "legendonly",
               "legendonly",
               null,
               false,
               false,
               false,
               false,
               false,
               false,
               false,
               false,
               false,
               false,
               false,
               false,
               false,
               false,
               false,
               false,
               false,
               false,
               false,
               false,
               false,
               false,
               false,
               false,
               false,
               false,
               false,
               null,
               false,
               null,
               false,
               null,
               false,
               null,
               false,
               null,
               false,
               null,
               false,
               null,
               false,
               null,
               false,
               null,
               false,
               null,
               false,
               null,
               false,
               null,
               false,
               null,
               null,
               true,
               true,
               true,
               true,
               true,
               true,
               false,
               false,
               false,
               false,
               false,
               false,
               false,
               false,
               false,
               false,
               false,
               false,
               false,
               false,
               true,
               false,
               false,
               false,
               false,
               false,
               false,
               false,
               false
              ]
             }
            ],
            "label": "3",
            "method": "update"
           },
           {
            "args": [
             {
              "visible": [
               null,
               true,
               true,
               true,
               true,
               true,
               true,
               "legendonly",
               "legendonly",
               "legendonly",
               null,
               false,
               false,
               false,
               false,
               false,
               false,
               false,
               false,
               false,
               false,
               false,
               false,
               false,
               false,
               false,
               false,
               false,
               false,
               false,
               false,
               false,
               false,
               false,
               false,
               false,
               false,
               false,
               null,
               false,
               null,
               false,
               null,
               false,
               null,
               false,
               null,
               false,
               null,
               false,
               null,
               false,
               null,
               false,
               null,
               false,
               null,
               false,
               null,
               false,
               null,
               false,
               null,
               null,
               true,
               true,
               true,
               true,
               true,
               true,
               true,
               false,
               false,
               false,
               false,
               false,
               false,
               false,
               false,
               false,
               false,
               false,
               false,
               false,
               false,
               true,
               false,
               false,
               false,
               false,
               false,
               false,
               false
              ]
             }
            ],
            "label": "",
            "method": "update"
           },
           {
            "args": [
             {
              "visible": [
               null,
               true,
               true,
               true,
               true,
               true,
               true,
               "legendonly",
               "legendonly",
               "legendonly",
               null,
               false,
               false,
               false,
               false,
               false,
               false,
               false,
               false,
               false,
               false,
               false,
               false,
               false,
               false,
               false,
               false,
               false,
               false,
               false,
               false,
               false,
               false,
               false,
               false,
               false,
               false,
               false,
               null,
               false,
               null,
               false,
               null,
               false,
               null,
               false,
               null,
               false,
               null,
               false,
               null,
               false,
               null,
               false,
               null,
               false,
               null,
               false,
               null,
               false,
               null,
               false,
               null,
               null,
               true,
               true,
               true,
               true,
               true,
               true,
               true,
               true,
               false,
               false,
               false,
               false,
               false,
               false,
               false,
               false,
               false,
               false,
               false,
               false,
               false,
               false,
               true,
               false,
               false,
               false,
               false,
               false,
               false
              ]
             }
            ],
            "label": "4",
            "method": "update"
           },
           {
            "args": [
             {
              "visible": [
               null,
               true,
               true,
               true,
               true,
               true,
               true,
               "legendonly",
               "legendonly",
               "legendonly",
               null,
               false,
               false,
               false,
               false,
               false,
               false,
               false,
               false,
               false,
               false,
               false,
               false,
               false,
               false,
               false,
               false,
               false,
               false,
               false,
               false,
               false,
               false,
               false,
               false,
               false,
               false,
               false,
               null,
               false,
               null,
               false,
               null,
               false,
               null,
               false,
               null,
               false,
               null,
               false,
               null,
               false,
               null,
               false,
               null,
               false,
               null,
               false,
               null,
               false,
               null,
               false,
               null,
               null,
               true,
               true,
               true,
               true,
               true,
               true,
               true,
               true,
               true,
               false,
               false,
               false,
               false,
               false,
               false,
               false,
               false,
               false,
               false,
               false,
               false,
               false,
               false,
               true,
               false,
               false,
               false,
               false,
               false
              ]
             }
            ],
            "label": "",
            "method": "update"
           },
           {
            "args": [
             {
              "visible": [
               null,
               true,
               true,
               true,
               true,
               true,
               true,
               "legendonly",
               "legendonly",
               "legendonly",
               null,
               false,
               false,
               false,
               false,
               false,
               false,
               false,
               false,
               false,
               false,
               false,
               false,
               false,
               false,
               false,
               false,
               false,
               false,
               false,
               false,
               false,
               false,
               false,
               false,
               false,
               false,
               false,
               null,
               false,
               null,
               false,
               null,
               false,
               null,
               false,
               null,
               false,
               null,
               false,
               null,
               false,
               null,
               false,
               null,
               false,
               null,
               false,
               null,
               false,
               null,
               false,
               null,
               null,
               true,
               true,
               true,
               true,
               true,
               true,
               true,
               true,
               true,
               true,
               false,
               false,
               false,
               false,
               false,
               false,
               false,
               false,
               false,
               false,
               false,
               false,
               false,
               false,
               true,
               false,
               false,
               false,
               false
              ]
             }
            ],
            "label": "5",
            "method": "update"
           },
           {
            "args": [
             {
              "visible": [
               null,
               true,
               true,
               true,
               true,
               true,
               true,
               "legendonly",
               "legendonly",
               "legendonly",
               null,
               false,
               false,
               false,
               false,
               false,
               false,
               false,
               false,
               false,
               false,
               false,
               false,
               false,
               false,
               false,
               false,
               false,
               false,
               false,
               false,
               false,
               false,
               false,
               false,
               false,
               false,
               false,
               null,
               false,
               null,
               false,
               null,
               false,
               null,
               false,
               null,
               false,
               null,
               false,
               null,
               false,
               null,
               false,
               null,
               false,
               null,
               false,
               null,
               false,
               null,
               false,
               null,
               null,
               true,
               true,
               true,
               true,
               true,
               true,
               true,
               true,
               true,
               true,
               true,
               false,
               false,
               false,
               false,
               false,
               false,
               false,
               false,
               false,
               false,
               false,
               false,
               false,
               false,
               true,
               false,
               false,
               false
              ]
             }
            ],
            "label": "",
            "method": "update"
           },
           {
            "args": [
             {
              "visible": [
               null,
               true,
               true,
               true,
               true,
               true,
               true,
               "legendonly",
               "legendonly",
               "legendonly",
               null,
               false,
               false,
               false,
               false,
               false,
               false,
               false,
               false,
               false,
               false,
               false,
               false,
               false,
               false,
               false,
               false,
               false,
               false,
               false,
               false,
               false,
               false,
               false,
               false,
               false,
               false,
               false,
               null,
               false,
               null,
               false,
               null,
               false,
               null,
               false,
               null,
               false,
               null,
               false,
               null,
               false,
               null,
               false,
               null,
               false,
               null,
               false,
               null,
               false,
               null,
               false,
               null,
               null,
               true,
               true,
               true,
               true,
               true,
               true,
               true,
               true,
               true,
               true,
               true,
               true,
               false,
               false,
               false,
               false,
               false,
               false,
               false,
               false,
               false,
               false,
               false,
               false,
               false,
               false,
               true,
               false,
               false
              ]
             }
            ],
            "label": "6",
            "method": "update"
           },
           {
            "args": [
             {
              "visible": [
               null,
               true,
               true,
               true,
               true,
               true,
               true,
               "legendonly",
               "legendonly",
               "legendonly",
               null,
               false,
               false,
               false,
               false,
               false,
               false,
               false,
               false,
               false,
               false,
               false,
               false,
               false,
               false,
               false,
               false,
               false,
               false,
               false,
               false,
               false,
               false,
               false,
               false,
               false,
               false,
               false,
               null,
               false,
               null,
               false,
               null,
               false,
               null,
               false,
               null,
               false,
               null,
               false,
               null,
               false,
               null,
               false,
               null,
               false,
               null,
               false,
               null,
               false,
               null,
               false,
               null,
               null,
               true,
               true,
               true,
               true,
               true,
               true,
               true,
               true,
               true,
               true,
               true,
               true,
               true,
               false,
               false,
               false,
               false,
               false,
               false,
               false,
               false,
               false,
               false,
               false,
               false,
               false,
               false,
               true,
               false
              ]
             }
            ],
            "label": "",
            "method": "update"
           },
           {
            "args": [
             {
              "visible": [
               null,
               true,
               true,
               true,
               true,
               true,
               true,
               "legendonly",
               "legendonly",
               "legendonly",
               null,
               false,
               false,
               false,
               false,
               false,
               false,
               false,
               false,
               false,
               false,
               false,
               false,
               false,
               false,
               false,
               false,
               false,
               false,
               false,
               false,
               false,
               false,
               false,
               false,
               false,
               false,
               false,
               null,
               false,
               null,
               false,
               null,
               false,
               null,
               false,
               null,
               false,
               null,
               false,
               null,
               false,
               null,
               false,
               null,
               false,
               null,
               false,
               null,
               false,
               null,
               false,
               null,
               null,
               true,
               true,
               true,
               true,
               true,
               true,
               true,
               true,
               true,
               true,
               true,
               true,
               true,
               true,
               false,
               false,
               false,
               false,
               false,
               false,
               false,
               false,
               false,
               false,
               false,
               false,
               false,
               false,
               true
              ]
             }
            ],
            "label": "7",
            "method": "update"
           }
          ],
          "tickcolor": "white",
          "ticklen": 0,
          "x": 0.6052631578947368,
          "xanchor": "left",
          "y": 0.17,
          "yanchor": "bottom"
         }
        ],
        "template": {
         "data": {
          "bar": [
           {
            "error_x": {
             "color": "#2a3f5f"
            },
            "error_y": {
             "color": "#2a3f5f"
            },
            "marker": {
             "line": {
              "color": "#E5ECF6",
              "width": 0.5
             },
             "pattern": {
              "fillmode": "overlay",
              "size": 10,
              "solidity": 0.2
             }
            },
            "type": "bar"
           }
          ],
          "barpolar": [
           {
            "marker": {
             "line": {
              "color": "#E5ECF6",
              "width": 0.5
             },
             "pattern": {
              "fillmode": "overlay",
              "size": 10,
              "solidity": 0.2
             }
            },
            "type": "barpolar"
           }
          ],
          "carpet": [
           {
            "aaxis": {
             "endlinecolor": "#2a3f5f",
             "gridcolor": "white",
             "linecolor": "white",
             "minorgridcolor": "white",
             "startlinecolor": "#2a3f5f"
            },
            "baxis": {
             "endlinecolor": "#2a3f5f",
             "gridcolor": "white",
             "linecolor": "white",
             "minorgridcolor": "white",
             "startlinecolor": "#2a3f5f"
            },
            "type": "carpet"
           }
          ],
          "choropleth": [
           {
            "colorbar": {
             "outlinewidth": 0,
             "ticks": ""
            },
            "type": "choropleth"
           }
          ],
          "contour": [
           {
            "colorbar": {
             "outlinewidth": 0,
             "ticks": ""
            },
            "colorscale": [
             [
              0,
              "#0d0887"
             ],
             [
              0.1111111111111111,
              "#46039f"
             ],
             [
              0.2222222222222222,
              "#7201a8"
             ],
             [
              0.3333333333333333,
              "#9c179e"
             ],
             [
              0.4444444444444444,
              "#bd3786"
             ],
             [
              0.5555555555555556,
              "#d8576b"
             ],
             [
              0.6666666666666666,
              "#ed7953"
             ],
             [
              0.7777777777777778,
              "#fb9f3a"
             ],
             [
              0.8888888888888888,
              "#fdca26"
             ],
             [
              1,
              "#f0f921"
             ]
            ],
            "type": "contour"
           }
          ],
          "contourcarpet": [
           {
            "colorbar": {
             "outlinewidth": 0,
             "ticks": ""
            },
            "type": "contourcarpet"
           }
          ],
          "heatmap": [
           {
            "colorbar": {
             "outlinewidth": 0,
             "ticks": ""
            },
            "colorscale": [
             [
              0,
              "#0d0887"
             ],
             [
              0.1111111111111111,
              "#46039f"
             ],
             [
              0.2222222222222222,
              "#7201a8"
             ],
             [
              0.3333333333333333,
              "#9c179e"
             ],
             [
              0.4444444444444444,
              "#bd3786"
             ],
             [
              0.5555555555555556,
              "#d8576b"
             ],
             [
              0.6666666666666666,
              "#ed7953"
             ],
             [
              0.7777777777777778,
              "#fb9f3a"
             ],
             [
              0.8888888888888888,
              "#fdca26"
             ],
             [
              1,
              "#f0f921"
             ]
            ],
            "type": "heatmap"
           }
          ],
          "heatmapgl": [
           {
            "colorbar": {
             "outlinewidth": 0,
             "ticks": ""
            },
            "colorscale": [
             [
              0,
              "#0d0887"
             ],
             [
              0.1111111111111111,
              "#46039f"
             ],
             [
              0.2222222222222222,
              "#7201a8"
             ],
             [
              0.3333333333333333,
              "#9c179e"
             ],
             [
              0.4444444444444444,
              "#bd3786"
             ],
             [
              0.5555555555555556,
              "#d8576b"
             ],
             [
              0.6666666666666666,
              "#ed7953"
             ],
             [
              0.7777777777777778,
              "#fb9f3a"
             ],
             [
              0.8888888888888888,
              "#fdca26"
             ],
             [
              1,
              "#f0f921"
             ]
            ],
            "type": "heatmapgl"
           }
          ],
          "histogram": [
           {
            "marker": {
             "pattern": {
              "fillmode": "overlay",
              "size": 10,
              "solidity": 0.2
             }
            },
            "type": "histogram"
           }
          ],
          "histogram2d": [
           {
            "colorbar": {
             "outlinewidth": 0,
             "ticks": ""
            },
            "colorscale": [
             [
              0,
              "#0d0887"
             ],
             [
              0.1111111111111111,
              "#46039f"
             ],
             [
              0.2222222222222222,
              "#7201a8"
             ],
             [
              0.3333333333333333,
              "#9c179e"
             ],
             [
              0.4444444444444444,
              "#bd3786"
             ],
             [
              0.5555555555555556,
              "#d8576b"
             ],
             [
              0.6666666666666666,
              "#ed7953"
             ],
             [
              0.7777777777777778,
              "#fb9f3a"
             ],
             [
              0.8888888888888888,
              "#fdca26"
             ],
             [
              1,
              "#f0f921"
             ]
            ],
            "type": "histogram2d"
           }
          ],
          "histogram2dcontour": [
           {
            "colorbar": {
             "outlinewidth": 0,
             "ticks": ""
            },
            "colorscale": [
             [
              0,
              "#0d0887"
             ],
             [
              0.1111111111111111,
              "#46039f"
             ],
             [
              0.2222222222222222,
              "#7201a8"
             ],
             [
              0.3333333333333333,
              "#9c179e"
             ],
             [
              0.4444444444444444,
              "#bd3786"
             ],
             [
              0.5555555555555556,
              "#d8576b"
             ],
             [
              0.6666666666666666,
              "#ed7953"
             ],
             [
              0.7777777777777778,
              "#fb9f3a"
             ],
             [
              0.8888888888888888,
              "#fdca26"
             ],
             [
              1,
              "#f0f921"
             ]
            ],
            "type": "histogram2dcontour"
           }
          ],
          "mesh3d": [
           {
            "colorbar": {
             "outlinewidth": 0,
             "ticks": ""
            },
            "type": "mesh3d"
           }
          ],
          "parcoords": [
           {
            "line": {
             "colorbar": {
              "outlinewidth": 0,
              "ticks": ""
             }
            },
            "type": "parcoords"
           }
          ],
          "pie": [
           {
            "automargin": true,
            "type": "pie"
           }
          ],
          "scatter": [
           {
            "fillpattern": {
             "fillmode": "overlay",
             "size": 10,
             "solidity": 0.2
            },
            "type": "scatter"
           }
          ],
          "scatter3d": [
           {
            "line": {
             "colorbar": {
              "outlinewidth": 0,
              "ticks": ""
             }
            },
            "marker": {
             "colorbar": {
              "outlinewidth": 0,
              "ticks": ""
             }
            },
            "type": "scatter3d"
           }
          ],
          "scattercarpet": [
           {
            "marker": {
             "colorbar": {
              "outlinewidth": 0,
              "ticks": ""
             }
            },
            "type": "scattercarpet"
           }
          ],
          "scattergeo": [
           {
            "marker": {
             "colorbar": {
              "outlinewidth": 0,
              "ticks": ""
             }
            },
            "type": "scattergeo"
           }
          ],
          "scattergl": [
           {
            "marker": {
             "colorbar": {
              "outlinewidth": 0,
              "ticks": ""
             }
            },
            "type": "scattergl"
           }
          ],
          "scattermapbox": [
           {
            "marker": {
             "colorbar": {
              "outlinewidth": 0,
              "ticks": ""
             }
            },
            "type": "scattermapbox"
           }
          ],
          "scatterpolar": [
           {
            "marker": {
             "colorbar": {
              "outlinewidth": 0,
              "ticks": ""
             }
            },
            "type": "scatterpolar"
           }
          ],
          "scatterpolargl": [
           {
            "marker": {
             "colorbar": {
              "outlinewidth": 0,
              "ticks": ""
             }
            },
            "type": "scatterpolargl"
           }
          ],
          "scatterternary": [
           {
            "marker": {
             "colorbar": {
              "outlinewidth": 0,
              "ticks": ""
             }
            },
            "type": "scatterternary"
           }
          ],
          "surface": [
           {
            "colorbar": {
             "outlinewidth": 0,
             "ticks": ""
            },
            "colorscale": [
             [
              0,
              "#0d0887"
             ],
             [
              0.1111111111111111,
              "#46039f"
             ],
             [
              0.2222222222222222,
              "#7201a8"
             ],
             [
              0.3333333333333333,
              "#9c179e"
             ],
             [
              0.4444444444444444,
              "#bd3786"
             ],
             [
              0.5555555555555556,
              "#d8576b"
             ],
             [
              0.6666666666666666,
              "#ed7953"
             ],
             [
              0.7777777777777778,
              "#fb9f3a"
             ],
             [
              0.8888888888888888,
              "#fdca26"
             ],
             [
              1,
              "#f0f921"
             ]
            ],
            "type": "surface"
           }
          ],
          "table": [
           {
            "cells": {
             "fill": {
              "color": "#EBF0F8"
             },
             "line": {
              "color": "white"
             }
            },
            "header": {
             "fill": {
              "color": "#C8D4E3"
             },
             "line": {
              "color": "white"
             }
            },
            "type": "table"
           }
          ]
         },
         "layout": {
          "annotationdefaults": {
           "arrowcolor": "#2a3f5f",
           "arrowhead": 0,
           "arrowwidth": 1
          },
          "autotypenumbers": "strict",
          "coloraxis": {
           "colorbar": {
            "outlinewidth": 0,
            "ticks": ""
           }
          },
          "colorscale": {
           "diverging": [
            [
             0,
             "#8e0152"
            ],
            [
             0.1,
             "#c51b7d"
            ],
            [
             0.2,
             "#de77ae"
            ],
            [
             0.3,
             "#f1b6da"
            ],
            [
             0.4,
             "#fde0ef"
            ],
            [
             0.5,
             "#f7f7f7"
            ],
            [
             0.6,
             "#e6f5d0"
            ],
            [
             0.7,
             "#b8e186"
            ],
            [
             0.8,
             "#7fbc41"
            ],
            [
             0.9,
             "#4d9221"
            ],
            [
             1,
             "#276419"
            ]
           ],
           "sequential": [
            [
             0,
             "#0d0887"
            ],
            [
             0.1111111111111111,
             "#46039f"
            ],
            [
             0.2222222222222222,
             "#7201a8"
            ],
            [
             0.3333333333333333,
             "#9c179e"
            ],
            [
             0.4444444444444444,
             "#bd3786"
            ],
            [
             0.5555555555555556,
             "#d8576b"
            ],
            [
             0.6666666666666666,
             "#ed7953"
            ],
            [
             0.7777777777777778,
             "#fb9f3a"
            ],
            [
             0.8888888888888888,
             "#fdca26"
            ],
            [
             1,
             "#f0f921"
            ]
           ],
           "sequentialminus": [
            [
             0,
             "#0d0887"
            ],
            [
             0.1111111111111111,
             "#46039f"
            ],
            [
             0.2222222222222222,
             "#7201a8"
            ],
            [
             0.3333333333333333,
             "#9c179e"
            ],
            [
             0.4444444444444444,
             "#bd3786"
            ],
            [
             0.5555555555555556,
             "#d8576b"
            ],
            [
             0.6666666666666666,
             "#ed7953"
            ],
            [
             0.7777777777777778,
             "#fb9f3a"
            ],
            [
             0.8888888888888888,
             "#fdca26"
            ],
            [
             1,
             "#f0f921"
            ]
           ]
          },
          "colorway": [
           "#636efa",
           "#EF553B",
           "#00cc96",
           "#ab63fa",
           "#FFA15A",
           "#19d3f3",
           "#FF6692",
           "#B6E880",
           "#FF97FF",
           "#FECB52"
          ],
          "font": {
           "color": "#2a3f5f"
          },
          "geo": {
           "bgcolor": "white",
           "lakecolor": "white",
           "landcolor": "#E5ECF6",
           "showlakes": true,
           "showland": true,
           "subunitcolor": "white"
          },
          "hoverlabel": {
           "align": "left"
          },
          "hovermode": "closest",
          "mapbox": {
           "style": "light"
          },
          "paper_bgcolor": "white",
          "plot_bgcolor": "#E5ECF6",
          "polar": {
           "angularaxis": {
            "gridcolor": "white",
            "linecolor": "white",
            "ticks": ""
           },
           "bgcolor": "#E5ECF6",
           "radialaxis": {
            "gridcolor": "white",
            "linecolor": "white",
            "ticks": ""
           }
          },
          "scene": {
           "xaxis": {
            "backgroundcolor": "#E5ECF6",
            "gridcolor": "white",
            "gridwidth": 2,
            "linecolor": "white",
            "showbackground": true,
            "ticks": "",
            "zerolinecolor": "white"
           },
           "yaxis": {
            "backgroundcolor": "#E5ECF6",
            "gridcolor": "white",
            "gridwidth": 2,
            "linecolor": "white",
            "showbackground": true,
            "ticks": "",
            "zerolinecolor": "white"
           },
           "zaxis": {
            "backgroundcolor": "#E5ECF6",
            "gridcolor": "white",
            "gridwidth": 2,
            "linecolor": "white",
            "showbackground": true,
            "ticks": "",
            "zerolinecolor": "white"
           }
          },
          "shapedefaults": {
           "line": {
            "color": "#2a3f5f"
           }
          },
          "ternary": {
           "aaxis": {
            "gridcolor": "white",
            "linecolor": "white",
            "ticks": ""
           },
           "baxis": {
            "gridcolor": "white",
            "linecolor": "white",
            "ticks": ""
           },
           "bgcolor": "#E5ECF6",
           "caxis": {
            "gridcolor": "white",
            "linecolor": "white",
            "ticks": ""
           }
          },
          "title": {
           "x": 0.05
          },
          "xaxis": {
           "automargin": true,
           "gridcolor": "white",
           "linecolor": "white",
           "ticks": "",
           "title": {
            "standoff": 15
           },
           "zerolinecolor": "white",
           "zerolinewidth": 2
          },
          "yaxis": {
           "automargin": true,
           "gridcolor": "white",
           "linecolor": "white",
           "ticks": "",
           "title": {
            "standoff": 15
           },
           "zerolinecolor": "white",
           "zerolinewidth": 2
          }
         }
        },
        "title": {
         "font": {
          "color": "#00285F",
          "size": 18
         },
         "text": "<b>Geometric Interpretation of LPs</b>",
         "x": 0,
         "xanchor": "left",
         "y": 0.99,
         "yanchor": "top"
        },
        "width": 950,
        "xaxis": {
         "domain": [
          0,
          0.39473684210526316
         ],
         "gridcolor": "#CCCCCC",
         "gridwidth": 1,
         "linecolor": "#4D4D4D",
         "linewidth": 2,
         "rangemode": "tozero",
         "showspikes": false,
         "tickcolor": "#4D4D4D",
         "ticks": "outside",
         "title": {
          "text": "x<sub>1</sub>"
         }
        },
        "yaxis": {
         "domain": [
          0,
          1
         ],
         "gridcolor": "#CCCCCC",
         "gridwidth": 1,
         "linecolor": "#4D4D4D",
         "linewidth": 2,
         "rangemode": "tozero",
         "showspikes": false,
         "tickcolor": "#4D4D4D",
         "ticks": "outside",
         "title": {
          "text": "x<sub>2</sub>"
         }
        }
       }
      }
     },
     "metadata": {},
     "output_type": "display_data"
    }
   ],
   "source": [
    "from gilp import examples as ex\n",
    "\n",
    "x = np.array([[0],[0],[0],[5],[25],[125]])\n",
    "simplex_visual(ex.KLEE_MINTY_3D_LP, initial_solution=x, rule='dantzig').show()"
   ]
  },
  {
   "cell_type": "markdown",
   "id": "83465262",
   "metadata": {},
   "source": [
    "Metoda sympleksu posiada podobne ograniczenia do metody spadku gradientu. <br> \n",
    "- W zależności od początkowego wierzchołka metoda sympleks może osiągnąc maksimum lokalne a nie globalne. <br>\n",
    "- Procedura może nie znaleźć rozwiązania. <br>\n",
    "- Nie ma dobrego graficznego sposobu na stwierdzenie czy metoda osiągnęła maksimum globalne. <br>\n",
    "- Procedura nie może zostać urównoleglona w systemach rozproszonych. <br>\n",
    "- Nie można dołożyc ograniczeń po wykonaniu metody."
   ]
  }
 ],
 "metadata": {
  "kernelspec": {
   "display_name": "Python 3.10.2 64-bit",
   "language": "python",
   "name": "python3"
  },
  "language_info": {
   "codemirror_mode": {
    "name": "ipython",
    "version": 3
   },
   "file_extension": ".py",
   "mimetype": "text/x-python",
   "name": "python",
   "nbconvert_exporter": "python",
   "pygments_lexer": "ipython3",
   "version": "3.10.2"
  },
  "vscode": {
   "interpreter": {
    "hash": "b239acf2821489c398a9848859e84ce39b99d30cc4031fb37cc7461da3883639"
   }
  }
 },
 "nbformat": 4,
 "nbformat_minor": 5
}
