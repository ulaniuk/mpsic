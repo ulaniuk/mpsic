{
 "cells": [
  {
   "cell_type": "markdown",
   "id": "36ae1e24",
   "metadata": {},
   "source": [
    "# Algorytm sympleks"
   ]
  },
  {
   "cell_type": "markdown",
   "id": "2fb4f3c5",
   "metadata": {},
   "source": [
    "### Programowanie liniowe"
   ]
  },
  {
   "cell_type": "markdown",
   "id": "57e099d6",
   "metadata": {},
   "source": [
    "Jest to metoda służąca osiągnięciu jak najlepszego rozwiązania w procesie podejmowania decyzji. Programowanie liniowe jest najczęściej stosowanym modelem optymalizacji ze względu na sprawny algorytm obliczeń, a także dzięki możliwości efektownego przedstawienia zagadnień w postaci graficznej. Wadą natomiast jest to, iż nie wszystko można wyrazić za pomocą liczb."
   ]
  },
  {
   "cell_type": "markdown",
   "id": "de2159b1",
   "metadata": {},
   "source": [
    "W skład modelu będącego zadaniem programowania liniowego wchodzą:\n",
    "1. <b>funkcja celu</b> - obrazuje cel, który ma zostać osiągnięty,\n",
    "2. <b>zmianne decyzyjne</b> - określa narzędzia i zasoby wykorzystane w celu osiągnięcia celu,\n",
    "3. <b>warunki ograniczające</b> - opisują przeszkody, które mogą pojawić się w trakcie realizacji celu."
   ]
  },
  {
   "cell_type": "markdown",
   "id": "1c507f48",
   "metadata": {},
   "source": [
    "Jeżeli model posiada dwie zmienne, łatwo jest go rozwiązać metodą geometryczną w układzie współrzędnych kartezjańskich. Natomiast w przypadku większej liczby zmiennych decyzyjnych, sposób ten się nie sprawdzi. W takiej sytuacji skorzystać można z innej techniki, jaką jest metoda sympleks."
   ]
  },
  {
   "cell_type": "markdown",
   "id": "6b320a70",
   "metadata": {},
   "source": [
    "### Metoda sympleks"
   ]
  },
  {
   "cell_type": "markdown",
   "id": "8c5858de",
   "metadata": {},
   "source": [
    "Nazwa nawiązuje do <b>sympleksu</b>: k-wymiarowym sympleksem nazywamy k-wymiarowy wielościan, który jest otoczką wypukłą swoich k+1 wierzchołków."
   ]
  },
  {
   "cell_type": "markdown",
   "id": "0bd7017a",
   "metadata": {},
   "source": [
    "![alt text](sympleks.png \"Title\")"
   ]
  },
  {
   "cell_type": "markdown",
   "id": "bef9155e",
   "metadata": {},
   "source": [
    "Zadanie programowania liniowego z dowolną liczbą zmiennych można rozwiązać, wyznaczając wszystkie wierzchołkowe punkty wielościanu, a następnie porównując wartości funkcji celu w punktach wierzchołkowych."
   ]
  },
  {
   "cell_type": "markdown",
   "id": "715c42ff",
   "metadata": {},
   "source": [
    "W metodzie sympleks można wyróżnić dwa kroki:\n",
    "\n",
    "<b>Krok 1.</b>\n",
    "Sprowadzenie warunków ograniczających do układu równań liniowych.\n",
    "\n",
    "Np. poniższe ograniczenie:\n",
    "$$2x_{1} + 7x_{2} \\leq 13$$\n",
    "\n",
    "przekształcamy do postaci: $$2x_{1} + 7x_{2} + x_{3} = 13.$$"
   ]
  },
  {
   "cell_type": "markdown",
   "id": "9f5c5101",
   "metadata": {},
   "source": [
    "<b>Krok 2.</b> \n",
    "Obliczanie zmiennych decyzyjnych, które przedstawiają najlepszą decyzję dostosowaną do ustalonego modelu."
   ]
  },
  {
   "cell_type": "markdown",
   "id": "e7c98e32",
   "metadata": {},
   "source": [
    "W związku z wielością punktów powstaje problem wyznaczenia wartości funkcji celu i znalezienie optymalnego wierzchołka, który spełniłby warunek zadania programowania liniowego. Rozwiązanie tego problemy sprowadza się do tego, że znając dowolny wierzchołkowy punkt i wartość funkcji celu w tym punkcie, odrzuca się wszystkie wierzchołki, w których funkcja ta przyjmuje gorsze wartości"
   ]
  },
  {
   "cell_type": "markdown",
   "id": "ce36b9a5",
   "metadata": {},
   "source": [
    "W kolejnym kroku, z obecnego wierzchołka, należy przejść krawędzią do sąsiadującego z nim wierzchołka, w którym funkcja celu osiąga lepsze wartości.\n",
    "Iteracja kończy się w momencie, gdy kolejny przeglądany wierzchołek jest najlepszy pod względem odpowiednich wartości funkcji celu."
   ]
  },
  {
   "cell_type": "markdown",
   "id": "a2dbac23",
   "metadata": {},
   "source": [
    "![alt text](simplex_alg.png \"Title\")"
   ]
  },
  {
   "cell_type": "markdown",
   "id": "c1be3d0a",
   "metadata": {},
   "source": [
    "### Zastosowania"
   ]
  },
  {
   "cell_type": "markdown",
   "id": "ee6dd0cd",
   "metadata": {},
   "source": [
    "W działalność gospodarczej, czy też zarządzaniu produkcją dąży się do maksymalnego wykorzystania dostępnych środków w procesie realizacji założonego celu. Zasada ta sprowadza się do zagadnień optymalizacji oraz zasady największej efektywności. Jeżeli z określonych środków osiągany jest maksymalny nakład lub określony cel jest zrealizowany przy jak najmniejszych nakładach, możemy mówić o planie optymalnym. "
   ]
  },
  {
   "cell_type": "markdown",
   "id": "77ce2b64",
   "metadata": {},
   "source": [
    "Konkretnym przykładem wykorzystania metody sympleks może być problem transportowy. Polega on na znalezieniu takiej drogi od dostawcy towaru do odbiorcy, aby poniesione koszta były jak najmniejsze."
   ]
  },
  {
   "cell_type": "markdown",
   "id": "eec72d2f",
   "metadata": {},
   "source": [
    "2) Implementacja"
   ]
  },
  {
   "cell_type": "code",
   "execution_count": 4,
   "id": "8830bece",
   "metadata": {},
   "outputs": [],
   "source": [
    "import numpy as np"
   ]
  },
  {
   "cell_type": "code",
   "execution_count": 5,
   "id": "9fdf5af8",
   "metadata": {},
   "outputs": [],
   "source": [
    "#modywikacja danych \n",
    "def gen_matrix(var,cons):    \n",
    "    tab = np.zeros((cons+1, var+cons+2))    \n",
    "    return tab\n",
    "\n",
    "def convert(eq):\n",
    "    eq = eq.split(',')\n",
    "    if 'G' in eq:\n",
    "        g = eq.index('G')\n",
    "        del eq[g]\n",
    "        eq = [float(i)*-1 for i in eq]\n",
    "        return eq\n",
    "    if 'L' in eq:\n",
    "        l = eq.index('L')\n",
    "        del eq[l]\n",
    "        eq = [float(i) for i in eq]\n",
    "        return eq\n",
    "\n",
    "def add_cons(table):\n",
    "    lr = len(table[:,0])\n",
    "    empty = []\n",
    "    for i in range(lr):\n",
    "        total = 0\n",
    "        for j in table[i,:]:                       \n",
    "            total += j**2\n",
    "        if total == 0: \n",
    "            empty.append(total)\n",
    "    if len(empty)>1:\n",
    "        return True\n",
    "    else:\n",
    "        return False\n",
    "\n",
    "def constrain(table,eq):\n",
    "    if add_cons(table) == True:\n",
    "        lc = len(table[0,:])\n",
    "        lr = len(table[:,0])\n",
    "        var = lc - lr -1      \n",
    "        j = 0\n",
    "        while j < lr:            \n",
    "            row_check = table[j,:]\n",
    "            total = 0\n",
    "            for i in row_check:\n",
    "                total += float(i**2)\n",
    "            if total == 0:                \n",
    "                row = row_check\n",
    "                break\n",
    "            j +=1\n",
    "        eq = convert(eq)\n",
    "        i = 0\n",
    "        while i<len(eq)-1:\n",
    "            row[i] = eq[i]\n",
    "            i +=1        \n",
    "        row[-1] = eq[-1]\n",
    "        row[var+j] = 1    \n",
    "    else:\n",
    "        print('Cannot add another constraint.')"
   ]
  },
  {
   "cell_type": "code",
   "execution_count": 6,
   "id": "eabe35bb",
   "metadata": {},
   "outputs": [],
   "source": [
    "def next_round_r(table):    \n",
    "    m = min(table[:-1,-1])    \n",
    "    if m>= 0:        \n",
    "        return False    \n",
    "    else:        \n",
    "        return True\n",
    "        \n",
    "def next_round(table):    \n",
    "    lr = len(table[:,0])   \n",
    "    m = min(table[lr-1,:-1])    \n",
    "    if m>=0:\n",
    "        return False\n",
    "    else:\n",
    "        return True"
   ]
  },
  {
   "cell_type": "code",
   "execution_count": 7,
   "id": "381680eb",
   "metadata": {},
   "outputs": [],
   "source": [
    "def find_neg_r(table):\n",
    "    lc = len(table[0,:])\n",
    "    m = min(table[:-1,lc-1])\n",
    "    if m<=0:        \n",
    "        n = np.where(table[:-1,lc-1] == m)[0][0]\n",
    "    else:\n",
    "        n = None\n",
    "    return n\n",
    "\n",
    "def find_neg(table):\n",
    "    lr = len(table[:,0])\n",
    "    m = min(table[lr-1,:-1])\n",
    "    if m<=0:\n",
    "        n = np.where(table[lr-1,:-1] == m)[0][0]\n",
    "    else:\n",
    "        n = None\n",
    "    return n"
   ]
  },
  {
   "cell_type": "code",
   "execution_count": 8,
   "id": "6b31975d",
   "metadata": {},
   "outputs": [],
   "source": [
    "def loc_piv_r(table):\n",
    "    total = []        \n",
    "    r = find_neg_r(table)\n",
    "    row = table[r,:-1]\n",
    "    m = min(row)\n",
    "    c = np.where(row == m)[0][0]\n",
    "    col = table[:-1,c]\n",
    "    for i, b in zip(col,table[:-1,-1]):\n",
    "        if i**2>0 and b/i>0:\n",
    "            total.append(b/i)\n",
    "        else:                \n",
    "            total.append(10000)\n",
    "    index = total.index(min(total))        \n",
    "    return [index,c]\n",
    "    \n",
    "def loc_piv(table):\n",
    "    if next_round(table):\n",
    "        total = []\n",
    "        n = find_neg(table)\n",
    "        for i,b in zip(table[:-1,n],table[:-1,-1]):\n",
    "            if b/i >0 and i**2>0:\n",
    "                total.append(b/i)\n",
    "            else:\n",
    "                total.append(10000)\n",
    "        index = total.index(min(total))\n",
    "        return [index,n]"
   ]
  },
  {
   "cell_type": "code",
   "execution_count": 9,
   "id": "042ff163",
   "metadata": {},
   "outputs": [],
   "source": [
    "def pivot(row,col,table):\n",
    "    lr = len(table[:,0])\n",
    "    lc = len(table[0,:])\n",
    "    t = np.zeros((lr,lc))\n",
    "    pr = table[row,:]\n",
    "    if table[row,col]**2>0:\n",
    "        e = 1/table[row,col]\n",
    "        r = pr*e\n",
    "        for i in range(len(table[:,col])):\n",
    "            k = table[i,:]\n",
    "            c = table[i,col]\n",
    "            if list(k) == list(pr):\n",
    "                continue\n",
    "            else:\n",
    "                t[i,:] = list(k-r*c)\n",
    "        t[row,:] = list(r)\n",
    "        return t\n",
    "    else:\n",
    "        print('Cannot pivot on this element.')"
   ]
  },
  {
   "cell_type": "code",
   "execution_count": 10,
   "id": "1215ada2",
   "metadata": {},
   "outputs": [],
   "source": [
    "def convert_min(table):\n",
    "    table[-1,:-2] = [-1*i for i in table[-1,:-2]]\n",
    "    table[-1,-1] = -1*table[-1,-1]    \n",
    "    return table"
   ]
  },
  {
   "cell_type": "code",
   "execution_count": 11,
   "id": "3c5a6708",
   "metadata": {},
   "outputs": [],
   "source": [
    "def gen_var(table):\n",
    "    lc = len(table[0,:])\n",
    "    lr = len(table[:,0])\n",
    "    var = lc - lr -1\n",
    "    v = []\n",
    "    for i in range(var):\n",
    "        v.append('x'+str(i+1))\n",
    "    return v"
   ]
  },
  {
   "cell_type": "code",
   "execution_count": 12,
   "id": "81474430",
   "metadata": {},
   "outputs": [],
   "source": [
    "def add_obj(table):\n",
    "    lr = len(table[:,0])\n",
    "    empty = []\n",
    "    for i in range(lr):\n",
    "        total = 0        \n",
    "        for j in table[i,:]:\n",
    "            total += j**2\n",
    "        if total == 0:\n",
    "            empty.append(total)    \n",
    "    if len(empty)==1:\n",
    "        return True\n",
    "    else:\n",
    "        return False"
   ]
  },
  {
   "cell_type": "code",
   "execution_count": 13,
   "id": "fc8d807c",
   "metadata": {},
   "outputs": [],
   "source": [
    "def obj(table,eq):\n",
    "    if add_obj(table)==True:\n",
    "        eq = [float(i) for i in eq.split(',')]\n",
    "        lr = len(table[:,0])\n",
    "        row = table[lr-1,:]\n",
    "        i = 0        \n",
    "        while i<len(eq)-1:\n",
    "            row[i] = eq[i]*-1\n",
    "            i +=1\n",
    "        row[-2] = 1\n",
    "        row[-1] = eq[-1]\n",
    "    else:\n",
    "        print('You must finish adding constraints before the objective function can be added.')"
   ]
  },
  {
   "cell_type": "code",
   "execution_count": 14,
   "id": "54f69f59",
   "metadata": {},
   "outputs": [],
   "source": [
    "def maxz(table):\n",
    "    while next_round_r(table)==True:\n",
    "        table = pivot(loc_piv_r(table)[0],loc_piv_r(table)[1],table)\n",
    "    while next_round(table)==True:\n",
    "        table = pivot(loc_piv(table)[0],loc_piv(table)[1],table)        \n",
    "    lc = len(table[0,:])\n",
    "    lr = len(table[:,0])\n",
    "    var = lc - lr -1\n",
    "    i = 0\n",
    "    val = {}\n",
    "    for i in range(var):\n",
    "        col = table[:,i]\n",
    "        s = sum(col)\n",
    "        m = max(col)\n",
    "        if float(s) == float(m):\n",
    "            loc = np.where(col == m)[0][0]            \n",
    "            val[gen_var(table)[i]] = table[loc,-1]\n",
    "        else:\n",
    "            val[gen_var(table)[i]] = 0\n",
    "    val['max'] = table[-1,-1]\n",
    "    return val"
   ]
  },
  {
   "cell_type": "code",
   "execution_count": 15,
   "id": "2512ea3e",
   "metadata": {},
   "outputs": [],
   "source": [
    "def minz(table):\n",
    "    table = convert_min(table)\n",
    "    while next_round_r(table)==True:\n",
    "        table = pivot(loc_piv_r(table)[0],loc_piv_r(table)[1],table)    \n",
    "    while next_round(table)==True:\n",
    "        table = pivot(loc_piv(table)[0],loc_piv(table)[1],table)       \n",
    "    lc = len(table[0,:])\n",
    "    lr = len(table[:,0])\n",
    "    var = lc - lr -1\n",
    "    i = 0\n",
    "    val = {}\n",
    "    for i in range(var):\n",
    "        col = table[:,i]\n",
    "        s = sum(col)\n",
    "        m = max(col)\n",
    "        if float(s) == float(m):\n",
    "            loc = np.where(col == m)[0][0]             \n",
    "            val[gen_var(table)[i]] = table[loc,-1]\n",
    "        else:\n",
    "            val[gen_var(table)[i]] = 0 \n",
    "            val['min'] = table[-1,-1]*-1\n",
    "    return val"
   ]
  },
  {
   "cell_type": "code",
   "execution_count": 16,
   "id": "6597216a",
   "metadata": {},
   "outputs": [
    {
     "name": "stdout",
     "output_type": "stream",
     "text": [
      "{'x1': 10.0, 'x2': 10.0, 'max': 150.0}\n",
      "{'x1': 5.0, 'x2': 4.0}\n"
     ]
    }
   ],
   "source": [
    "m = gen_matrix(2,2)\n",
    "constrain(m,'2,-1,G,10')\n",
    "constrain(m,'1,1,L,20')\n",
    "obj(m,'5,10,0')\n",
    "print(maxz(m))     \n",
    "m = gen_matrix(2,4)\n",
    "constrain(m,'2,5,G,30')\n",
    "constrain(m,'-3,5,G,5')\n",
    "constrain(m,'8,3,L,85')\n",
    "constrain(m,'-9,7,L,42')\n",
    "obj(m,'2,7,0')\n",
    "print(minz(m))"
   ]
  }
 ],
 "metadata": {
  "kernelspec": {
   "display_name": "Python 3.9.7 ('base')",
   "language": "python",
   "name": "python3"
  },
  "language_info": {
   "codemirror_mode": {
    "name": "ipython",
    "version": 3
   },
   "file_extension": ".py",
   "mimetype": "text/x-python",
   "name": "python",
   "nbconvert_exporter": "python",
   "pygments_lexer": "ipython3",
   "version": "3.9.7"
  },
  "vscode": {
   "interpreter": {
    "hash": "f08154012ddadd8e950e6e9e035c7a7b32c136e7647e9b7c77e02eb723a8bedb"
   }
  }
 },
 "nbformat": 4,
 "nbformat_minor": 5
}
