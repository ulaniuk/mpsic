{
 "cells": [
  {
   "cell_type": "markdown",
   "metadata": {},
   "source": [
    "Co ma być na prezentacji: opis tematu, opis problemu, opis matematyki, ciekawy zbiór(to efekt wow), wszyscy muszą coś przedstawić"
   ]
  },
  {
   "cell_type": "markdown",
   "metadata": {},
   "source": [
    "# TODO: Wybór zbioru danych\n",
    "\n",
    "Propozycje:\n",
    "\n",
    "https://www.kaggle.com/datasets/ivivan/real-time-water-quality-data\n",
    "\n",
    "https://www.kaggle.com/datasets/marcospessotto/happiness-and-alcohol-consumption \n",
    "\n",
    "https://www.kaggle.com/datasets/levyedgar44/income-and-happiness-correction"
   ]
  },
  {
   "cell_type": "markdown",
   "metadata": {},
   "source": [
    "# TODO: Zarys matematyczny"
   ]
  },
  {
   "cell_type": "markdown",
   "metadata": {},
   "source": [
    "### Regresja parametryczna i nieparametryczna (prezentacja problemu)\n",
    "Analiza regresji jest techniką statystyczną pozwalająca opisywać związki zachodzące pomiędzy zmiennymi objaśniającymi a objaśnianymi.\n",
    "\n",
    "Cechą wspólną różnych rodzajów regresji parametrycznej jest to, że musimy znać lub założyć na wstępie jakąś matematyczną zależność wiążącą zmienne wejściowe i wyjściowe. \n",
    "\n",
    "Zadanie znalezienia wspomnianej postaci matematycznej nie zawsze jest łatwe do wykonania, a czasami wręcz niewykonalne. W takich sytuacjach warto rozważyć użycie jednej z metod nieparametrycznych, która nie wymaga w żadnym miejscu przyjmowania założeń co do postaci funkcji wiążącej dane wejściowe i wyjściowe.\n",
    "\n",
    "Często jest również tak, że nawet jeśli użycie metod parametrycznych jest uzasadnione, metody nieparametryczne po prostu łatwiej jest zastosować, gdyż nie trzeba brać pod uwagę specyficznych założeń, głównie dotyczących rozkładu populacji.\n",
    "\n",
    "Przykładem takiej metody nieparametrycznej jest regresja jądrowa."
   ]
  },
  {
   "cell_type": "markdown",
   "metadata": {},
   "source": [
    "#### Regresja jądrowa\n",
    "Załóżmy że mamy dane dwie jednowymiarowe zmienne losowe X,Y. Uzyskana z nich próba losowa długości n ma postać: $$(x_{1}, y_{1}), ..., (x_{n}, y_{n})$$\n",
    "\n",
    "Poszukujemy funkcji f, która najlepiej charakteryzowałaby ew. zależność między zmiennymi losowymi X oraz Y. Jej\n",
    "estymator $\\hat m(x)$ wyznacza się tak, aby zminimalizować wyrażenie\n",
    "$$\\sum_{i=1}^{n} [y_{i} - m(x_{i})]^2$$"
   ]
  },
  {
   "cell_type": "markdown",
   "metadata": {},
   "source": [
    "Zmienne losowe są powiązane ze sobą relacją $y_{i} = m(x_{i})+e_{i}$, gdzie $e_{i}$ to biały szum o pewnych określonych właściwościach statystycznych. Funkcja $m(x)$ opisuje warunkową wartość oczekiwaną zmiennej losowej $Y$ pod warunkiem, że zmienna $X$ przyjęła zadaną wartość $x$, czyli $m(x) = E(Y|X=x)$. W odróżnieniu od metod estymacji parametrycznej, estymator $\\hat m(x)$ nie ma postaci funkcji analitycznej a jest po prostu pewną nieznaną funkcją."
   ]
  },
  {
   "cell_type": "markdown",
   "metadata": {},
   "source": [
    "Załóżmy, iż chcemy wyznaczyć wartość $\\hat m(x)$ biorąc pod uwagę punkty z jego otoczenia $D_{x}=[x-b, x+b], b>0.$ Wówczas $\\hat m(x)$ można estymować następującym wyrażeniem: \n",
    "$$\\hat m(x) = \\frac{\\sum_{x_{i}D_{x}}y_{i}}{|x_{i} \\in D_{x}|} $$\n",
    "gdzie $|x_{i} \\in D_{x}|$ jest liczbą elementów wewnątrz $D_{x}$."
   ]
  },
  {
   "cell_type": "markdown",
   "metadata": {},
   "source": [
    "Inaczej $\\hat m(x_{t})$ można zapisać w postaci: \n",
    "$$\\hat m(x_{t}) = \\frac{\\sum_{i=1}^{n} w_{ix}y_{i}}{\\sum_{i=1}^{n} w_{ix}} $$\n",
    "gdzie $w_{ix} =$ 0 lub 1 zwane jest wagą."
   ]
  },
  {
   "cell_type": "markdown",
   "metadata": {},
   "source": [
    "Powyższe równanie jest po prostu średnią ważoną. Dane, którym przypisano większe wagi mają większy udział w określeniu średniej ważonej niż dane, którym przypisano mniejsze wagi."
   ]
  },
  {
   "cell_type": "markdown",
   "metadata": {},
   "source": [
    "W praktyce wagi $w_{ix}$ zastępowane są przez funkcją o postaci:\n",
    "$$w_{ix} = \\frac{1}{h}K (\\frac{x - x_{i}}{h}) = K(x-x_{i}),$$\n",
    "gdzie $K(x)$ jest jądrem estymatora i najczęściej przyjmuje postać funkcji gaussowskiej:\n",
    "$$K(x) = \\frac{1}{\\sqrt{2\\pi}} exp (-\\frac{x^2}{2}),$$\n",
    "natomiast $h$ jest pewnym ustalonym, dodatnim współczynnikiem wygładzenia (ramką, otoczeniem)."
   ]
  },
  {
   "cell_type": "markdown",
   "metadata": {},
   "source": [
    "Po podstawieniupotrzymujemy podstawową postać estymatora regresji zwanego estymatorem Nadaraya-Watsona\n",
    "$$\\hat m(x_{t}) = \\frac{\\sum_{i=1}^{n} K (\\frac{x - x_{i}}{h})y_{i}}{\\sum_{i=1}^{n} K (\\frac{x - x_{i}}{h})} = \\sum_{i=1}^{n} w_{i}y_{i}$$"
   ]
  },
  {
   "cell_type": "markdown",
   "metadata": {},
   "source": [
    "Bardzo istotne znaczenie dla kształtu linii regresji ma właściwy dobór współczynnika wygładzania h."
   ]
  },
  {
   "cell_type": "markdown",
   "metadata": {},
   "source": [
    "# Water quality (nieciekawa zależność, idk czy wyjdzie coś sensownego)"
   ]
  },
  {
   "cell_type": "code",
   "execution_count": 311,
   "metadata": {},
   "outputs": [],
   "source": [
    "import pandas as pd\n",
    "import os\n",
    "import matplotlib.pyplot as plt"
   ]
  },
  {
   "cell_type": "code",
   "execution_count": 312,
   "metadata": {},
   "outputs": [
    {
     "data": {
      "text/html": [
       "<div>\n",
       "<style scoped>\n",
       "    .dataframe tbody tr th:only-of-type {\n",
       "        vertical-align: middle;\n",
       "    }\n",
       "\n",
       "    .dataframe tbody tr th {\n",
       "        vertical-align: top;\n",
       "    }\n",
       "\n",
       "    .dataframe thead th {\n",
       "        text-align: right;\n",
       "    }\n",
       "</style>\n",
       "<table border=\"1\" class=\"dataframe\">\n",
       "  <thead>\n",
       "    <tr style=\"text-align: right;\">\n",
       "      <th></th>\n",
       "      <th>Conductivity</th>\n",
       "      <th>Turbidity</th>\n",
       "    </tr>\n",
       "  </thead>\n",
       "  <tbody>\n",
       "    <tr>\n",
       "      <th>17501</th>\n",
       "      <td>6858.92</td>\n",
       "      <td>4.87</td>\n",
       "    </tr>\n",
       "    <tr>\n",
       "      <th>15402</th>\n",
       "      <td>2488.39</td>\n",
       "      <td>2.41</td>\n",
       "    </tr>\n",
       "    <tr>\n",
       "      <th>26395</th>\n",
       "      <td>3499.77</td>\n",
       "      <td>4.99</td>\n",
       "    </tr>\n",
       "    <tr>\n",
       "      <th>27143</th>\n",
       "      <td>29649.34</td>\n",
       "      <td>4.68</td>\n",
       "    </tr>\n",
       "    <tr>\n",
       "      <th>11228</th>\n",
       "      <td>55.86</td>\n",
       "      <td>13.33</td>\n",
       "    </tr>\n",
       "  </tbody>\n",
       "</table>\n",
       "</div>"
      ],
      "text/plain": [
       "       Conductivity  Turbidity\n",
       "17501       6858.92       4.87\n",
       "15402       2488.39       2.41\n",
       "26395       3499.77       4.99\n",
       "27143      29649.34       4.68\n",
       "11228         55.86      13.33"
      ]
     },
     "execution_count": 312,
     "metadata": {},
     "output_type": "execute_result"
    }
   ],
   "source": [
    "data_list = []\n",
    "\n",
    "for filename in os.listdir('data'):\n",
    "    f = os.path.join('data', filename)\n",
    "    if os.path.isfile(f):\n",
    "        data_ = pd.read_csv('data/Mulgrave_river_deeral_joined.csv')\n",
    "        data_ = data_[['Conductivity', 'Turbidity']]\n",
    "        data_list.append(data_)\n",
    "\n",
    "data = pd.concat(data_list)\n",
    "\n",
    "data = data[['Conductivity', 'Turbidity']]\n",
    "data = data[data['Turbidity'] >= 0]\n",
    "data = data[data['Conductivity'] >= 0]\n",
    "data = data.drop_duplicates()\n",
    "data.sample(5)"
   ]
  },
  {
   "cell_type": "markdown",
   "metadata": {},
   "source": [
    "![Turbility](FTU-NTU_Turbidity.jpg \"Source: https://camblab.info/turbidity-standards-quick-reference-guide\")\n",
    "\n",
    "Source: https://camblab.info/turbidity-standards-quick-reference-guide"
   ]
  },
  {
   "cell_type": "markdown",
   "metadata": {},
   "source": [
    "![Turbility](composite.jpg \"Source: https://waterontheweb.org/under/waterquality/turbidity\")\n",
    "\n",
    "Source: https://camblab.info/turbidity-standards-quick-reference-guide"
   ]
  },
  {
   "cell_type": "code",
   "execution_count": 313,
   "metadata": {},
   "outputs": [
    {
     "data": {
      "text/html": [
       "<div>\n",
       "<style scoped>\n",
       "    .dataframe tbody tr th:only-of-type {\n",
       "        vertical-align: middle;\n",
       "    }\n",
       "\n",
       "    .dataframe tbody tr th {\n",
       "        vertical-align: top;\n",
       "    }\n",
       "\n",
       "    .dataframe thead th {\n",
       "        text-align: right;\n",
       "    }\n",
       "</style>\n",
       "<table border=\"1\" class=\"dataframe\">\n",
       "  <thead>\n",
       "    <tr style=\"text-align: right;\">\n",
       "      <th></th>\n",
       "      <th>Conductivity</th>\n",
       "      <th>Turbidity</th>\n",
       "    </tr>\n",
       "  </thead>\n",
       "  <tbody>\n",
       "    <tr>\n",
       "      <th>count</th>\n",
       "      <td>21045.000000</td>\n",
       "      <td>21045.000000</td>\n",
       "    </tr>\n",
       "    <tr>\n",
       "      <th>mean</th>\n",
       "      <td>2569.211851</td>\n",
       "      <td>9.805513</td>\n",
       "    </tr>\n",
       "    <tr>\n",
       "      <th>std</th>\n",
       "      <td>6096.743084</td>\n",
       "      <td>49.409328</td>\n",
       "    </tr>\n",
       "    <tr>\n",
       "      <th>min</th>\n",
       "      <td>0.000000</td>\n",
       "      <td>0.000000</td>\n",
       "    </tr>\n",
       "    <tr>\n",
       "      <th>25%</th>\n",
       "      <td>56.820000</td>\n",
       "      <td>2.260000</td>\n",
       "    </tr>\n",
       "    <tr>\n",
       "      <th>50%</th>\n",
       "      <td>93.430000</td>\n",
       "      <td>3.470000</td>\n",
       "    </tr>\n",
       "    <tr>\n",
       "      <th>75%</th>\n",
       "      <td>1343.460000</td>\n",
       "      <td>6.680000</td>\n",
       "    </tr>\n",
       "    <tr>\n",
       "      <th>max</th>\n",
       "      <td>48453.100000</td>\n",
       "      <td>5734.270000</td>\n",
       "    </tr>\n",
       "  </tbody>\n",
       "</table>\n",
       "</div>"
      ],
      "text/plain": [
       "       Conductivity     Turbidity\n",
       "count  21045.000000  21045.000000\n",
       "mean    2569.211851      9.805513\n",
       "std     6096.743084     49.409328\n",
       "min        0.000000      0.000000\n",
       "25%       56.820000      2.260000\n",
       "50%       93.430000      3.470000\n",
       "75%     1343.460000      6.680000\n",
       "max    48453.100000   5734.270000"
      ]
     },
     "execution_count": 313,
     "metadata": {},
     "output_type": "execute_result"
    }
   ],
   "source": [
    "data.describe()"
   ]
  },
  {
   "cell_type": "code",
   "execution_count": 314,
   "metadata": {},
   "outputs": [
    {
     "data": {
      "text/plain": [
       "Text(0.5, 1.0, 'Conductivity Histogram')"
      ]
     },
     "execution_count": 314,
     "metadata": {},
     "output_type": "execute_result"
    },
    {
     "data": {
      "image/png": "[encoded data removed]",
      "text/plain": [
       "<Figure size 432x288 with 1 Axes>"
      ]
     },
     "metadata": {
      "needs_background": "light"
     },
     "output_type": "display_data"
    }
   ],
   "source": [
    "data['Conductivity'].hist()\n",
    "plt.title('Conductivity Histogram')"
   ]
  },
  {
   "cell_type": "code",
   "execution_count": 315,
   "metadata": {},
   "outputs": [
    {
     "data": {
      "text/plain": [
       "Text(0.5, 1.0, 'Turbidity < 20 Histogram')"
      ]
     },
     "execution_count": 315,
     "metadata": {},
     "output_type": "execute_result"
    },
    {
     "data": {
      "image/png": "[encoded data removed]",
      "text/plain": [
       "<Figure size 432x288 with 1 Axes>"
      ]
     },
     "metadata": {
      "needs_background": "light"
     },
     "output_type": "display_data"
    }
   ],
   "source": [
    "data[data['Turbidity'] < 20]['Turbidity'].hist()\n",
    "plt.title('Turbidity < 20 Histogram')"
   ]
  },
  {
   "cell_type": "code",
   "execution_count": 316,
   "metadata": {},
   "outputs": [
    {
     "name": "stdout",
     "output_type": "stream",
     "text": [
      "91% danych zbioru ma przejrzystość w zakresie <0;20).\n"
     ]
    }
   ],
   "source": [
    "print(f\"{round(data[data['Turbidity'] < 20].size/data.size * 100)}% danych zbioru ma przejrzystość w zakresie <0;20).\")"
   ]
  },
  {
   "cell_type": "code",
   "execution_count": 317,
   "metadata": {},
   "outputs": [
    {
     "data": {
      "text/plain": [
       "Text(0.5, 1.0, 'Conductivity / Turbidity')"
      ]
     },
     "execution_count": 317,
     "metadata": {},
     "output_type": "execute_result"
    },
    {
     "data": {
      "image/png": "[encoded data removed]",
      "text/plain": [
       "<Figure size 432x288 with 1 Axes>"
      ]
     },
     "metadata": {
      "needs_background": "light"
     },
     "output_type": "display_data"
    }
   ],
   "source": [
    "data = data[data['Turbidity'] < 500]\n",
    "data = data[data['Conductivity'] >= 0]\n",
    "\n",
    "plt.scatter(data['Conductivity'], data['Turbidity'])\n",
    "plt.xlabel('Conductivity')\n",
    "plt.ylabel('Turbidity')\n",
    "plt.title('Conductivity / Turbidity')"
   ]
  },
  {
   "cell_type": "markdown",
   "metadata": {},
   "source": [
    "# Happiness and Alcohol (mały zbiór ale ciekawe zależności)"
   ]
  },
  {
   "cell_type": "code",
   "execution_count": 318,
   "metadata": {},
   "outputs": [],
   "source": [
    "import pandas as pd\n",
    "import os\n",
    "import matplotlib.pyplot as plt"
   ]
  },
  {
   "cell_type": "code",
   "execution_count": 319,
   "metadata": {},
   "outputs": [
    {
     "data": {
      "text/html": [
       "<div>\n",
       "<style scoped>\n",
       "    .dataframe tbody tr th:only-of-type {\n",
       "        vertical-align: middle;\n",
       "    }\n",
       "\n",
       "    .dataframe tbody tr th {\n",
       "        vertical-align: top;\n",
       "    }\n",
       "\n",
       "    .dataframe thead th {\n",
       "        text-align: right;\n",
       "    }\n",
       "</style>\n",
       "<table border=\"1\" class=\"dataframe\">\n",
       "  <thead>\n",
       "    <tr style=\"text-align: right;\">\n",
       "      <th></th>\n",
       "      <th>GDP_PerCapita</th>\n",
       "      <th>Beer_PerCapita</th>\n",
       "      <th>Spirit_PerCapita</th>\n",
       "      <th>Wine_PerCapita</th>\n",
       "      <th>HappinessScore</th>\n",
       "    </tr>\n",
       "  </thead>\n",
       "  <tbody>\n",
       "    <tr>\n",
       "      <th>84</th>\n",
       "      <td>3.694</td>\n",
       "      <td>77</td>\n",
       "      <td>189</td>\n",
       "      <td>8</td>\n",
       "      <td>4.907</td>\n",
       "    </tr>\n",
       "    <tr>\n",
       "      <th>52</th>\n",
       "      <td>3.117</td>\n",
       "      <td>167</td>\n",
       "      <td>41</td>\n",
       "      <td>8</td>\n",
       "      <td>5.822</td>\n",
       "    </tr>\n",
       "    <tr>\n",
       "      <th>64</th>\n",
       "      <td>4.879</td>\n",
       "      <td>82</td>\n",
       "      <td>97</td>\n",
       "      <td>9</td>\n",
       "      <td>5.510</td>\n",
       "    </tr>\n",
       "    <tr>\n",
       "      <th>60</th>\n",
       "      <td>23.541</td>\n",
       "      <td>192</td>\n",
       "      <td>154</td>\n",
       "      <td>113</td>\n",
       "      <td>5.546</td>\n",
       "    </tr>\n",
       "    <tr>\n",
       "      <th>95</th>\n",
       "      <td>1.463</td>\n",
       "      <td>58</td>\n",
       "      <td>22</td>\n",
       "      <td>2</td>\n",
       "      <td>4.356</td>\n",
       "    </tr>\n",
       "  </tbody>\n",
       "</table>\n",
       "</div>"
      ],
      "text/plain": [
       "    GDP_PerCapita  Beer_PerCapita  Spirit_PerCapita  Wine_PerCapita  \\\n",
       "84          3.694              77               189               8   \n",
       "52          3.117             167                41               8   \n",
       "64          4.879              82                97               9   \n",
       "60         23.541             192               154             113   \n",
       "95          1.463              58                22               2   \n",
       "\n",
       "    HappinessScore  \n",
       "84           4.907  \n",
       "52           5.822  \n",
       "64           5.510  \n",
       "60           5.546  \n",
       "95           4.356  "
      ]
     },
     "execution_count": 319,
     "metadata": {},
     "output_type": "execute_result"
    }
   ],
   "source": [
    "data = pd.read_csv('data2/HappinessAlcoholConsumption.csv')\n",
    "\n",
    "data = data[['GDP_PerCapita', 'Beer_PerCapita', 'Spirit_PerCapita', 'Wine_PerCapita', 'HappinessScore']]\n",
    "\n",
    "data.sample(5)"
   ]
  },
  {
   "cell_type": "code",
   "execution_count": 320,
   "metadata": {},
   "outputs": [
    {
     "data": {
      "text/html": [
       "<div>\n",
       "<style scoped>\n",
       "    .dataframe tbody tr th:only-of-type {\n",
       "        vertical-align: middle;\n",
       "    }\n",
       "\n",
       "    .dataframe tbody tr th {\n",
       "        vertical-align: top;\n",
       "    }\n",
       "\n",
       "    .dataframe thead th {\n",
       "        text-align: right;\n",
       "    }\n",
       "</style>\n",
       "<table border=\"1\" class=\"dataframe\">\n",
       "  <thead>\n",
       "    <tr style=\"text-align: right;\">\n",
       "      <th></th>\n",
       "      <th>GDP_PerCapita</th>\n",
       "      <th>Beer_PerCapita</th>\n",
       "      <th>Spirit_PerCapita</th>\n",
       "      <th>Wine_PerCapita</th>\n",
       "      <th>HappinessScore</th>\n",
       "    </tr>\n",
       "  </thead>\n",
       "  <tbody>\n",
       "    <tr>\n",
       "      <th>count</th>\n",
       "      <td>122.000000</td>\n",
       "      <td>122.000000</td>\n",
       "      <td>122.000000</td>\n",
       "      <td>122.000000</td>\n",
       "      <td>122.000000</td>\n",
       "    </tr>\n",
       "    <tr>\n",
       "      <th>mean</th>\n",
       "      <td>91.482836</td>\n",
       "      <td>137.565574</td>\n",
       "      <td>96.598361</td>\n",
       "      <td>66.598361</td>\n",
       "      <td>5.524828</td>\n",
       "    </tr>\n",
       "    <tr>\n",
       "      <th>std</th>\n",
       "      <td>209.577313</td>\n",
       "      <td>104.817353</td>\n",
       "      <td>81.435028</td>\n",
       "      <td>88.121503</td>\n",
       "      <td>1.148736</td>\n",
       "    </tr>\n",
       "    <tr>\n",
       "      <th>min</th>\n",
       "      <td>1.029000</td>\n",
       "      <td>1.000000</td>\n",
       "      <td>1.000000</td>\n",
       "      <td>1.000000</td>\n",
       "      <td>3.069000</td>\n",
       "    </tr>\n",
       "    <tr>\n",
       "      <th>25%</th>\n",
       "      <td>4.134250</td>\n",
       "      <td>38.250000</td>\n",
       "      <td>25.500000</td>\n",
       "      <td>5.000000</td>\n",
       "      <td>4.528250</td>\n",
       "    </tr>\n",
       "    <tr>\n",
       "      <th>50%</th>\n",
       "      <td>12.016000</td>\n",
       "      <td>125.500000</td>\n",
       "      <td>82.500000</td>\n",
       "      <td>16.000000</td>\n",
       "      <td>5.542000</td>\n",
       "    </tr>\n",
       "    <tr>\n",
       "      <th>75%</th>\n",
       "      <td>41.990000</td>\n",
       "      <td>224.750000</td>\n",
       "      <td>142.500000</td>\n",
       "      <td>112.750000</td>\n",
       "      <td>6.477000</td>\n",
       "    </tr>\n",
       "    <tr>\n",
       "      <th>max</th>\n",
       "      <td>953.000000</td>\n",
       "      <td>376.000000</td>\n",
       "      <td>373.000000</td>\n",
       "      <td>370.000000</td>\n",
       "      <td>7.526000</td>\n",
       "    </tr>\n",
       "  </tbody>\n",
       "</table>\n",
       "</div>"
      ],
      "text/plain": [
       "       GDP_PerCapita  Beer_PerCapita  Spirit_PerCapita  Wine_PerCapita  \\\n",
       "count     122.000000      122.000000        122.000000      122.000000   \n",
       "mean       91.482836      137.565574         96.598361       66.598361   \n",
       "std       209.577313      104.817353         81.435028       88.121503   \n",
       "min         1.029000        1.000000          1.000000        1.000000   \n",
       "25%         4.134250       38.250000         25.500000        5.000000   \n",
       "50%        12.016000      125.500000         82.500000       16.000000   \n",
       "75%        41.990000      224.750000        142.500000      112.750000   \n",
       "max       953.000000      376.000000        373.000000      370.000000   \n",
       "\n",
       "       HappinessScore  \n",
       "count      122.000000  \n",
       "mean         5.524828  \n",
       "std          1.148736  \n",
       "min          3.069000  \n",
       "25%          4.528250  \n",
       "50%          5.542000  \n",
       "75%          6.477000  \n",
       "max          7.526000  "
      ]
     },
     "execution_count": 320,
     "metadata": {},
     "output_type": "execute_result"
    }
   ],
   "source": [
    "data.describe()"
   ]
  },
  {
   "cell_type": "code",
   "execution_count": 321,
   "metadata": {},
   "outputs": [
    {
     "data": {
      "text/plain": [
       "<AxesSubplot:>"
      ]
     },
     "execution_count": 321,
     "metadata": {},
     "output_type": "execute_result"
    },
    {
     "data": {
      "image/png": "[encoded data removed]",
      "text/plain": [
       "<Figure size 432x288 with 1 Axes>"
      ]
     },
     "metadata": {
      "needs_background": "light"
     },
     "output_type": "display_data"
    }
   ],
   "source": [
    "data['GDP_PerCapita'].hist()"
   ]
  },
  {
   "cell_type": "code",
   "execution_count": 322,
   "metadata": {},
   "outputs": [
    {
     "data": {
      "text/plain": [
       "<AxesSubplot:>"
      ]
     },
     "execution_count": 322,
     "metadata": {},
     "output_type": "execute_result"
    },
    {
     "data": {
      "image/png": "[encoded data removed]",
      "text/plain": [
       "<Figure size 432x288 with 1 Axes>"
      ]
     },
     "metadata": {
      "needs_background": "light"
     },
     "output_type": "display_data"
    }
   ],
   "source": [
    "data['Beer_PerCapita'].hist()"
   ]
  },
  {
   "cell_type": "code",
   "execution_count": 323,
   "metadata": {},
   "outputs": [
    {
     "data": {
      "text/plain": [
       "<AxesSubplot:>"
      ]
     },
     "execution_count": 323,
     "metadata": {},
     "output_type": "execute_result"
    },
    {
     "data": {
      "image/png": "[encoded data removed]",
      "text/plain": [
       "<Figure size 432x288 with 1 Axes>"
      ]
     },
     "metadata": {
      "needs_background": "light"
     },
     "output_type": "display_data"
    }
   ],
   "source": [
    "data['Spirit_PerCapita'].hist()"
   ]
  },
  {
   "cell_type": "code",
   "execution_count": 324,
   "metadata": {},
   "outputs": [
    {
     "data": {
      "text/plain": [
       "<AxesSubplot:>"
      ]
     },
     "execution_count": 324,
     "metadata": {},
     "output_type": "execute_result"
    },
    {
     "data": {
      "image/png": "[encoded data removed]",
      "text/plain": [
       "<Figure size 432x288 with 1 Axes>"
      ]
     },
     "metadata": {
      "needs_background": "light"
     },
     "output_type": "display_data"
    }
   ],
   "source": [
    "data['Wine_PerCapita'].hist()"
   ]
  },
  {
   "cell_type": "code",
   "execution_count": 325,
   "metadata": {},
   "outputs": [
    {
     "data": {
      "text/plain": [
       "<AxesSubplot:>"
      ]
     },
     "execution_count": 325,
     "metadata": {},
     "output_type": "execute_result"
    },
    {
     "data": {
      "image/png": "[encoded data removed]",
      "text/plain": [
       "<Figure size 432x288 with 1 Axes>"
      ]
     },
     "metadata": {
      "needs_background": "light"
     },
     "output_type": "display_data"
    }
   ],
   "source": [
    "data['HappinessScore'].hist()"
   ]
  },
  {
   "cell_type": "code",
   "execution_count": 326,
   "metadata": {},
   "outputs": [
    {
     "data": {
      "text/plain": [
       "Text(0.5, 1.0, 'GDP_PerCapita / HappinessScore')"
      ]
     },
     "execution_count": 326,
     "metadata": {},
     "output_type": "execute_result"
    },
    {
     "data": {
      "image/png": "[encoded data removed]",
      "text/plain": [
       "<Figure size 432x288 with 1 Axes>"
      ]
     },
     "metadata": {
      "needs_background": "light"
     },
     "output_type": "display_data"
    }
   ],
   "source": [
    "plt.scatter(data['GDP_PerCapita'], data['HappinessScore'])\n",
    "plt.xlabel('GDP_PerCapita')\n",
    "plt.ylabel('HappinessScore')\n",
    "plt.title('GDP_PerCapita / HappinessScore')"
   ]
  },
  {
   "cell_type": "markdown",
   "metadata": {},
   "source": [
    "# ^Ten wygląda fajnie ale jest jakiś zakłamany"
   ]
  },
  {
   "cell_type": "code",
   "execution_count": 327,
   "metadata": {},
   "outputs": [
    {
     "data": {
      "text/plain": [
       "Text(0.5, 1.0, 'Beer_PerCapita / HappinessScore')"
      ]
     },
     "execution_count": 327,
     "metadata": {},
     "output_type": "execute_result"
    },
    {
     "data": {
      "image/png": "[encoded data removed]",
      "text/plain": [
       "<Figure size 432x288 with 1 Axes>"
      ]
     },
     "metadata": {
      "needs_background": "light"
     },
     "output_type": "display_data"
    }
   ],
   "source": [
    "plt.scatter(data['Beer_PerCapita'], data['HappinessScore'])\n",
    "plt.xlabel('Beer_PerCapita')\n",
    "plt.ylabel('HappinessScore')\n",
    "plt.title('Beer_PerCapita / HappinessScore')"
   ]
  },
  {
   "cell_type": "code",
   "execution_count": 328,
   "metadata": {},
   "outputs": [
    {
     "data": {
      "text/plain": [
       "Text(0.5, 1.0, 'Spirit_PerCapita / HappinessScore')"
      ]
     },
     "execution_count": 328,
     "metadata": {},
     "output_type": "execute_result"
    },
    {
     "data": {
      "image/png": "[encoded data removed]",
      "text/plain": [
       "<Figure size 432x288 with 1 Axes>"
      ]
     },
     "metadata": {
      "needs_background": "light"
     },
     "output_type": "display_data"
    }
   ],
   "source": [
    "plt.scatter(data['Spirit_PerCapita'], data['HappinessScore'])\n",
    "plt.xlabel('Spirit_PerCapita')\n",
    "plt.ylabel('HappinessScore')\n",
    "plt.title('Spirit_PerCapita / HappinessScore')"
   ]
  },
  {
   "cell_type": "markdown",
   "metadata": {},
   "source": [
    "# Income / Happiness (mały zbiór, zależności liniowe)"
   ]
  },
  {
   "cell_type": "code",
   "execution_count": 329,
   "metadata": {},
   "outputs": [
    {
     "data": {
      "text/html": [
       "<div>\n",
       "<style scoped>\n",
       "    .dataframe tbody tr th:only-of-type {\n",
       "        vertical-align: middle;\n",
       "    }\n",
       "\n",
       "    .dataframe tbody tr th {\n",
       "        vertical-align: top;\n",
       "    }\n",
       "\n",
       "    .dataframe thead th {\n",
       "        text-align: right;\n",
       "    }\n",
       "</style>\n",
       "<table border=\"1\" class=\"dataframe\">\n",
       "  <thead>\n",
       "    <tr style=\"text-align: right;\">\n",
       "      <th></th>\n",
       "      <th>GDP</th>\n",
       "      <th>avg_income</th>\n",
       "      <th>avg_satisfaction</th>\n",
       "      <th>income_inequality</th>\n",
       "      <th>happyScore</th>\n",
       "    </tr>\n",
       "  </thead>\n",
       "  <tbody>\n",
       "    <tr>\n",
       "      <th>78</th>\n",
       "      <td>0.35997</td>\n",
       "      <td>1428.120000</td>\n",
       "      <td>5.3</td>\n",
       "      <td>32.840000</td>\n",
       "      <td>4.514</td>\n",
       "    </tr>\n",
       "    <tr>\n",
       "      <th>59</th>\n",
       "      <td>0.37545</td>\n",
       "      <td>908.640000</td>\n",
       "      <td>5.2</td>\n",
       "      <td>54.180000</td>\n",
       "      <td>4.898</td>\n",
       "    </tr>\n",
       "    <tr>\n",
       "      <th>50</th>\n",
       "      <td>1.27074</td>\n",
       "      <td>14542.800000</td>\n",
       "      <td>6.4</td>\n",
       "      <td>32.110000</td>\n",
       "      <td>5.987</td>\n",
       "    </tr>\n",
       "    <tr>\n",
       "      <th>56</th>\n",
       "      <td>0.59066</td>\n",
       "      <td>1491.720000</td>\n",
       "      <td>6.2</td>\n",
       "      <td>37.265000</td>\n",
       "      <td>4.876</td>\n",
       "    </tr>\n",
       "    <tr>\n",
       "      <th>87</th>\n",
       "      <td>0.92053</td>\n",
       "      <td>4629.908571</td>\n",
       "      <td>5.6</td>\n",
       "      <td>29.727143</td>\n",
       "      <td>5.123</td>\n",
       "    </tr>\n",
       "  </tbody>\n",
       "</table>\n",
       "</div>"
      ],
      "text/plain": [
       "        GDP    avg_income  avg_satisfaction  income_inequality  happyScore\n",
       "78  0.35997   1428.120000               5.3          32.840000       4.514\n",
       "59  0.37545    908.640000               5.2          54.180000       4.898\n",
       "50  1.27074  14542.800000               6.4          32.110000       5.987\n",
       "56  0.59066   1491.720000               6.2          37.265000       4.876\n",
       "87  0.92053   4629.908571               5.6          29.727143       5.123"
      ]
     },
     "execution_count": 329,
     "metadata": {},
     "output_type": "execute_result"
    }
   ],
   "source": [
    "data = pd.read_csv('data3/happyscore_income.csv')\n",
    "data = data [['GDP', 'avg_income', 'avg_satisfaction', 'income_inequality', 'happyScore']]\n",
    "\n",
    "data.sample(5)"
   ]
  },
  {
   "cell_type": "code",
   "execution_count": 330,
   "metadata": {},
   "outputs": [
    {
     "data": {
      "text/plain": [
       "Text(0.5, 1.0, 'GDP / happyScore')"
      ]
     },
     "execution_count": 330,
     "metadata": {},
     "output_type": "execute_result"
    },
    {
     "data": {
      "image/png": "[encoded data removed]",
      "text/plain": [
       "<Figure size 432x288 with 1 Axes>"
      ]
     },
     "metadata": {
      "needs_background": "light"
     },
     "output_type": "display_data"
    }
   ],
   "source": [
    "plt.scatter(data['GDP'], data['happyScore'])\n",
    "plt.xlabel('GDP')\n",
    "plt.ylabel('happyScore')\n",
    "plt.title('GDP / happyScore')"
   ]
  },
  {
   "cell_type": "code",
   "execution_count": 331,
   "metadata": {},
   "outputs": [
    {
     "data": {
      "text/plain": [
       "Text(0.5, 1.0, 'avg_income / happyScore')"
      ]
     },
     "execution_count": 331,
     "metadata": {},
     "output_type": "execute_result"
    },
    {
     "data": {
      "image/png": "[encoded data removed]",
      "text/plain": [
       "<Figure size 432x288 with 1 Axes>"
      ]
     },
     "metadata": {
      "needs_background": "light"
     },
     "output_type": "display_data"
    }
   ],
   "source": [
    "plt.scatter(data['avg_income'], data['happyScore'])\n",
    "plt.xlabel('avg_income')\n",
    "plt.ylabel('happyScore')\n",
    "plt.title('avg_income / happyScore')"
   ]
  },
  {
   "cell_type": "code",
   "execution_count": 332,
   "metadata": {},
   "outputs": [
    {
     "data": {
      "text/plain": [
       "Text(0.5, 1.0, 'avg_satisfaction / happyScore')"
      ]
     },
     "execution_count": 332,
     "metadata": {},
     "output_type": "execute_result"
    },
    {
     "data": {
      "image/png": "[encoded data removed]",
      "text/plain": [
       "<Figure size 432x288 with 1 Axes>"
      ]
     },
     "metadata": {
      "needs_background": "light"
     },
     "output_type": "display_data"
    }
   ],
   "source": [
    "plt.scatter(data['avg_satisfaction'], data['happyScore'])\n",
    "plt.xlabel('avg_satisfaction')\n",
    "plt.ylabel('happyScore')\n",
    "plt.title('avg_satisfaction / happyScore')"
   ]
  },
  {
   "cell_type": "code",
   "execution_count": 333,
   "metadata": {},
   "outputs": [
    {
     "data": {
      "text/plain": [
       "Text(0.5, 1.0, 'income_inequality/ happyScore')"
      ]
     },
     "execution_count": 333,
     "metadata": {},
     "output_type": "execute_result"
    },
    {
     "data": {
      "image/png": "[encoded data removed]",
      "text/plain": [
       "<Figure size 432x288 with 1 Axes>"
      ]
     },
     "metadata": {
      "needs_background": "light"
     },
     "output_type": "display_data"
    }
   ],
   "source": [
    "plt.scatter(data['income_inequality'], data['happyScore'])\n",
    "plt.xlabel('income_inequality')\n",
    "plt.ylabel('happyScore')\n",
    "plt.title('income_inequality/ happyScore')"
   ]
  },
  {
   "cell_type": "markdown",
   "metadata": {},
   "source": [
    "# Zastosowanie.\n",
    "\n",
    "Regresja jądrowa (Kernel Regression) jest to technika wykorzystywana do estymacji warunkowej wartości oczekiwanej zmiennej losowej. \n",
    "\n",
    "Celem jest znalezienie nieliniowej zależności między parą zmiennych X i Y.\n",
    "\n",
    "E(X |Y = y), jesli Y ma wpływ na wartość X to Y ma wply na średnią wartości z X. Oczekiwana wartość E(X |Y = 2) jest inna niż wartość E(X |Y = 3)."
   ]
  },
  {
   "cell_type": "markdown",
   "metadata": {},
   "source": [
    "# TODO: Implementacja"
   ]
  },
  {
   "cell_type": "code",
   "execution_count": null,
   "metadata": {},
   "outputs": [],
   "source": []
  },
  {
   "cell_type": "markdown",
   "metadata": {},
   "source": [
    "# TODO: Prezentacja"
   ]
  },
  {
   "cell_type": "code",
   "execution_count": null,
   "metadata": {},
   "outputs": [],
   "source": []
  }
 ],
 "metadata": {
  "interpreter": {
   "hash": "74618de0b516f88611e38de28ddf6362d75374cd11b3530944c623599b0326e1"
  },
  "kernelspec": {
   "display_name": "Python 3 (ipykernel)",
   "language": "python",
   "name": "python3"
  },
  "language_info": {
   "codemirror_mode": {
    "name": "ipython",
    "version": 3
   },
   "file_extension": ".py",
   "mimetype": "text/x-python",
   "name": "python",
   "nbconvert_exporter": "python",
   "pygments_lexer": "ipython3",
   "version": "3.9.7"
  }
 },
 "nbformat": 4,
 "nbformat_minor": 2
}
